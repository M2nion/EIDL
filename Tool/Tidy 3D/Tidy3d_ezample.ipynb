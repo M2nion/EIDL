{
 "cells": [
  {
   "cell_type": "markdown",
   "metadata": {},
   "source": [
    "# 1. Basics"
   ]
  },
  {
   "cell_type": "code",
   "execution_count": 4,
   "metadata": {},
   "outputs": [],
   "source": [
    "import numpy as np\n",
    "import matplotlib.pyplot as plt\n",
    "\n",
    "import tidy3d as td\n",
    "import tidy3d.web as web"
   ]
  },
  {
   "cell_type": "code",
   "execution_count": null,
   "metadata": {},
   "outputs": [
    {
     "name": "stdout",
     "output_type": "stream",
     "text": [
      "299792458000000.0\n",
      "399723277333333.3\n"
     ]
    }
   ],
   "source": [
    "freq0 = td.C_0 / 0.75 # 750 nm, tidy3d도 기본 단위는 micro 단위\n",
    "\n",
    "print(td.C_0)\n",
    "print(freq0)\n",
    "\n",
    "# Tidy3d에서는 block 대신에 structure, Vector3 대신에 Box\n",
    "square = td.Structure(\n",
    "    geometry=td.Box(center = (0,0,0), size = (1.5, 1.5, 1.5)),\n",
    "    medium = td.Medium(permittivity=2.0)\n",
    ")\n",
    "\n",
    "# Source 정하기\n",
    "source = td.PointDipole(\n",
    "    center = (-1.5, 0, 0),\n",
    "    source_time=td.GaussianPulse(freq0=freq0, fwidth=freq0 / 10.0),\n",
    "    polarization=\"Ey\"\n",
    ")"
   ]
  }
 ],
 "metadata": {
  "kernelspec": {
   "display_name": "mp",
   "language": "python",
   "name": "python3"
  },
  "language_info": {
   "codemirror_mode": {
    "name": "ipython",
    "version": 3
   },
   "file_extension": ".py",
   "mimetype": "text/x-python",
   "name": "python",
   "nbconvert_exporter": "python",
   "pygments_lexer": "ipython3",
   "version": "3.8.20"
  }
 },
 "nbformat": 4,
 "nbformat_minor": 2
}
