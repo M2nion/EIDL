{
 "cells": [
  {
   "cell_type": "code",
   "execution_count": null,
   "metadata": {},
   "outputs": [],
   "source": [
    "# 필수 라이브러리 임포트\n",
    "from typing import Tuple\n",
    "import matplotlib\n",
    "import meep as mp\n",
    "import nlopt\n",
    "import numpy as np\n",
    "import csv\n",
    "\n",
    "# matplotlib의 백엔드를 \"agg\"로 설정하여 이미지를 파일로 저장 가능하게 합니다.\n",
    "matplotlib.use(\"agg\")\n",
    "import matplotlib.pyplot as plt\n",
    " \n",
    "# Lorentzian 함수 정의: Lorentzian 파라미터를 사용하여 복소 유전율 프로파일을 계산\n",
    "def lorentzfunc(p: np.ndarray, x: np.ndarray) -> np.ndarray:\n",
    "    N = len(p) // 3  # 파라미터가 3개씩 묶인 Lorentzian 항의 개수\n",
    "    y = np.zeros(len(x))  # 결과값을 저장할 배열\n",
    "    for n in range(N):\n",
    "        A_n = p[3 * n + 0]  # 첫 번째 파라미터 (진폭)\n",
    "        x_n = p[3 * n + 1]  # 두 번째 파라미터 (중심 주파수)\n",
    "        g_n = p[3 * n + 2]  # 세 번째 파라미터 (감쇠율)\n",
    "        y = y + A_n / (np.square(x_n) - np.square(x) - 1j * x * g_n)  # Lorentzian 함수 계산\n",
    "    return y\n",
    "\n",
    "# 잔차 함수 정의: 실제 값과 Lorentzian 모델 간의 차이를 계산하고 그라디언트도 반환\n",
    "def lorentzerr(p: np.ndarray, x: np.ndarray, y: np.ndarray, grad: np.ndarray) -> float:\n",
    "    N = len(p) // 3  # Lorentzian 항의 개수\n",
    "    yp = lorentzfunc(p, x)  # 예측된 유전율 프로파일 계산\n",
    "    val = np.sum(np.square(abs(y - yp)))  # 실제 값과 예측 값의 차이(L2 norm)\n",
    "\n",
    "    # 그라디언트 계산\n",
    "    for n in range(N):\n",
    "        A_n = p[3 * n + 0]\n",
    "        x_n = p[3 * n + 1]\n",
    "        g_n = p[3 * n + 2]\n",
    "        d = 1 / (np.square(x_n) - np.square(x) - 1j * x * g_n)  # Lorentzian 함수의 도함수\n",
    "        if grad.size > 0:\n",
    "            grad[3 * n + 0] = 2 * np.real(np.dot(np.conj(yp - y), d))  # 진폭에 대한 그라디언트\n",
    "            grad[3 * n + 1] = -4 * x_n * A_n * np.real(np.dot(np.conj(yp - y), np.square(d)))  # 중심 주파수에 대한 그라디언트\n",
    "            grad[3 * n + 2] = -2 * A_n * np.imag(np.dot(np.conj(yp - y), x * np.square(d)))  # 감쇠율에 대한 그라디언트\n",
    "    return val  # 최종 오차 반환\n",
    "\n",
    "# Lorentzian 파라미터 최적화 함수 정의\n",
    "def lorentzfit(\n",
    "    p0: np.ndarray,\n",
    "    x: np.ndarray,\n",
    "    y: np.ndarray,\n",
    "    alg=nlopt.LD_LBFGS,\n",
    "    tol: float = 1e-25,\n",
    "    maxeval: float = 10000,\n",
    ") -> Tuple[np.ndarray, float]:\n",
    "    # NLopt 최적화 설정\n",
    "    opt = nlopt.opt(alg, len(p0))  # 최적화 알고리즘 설정 (LD_LBFGS는 LBFGS 알고리즘)\n",
    "    opt.set_ftol_rel(tol)  # 상대 오차 허용 범위 설정\n",
    "    opt.set_maxeval(maxeval)  # 최대 반복 횟수 설정\n",
    "    opt.set_lower_bounds(np.zeros(len(p0)))  # 하한값 설정\n",
    "    opt.set_upper_bounds(float(\"inf\") * np.ones(len(p0)))  # 상한값 설정\n",
    "    opt.set_min_objective(lambda p, grad: lorentzerr(p, x, y, grad))  # 목표 함수 설정\n",
    "    local_opt = nlopt.opt(nlopt.LD_LBFGS, len(p0))  # 로컬 최적화 설정\n",
    "    local_opt.set_ftol_rel(1e-10)  # 로컬 최적화 상대 오차 설정\n",
    "    local_opt.set_xtol_rel(1e-8)  # 로컬 최적화 X 변화 상대 오차 설정\n",
    "    opt.set_local_optimizer(local_opt)  # 로컬 최적화 설정 추가\n",
    "    popt = opt.optimize(p0)  # 최적화 실행\n",
    "    minf = opt.last_optimum_value()  # 마지막 최적화 값 반환\n",
    "    return popt, minf  # 최적화된 파라미터와 최소 오차 반환"
   ]
  },
  {
   "cell_type": "code",
   "execution_count": 54,
   "metadata": {},
   "outputs": [],
   "source": [
    "# 메인 코드 실행 부분\n",
    "# SiN.csv 파일에서 복소 유전율 데이터를 불러옴 (wavelength, real(n), imag(n) 순)\n",
    "mydata = np.genfromtxt(\"Al_palik_data.csv\", delimiter=\",\")\n",
    "n = mydata[:, 1] + 1j * mydata[:, 2]  # 복소수 형태로 유전율 데이터 생성"
   ]
  },
  {
   "cell_type": "code",
   "execution_count": 55,
   "metadata": {},
   "outputs": [],
   "source": [
    "# 유전율의 무한 주파수에서의 값 설정 (eps_inf)\n",
    "eps_inf = 1\n",
    "eps = np.square(n) - eps_inf  # 복소 유전율 프로파일 계산"
   ]
  },
  {
   "cell_type": "code",
   "execution_count": 56,
   "metadata": {},
   "outputs": [],
   "source": [
    "# 주어진 파장 범위로 데이터를 필터링\n",
    "wl = mydata[:, 0]*1e6\n",
    "wl_min = 0.399  # 최소 파장 (단위: nm)\n",
    "wl_max = 0.701  # 최대 파장 (단위: nm)"
   ]
  },
  {
   "cell_type": "code",
   "execution_count": 57,
   "metadata": {},
   "outputs": [],
   "source": [
    "start_idx = np.where(wl > wl_min)  # 최소 파장 이상인 인덱스 찾기\n",
    "start_idx\n",
    "idx_start = start_idx[0][0]"
   ]
  },
  {
   "cell_type": "code",
   "execution_count": 58,
   "metadata": {},
   "outputs": [],
   "source": [
    "end_idx = np.where(wl < wl_max)  # 최대 파장 이하인 인덱스 찾기\n",
    "idx_end = end_idx[0][-1] + 1"
   ]
  },
  {
   "cell_type": "code",
   "execution_count": 69,
   "metadata": {},
   "outputs": [],
   "source": [
    "# 주파수(f)로 변환 (주파수는 1/파장으로 계산)\n",
    "freqs = 10 / wl  # 단위: 1/μm"
   ]
  },
  {
   "cell_type": "code",
   "execution_count": 70,
   "metadata": {},
   "outputs": [
    {
     "name": "stdout",
     "output_type": "stream",
     "text": [
      "iteration:   0, error: 763011.991701\n",
      "iteration:   1, error: 32282.826806\n",
      "iteration:   2, error: 32282.826806\n",
      "iteration:   3, error: 32282.826806\n",
      "iteration:   4, error: 32282.826806\n",
      "iteration:   5, error: 825.814864\n",
      "iteration:   6, error: 433292.925150\n",
      "iteration:   7, error: 762995.652116\n",
      "iteration:   8, error: 918660.905451\n",
      "iteration:   9, error: 433362.485311\n",
      "iteration:  10, error: 32282.826806\n",
      "iteration:  11, error: 32155.927864\n",
      "iteration:  12, error: 32209.108748\n",
      "iteration:  13, error: 859034.900831\n",
      "iteration:  14, error: 32282.826806\n",
      "iteration:  15, error: 994008.652092\n",
      "iteration:  16, error: 932496.927030\n",
      "iteration:  17, error: 433857.285886\n",
      "iteration:  18, error: 32282.826806\n",
      "iteration:  19, error: 31988.812283\n",
      "iteration:  20, error: 32282.826806\n",
      "iteration:  21, error: 882717.626732\n",
      "iteration:  22, error: 763010.919092\n",
      "iteration:  23, error: 434633.434069\n",
      "iteration:  24, error: 12148.353948\n",
      "iteration:  25, error: 32282.826806\n",
      "iteration:  26, error: 32209.108404\n",
      "iteration:  27, error: 762994.787783\n",
      "iteration:  28, error: 433141.114554\n",
      "iteration:  29, error: 433216.183010\n",
      "optimal: 825.814864\n"
     ]
    }
   ],
   "source": [
    "freqs_reduced = freqs[idx_start:idx_end]  # 필터링된 주파수\n",
    "wl_reduced = wl[idx_start:idx_end]  # 필터링된 파장\n",
    "eps_reduced = eps[idx_start:idx_end]  # 필터링된 유전율\n",
    "\n",
    "# 사용할 Lorentzian 항의 개수 (2개로 설정)\n",
    "num_lorentzians = 2\n",
    "\n",
    "# 랜덤 초기값을 여러 번 반복하여 최적화\n",
    "num_repeat = 30\n",
    "ps = np.zeros((num_repeat, 3 * num_lorentzians))\n",
    "mins = np.zeros(num_repeat)\n",
    "for m in range(num_repeat):\n",
    "    p_rand = [10 ** (np.random.random()) for _ in range(3 * num_lorentzians)]  # 랜덤 초기값 생성\n",
    "    ps[m, :], mins[m] = lorentzfit(p_rand, freqs_reduced, eps_reduced, nlopt.LD_MMA, 1e-25, 50000)\n",
    "    print(f\"iteration: {m:3d}, error: {mins[m]:.6f}\")\n",
    "\n",
    "# 최적화된 파라미터 출력\n",
    "idx_opt = np.where(np.min(mins) == mins)[0][0]\n",
    "print(f\"optimal: {mins[idx_opt]:.6f}\")\n",
    "\n",
    "# 최적화된 파라미터로 'Medium' 객체 생성\n",
    "E_susceptibilities = []\n",
    "for n in range(num_lorentzians):\n",
    "    mymaterial_freq = ps[idx_opt][3 * n + 1]\n",
    "    mymaterial_gamma = ps[idx_opt][3 * n + 2]\n",
    "    if mymaterial_freq == 0:\n",
    "        mymaterial_sigma = ps[idx_opt][3 * n + 0]\n",
    "        E_susceptibilities.append(mp.DrudeSusceptibility(frequency=1.0, gamma=mymaterial_gamma, sigma=mymaterial_sigma))\n",
    "    else:\n",
    "        mymaterial_sigma = ps[idx_opt][3 * n + 0] / mymaterial_freq**2\n",
    "        E_susceptibilities.append(mp.LorentzianSusceptibility(frequency=mymaterial_freq, gamma=mymaterial_gamma, sigma=mymaterial_sigma))\n",
    "mymaterial = mp.Medium(epsilon=eps_inf, E_susceptibilities=E_susceptibilities)\n",
    "\n",
    "# 실제 데이터와 적합된 데이터 비교 그래프 출력\n",
    "mymaterial_eps = [mymaterial.epsilon(f)[0][0] for f in freqs_reduced]\n",
    "fig, ax = plt.subplots(ncols=2)\n",
    "ax[0].plot(wl_reduced, np.real(eps_reduced) + eps_inf, \"b-\", label=\"actual\")\n",
    "ax[0].plot(wl_reduced, np.real(mymaterial_eps), \"ro\", markersize=3, label=\"fit\")\n",
    "ax[0].set_xlabel(\"wavelength (nm)\")\n",
    "ax[0].set_ylabel(r\"real($\\epsilon$)\")\n",
    "ax[0].legend()\n",
    "\n",
    "ax[1].plot(wl_reduced, np.imag(eps_reduced), \"b-\", label=\"actual\")\n",
    "ax[1].plot(wl_reduced, np.imag(mymaterial_eps), \"ro\", markersize=3, label=\"fit\")\n",
    "ax[1].set_xlabel(\"wavelength (nm)\")\n",
    "ax[1].set_ylabel(r\"imag($\\epsilon$)\")\n",
    "ax[1].legend()\n",
    "\n",
    "fig.suptitle(f\"Comparison of Actual Material Data and Fit\\nusing Drude-Lorentzian Susceptibility\")\n",
    "fig.subplots_adjust(wspace=0.3)\n",
    "fig.savefig(\"eps_fit_sample.png\", dpi=150, bbox_inches=\"tight\")"
   ]
  },
  {
   "cell_type": "code",
   "execution_count": 63,
   "metadata": {},
   "outputs": [
    {
     "name": "stdout",
     "output_type": "stream",
     "text": [
      "CSV 파일 'Al_palik_data_fit.csv'로 저장되었습니다.\n"
     ]
    }
   ],
   "source": [
    "# CSV 파일에는 각 파장에 대해 다음 5개의 열을 저장합니다:\n",
    "# wavelength (nm), Re(eps_actual), Im(eps_actual), Re(eps_fit), Im(eps_fit)\n",
    "csv_filename = \"Al_palik_data_fit.csv\"\n",
    "with open(csv_filename, \"w\", newline=\"\") as csvfile:\n",
    "    writer = csv.writer(csvfile)\n",
    "    # 헤더 작성\n",
    "    writer.writerow([\"wavelength (nm)\", \"Re(eps_actual)\", \"Im(eps_actual)\", \"Re(eps_fit)\", \"Im(eps_fit)\"])\n",
    "    # 각 데이터 포인트에 대해 행(row) 작성\n",
    "    for wl_val, eps_act, eps_fit in zip(wl_reduced, eps_reduced, mymaterial_eps):\n",
    "        writer.writerow([\n",
    "            wl_val,\n",
    "            np.real(eps_act) + eps_inf,  # 실제 데이터에 eps_inf를 더해줍니다.\n",
    "            np.imag(eps_act),\n",
    "            np.real(eps_fit),\n",
    "            np.imag(eps_fit)\n",
    "        ])\n",
    "\n",
    "print(f\"CSV 파일 '{csv_filename}'로 저장되었습니다.\")"
   ]
  }
 ],
 "metadata": {
  "kernelspec": {
   "display_name": "Python 3",
   "language": "python",
   "name": "python3"
  },
  "language_info": {
   "codemirror_mode": {
    "name": "ipython",
    "version": 3
   },
   "file_extension": ".py",
   "mimetype": "text/x-python",
   "name": "python",
   "nbconvert_exporter": "python",
   "pygments_lexer": "ipython3",
   "version": "3.8.19"
  }
 },
 "nbformat": 4,
 "nbformat_minor": 2
}
