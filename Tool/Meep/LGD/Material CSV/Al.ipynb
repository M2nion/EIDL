{
 "cells": [
  {
   "cell_type": "code",
   "execution_count": 1,
   "metadata": {},
   "outputs": [],
   "source": [
    "import pandas as pd"
   ]
  },
  {
   "cell_type": "code",
   "execution_count": 12,
   "metadata": {},
   "outputs": [
    {
     "name": "stdout",
     "output_type": "stream",
     "text": [
      "CSV 파일로 변환 완료\n"
     ]
    }
   ],
   "source": [
    "# raw data file 경로 설정\n",
    "raw_file_path = '/home/min/EIDL/Tool/Meep/LGD/Material CSV/Al (Aluminium) - Palik(FDTD).txt'  # 메모장에 저장된 원본 파일 경로\n",
    "csv_file_path = '/home/min/EIDL/Tool/Meep/LGD/Material CSV/output_file_Al_FDTD.csv'  # 변환된 CSV 파일을 저장할 경로\n",
    "\n",
    "# 1. raw data 파일 읽기\n",
    "raw_data = pd.read_csv(raw_file_path, delim_whitespace=True, header=None)  # 공백으로 구분된 파일 읽기\n",
    "\n",
    "# 2. CSV 파일로 저장\n",
    "raw_data.to_csv(csv_file_path, index=False, header=False)  # index=False로 행 번호를 제외하고 저장\n",
    "\n",
    "print('CSV 파일로 변환 완료')\n"
   ]
  }
 ],
 "metadata": {
  "kernelspec": {
   "display_name": "mp",
   "language": "python",
   "name": "python3"
  },
  "language_info": {
   "codemirror_mode": {
    "name": "ipython",
    "version": 3
   },
   "file_extension": ".py",
   "mimetype": "text/x-python",
   "name": "python",
   "nbconvert_exporter": "python",
   "pygments_lexer": "ipython3",
   "version": "3.8.20"
  }
 },
 "nbformat": 4,
 "nbformat_minor": 2
}
