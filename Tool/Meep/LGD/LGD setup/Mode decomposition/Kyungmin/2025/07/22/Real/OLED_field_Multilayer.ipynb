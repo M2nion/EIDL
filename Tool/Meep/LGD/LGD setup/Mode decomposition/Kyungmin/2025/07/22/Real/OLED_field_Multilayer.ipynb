{
 "cells": [
  {
   "cell_type": "code",
   "execution_count": 171,
   "id": "7c0b5dbd",
   "metadata": {},
   "outputs": [],
   "source": [
    "import meep as mp\n",
    "import meep.adjoint as mpa\n",
    "import numpy as np\n",
    "from autograd import numpy as npa\n",
    "from autograd import tensor_jacobian_product, grad\n",
    "import nlopt\n",
    "from matplotlib import pyplot as plt\n",
    "from matplotlib.patches import Circle\n",
    "import math\n",
    "\n",
    "from meep.materials import Ag"
   ]
  },
  {
   "cell_type": "code",
   "execution_count": 172,
   "id": "8b2dc107",
   "metadata": {},
   "outputs": [],
   "source": [
    "fontlabel = 16\n",
    "\n",
    "lambda_min = 0.4       # 최소 파장 (µm)\n",
    "lambda_max = 0.7       # 최대 파장 (µm)\n",
    "fmin = 1/lambda_max    # 최소 주파수\n",
    "fmax = 1/lambda_min    # 최대 주파수\n",
    "fcen = 0.5*(fmin+fmax) # 중앙 주파수\n",
    "df = fmax-fmin         # 주파수 대역폭\n",
    "\n",
    "resolution = 50        # 시뮬레이션 해상도\n",
    "nfreq = 1             # 추출할 주파수 개수\n",
    "design_region_resolution = 50"
   ]
  },
  {
   "cell_type": "code",
   "execution_count": 173,
   "id": "1ed44543",
   "metadata": {},
   "outputs": [],
   "source": [
    "tag_bot         = 0.5\n",
    "tag_side        = 4\n",
    "tsio2           = 4\n",
    "tdesignregion   = 1\n",
    "monitor_position =  1 / fcen * 2\n",
    "monitor_blank   = 1 / fcen * 0.1\n",
    "\n",
    "tpml = 0.4\n",
    "\n",
    "width_ag = 0.2\n",
    "width_sio2 = 2\n",
    "\n",
    "width_bot_ag = width_ag+width_sio2+width_ag\n",
    "\n",
    "design_region_width = round(width_bot_ag, 3)\n",
    "design_region_height = 0.5\n",
    "\n",
    "Sx = tpml+width_bot_ag+tpml\n",
    "Sy = round(tag_bot+tag_side+tdesignregion+monitor_position+monitor_blank+tpml)\n",
    "\n",
    "SiO2 = mp.Medium(index = 1.45)\n",
    "TiO2 = mp.Medium(index = 2.6)\n",
    "\n",
    "Nx = int(design_region_resolution * design_region_width) + 1\n",
    "# Ny = int(design_region_resolution * design_region_height) + 1\n",
    "Ny = 1\n",
    "\n",
    "y_bottom = -Sy/2\n",
    "center_y_ag = y_bottom + tag_bot / 2\n",
    "center_y_sio2 = y_bottom + tag_bot + tsio2 / 2\n",
    "center_y_design = y_bottom + tag_bot + tsio2 + design_region_height / 2\n",
    "center_y_monitor_position = y_bottom + tag_bot + tsio2 + design_region_height + monitor_position\n",
    "center_y_source_position = y_bottom + tag_bot + 1/fcen \n",
    "center_Ag_x_position = design_region_width/2-width_ag/2 #+ tpml/2\n",
    "\n",
    "design_variables = mp.MaterialGrid(mp.Vector3(Nx, Ny), TiO2, SiO2,  grid_type=\"U_MEAN\")\n",
    "\n",
    "boundary_layers = [mp.Absorber(tpml,direction=mp.X),\n",
    "                   mp.PML(tpml,direction=mp.Y,side=mp.High)]"
   ]
  },
  {
   "cell_type": "code",
   "execution_count": 174,
   "id": "1962bbd4",
   "metadata": {},
   "outputs": [],
   "source": [
    "# 셀 크기 설정\n",
    "cell_size = mp.Vector3(Sx, Sy)\n",
    "\n",
    "# 기본 지오메트리 정의\n",
    "geometry = [\n",
    "    # Bottom Ag layer\n",
    "    mp.Block(\n",
    "        material=Ag,\n",
    "        size=mp.Vector3(width_bot_ag, tag_bot, 0),\n",
    "        center=mp.Vector3(0, center_y_ag, 0)\n",
    "    ),\n",
    "    # SiO2 layer\n",
    "    mp.Block(\n",
    "        material=SiO2,\n",
    "        size=mp.Vector3(width_sio2, tsio2, 0),\n",
    "        center=mp.Vector3(0, center_y_sio2, 0)\n",
    "    ),\n",
    "    # Side metal\n",
    "    mp.Block(\n",
    "        material=Ag,\n",
    "        size=mp.Vector3(width_ag, tsio2, 0),\n",
    "        center=mp.Vector3(-center_Ag_x_position, center_y_sio2, 0)\n",
    "    ),\n",
    "    mp.Block(\n",
    "        material=Ag,\n",
    "        size=mp.Vector3(width_ag, tsio2, 0),\n",
    "        center=mp.Vector3(center_Ag_x_position, center_y_sio2, 0)\n",
    "    ),\n",
    "]\n"
   ]
  },
  {
   "cell_type": "code",
   "execution_count": 175,
   "id": "0dc2b845",
   "metadata": {},
   "outputs": [],
   "source": [
    "# 몇개의 layer로 최적화를 할건지 설정하고 싶다면 layer_num 갯수 조절\n",
    "layer_num = 1\n",
    "\n",
    "ML = (layer_num > 1)\n",
    "\n",
    "region_height_each = design_region_height / layer_num\n",
    "full_center_y = y_bottom + tag_bot + tsio2 + design_region_height/2\n",
    "\n",
    "if ML:\n",
    "    design_variables = []\n",
    "    design_region = []\n",
    "    for dv in range(layer_num):\n",
    "        mg = mp.MaterialGrid(\n",
    "            mp.Vector3(Nx, Ny),\n",
    "            TiO2,       \n",
    "            SiO2,       \n",
    "            grid_type=\"U_MEAN\",\n",
    "            do_averaging=False\n",
    "        )\n",
    "        design_variables.append(mg)\n",
    "        offset = ((layer_num - 1) / 2 - dv) * region_height_each\n",
    "        center_y = full_center_y + offset\n",
    "\n",
    "        dr = mpa.DesignRegion(\n",
    "            mg,\n",
    "            volume=mp.Volume(\n",
    "                center=mp.Vector3(0, center_y, 0),\n",
    "                size=mp.Vector3(design_region_width, region_height_each, 0),\n",
    "            ),\n",
    "        )\n",
    "        design_region.append(dr)\n",
    "\n",
    "        geometry.append(\n",
    "            mp.Block(\n",
    "                material=design_variables[dv],\n",
    "                size=design_region[dv].size,\n",
    "                center=design_region[dv].center\n",
    "            )\n",
    "        )\n",
    "else:\n",
    "    design_variables = mp.MaterialGrid(\n",
    "        mp.Vector3(Nx, Ny),\n",
    "        TiO2,\n",
    "        SiO2,\n",
    "        grid_type=\"U_MEAN\",\n",
    "        do_averaging=False\n",
    "    )\n",
    "    design_region = mpa.DesignRegion(\n",
    "        design_variables,\n",
    "        volume=mp.Volume(\n",
    "            center=mp.Vector3(0, full_center_y, 0),\n",
    "            size=mp.Vector3(design_region_width, region_height_each, 0),\n",
    "        )\n",
    "    )\n",
    "    geometry.append(\n",
    "        mp.Block(\n",
    "            material=design_variables,\n",
    "            size=design_region.size,\n",
    "            center=design_region.center\n",
    "        )\n",
    "    )\n"
   ]
  },
  {
   "cell_type": "code",
   "execution_count": 176,
   "id": "1a900b70",
   "metadata": {},
   "outputs": [],
   "source": [
    "src = mp.GaussianSource(frequency=fcen, fwidth=df, is_integrated=True)\n",
    "\n",
    "sources = mp.Source(\n",
    "            src,\n",
    "            component=mp.Ez,\n",
    "            center=mp.Vector3(\n",
    "                0,\n",
    "                center_y_source_position,  # Alq3 층의 중간 높이\n",
    "                0\n",
    "            )\n",
    "        )\n",
    "\n",
    "sim = mp.Simulation(\n",
    "    resolution=resolution,\n",
    "    sources=[sources],\n",
    "    cell_size=cell_size,\n",
    "    boundary_layers=boundary_layers,\n",
    "    geometry=geometry,\n",
    "    default_material=mp.Medium(index = 1),\n",
    "    extra_materials=[Ag]\n",
    ")"
   ]
  },
  {
   "cell_type": "code",
   "execution_count": 288,
   "id": "f2e44bbe",
   "metadata": {},
   "outputs": [
    {
     "data": {
      "image/png": "[encoded data removed]",
      "text/plain": [
       "<Figure size 640x480 with 1 Axes>"
      ]
     },
     "metadata": {},
     "output_type": "display_data"
    }
   ],
   "source": [
    "monitor_position_J, monitor_size = mp.Vector3(0, center_y_monitor_position), mp.Vector3(0,0)\n",
    "FourierFields = mpa.FourierFields(sim,mp.Volume(center=monitor_position_J,size=monitor_size),mp.Ez,yee_grid=True)\n",
    "ob_list = [FourierFields]\n",
    "\n",
    "def J(fields):\n",
    "    return npa.mean(npa.real(fields) ** 2) # The index 1 corresponds to the point at the center of our monitor.\n",
    "\n",
    "opt = mpa.OptimizationProblem(\n",
    "            simulation=sim,\n",
    "            objective_functions=[J],\n",
    "            objective_arguments=ob_list,\n",
    "            design_regions=design_region,        # 한 개의 DesignRegion\n",
    "            frequencies=[fcen],\n",
    "            maximum_run_time=300,\n",
    "        )\n",
    "\n",
    "opt.plot2D(True)"
   ]
  },
  {
   "cell_type": "code",
   "execution_count": 289,
   "id": "1ca7c12f",
   "metadata": {},
   "outputs": [],
   "source": [
    "class AdamOptimizer:\n",
    "    def __init__(self, lr=0.01, beta1=0.9, beta2=0.999, epsilon=1e-8, warmup_iters=10):\n",
    "        self.lr = lr\n",
    "        self.beta1 = beta1\n",
    "        self.beta2 = beta2\n",
    "        self.epsilon = epsilon\n",
    "        self.mt = None\n",
    "        self.vt = None\n",
    "        self.iter = 0\n",
    "        self.warmup_iters = warmup_iters\n",
    "    \n",
    "    def update(self, v, gradient):\n",
    "        if self.mt is None:\n",
    "            self.mt = np.zeros_like(v)\n",
    "        if self.vt is None:\n",
    "            self.vt = np.zeros_like(v)\n",
    "            \n",
    "        #Adam에서는 기울기 값과 기울기의 제곱값의 지수이동평균을 활용하여 step 변회량을 조절\n",
    "        self.iter += 1\n",
    "        self.mt = self.beta1 * self.mt + (1 - self.beta1) * gradient           #m_(t)=beta_(1)*m_(t-1)+(1-beta_(1))*gradient\n",
    "        self.vt = self.beta2 * self.vt + (1 - self.beta2) * (gradient ** 2)       #v_(t)=beta_(2)*v_(t-1)+(1-beta_(2))*(gradeint^2)\n",
    "        \n",
    "        # 초기 몇번의 update에서 0으로 편향되어 있어서 출발 지점에서 멀리 떨어진 곳으로 이동하는, 초기 경로의 편향 문제를 해결 하기 위해 unbiased하게 만들어줌\n",
    "        m_hat = self.mt / (1 - self.beta1 ** self.iter)   #m_hat=m/(1-beta1**t)\n",
    "        v_hat = self.vt / (1 - self.beta2 ** self.iter)\n",
    "        \n",
    "        # Warm-up 단계\n",
    "        if self.iter <= self.warmup_iters:\n",
    "            warmup_factor = self.iter / self.warmup_iters\n",
    "            lr = self.lr * warmup_factor\n",
    "        else:\n",
    "            lr = self.lr   #lr_t <- alpha*sqrt\n",
    "            \n",
    "        #update = self.lr * m_hat / (np.sqrt(v_hat) + self.epsilon)\n",
    "        update_factor= m_hat / (np.sqrt(v_hat) + self.epsilon) #theta_t <- theta_(t-1)-alpha_(t)*m_(t)/(sqrt(v_(t))+epsilon) alpha_(t)=learning rate\n",
    "        update = lr * update_factor\n",
    "        updated_v = v + update\n",
    "        updated_v = np.clip(updated_v, 0.0, 1.0)\n",
    "        \n",
    "        adam_lr=np.mean(np.abs(update))\n",
    "        adam_uf=np.mean(np.abs(update_factor))\n",
    "        \n",
    "        # adam_beta1=self.beta1\n",
    "        # # adam_beta2=self.beta2\n",
    "        adam_m=self.mt\n",
    "        adam_v=self.vt\n",
    "        adam_t=self.iter\n",
    "        \n",
    "        return updated_v, adam_lr, adam_uf, adam_m, adam_v, adam_t"
   ]
  },
  {
   "cell_type": "code",
   "execution_count": 290,
   "id": "09f53e9b",
   "metadata": {},
   "outputs": [],
   "source": [
    "eta_i = 0.5\n",
    "def multi_mapping(x, eta_i, beta):\n",
    "    size_each = Nx * Ny\n",
    "    v3 = x.reshape(layer_num, size_each)\n",
    "\n",
    "    rho_list = []\n",
    "    for i in range(layer_num):\n",
    "        layer_field = v3[i].reshape(Nx, Ny)\n",
    "        layer_field = (np.flipud(layer_field) + layer_field) / 2\n",
    "        flat = layer_field.flatten()\n",
    "        proj = mpa.tanh_projection(flat, beta, eta_i)\n",
    "        rho_list.append(proj)          \n",
    "\n",
    "    stacked = np.concatenate(rho_list, axis=0)  \n",
    "    return stacked\n"
   ]
  },
  {
   "cell_type": "code",
   "execution_count": 291,
   "id": "e1c61168",
   "metadata": {},
   "outputs": [],
   "source": [
    "eta_i = 0.5\n",
    "\n",
    "def multi_mapping_ad(x, eta, beta):    \n",
    "    size_each = Nx * Ny\n",
    "\n",
    "    v3 = x.reshape(layer_num, size_each)\n",
    "\n",
    "    rho_list = []\n",
    "    for i in range(layer_num):\n",
    "        layer_field = v3[i].reshape(Nx, Ny)\n",
    "        sym_field   = (layer_field[::-1, :] + layer_field) / 2\n",
    "        flat        = sym_field.ravel()\n",
    "        proj        = mpa.tanh_projection(flat, beta, eta)\n",
    "        rho_list.append(proj)\n",
    "\n",
    "    return npa.concatenate(rho_list, axis=0)\n"
   ]
  },
  {
   "cell_type": "code",
   "execution_count": 294,
   "id": "e2aeb3be",
   "metadata": {},
   "outputs": [
    {
     "name": "stdout",
     "output_type": "stream",
     "text": [
      "\n",
      "--- Iter 1 ---\n",
      "Starting forward run...\n",
      "Starting adjoint run...\n",
      "Calculating gradient...\n",
      "Current beta: 2\n",
      "Current FOM: 0.0007612092356316181\n",
      "Binary degree : 0.4121584040038059 \n"
     ]
    },
    {
     "data": {
      "image/png": "[encoded data removed]",
      "text/plain": [
       "<Figure size 300x200 with 1 Axes>"
      ]
     },
     "metadata": {},
     "output_type": "display_data"
    },
    {
     "name": "stdout",
     "output_type": "stream",
     "text": [
      "\n",
      "--- Iter 2 ---\n",
      "Starting forward run...\n",
      "Starting adjoint run...\n",
      "Calculating gradient...\n",
      "Current beta: 2\n",
      "Current FOM: 0.0008599844861601022\n",
      "Binary degree : 0.41235757752367813 \n"
     ]
    },
    {
     "data": {
      "image/png": "[encoded data removed]",
      "text/plain": [
       "<Figure size 300x200 with 1 Axes>"
      ]
     },
     "metadata": {},
     "output_type": "display_data"
    },
    {
     "name": "stdout",
     "output_type": "stream",
     "text": [
      "\n",
      "--- Iter 3 ---\n",
      "Starting forward run...\n",
      "Starting adjoint run...\n",
      "Calculating gradient...\n",
      "Current beta: 2\n",
      "Current FOM: 0.0010829140389995745\n",
      "Binary degree : 0.41266917075605614 \n"
     ]
    },
    {
     "data": {
      "image/png": "[encoded data removed]",
      "text/plain": [
       "<Figure size 300x200 with 1 Axes>"
      ]
     },
     "metadata": {},
     "output_type": "display_data"
    },
    {
     "name": "stdout",
     "output_type": "stream",
     "text": [
      "\n",
      "--- Iter 4 ---\n",
      "Starting forward run...\n",
      "Starting adjoint run...\n",
      "Calculating gradient...\n",
      "Current beta: 2\n",
      "Current FOM: 0.0014619603335335283\n",
      "Binary degree : 0.4130340237633999 \n"
     ]
    },
    {
     "data": {
      "image/png": "[encoded data removed]",
      "text/plain": [
       "<Figure size 300x200 with 1 Axes>"
      ]
     },
     "metadata": {},
     "output_type": "display_data"
    },
    {
     "name": "stdout",
     "output_type": "stream",
     "text": [
      "\n",
      "--- Iter 5 ---\n",
      "Starting forward run...\n",
      "Starting adjoint run...\n",
      "Calculating gradient...\n",
      "Current beta: 2\n",
      "Current FOM: 0.00199291428945201\n",
      "Binary degree : 0.41379729570692503 \n"
     ]
    },
    {
     "data": {
      "image/png": "[encoded data removed]",
      "text/plain": [
       "<Figure size 300x200 with 1 Axes>"
      ]
     },
     "metadata": {},
     "output_type": "display_data"
    },
    {
     "name": "stdout",
     "output_type": "stream",
     "text": [
      "\n",
      "--- Iter 6 ---\n",
      "Starting forward run...\n",
      "Starting adjoint run...\n",
      "Calculating gradient...\n",
      "Current beta: 2\n",
      "Current FOM: 0.0025885127492898583\n",
      "Binary degree : 0.4153005206825022 \n"
     ]
    },
    {
     "data": {
      "image/png": "[encoded data removed]",
      "text/plain": [
       "<Figure size 300x200 with 1 Axes>"
      ]
     },
     "metadata": {},
     "output_type": "display_data"
    },
    {
     "name": "stdout",
     "output_type": "stream",
     "text": [
      "\n",
      "--- Iter 7 ---\n",
      "Starting forward run...\n",
      "Starting adjoint run...\n",
      "Calculating gradient...\n",
      "Current beta: 2\n",
      "Current FOM: 0.0030727882932019856\n",
      "Binary degree : 0.41723712523133016 \n"
     ]
    },
    {
     "data": {
      "image/png": "[encoded data removed]",
      "text/plain": [
       "<Figure size 300x200 with 1 Axes>"
      ]
     },
     "metadata": {},
     "output_type": "display_data"
    },
    {
     "name": "stdout",
     "output_type": "stream",
     "text": [
      "\n",
      "--- Iter 8 ---\n",
      "Starting forward run...\n",
      "Starting adjoint run...\n",
      "Calculating gradient...\n",
      "Current beta: 2\n",
      "Current FOM: 0.0032408383537421955\n",
      "Binary degree : 0.42027955433428094 \n"
     ]
    },
    {
     "data": {
      "image/png": "[encoded data removed]",
      "text/plain": [
       "<Figure size 300x200 with 1 Axes>"
      ]
     },
     "metadata": {},
     "output_type": "display_data"
    },
    {
     "name": "stdout",
     "output_type": "stream",
     "text": [
      "\n",
      "--- Iter 9 ---\n",
      "Starting forward run...\n",
      "Starting adjoint run...\n",
      "Calculating gradient...\n",
      "Current beta: 2\n",
      "Current FOM: 0.0032605351123383554\n",
      "Binary degree : 0.4242827243498196 \n"
     ]
    },
    {
     "data": {
      "image/png": "[encoded data removed]",
      "text/plain": [
       "<Figure size 300x200 with 1 Axes>"
      ]
     },
     "metadata": {},
     "output_type": "display_data"
    },
    {
     "name": "stdout",
     "output_type": "stream",
     "text": [
      "\n",
      "--- Iter 10 ---\n",
      "Starting forward run...\n",
      "Starting adjoint run...\n",
      "Calculating gradient...\n",
      "Current beta: 2\n",
      "Current FOM: 0.00346801351844398\n",
      "Binary degree : 0.42965369281528054 \n"
     ]
    },
    {
     "data": {
      "image/png": "[encoded data removed]",
      "text/plain": [
       "<Figure size 300x200 with 1 Axes>"
      ]
     },
     "metadata": {},
     "output_type": "display_data"
    },
    {
     "name": "stdout",
     "output_type": "stream",
     "text": [
      "\n",
      "--- Iter 11 ---\n",
      "Starting forward run...\n",
      "Starting adjoint run...\n",
      "Calculating gradient...\n",
      "Current beta: 2\n",
      "Current FOM: 0.0038524886724056228\n",
      "Binary degree : 0.4360165003214143 \n"
     ]
    },
    {
     "data": {
      "image/png": "[encoded data removed]",
      "text/plain": [
       "<Figure size 300x200 with 1 Axes>"
      ]
     },
     "metadata": {},
     "output_type": "display_data"
    },
    {
     "name": "stdout",
     "output_type": "stream",
     "text": [
      "\n",
      "--- Iter 12 ---\n",
      "Starting forward run...\n",
      "Starting adjoint run...\n",
      "Calculating gradient...\n",
      "Current beta: 2\n",
      "Current FOM: 0.004066725953560913\n",
      "Binary degree : 0.442109555622684 \n"
     ]
    },
    {
     "data": {
      "image/png": "[encoded data removed]",
      "text/plain": [
       "<Figure size 300x200 with 1 Axes>"
      ]
     },
     "metadata": {},
     "output_type": "display_data"
    },
    {
     "name": "stdout",
     "output_type": "stream",
     "text": [
      "\n",
      "--- Iter 13 ---\n",
      "Starting forward run...\n",
      "Starting adjoint run...\n",
      "Calculating gradient...\n",
      "Current beta: 2\n",
      "Current FOM: 0.004298175962476512\n",
      "Binary degree : 0.44865340996195674 \n"
     ]
    },
    {
     "data": {
      "image/png": "[encoded data removed]",
      "text/plain": [
       "<Figure size 300x200 with 1 Axes>"
      ]
     },
     "metadata": {},
     "output_type": "display_data"
    },
    {
     "name": "stdout",
     "output_type": "stream",
     "text": [
      "\n",
      "--- Iter 14 ---\n",
      "Starting forward run...\n",
      "Starting adjoint run...\n",
      "Calculating gradient...\n",
      "Current beta: 2\n",
      "Current FOM: 0.004399247684178949\n",
      "Binary degree : 0.45493689275357396 \n"
     ]
    },
    {
     "data": {
      "image/png": "[encoded data removed]",
      "text/plain": [
       "<Figure size 300x200 with 1 Axes>"
      ]
     },
     "metadata": {},
     "output_type": "display_data"
    },
    {
     "name": "stdout",
     "output_type": "stream",
     "text": [
      "\n",
      "--- Iter 15 ---\n",
      "Starting forward run...\n",
      "Starting adjoint run...\n",
      "Calculating gradient...\n",
      "Current beta: 2\n",
      "Current FOM: 0.004573749466727904\n",
      "Binary degree : 0.4610219449676173 \n"
     ]
    },
    {
     "data": {
      "image/png": "[encoded data removed]",
      "text/plain": [
       "<Figure size 300x200 with 1 Axes>"
      ]
     },
     "metadata": {},
     "output_type": "display_data"
    },
    {
     "name": "stdout",
     "output_type": "stream",
     "text": [
      "\n",
      "--- Iter 16 ---\n",
      "Starting forward run...\n",
      "Starting adjoint run...\n",
      "Calculating gradient...\n",
      "Current beta: 2\n",
      "Current FOM: 0.005134372146239341\n",
      "Binary degree : 0.46597052249627946 \n"
     ]
    },
    {
     "data": {
      "image/png": "[encoded data removed]",
      "text/plain": [
       "<Figure size 300x200 with 1 Axes>"
      ]
     },
     "metadata": {},
     "output_type": "display_data"
    },
    {
     "name": "stdout",
     "output_type": "stream",
     "text": [
      "\n",
      "--- Iter 17 ---\n",
      "Starting forward run...\n",
      "Starting adjoint run...\n",
      "Calculating gradient...\n",
      "Current beta: 2\n",
      "Current FOM: 0.005798257236123545\n",
      "Binary degree : 0.4705269081006508 \n"
     ]
    },
    {
     "data": {
      "image/png": "[encoded data removed]",
      "text/plain": [
       "<Figure size 300x200 with 1 Axes>"
      ]
     },
     "metadata": {},
     "output_type": "display_data"
    },
    {
     "name": "stdout",
     "output_type": "stream",
     "text": [
      "\n",
      "--- Iter 18 ---\n",
      "Starting forward run...\n",
      "Starting adjoint run...\n",
      "Calculating gradient...\n",
      "Current beta: 2\n",
      "Current FOM: 0.006105089389212501\n",
      "Binary degree : 0.4763205931845986 \n"
     ]
    },
    {
     "data": {
      "image/png": "[encoded data removed]",
      "text/plain": [
       "<Figure size 300x200 with 1 Axes>"
      ]
     },
     "metadata": {},
     "output_type": "display_data"
    },
    {
     "name": "stdout",
     "output_type": "stream",
     "text": [
      "\n",
      "--- Iter 19 ---\n",
      "Starting forward run...\n",
      "Starting adjoint run...\n",
      "Calculating gradient...\n",
      "Current beta: 2\n",
      "Current FOM: 0.006030614812124956\n",
      "Binary degree : 0.48223671000136487 \n"
     ]
    },
    {
     "data": {
      "image/png": "[encoded data removed]",
      "text/plain": [
       "<Figure size 300x200 with 1 Axes>"
      ]
     },
     "metadata": {},
     "output_type": "display_data"
    },
    {
     "name": "stdout",
     "output_type": "stream",
     "text": [
      "\n",
      "--- Iter 20 ---\n",
      "Starting forward run...\n",
      "Starting adjoint run...\n",
      "Calculating gradient...\n",
      "Current beta: 2\n",
      "Current FOM: 0.006167958623052967\n",
      "Binary degree : 0.4871213091579896 \n"
     ]
    },
    {
     "data": {
      "image/png": "[encoded data removed]",
      "text/plain": [
       "<Figure size 300x200 with 1 Axes>"
      ]
     },
     "metadata": {},
     "output_type": "display_data"
    },
    {
     "name": "stdout",
     "output_type": "stream",
     "text": [
      "\n",
      "--- Iter 21 ---\n",
      "Starting forward run...\n",
      "Starting adjoint run...\n",
      "Calculating gradient...\n",
      "Current beta: 2\n",
      "Current FOM: 0.006682175615993866\n",
      "Binary degree : 0.49206967235789 \n"
     ]
    },
    {
     "data": {
      "image/png": "[encoded data removed]",
      "text/plain": [
       "<Figure size 300x200 with 1 Axes>"
      ]
     },
     "metadata": {},
     "output_type": "display_data"
    },
    {
     "name": "stdout",
     "output_type": "stream",
     "text": [
      "\n",
      "--- Iter 22 ---\n",
      "Starting forward run...\n",
      "Starting adjoint run...\n",
      "Calculating gradient...\n",
      "Current beta: 2\n",
      "Current FOM: 0.006891709969334684\n",
      "Binary degree : 0.497274424510303 \n"
     ]
    },
    {
     "data": {
      "image/png": "[encoded data removed]",
      "text/plain": [
       "<Figure size 300x200 with 1 Axes>"
      ]
     },
     "metadata": {},
     "output_type": "display_data"
    },
    {
     "name": "stdout",
     "output_type": "stream",
     "text": [
      "\n",
      "--- Iter 23 ---\n",
      "Starting forward run...\n",
      "Starting adjoint run...\n",
      "Calculating gradient...\n",
      "Current beta: 2\n",
      "Current FOM: 0.006656845112976787\n",
      "Binary degree : 0.5012321818025244 \n"
     ]
    },
    {
     "data": {
      "image/png": "[encoded data removed]",
      "text/plain": [
       "<Figure size 300x200 with 1 Axes>"
      ]
     },
     "metadata": {},
     "output_type": "display_data"
    },
    {
     "name": "stdout",
     "output_type": "stream",
     "text": [
      "\n",
      "--- Iter 24 ---\n",
      "Starting forward run...\n",
      "Starting adjoint run...\n",
      "Calculating gradient...\n",
      "Current beta: 2\n",
      "Current FOM: 0.006640145570715129\n",
      "Binary degree : 0.5052234269824104 \n"
     ]
    },
    {
     "data": {
      "image/png": "[encoded data removed]",
      "text/plain": [
       "<Figure size 300x200 with 1 Axes>"
      ]
     },
     "metadata": {},
     "output_type": "display_data"
    },
    {
     "name": "stdout",
     "output_type": "stream",
     "text": [
      "\n",
      "--- Iter 25 ---\n",
      "Starting forward run...\n",
      "Starting adjoint run...\n",
      "Calculating gradient...\n",
      "Current beta: 2\n",
      "Current FOM: 0.007143440498442938\n",
      "Binary degree : 0.5095501526425325 \n"
     ]
    },
    {
     "data": {
      "image/png": "[encoded data removed]",
      "text/plain": [
       "<Figure size 300x200 with 1 Axes>"
      ]
     },
     "metadata": {},
     "output_type": "display_data"
    },
    {
     "name": "stdout",
     "output_type": "stream",
     "text": [
      "\n",
      "--- Iter 26 ---\n",
      "Starting forward run...\n",
      "Starting adjoint run...\n",
      "Calculating gradient...\n",
      "Current beta: 2\n",
      "Current FOM: 0.00744171251256418\n",
      "Binary degree : 0.5143262064048523 \n"
     ]
    },
    {
     "data": {
      "image/png": "[encoded data removed]",
      "text/plain": [
       "<Figure size 300x200 with 1 Axes>"
      ]
     },
     "metadata": {},
     "output_type": "display_data"
    },
    {
     "name": "stdout",
     "output_type": "stream",
     "text": [
      "\n",
      "--- Iter 27 ---\n",
      "Starting forward run...\n",
      "Starting adjoint run...\n",
      "Calculating gradient...\n",
      "Current beta: 2\n",
      "Current FOM: 0.0073933231068549245\n",
      "Binary degree : 0.5187718813963327 \n"
     ]
    },
    {
     "data": {
      "image/png": "[encoded data removed]",
      "text/plain": [
       "<Figure size 300x200 with 1 Axes>"
      ]
     },
     "metadata": {},
     "output_type": "display_data"
    },
    {
     "name": "stdout",
     "output_type": "stream",
     "text": [
      "\n",
      "--- Iter 28 ---\n",
      "Starting forward run...\n",
      "Starting adjoint run...\n",
      "Calculating gradient...\n",
      "Current beta: 2\n",
      "Current FOM: 0.0074430174387059445\n",
      "Binary degree : 0.5229067991913243 \n"
     ]
    },
    {
     "data": {
      "image/png": "[encoded data removed]",
      "text/plain": [
       "<Figure size 300x200 with 1 Axes>"
      ]
     },
     "metadata": {},
     "output_type": "display_data"
    },
    {
     "name": "stdout",
     "output_type": "stream",
     "text": [
      "\n",
      "--- Iter 29 ---\n",
      "Starting forward run...\n",
      "Starting adjoint run...\n",
      "Calculating gradient...\n",
      "Current beta: 2\n",
      "Current FOM: 0.007950035545887316\n",
      "Binary degree : 0.5267152563738279 \n"
     ]
    },
    {
     "data": {
      "image/png": "[encoded data removed]",
      "text/plain": [
       "<Figure size 300x200 with 1 Axes>"
      ]
     },
     "metadata": {},
     "output_type": "display_data"
    },
    {
     "name": "stdout",
     "output_type": "stream",
     "text": [
      "\n",
      "--- Iter 30 ---\n",
      "Starting forward run...\n",
      "Starting adjoint run...\n",
      "Calculating gradient...\n",
      "Current beta: 2\n",
      "Current FOM: 0.008326131188981463\n",
      "Binary degree : 0.5304939293014995 \n"
     ]
    },
    {
     "data": {
      "image/png": "[encoded data removed]",
      "text/plain": [
       "<Figure size 300x200 with 1 Axes>"
      ]
     },
     "metadata": {},
     "output_type": "display_data"
    },
    {
     "name": "stdout",
     "output_type": "stream",
     "text": [
      "\n",
      "--- Iter 31 ---\n",
      "Starting forward run...\n",
      "Starting adjoint run...\n",
      "Calculating gradient...\n",
      "Current beta: 2\n",
      "Current FOM: 0.008334302823460288\n",
      "Binary degree : 0.5351099203334392 \n"
     ]
    },
    {
     "data": {
      "image/png": "[encoded data removed]",
      "text/plain": [
       "<Figure size 300x200 with 1 Axes>"
      ]
     },
     "metadata": {},
     "output_type": "display_data"
    },
    {
     "name": "stdout",
     "output_type": "stream",
     "text": [
      "\n",
      "--- Iter 32 ---\n",
      "Starting forward run...\n",
      "Starting adjoint run...\n",
      "Calculating gradient...\n",
      "Current beta: 2\n",
      "Current FOM: 0.008236506588486656\n",
      "Binary degree : 0.540014812041989 \n"
     ]
    },
    {
     "data": {
      "image/png": "[encoded data removed]",
      "text/plain": [
       "<Figure size 300x200 with 1 Axes>"
      ]
     },
     "metadata": {},
     "output_type": "display_data"
    },
    {
     "name": "stdout",
     "output_type": "stream",
     "text": [
      "\n",
      "--- Iter 33 ---\n",
      "Starting forward run...\n",
      "Starting adjoint run...\n",
      "Calculating gradient...\n",
      "Current beta: 2\n",
      "Current FOM: 0.008576387683450211\n",
      "Binary degree : 0.5441870328737565 \n"
     ]
    },
    {
     "data": {
      "image/png": "[encoded data removed]",
      "text/plain": [
       "<Figure size 300x200 with 1 Axes>"
      ]
     },
     "metadata": {},
     "output_type": "display_data"
    },
    {
     "name": "stdout",
     "output_type": "stream",
     "text": [
      "\n",
      "--- Iter 34 ---\n",
      "Starting forward run...\n",
      "Starting adjoint run...\n",
      "Calculating gradient...\n",
      "Current beta: 2\n",
      "Current FOM: 0.009022125458287492\n",
      "Binary degree : 0.5479477016405042 \n"
     ]
    },
    {
     "data": {
      "image/png": "[encoded data removed]",
      "text/plain": [
       "<Figure size 300x200 with 1 Axes>"
      ]
     },
     "metadata": {},
     "output_type": "display_data"
    },
    {
     "name": "stdout",
     "output_type": "stream",
     "text": [
      "\n",
      "--- Iter 35 ---\n",
      "Starting forward run...\n",
      "Starting adjoint run...\n",
      "Calculating gradient...\n",
      "Current beta: 2\n",
      "Current FOM: 0.009120119831489215\n",
      "Binary degree : 0.552884922267954 \n"
     ]
    },
    {
     "data": {
      "image/png": "[encoded data removed]",
      "text/plain": [
       "<Figure size 300x200 with 1 Axes>"
      ]
     },
     "metadata": {},
     "output_type": "display_data"
    },
    {
     "name": "stdout",
     "output_type": "stream",
     "text": [
      "\n",
      "--- Iter 36 ---\n",
      "Starting forward run...\n",
      "Starting adjoint run...\n",
      "Calculating gradient...\n",
      "Current beta: 2\n",
      "Current FOM: 0.00910195276714712\n",
      "Binary degree : 0.5582975105658444 \n"
     ]
    },
    {
     "data": {
      "image/png": "[encoded data removed]",
      "text/plain": [
       "<Figure size 300x200 with 1 Axes>"
      ]
     },
     "metadata": {},
     "output_type": "display_data"
    },
    {
     "name": "stdout",
     "output_type": "stream",
     "text": [
      "\n",
      "--- Iter 37 ---\n",
      "Starting forward run...\n",
      "Starting adjoint run...\n",
      "Calculating gradient...\n",
      "Current beta: 2\n",
      "Current FOM: 0.009635826953507697\n",
      "Binary degree : 0.5632545793728374 \n"
     ]
    },
    {
     "data": {
      "image/png": "[encoded data removed]",
      "text/plain": [
       "<Figure size 300x200 with 1 Axes>"
      ]
     },
     "metadata": {},
     "output_type": "display_data"
    },
    {
     "name": "stdout",
     "output_type": "stream",
     "text": [
      "\n",
      "--- Iter 38 ---\n",
      "Starting forward run...\n",
      "Starting adjoint run...\n",
      "Calculating gradient...\n",
      "Current beta: 2\n",
      "Current FOM: 0.009975321418864825\n",
      "Binary degree : 0.5679496219134157 \n"
     ]
    },
    {
     "data": {
      "image/png": "[encoded data removed]",
      "text/plain": [
       "<Figure size 300x200 with 1 Axes>"
      ]
     },
     "metadata": {},
     "output_type": "display_data"
    },
    {
     "name": "stdout",
     "output_type": "stream",
     "text": [
      "\n",
      "--- Iter 39 ---\n",
      "Starting forward run...\n",
      "Starting adjoint run...\n",
      "Calculating gradient...\n",
      "Current beta: 2\n",
      "Current FOM: 0.009653343380245495\n",
      "Binary degree : 0.5725289008486635 \n"
     ]
    },
    {
     "data": {
      "image/png": "[encoded data removed]",
      "text/plain": [
       "<Figure size 300x200 with 1 Axes>"
      ]
     },
     "metadata": {},
     "output_type": "display_data"
    },
    {
     "name": "stdout",
     "output_type": "stream",
     "text": [
      "\n",
      "--- Iter 40 ---\n",
      "Starting forward run...\n",
      "Starting adjoint run...\n",
      "Calculating gradient...\n",
      "Current beta: 2\n",
      "Current FOM: 0.010451583994840724\n",
      "Binary degree : 0.5761316014033664 \n"
     ]
    },
    {
     "data": {
      "image/png": "[encoded data removed]",
      "text/plain": [
       "<Figure size 300x200 with 1 Axes>"
      ]
     },
     "metadata": {},
     "output_type": "display_data"
    },
    {
     "name": "stdout",
     "output_type": "stream",
     "text": [
      "\n",
      "--- Iter 41 ---\n",
      "Starting forward run...\n",
      "Starting adjoint run...\n",
      "Calculating gradient...\n",
      "Current beta: 2\n",
      "Current FOM: 0.010707925188910476\n",
      "Binary degree : 0.579569984318185 \n"
     ]
    },
    {
     "data": {
      "image/png": "[encoded data removed]",
      "text/plain": [
       "<Figure size 300x200 with 1 Axes>"
      ]
     },
     "metadata": {},
     "output_type": "display_data"
    },
    {
     "name": "stdout",
     "output_type": "stream",
     "text": [
      "\n",
      "--- Iter 42 ---\n",
      "Starting forward run...\n",
      "Starting adjoint run...\n",
      "Calculating gradient...\n",
      "Current beta: 2\n",
      "Current FOM: 0.010666582908367866\n",
      "Binary degree : 0.5833236155233028 \n"
     ]
    },
    {
     "data": {
      "image/png": "[encoded data removed]",
      "text/plain": [
       "<Figure size 300x200 with 1 Axes>"
      ]
     },
     "metadata": {},
     "output_type": "display_data"
    },
    {
     "name": "stdout",
     "output_type": "stream",
     "text": [
      "\n",
      "--- Iter 43 ---\n",
      "Starting forward run...\n",
      "Starting adjoint run...\n",
      "Calculating gradient...\n",
      "Current beta: 2\n",
      "Current FOM: 0.011493001641676949\n",
      "Binary degree : 0.5875583482393919 \n"
     ]
    },
    {
     "data": {
      "image/png": "[encoded data removed]",
      "text/plain": [
       "<Figure size 300x200 with 1 Axes>"
      ]
     },
     "metadata": {},
     "output_type": "display_data"
    },
    {
     "name": "stdout",
     "output_type": "stream",
     "text": [
      "\n",
      "--- Iter 44 ---\n",
      "Starting forward run...\n",
      "Starting adjoint run...\n",
      "Calculating gradient...\n",
      "Current beta: 2\n",
      "Current FOM: 0.011301810540382649\n",
      "Binary degree : 0.5919571299955715 \n"
     ]
    },
    {
     "data": {
      "image/png": "[encoded data removed]",
      "text/plain": [
       "<Figure size 300x200 with 1 Axes>"
      ]
     },
     "metadata": {},
     "output_type": "display_data"
    },
    {
     "name": "stdout",
     "output_type": "stream",
     "text": [
      "\n",
      "--- Iter 45 ---\n",
      "Starting forward run...\n",
      "Starting adjoint run...\n",
      "Calculating gradient...\n",
      "Current beta: 2\n",
      "Current FOM: 0.012210718523691348\n",
      "Binary degree : 0.5966700375367352 \n"
     ]
    },
    {
     "data": {
      "image/png": "[encoded data removed]",
      "text/plain": [
       "<Figure size 300x200 with 1 Axes>"
      ]
     },
     "metadata": {},
     "output_type": "display_data"
    },
    {
     "name": "stdout",
     "output_type": "stream",
     "text": [
      "\n",
      "--- Iter 46 ---\n",
      "Starting forward run...\n",
      "Starting adjoint run...\n",
      "Calculating gradient...\n",
      "Current beta: 2\n",
      "Current FOM: 0.012586990563464217\n",
      "Binary degree : 0.6010790802778814 \n"
     ]
    },
    {
     "data": {
      "image/png": "[encoded data removed]",
      "text/plain": [
       "<Figure size 300x200 with 1 Axes>"
      ]
     },
     "metadata": {},
     "output_type": "display_data"
    },
    {
     "name": "stdout",
     "output_type": "stream",
     "text": [
      "\n",
      "--- Iter 47 ---\n",
      "Starting forward run...\n",
      "Starting adjoint run...\n",
      "Calculating gradient...\n",
      "Current beta: 2\n",
      "Current FOM: 0.012579381442035699\n",
      "Binary degree : 0.6054600151627956 \n"
     ]
    },
    {
     "data": {
      "image/png": "[encoded data removed]",
      "text/plain": [
       "<Figure size 300x200 with 1 Axes>"
      ]
     },
     "metadata": {},
     "output_type": "display_data"
    },
    {
     "name": "stdout",
     "output_type": "stream",
     "text": [
      "\n",
      "--- Iter 48 ---\n",
      "Starting forward run...\n",
      "Starting adjoint run...\n",
      "Calculating gradient...\n",
      "Current beta: 2\n",
      "Current FOM: 0.013518865199190572\n",
      "Binary degree : 0.6107297426326506 \n"
     ]
    },
    {
     "data": {
      "image/png": "[encoded data removed]",
      "text/plain": [
       "<Figure size 300x200 with 1 Axes>"
      ]
     },
     "metadata": {},
     "output_type": "display_data"
    },
    {
     "name": "stdout",
     "output_type": "stream",
     "text": [
      "\n",
      "--- Iter 49 ---\n",
      "Starting forward run...\n",
      "Starting adjoint run...\n",
      "Calculating gradient...\n",
      "Current beta: 2\n",
      "Current FOM: 0.011514214366826236\n",
      "Binary degree : 0.6145266882051006 \n"
     ]
    },
    {
     "data": {
      "image/png": "[encoded data removed]",
      "text/plain": [
       "<Figure size 300x200 with 1 Axes>"
      ]
     },
     "metadata": {},
     "output_type": "display_data"
    },
    {
     "name": "stdout",
     "output_type": "stream",
     "text": [
      "\n",
      "--- Iter 50 ---\n",
      "Starting forward run...\n",
      "Starting adjoint run...\n",
      "Calculating gradient...\n",
      "Current beta: 2\n",
      "Current FOM: 0.014141209955470845\n",
      "Binary degree : 0.6188725283671422 \n"
     ]
    },
    {
     "data": {
      "image/png": "[encoded data removed]",
      "text/plain": [
       "<Figure size 300x200 with 1 Axes>"
      ]
     },
     "metadata": {},
     "output_type": "display_data"
    },
    {
     "name": "stdout",
     "output_type": "stream",
     "text": [
      "\n",
      "--- Iter 51 ---\n",
      "Starting forward run...\n",
      "Starting adjoint run...\n",
      "Calculating gradient...\n",
      "Current beta: 2\n",
      "Current FOM: 0.014247901782595128\n",
      "Binary degree : 0.6229541902706816 \n"
     ]
    },
    {
     "data": {
      "image/png": "[encoded data removed]",
      "text/plain": [
       "<Figure size 300x200 with 1 Axes>"
      ]
     },
     "metadata": {},
     "output_type": "display_data"
    },
    {
     "name": "stdout",
     "output_type": "stream",
     "text": [
      "\n",
      "--- Iter 52 ---\n",
      "Starting forward run...\n",
      "Starting adjoint run...\n",
      "Calculating gradient...\n",
      "Current beta: 2\n",
      "Current FOM: 0.012069318848153304\n",
      "Binary degree : 0.6258115465755961 \n"
     ]
    },
    {
     "data": {
      "image/png": "[encoded data removed]",
      "text/plain": [
       "<Figure size 300x200 with 1 Axes>"
      ]
     },
     "metadata": {},
     "output_type": "display_data"
    },
    {
     "name": "stdout",
     "output_type": "stream",
     "text": [
      "\n",
      "--- Iter 53 ---\n",
      "Starting forward run...\n",
      "Starting adjoint run...\n",
      "Calculating gradient...\n",
      "Current beta: 2\n",
      "Current FOM: 0.013248487940465637\n",
      "Binary degree : 0.6288765998857135 \n"
     ]
    },
    {
     "data": {
      "image/png": "[encoded data removed]",
      "text/plain": [
       "<Figure size 300x200 with 1 Axes>"
      ]
     },
     "metadata": {},
     "output_type": "display_data"
    },
    {
     "name": "stdout",
     "output_type": "stream",
     "text": [
      "\n",
      "--- Iter 54 ---\n",
      "Starting forward run...\n",
      "Starting adjoint run...\n",
      "Calculating gradient...\n",
      "Current beta: 2\n",
      "Current FOM: 0.014627389496993317\n",
      "Binary degree : 0.6318398954981436 \n"
     ]
    },
    {
     "data": {
      "image/png": "[encoded data removed]",
      "text/plain": [
       "<Figure size 300x200 with 1 Axes>"
      ]
     },
     "metadata": {},
     "output_type": "display_data"
    },
    {
     "name": "stdout",
     "output_type": "stream",
     "text": [
      "\n",
      "--- Iter 55 ---\n",
      "Starting forward run...\n",
      "Starting adjoint run...\n",
      "Calculating gradient...\n",
      "Current beta: 2\n",
      "Current FOM: 0.015228990707881007\n",
      "Binary degree : 0.6339258231945446 \n"
     ]
    },
    {
     "data": {
      "image/png": "[encoded data removed]",
      "text/plain": [
       "<Figure size 300x200 with 1 Axes>"
      ]
     },
     "metadata": {},
     "output_type": "display_data"
    },
    {
     "name": "stdout",
     "output_type": "stream",
     "text": [
      "\n",
      "--- Iter 56 ---\n",
      "Starting forward run...\n",
      "Starting adjoint run...\n",
      "Calculating gradient...\n",
      "Current beta: 2\n",
      "Current FOM: 0.013211702176311763\n",
      "Binary degree : 0.635585429104395 \n"
     ]
    },
    {
     "data": {
      "image/png": "[encoded data removed]",
      "text/plain": [
       "<Figure size 300x200 with 1 Axes>"
      ]
     },
     "metadata": {},
     "output_type": "display_data"
    },
    {
     "name": "stdout",
     "output_type": "stream",
     "text": [
      "\n",
      "--- Iter 57 ---\n",
      "Starting forward run...\n",
      "Starting adjoint run...\n",
      "Calculating gradient...\n",
      "Current beta: 2\n",
      "Current FOM: 0.014760735411062658\n",
      "Binary degree : 0.637441878527742 \n"
     ]
    },
    {
     "data": {
      "image/png": "[encoded data removed]",
      "text/plain": [
       "<Figure size 300x200 with 1 Axes>"
      ]
     },
     "metadata": {},
     "output_type": "display_data"
    },
    {
     "name": "stdout",
     "output_type": "stream",
     "text": [
      "\n",
      "--- Iter 58 ---\n",
      "Starting forward run...\n",
      "Starting adjoint run...\n",
      "Calculating gradient...\n",
      "Current beta: 2\n",
      "Current FOM: 0.015546928885597078\n",
      "Binary degree : 0.6391266116100444 \n"
     ]
    },
    {
     "data": {
      "image/png": "[encoded data removed]",
      "text/plain": [
       "<Figure size 300x200 with 1 Axes>"
      ]
     },
     "metadata": {},
     "output_type": "display_data"
    },
    {
     "name": "stdout",
     "output_type": "stream",
     "text": [
      "\n",
      "--- Iter 59 ---\n",
      "Starting forward run...\n",
      "Starting adjoint run...\n",
      "Calculating gradient...\n",
      "Current beta: 2\n",
      "Current FOM: 0.015912472448926452\n",
      "Binary degree : 0.6402051768742337 \n"
     ]
    },
    {
     "data": {
      "image/png": "[encoded data removed]",
      "text/plain": [
       "<Figure size 300x200 with 1 Axes>"
      ]
     },
     "metadata": {},
     "output_type": "display_data"
    },
    {
     "name": "stdout",
     "output_type": "stream",
     "text": [
      "\n",
      "--- Iter 60 ---\n",
      "Starting forward run...\n",
      "Starting adjoint run...\n",
      "Calculating gradient...\n",
      "Current beta: 2\n",
      "Current FOM: 0.014233432359182707\n",
      "Binary degree : 0.6409761320440072 \n"
     ]
    },
    {
     "data": {
      "image/png": "[encoded data removed]",
      "text/plain": [
       "<Figure size 300x200 with 1 Axes>"
      ]
     },
     "metadata": {},
     "output_type": "display_data"
    },
    {
     "name": "stdout",
     "output_type": "stream",
     "text": [
      "\n",
      "--- Iter 61 ---\n",
      "Starting forward run...\n",
      "Starting adjoint run...\n",
      "Calculating gradient...\n",
      "Current beta: 2\n",
      "Current FOM: 0.01570667941378264\n",
      "Binary degree : 0.6424927655218801 \n"
     ]
    },
    {
     "data": {
      "image/png": "[encoded data removed]",
      "text/plain": [
       "<Figure size 300x200 with 1 Axes>"
      ]
     },
     "metadata": {},
     "output_type": "display_data"
    },
    {
     "name": "stdout",
     "output_type": "stream",
     "text": [
      "\n",
      "--- Iter 62 ---\n",
      "Starting forward run...\n",
      "Starting adjoint run...\n",
      "Calculating gradient...\n",
      "Current beta: 2\n",
      "Current FOM: 0.016270757036977564\n",
      "Binary degree : 0.6439867303478454 \n"
     ]
    },
    {
     "data": {
      "image/png": "[encoded data removed]",
      "text/plain": [
       "<Figure size 300x200 with 1 Axes>"
      ]
     },
     "metadata": {},
     "output_type": "display_data"
    },
    {
     "name": "stdout",
     "output_type": "stream",
     "text": [
      "\n",
      "--- Iter 63 ---\n",
      "Starting forward run...\n",
      "Starting adjoint run...\n",
      "Calculating gradient...\n",
      "Current beta: 2\n",
      "Current FOM: 0.01642269684173542\n",
      "Binary degree : 0.6443057012524498 \n"
     ]
    },
    {
     "data": {
      "image/png": "[encoded data removed]",
      "text/plain": [
       "<Figure size 300x200 with 1 Axes>"
      ]
     },
     "metadata": {},
     "output_type": "display_data"
    },
    {
     "name": "stdout",
     "output_type": "stream",
     "text": [
      "\n",
      "--- Iter 64 ---\n",
      "Starting forward run...\n",
      "Starting adjoint run...\n",
      "Calculating gradient...\n",
      "Current beta: 2\n",
      "Current FOM: 0.01510410982919337\n",
      "Binary degree : 0.6444066978094966 \n"
     ]
    },
    {
     "data": {
      "image/png": "[encoded data removed]",
      "text/plain": [
       "<Figure size 300x200 with 1 Axes>"
      ]
     },
     "metadata": {},
     "output_type": "display_data"
    },
    {
     "name": "stdout",
     "output_type": "stream",
     "text": [
      "\n",
      "--- Iter 65 ---\n",
      "Starting forward run...\n",
      "Starting adjoint run...\n",
      "Calculating gradient...\n",
      "Current beta: 2\n",
      "Current FOM: 0.016482437951786406\n",
      "Binary degree : 0.6451781416655088 \n"
     ]
    },
    {
     "data": {
      "image/png": "[encoded data removed]",
      "text/plain": [
       "<Figure size 300x200 with 1 Axes>"
      ]
     },
     "metadata": {},
     "output_type": "display_data"
    },
    {
     "name": "stdout",
     "output_type": "stream",
     "text": [
      "\n",
      "--- Iter 66 ---\n",
      "Starting forward run...\n",
      "Starting adjoint run...\n",
      "Calculating gradient...\n",
      "Current beta: 2\n",
      "Current FOM: 0.01690547990930849\n",
      "Binary degree : 0.6459039713882442 \n"
     ]
    },
    {
     "data": {
      "image/png": "[encoded data removed]",
      "text/plain": [
       "<Figure size 300x200 with 1 Axes>"
      ]
     },
     "metadata": {},
     "output_type": "display_data"
    },
    {
     "name": "stdout",
     "output_type": "stream",
     "text": [
      "\n",
      "--- Iter 67 ---\n",
      "Starting forward run...\n",
      "Starting adjoint run...\n",
      "Calculating gradient...\n",
      "Current beta: 2\n",
      "Current FOM: 0.01683530723140567\n",
      "Binary degree : 0.6456707116308222 \n"
     ]
    },
    {
     "data": {
      "image/png": "[encoded data removed]",
      "text/plain": [
       "<Figure size 300x200 with 1 Axes>"
      ]
     },
     "metadata": {},
     "output_type": "display_data"
    },
    {
     "name": "stdout",
     "output_type": "stream",
     "text": [
      "\n",
      "--- Iter 68 ---\n",
      "Starting forward run...\n",
      "Starting adjoint run...\n",
      "Calculating gradient...\n",
      "Current beta: 2\n",
      "Current FOM: 0.015888334544006885\n",
      "Binary degree : 0.6455485792601817 \n"
     ]
    },
    {
     "data": {
      "image/png": "[encoded data removed]",
      "text/plain": [
       "<Figure size 300x200 with 1 Axes>"
      ]
     },
     "metadata": {},
     "output_type": "display_data"
    },
    {
     "name": "stdout",
     "output_type": "stream",
     "text": [
      "\n",
      "--- Iter 69 ---\n",
      "Starting forward run...\n",
      "Starting adjoint run...\n",
      "Calculating gradient...\n",
      "Current beta: 2\n",
      "Current FOM: 0.01719796135049192\n",
      "Binary degree : 0.6463735061857473 \n"
     ]
    },
    {
     "data": {
      "image/png": "[encoded data removed]",
      "text/plain": [
       "<Figure size 300x200 with 1 Axes>"
      ]
     },
     "metadata": {},
     "output_type": "display_data"
    },
    {
     "name": "stdout",
     "output_type": "stream",
     "text": [
      "\n",
      "--- Iter 70 ---\n",
      "Starting forward run...\n",
      "Starting adjoint run...\n",
      "Calculating gradient...\n",
      "Current beta: 2\n",
      "Current FOM: 0.017523228756399258\n",
      "Binary degree : 0.6469624530212883 \n"
     ]
    },
    {
     "data": {
      "image/png": "[encoded data removed]",
      "text/plain": [
       "<Figure size 300x200 with 1 Axes>"
      ]
     },
     "metadata": {},
     "output_type": "display_data"
    },
    {
     "name": "stdout",
     "output_type": "stream",
     "text": [
      "\n",
      "--- Iter 71 ---\n",
      "Starting forward run...\n",
      "Starting adjoint run...\n",
      "Calculating gradient...\n",
      "Current beta: 2\n",
      "Current FOM: 0.017186023337903863\n",
      "Binary degree : 0.6463370912484913 \n"
     ]
    },
    {
     "data": {
      "image/png": "[encoded data removed]",
      "text/plain": [
       "<Figure size 300x200 with 1 Axes>"
      ]
     },
     "metadata": {},
     "output_type": "display_data"
    },
    {
     "name": "stdout",
     "output_type": "stream",
     "text": [
      "\n",
      "--- Iter 72 ---\n",
      "Starting forward run...\n",
      "Starting adjoint run...\n",
      "Calculating gradient...\n",
      "Current beta: 2\n",
      "Current FOM: 0.016811709049314\n",
      "Binary degree : 0.646053237211031 \n"
     ]
    },
    {
     "data": {
      "image/png": "[encoded data removed]",
      "text/plain": [
       "<Figure size 300x200 with 1 Axes>"
      ]
     },
     "metadata": {},
     "output_type": "display_data"
    },
    {
     "name": "stdout",
     "output_type": "stream",
     "text": [
      "\n",
      "--- Iter 73 ---\n",
      "Starting forward run...\n",
      "Starting adjoint run...\n",
      "Calculating gradient...\n",
      "Current beta: 2\n",
      "Current FOM: 0.017950922622057778\n",
      "Binary degree : 0.6465260395123273 \n"
     ]
    },
    {
     "data": {
      "image/png": "[encoded data removed]",
      "text/plain": [
       "<Figure size 300x200 with 1 Axes>"
      ]
     },
     "metadata": {},
     "output_type": "display_data"
    },
    {
     "name": "stdout",
     "output_type": "stream",
     "text": [
      "\n",
      "--- Iter 74 ---\n",
      "Starting forward run...\n",
      "Starting adjoint run...\n",
      "Calculating gradient...\n",
      "Current beta: 2\n",
      "Current FOM: 0.01812653186712451\n",
      "Binary degree : 0.646341540011178 \n"
     ]
    },
    {
     "data": {
      "image/png": "[encoded data removed]",
      "text/plain": [
       "<Figure size 300x200 with 1 Axes>"
      ]
     },
     "metadata": {},
     "output_type": "display_data"
    },
    {
     "name": "stdout",
     "output_type": "stream",
     "text": [
      "\n",
      "--- Iter 75 ---\n",
      "Starting forward run...\n",
      "Starting adjoint run...\n",
      "Calculating gradient...\n",
      "Current beta: 2\n",
      "Current FOM: 0.017453824913139876\n",
      "Binary degree : 0.6453559635251462 \n"
     ]
    },
    {
     "data": {
      "image/png": "[encoded data removed]",
      "text/plain": [
       "<Figure size 300x200 with 1 Axes>"
      ]
     },
     "metadata": {},
     "output_type": "display_data"
    },
    {
     "name": "stdout",
     "output_type": "stream",
     "text": [
      "\n",
      "--- Iter 76 ---\n",
      "Starting forward run...\n",
      "Starting adjoint run...\n",
      "Calculating gradient...\n",
      "Current beta: 2\n",
      "Current FOM: 0.017915615732525494\n",
      "Binary degree : 0.6450455326049336 \n"
     ]
    },
    {
     "data": {
      "image/png": "[encoded data removed]",
      "text/plain": [
       "<Figure size 300x200 with 1 Axes>"
      ]
     },
     "metadata": {},
     "output_type": "display_data"
    },
    {
     "name": "stdout",
     "output_type": "stream",
     "text": [
      "\n",
      "--- Iter 77 ---\n",
      "Starting forward run...\n",
      "Starting adjoint run...\n",
      "Calculating gradient...\n",
      "Current beta: 2\n",
      "Current FOM: 0.018549653406418953\n",
      "Binary degree : 0.6449096081088702 \n"
     ]
    },
    {
     "data": {
      "image/png": "[encoded data removed]",
      "text/plain": [
       "<Figure size 300x200 with 1 Axes>"
      ]
     },
     "metadata": {},
     "output_type": "display_data"
    },
    {
     "name": "stdout",
     "output_type": "stream",
     "text": [
      "\n",
      "--- Iter 78 ---\n",
      "Starting forward run...\n",
      "Starting adjoint run...\n",
      "Calculating gradient...\n",
      "Current beta: 2\n",
      "Current FOM: 0.01842928381313991\n",
      "Binary degree : 0.6438913356308169 \n"
     ]
    },
    {
     "data": {
      "image/png": "[encoded data removed]",
      "text/plain": [
       "<Figure size 300x200 with 1 Axes>"
      ]
     },
     "metadata": {},
     "output_type": "display_data"
    },
    {
     "name": "stdout",
     "output_type": "stream",
     "text": [
      "\n",
      "--- Iter 79 ---\n",
      "Starting forward run...\n",
      "Starting adjoint run...\n",
      "Calculating gradient...\n",
      "Current beta: 2\n",
      "Current FOM: 0.018050952012347535\n",
      "Binary degree : 0.6428714542696095 \n"
     ]
    },
    {
     "data": {
      "image/png": "[encoded data removed]",
      "text/plain": [
       "<Figure size 300x200 with 1 Axes>"
      ]
     },
     "metadata": {},
     "output_type": "display_data"
    },
    {
     "name": "stdout",
     "output_type": "stream",
     "text": [
      "\n",
      "--- Iter 80 ---\n",
      "Starting forward run...\n",
      "Starting adjoint run...\n",
      "Calculating gradient...\n",
      "Current beta: 2\n",
      "Current FOM: 0.01887325149028849\n",
      "Binary degree : 0.6425043293675156 \n"
     ]
    },
    {
     "data": {
      "image/png": "[encoded data removed]",
      "text/plain": [
       "<Figure size 300x200 with 1 Axes>"
      ]
     },
     "metadata": {},
     "output_type": "display_data"
    },
    {
     "name": "stdout",
     "output_type": "stream",
     "text": [
      "\n",
      "--- Iter 81 ---\n",
      "Starting forward run...\n",
      "Starting adjoint run...\n",
      "Calculating gradient...\n",
      "Current beta: 2\n",
      "Current FOM: 0.01904344083785253\n",
      "Binary degree : 0.6417067676699506 \n"
     ]
    },
    {
     "data": {
      "image/png": "[encoded data removed]",
      "text/plain": [
       "<Figure size 300x200 with 1 Axes>"
      ]
     },
     "metadata": {},
     "output_type": "display_data"
    },
    {
     "name": "stdout",
     "output_type": "stream",
     "text": [
      "\n",
      "--- Iter 82 ---\n",
      "Starting forward run...\n",
      "Starting adjoint run...\n",
      "Calculating gradient...\n",
      "Current beta: 2\n",
      "Current FOM: 0.018550022265015946\n",
      "Binary degree : 0.6404887439861046 \n"
     ]
    },
    {
     "data": {
      "image/png": "[encoded data removed]",
      "text/plain": [
       "<Figure size 300x200 with 1 Axes>"
      ]
     },
     "metadata": {},
     "output_type": "display_data"
    },
    {
     "name": "stdout",
     "output_type": "stream",
     "text": [
      "\n",
      "--- Iter 83 ---\n",
      "Starting forward run...\n",
      "Starting adjoint run...\n",
      "Calculating gradient...\n",
      "Current beta: 2\n",
      "Current FOM: 0.019135145219774365\n",
      "Binary degree : 0.6404529347398125 \n"
     ]
    },
    {
     "data": {
      "image/png": "[encoded data removed]",
      "text/plain": [
       "<Figure size 300x200 with 1 Axes>"
      ]
     },
     "metadata": {},
     "output_type": "display_data"
    },
    {
     "name": "stdout",
     "output_type": "stream",
     "text": [
      "\n",
      "--- Iter 84 ---\n",
      "Starting forward run...\n",
      "Starting adjoint run...\n",
      "Calculating gradient...\n",
      "Current beta: 2\n",
      "Current FOM: 0.019487205107786378\n",
      "Binary degree : 0.6407432483575761 \n"
     ]
    },
    {
     "data": {
      "image/png": "[encoded data removed]",
      "text/plain": [
       "<Figure size 300x200 with 1 Axes>"
      ]
     },
     "metadata": {},
     "output_type": "display_data"
    },
    {
     "name": "stdout",
     "output_type": "stream",
     "text": [
      "\n",
      "--- Iter 85 ---\n",
      "Starting forward run...\n",
      "Starting adjoint run...\n",
      "Calculating gradient...\n",
      "Current beta: 2\n",
      "Current FOM: 0.019052999126050598\n",
      "Binary degree : 0.640339181629729 \n"
     ]
    },
    {
     "data": {
      "image/png": "[encoded data removed]",
      "text/plain": [
       "<Figure size 300x200 with 1 Axes>"
      ]
     },
     "metadata": {},
     "output_type": "display_data"
    },
    {
     "name": "stdout",
     "output_type": "stream",
     "text": [
      "\n",
      "--- Iter 86 ---\n",
      "Starting forward run...\n",
      "Starting adjoint run...\n",
      "Calculating gradient...\n",
      "Current beta: 2\n",
      "Current FOM: 0.019458747093283595\n",
      "Binary degree : 0.64062395772517 \n"
     ]
    },
    {
     "data": {
      "image/png": "[encoded data removed]",
      "text/plain": [
       "<Figure size 300x200 with 1 Axes>"
      ]
     },
     "metadata": {},
     "output_type": "display_data"
    },
    {
     "name": "stdout",
     "output_type": "stream",
     "text": [
      "\n",
      "--- Iter 87 ---\n",
      "Starting forward run...\n",
      "Starting adjoint run...\n",
      "Calculating gradient...\n",
      "Current beta: 2\n",
      "Current FOM: 0.019878470628970038\n",
      "Binary degree : 0.6414728414710882 \n"
     ]
    },
    {
     "data": {
      "image/png": "[encoded data removed]",
      "text/plain": [
       "<Figure size 300x200 with 1 Axes>"
      ]
     },
     "metadata": {},
     "output_type": "display_data"
    },
    {
     "name": "stdout",
     "output_type": "stream",
     "text": [
      "\n",
      "--- Iter 88 ---\n",
      "Starting forward run...\n",
      "Starting adjoint run...\n",
      "Calculating gradient...\n",
      "Current beta: 2\n",
      "Current FOM: 0.01945288241439203\n",
      "Binary degree : 0.6419663893172632 \n"
     ]
    },
    {
     "data": {
      "image/png": "[encoded data removed]",
      "text/plain": [
       "<Figure size 300x200 with 1 Axes>"
      ]
     },
     "metadata": {},
     "output_type": "display_data"
    },
    {
     "name": "stdout",
     "output_type": "stream",
     "text": [
      "\n",
      "--- Iter 89 ---\n",
      "Starting forward run...\n",
      "Starting adjoint run...\n",
      "Calculating gradient...\n",
      "Current beta: 2\n",
      "Current FOM: 0.01989025351597414\n",
      "Binary degree : 0.6429985293325793 \n"
     ]
    },
    {
     "data": {
      "image/png": "[encoded data removed]",
      "text/plain": [
       "<Figure size 300x200 with 1 Axes>"
      ]
     },
     "metadata": {},
     "output_type": "display_data"
    },
    {
     "name": "stdout",
     "output_type": "stream",
     "text": [
      "\n",
      "--- Iter 90 ---\n",
      "Starting forward run...\n",
      "Starting adjoint run...\n",
      "Calculating gradient...\n",
      "Current beta: 2\n",
      "Current FOM: 0.020258772280009697\n",
      "Binary degree : 0.6440982489479512 \n"
     ]
    },
    {
     "data": {
      "image/png": "[encoded data removed]",
      "text/plain": [
       "<Figure size 300x200 with 1 Axes>"
      ]
     },
     "metadata": {},
     "output_type": "display_data"
    },
    {
     "name": "stdout",
     "output_type": "stream",
     "text": [
      "\n",
      "--- Iter 91 ---\n",
      "Starting forward run...\n",
      "Starting adjoint run...\n",
      "Calculating gradient...\n",
      "Current beta: 2\n",
      "Current FOM: 0.019767163980909903\n",
      "Binary degree : 0.6446410677636214 \n"
     ]
    },
    {
     "data": {
      "image/png": "[encoded data removed]",
      "text/plain": [
       "<Figure size 300x200 with 1 Axes>"
      ]
     },
     "metadata": {},
     "output_type": "display_data"
    },
    {
     "name": "stdout",
     "output_type": "stream",
     "text": [
      "\n",
      "--- Iter 92 ---\n",
      "Starting forward run...\n",
      "Starting adjoint run...\n",
      "Calculating gradient...\n",
      "Current beta: 2\n",
      "Current FOM: 0.02038873387528716\n",
      "Binary degree : 0.6458479024410373 \n"
     ]
    },
    {
     "data": {
      "image/png": "[encoded data removed]",
      "text/plain": [
       "<Figure size 300x200 with 1 Axes>"
      ]
     },
     "metadata": {},
     "output_type": "display_data"
    },
    {
     "name": "stdout",
     "output_type": "stream",
     "text": [
      "\n",
      "--- Iter 93 ---\n",
      "Starting forward run...\n",
      "Starting adjoint run...\n",
      "Calculating gradient...\n",
      "Current beta: 2\n",
      "Current FOM: 0.02061825856692609\n",
      "Binary degree : 0.6469093065180755 \n"
     ]
    },
    {
     "data": {
      "image/png": "[encoded data removed]",
      "text/plain": [
       "<Figure size 300x200 with 1 Axes>"
      ]
     },
     "metadata": {},
     "output_type": "display_data"
    },
    {
     "name": "stdout",
     "output_type": "stream",
     "text": [
      "\n",
      "--- Iter 94 ---\n",
      "Starting forward run...\n",
      "Starting adjoint run...\n",
      "Calculating gradient...\n",
      "Current beta: 2\n",
      "Current FOM: 0.020130788148916657\n",
      "Binary degree : 0.6475418633217993 \n"
     ]
    },
    {
     "data": {
      "image/png": "[encoded data removed]",
      "text/plain": [
       "<Figure size 300x200 with 1 Axes>"
      ]
     },
     "metadata": {},
     "output_type": "display_data"
    },
    {
     "name": "stdout",
     "output_type": "stream",
     "text": [
      "\n",
      "--- Iter 95 ---\n",
      "Starting forward run...\n",
      "Starting adjoint run...\n",
      "Calculating gradient...\n",
      "Current beta: 2\n",
      "Current FOM: 0.020885834070584336\n",
      "Binary degree : 0.649052555097319 \n"
     ]
    },
    {
     "data": {
      "image/png": "[encoded data removed]",
      "text/plain": [
       "<Figure size 300x200 with 1 Axes>"
      ]
     },
     "metadata": {},
     "output_type": "display_data"
    },
    {
     "name": "stdout",
     "output_type": "stream",
     "text": [
      "\n",
      "--- Iter 96 ---\n",
      "Starting forward run...\n",
      "Starting adjoint run...\n",
      "Calculating gradient...\n",
      "Current beta: 2\n",
      "Current FOM: 0.020871500350933565\n",
      "Binary degree : 0.6503057249778297 \n"
     ]
    },
    {
     "data": {
      "image/png": "[encoded data removed]",
      "text/plain": [
       "<Figure size 300x200 with 1 Axes>"
      ]
     },
     "metadata": {},
     "output_type": "display_data"
    },
    {
     "name": "stdout",
     "output_type": "stream",
     "text": [
      "\n",
      "--- Iter 97 ---\n",
      "Starting forward run...\n",
      "Starting adjoint run...\n",
      "Calculating gradient...\n",
      "Current beta: 2\n",
      "Current FOM: 0.02070915844246914\n",
      "Binary degree : 0.6515234865404422 \n"
     ]
    },
    {
     "data": {
      "image/png": "[encoded data removed]",
      "text/plain": [
       "<Figure size 300x200 with 1 Axes>"
      ]
     },
     "metadata": {},
     "output_type": "display_data"
    },
    {
     "name": "stdout",
     "output_type": "stream",
     "text": [
      "\n",
      "--- Iter 98 ---\n",
      "Starting forward run...\n",
      "Starting adjoint run...\n",
      "Calculating gradient...\n",
      "Current beta: 2\n",
      "Current FOM: 0.021303273656392074\n",
      "Binary degree : 0.6534215663880659 \n"
     ]
    },
    {
     "data": {
      "image/png": "[encoded data removed]",
      "text/plain": [
       "<Figure size 300x200 with 1 Axes>"
      ]
     },
     "metadata": {},
     "output_type": "display_data"
    },
    {
     "name": "stdout",
     "output_type": "stream",
     "text": [
      "\n",
      "--- Iter 99 ---\n",
      "Starting forward run...\n",
      "Starting adjoint run...\n",
      "Calculating gradient...\n",
      "Current beta: 2\n",
      "Current FOM: 0.02095490213956453\n",
      "Binary degree : 0.6545345485434132 \n"
     ]
    },
    {
     "data": {
      "image/png": "[encoded data removed]",
      "text/plain": [
       "<Figure size 300x200 with 1 Axes>"
      ]
     },
     "metadata": {},
     "output_type": "display_data"
    },
    {
     "name": "stdout",
     "output_type": "stream",
     "text": [
      "\n",
      "--- Iter 100 ---\n",
      "Starting forward run...\n",
      "Starting adjoint run...\n",
      "Calculating gradient...\n",
      "Current beta: 2\n",
      "Current FOM: 0.021391561889163968\n",
      "Binary degree : 0.6568662548808791 \n"
     ]
    },
    {
     "data": {
      "image/png": "[encoded data removed]",
      "text/plain": [
       "<Figure size 300x200 with 1 Axes>"
      ]
     },
     "metadata": {},
     "output_type": "display_data"
    },
    {
     "name": "stdout",
     "output_type": "stream",
     "text": [
      "\n",
      "--- Iter 101 ---\n",
      "Starting forward run...\n",
      "Starting adjoint run...\n",
      "Calculating gradient...\n",
      "Current beta: 2\n",
      "Current FOM: 0.021586351290257974\n",
      "Binary degree : 0.6593169747815562 \n"
     ]
    },
    {
     "data": {
      "image/png": "[encoded data removed]",
      "text/plain": [
       "<Figure size 300x200 with 1 Axes>"
      ]
     },
     "metadata": {},
     "output_type": "display_data"
    },
    {
     "name": "stdout",
     "output_type": "stream",
     "text": [
      "\n",
      "--- Iter 102 ---\n",
      "Starting forward run...\n",
      "Starting adjoint run...\n",
      "Calculating gradient...\n",
      "Current beta: 2\n",
      "Current FOM: 0.02126982245280708\n",
      "Binary degree : 0.6614767229380869 \n"
     ]
    },
    {
     "data": {
      "image/png": "[encoded data removed]",
      "text/plain": [
       "<Figure size 300x200 with 1 Axes>"
      ]
     },
     "metadata": {},
     "output_type": "display_data"
    },
    {
     "name": "stdout",
     "output_type": "stream",
     "text": [
      "\n",
      "--- Iter 103 ---\n",
      "Starting forward run...\n",
      "Starting adjoint run...\n",
      "Calculating gradient...\n",
      "Current beta: 2\n",
      "Current FOM: 0.021880032538963017\n",
      "Binary degree : 0.6641974307884094 \n"
     ]
    },
    {
     "data": {
      "image/png": "[encoded data removed]",
      "text/plain": [
       "<Figure size 300x200 with 1 Axes>"
      ]
     },
     "metadata": {},
     "output_type": "display_data"
    },
    {
     "name": "stdout",
     "output_type": "stream",
     "text": [
      "\n",
      "--- Iter 104 ---\n",
      "Starting forward run...\n",
      "Starting adjoint run...\n",
      "Calculating gradient...\n",
      "Current beta: 2\n",
      "Current FOM: 0.021653297419100947\n",
      "Binary degree : 0.6665646759596716 \n"
     ]
    },
    {
     "data": {
      "image/png": "[encoded data removed]",
      "text/plain": [
       "<Figure size 300x200 with 1 Axes>"
      ]
     },
     "metadata": {},
     "output_type": "display_data"
    },
    {
     "name": "stdout",
     "output_type": "stream",
     "text": [
      "\n",
      "--- Iter 105 ---\n",
      "Starting forward run...\n",
      "Starting adjoint run...\n",
      "Calculating gradient...\n",
      "Current beta: 2\n",
      "Current FOM: 0.02194179787984411\n",
      "Binary degree : 0.6692503168775623 \n"
     ]
    },
    {
     "data": {
      "image/png": "[encoded data removed]",
      "text/plain": [
       "<Figure size 300x200 with 1 Axes>"
      ]
     },
     "metadata": {},
     "output_type": "display_data"
    },
    {
     "name": "stdout",
     "output_type": "stream",
     "text": [
      "\n",
      "--- Iter 106 ---\n",
      "Starting forward run...\n",
      "Starting adjoint run...\n",
      "Calculating gradient...\n",
      "Current beta: 2\n",
      "Current FOM: 0.02215286976224311\n",
      "Binary degree : 0.6718859432989118 \n"
     ]
    },
    {
     "data": {
      "image/png": "[encoded data removed]",
      "text/plain": [
       "<Figure size 300x200 with 1 Axes>"
      ]
     },
     "metadata": {},
     "output_type": "display_data"
    },
    {
     "name": "stdout",
     "output_type": "stream",
     "text": [
      "\n",
      "--- Iter 107 ---\n",
      "Starting forward run...\n",
      "Starting adjoint run...\n",
      "Calculating gradient...\n",
      "Current beta: 2\n",
      "Current FOM: 0.021908706412688522\n",
      "Binary degree : 0.6742729093422944 \n"
     ]
    },
    {
     "data": {
      "image/png": "[encoded data removed]",
      "text/plain": [
       "<Figure size 300x200 with 1 Axes>"
      ]
     },
     "metadata": {},
     "output_type": "display_data"
    },
    {
     "name": "stdout",
     "output_type": "stream",
     "text": [
      "\n",
      "--- Iter 108 ---\n",
      "Starting forward run...\n",
      "Starting adjoint run...\n",
      "Calculating gradient...\n",
      "Current beta: 2\n",
      "Current FOM: 0.02243709402220417\n",
      "Binary degree : 0.6768652103140522 \n"
     ]
    },
    {
     "data": {
      "image/png": "[encoded data removed]",
      "text/plain": [
       "<Figure size 300x200 with 1 Axes>"
      ]
     },
     "metadata": {},
     "output_type": "display_data"
    },
    {
     "name": "stdout",
     "output_type": "stream",
     "text": [
      "\n",
      "--- Iter 109 ---\n",
      "Starting forward run...\n",
      "Starting adjoint run...\n",
      "Calculating gradient...\n",
      "Current beta: 2\n",
      "Current FOM: 0.02216129802054642\n",
      "Binary degree : 0.6791696694079955 \n"
     ]
    },
    {
     "data": {
      "image/png": "[encoded data removed]",
      "text/plain": [
       "<Figure size 300x200 with 1 Axes>"
      ]
     },
     "metadata": {},
     "output_type": "display_data"
    },
    {
     "name": "stdout",
     "output_type": "stream",
     "text": [
      "\n",
      "--- Iter 110 ---\n",
      "Starting forward run...\n",
      "Starting adjoint run...\n",
      "Calculating gradient...\n",
      "Current beta: 2\n",
      "Current FOM: 0.022559040910753083\n",
      "Binary degree : 0.6816862001493958 \n"
     ]
    },
    {
     "data": {
      "image/png": "[encoded data removed]",
      "text/plain": [
       "<Figure size 300x200 with 1 Axes>"
      ]
     },
     "metadata": {},
     "output_type": "display_data"
    },
    {
     "name": "stdout",
     "output_type": "stream",
     "text": [
      "\n",
      "--- Iter 111 ---\n",
      "Starting forward run...\n",
      "Starting adjoint run...\n",
      "Calculating gradient...\n",
      "Current beta: 2\n",
      "Current FOM: 0.02258457679881712\n",
      "Binary degree : 0.684069924916815 \n"
     ]
    },
    {
     "data": {
      "image/png": "[encoded data removed]",
      "text/plain": [
       "<Figure size 300x200 with 1 Axes>"
      ]
     },
     "metadata": {},
     "output_type": "display_data"
    },
    {
     "name": "stdout",
     "output_type": "stream",
     "text": [
      "\n",
      "--- Iter 112 ---\n",
      "Starting forward run...\n",
      "Starting adjoint run...\n",
      "Calculating gradient...\n",
      "Current beta: 2\n",
      "Current FOM: 0.0225609241529906\n",
      "Binary degree : 0.6864089896135769 \n"
     ]
    },
    {
     "data": {
      "image/png": "[encoded data removed]",
      "text/plain": [
       "<Figure size 300x200 with 1 Axes>"
      ]
     },
     "metadata": {},
     "output_type": "display_data"
    },
    {
     "name": "stdout",
     "output_type": "stream",
     "text": [
      "\n",
      "--- Iter 113 ---\n",
      "Starting forward run...\n",
      "Starting adjoint run...\n",
      "Calculating gradient...\n",
      "Current beta: 2.0749943755062037\n",
      "Current FOM: 0.022894614102226853\n",
      "Binary degree : 0.6888227158286675 \n"
     ]
    },
    {
     "data": {
      "image/png": "[encoded data removed]",
      "text/plain": [
       "<Figure size 300x200 with 1 Axes>"
      ]
     },
     "metadata": {},
     "output_type": "display_data"
    },
    {
     "name": "stdout",
     "output_type": "stream",
     "text": [
      "\n",
      "--- Iter 114 ---\n",
      "Starting forward run...\n",
      "Starting adjoint run...\n",
      "Calculating gradient...\n",
      "Current beta: 2.0749943755062037\n",
      "Current FOM: 0.02292270644418622\n",
      "Binary degree : 0.6940606399827954 \n"
     ]
    },
    {
     "data": {
      "image/png": "[encoded data removed]",
      "text/plain": [
       "<Figure size 300x200 with 1 Axes>"
      ]
     },
     "metadata": {},
     "output_type": "display_data"
    },
    {
     "name": "stdout",
     "output_type": "stream",
     "text": [
      "\n",
      "--- Iter 115 ---\n",
      "Starting forward run...\n",
      "Starting adjoint run...\n",
      "Calculating gradient...\n",
      "Current beta: 2.0749943755062037\n",
      "Current FOM: 0.022825517953243397\n",
      "Binary degree : 0.6959092466854291 \n"
     ]
    },
    {
     "data": {
      "image/png": "[encoded data removed]",
      "text/plain": [
       "<Figure size 300x200 with 1 Axes>"
      ]
     },
     "metadata": {},
     "output_type": "display_data"
    },
    {
     "name": "stdout",
     "output_type": "stream",
     "text": [
      "\n",
      "--- Iter 116 ---\n",
      "Starting forward run...\n",
      "Starting adjoint run...\n",
      "Calculating gradient...\n",
      "Current beta: 2.153737583356691\n",
      "Current FOM: 0.023394045546602554\n",
      "Binary degree : 0.6977492281864093 \n"
     ]
    },
    {
     "data": {
      "image/png": "[encoded data removed]",
      "text/plain": [
       "<Figure size 300x200 with 1 Axes>"
      ]
     },
     "metadata": {},
     "output_type": "display_data"
    },
    {
     "name": "stdout",
     "output_type": "stream",
     "text": [
      "\n",
      "--- Iter 117 ---\n",
      "Starting forward run...\n",
      "Starting adjoint run...\n",
      "Calculating gradient...\n",
      "Current beta: 2.153737583356691\n",
      "Current FOM: 0.022598063303278005\n",
      "Binary degree : 0.7022874555970716 \n"
     ]
    },
    {
     "data": {
      "image/png": "[encoded data removed]",
      "text/plain": [
       "<Figure size 300x200 with 1 Axes>"
      ]
     },
     "metadata": {},
     "output_type": "display_data"
    },
    {
     "name": "stdout",
     "output_type": "stream",
     "text": [
      "\n",
      "--- Iter 118 ---\n",
      "Starting forward run...\n",
      "Starting adjoint run...\n",
      "Calculating gradient...\n",
      "Current beta: 2.153737583356691\n",
      "Current FOM: 0.023653196686006375\n",
      "Binary degree : 0.7039792139184311 \n"
     ]
    },
    {
     "data": {
      "image/png": "[encoded data removed]",
      "text/plain": [
       "<Figure size 300x200 with 1 Axes>"
      ]
     },
     "metadata": {},
     "output_type": "display_data"
    },
    {
     "name": "stdout",
     "output_type": "stream",
     "text": [
      "\n",
      "--- Iter 119 ---\n",
      "Starting forward run...\n",
      "Starting adjoint run...\n",
      "Calculating gradient...\n",
      "Current beta: 2.153737583356691\n",
      "Current FOM: 0.023112360627552685\n",
      "Binary degree : 0.7050268406519887 \n"
     ]
    },
    {
     "data": {
      "image/png": "[encoded data removed]",
      "text/plain": [
       "<Figure size 300x200 with 1 Axes>"
      ]
     },
     "metadata": {},
     "output_type": "display_data"
    },
    {
     "name": "stdout",
     "output_type": "stream",
     "text": [
      "\n",
      "--- Iter 120 ---\n",
      "Starting forward run...\n",
      "Starting adjoint run...\n",
      "Calculating gradient...\n",
      "Current beta: 2.153737583356691\n",
      "Current FOM: 0.02367059159151898\n",
      "Binary degree : 0.7064214775835773 \n"
     ]
    },
    {
     "data": {
      "image/png": "[encoded data removed]",
      "text/plain": [
       "<Figure size 300x200 with 1 Axes>"
      ]
     },
     "metadata": {},
     "output_type": "display_data"
    },
    {
     "name": "stdout",
     "output_type": "stream",
     "text": [
      "\n",
      "--- Iter 121 ---\n",
      "Starting forward run...\n",
      "Starting adjoint run...\n",
      "Calculating gradient...\n",
      "Current beta: 2.153737583356691\n",
      "Current FOM: 0.023426974852515266\n",
      "Binary degree : 0.7074982749465764 \n"
     ]
    },
    {
     "data": {
      "image/png": "[encoded data removed]",
      "text/plain": [
       "<Figure size 300x200 with 1 Axes>"
      ]
     },
     "metadata": {},
     "output_type": "display_data"
    },
    {
     "name": "stdout",
     "output_type": "stream",
     "text": [
      "\n",
      "--- Iter 122 ---\n",
      "Starting forward run...\n",
      "Starting adjoint run...\n",
      "Calculating gradient...\n",
      "Current beta: 2.153737583356691\n",
      "Current FOM: 0.02359842090403758\n",
      "Binary degree : 0.708770298736322 \n"
     ]
    },
    {
     "data": {
      "image/png": "[encoded data removed]",
      "text/plain": [
       "<Figure size 300x200 with 1 Axes>"
      ]
     },
     "metadata": {},
     "output_type": "display_data"
    },
    {
     "name": "stdout",
     "output_type": "stream",
     "text": [
      "\n",
      "--- Iter 123 ---\n",
      "Starting forward run...\n",
      "Starting adjoint run...\n",
      "Calculating gradient...\n",
      "Current beta: 2.153737583356691\n",
      "Current FOM: 0.02366438211439011\n",
      "Binary degree : 0.7099996736210004 \n"
     ]
    },
    {
     "data": {
      "image/png": "[encoded data removed]",
      "text/plain": [
       "<Figure size 300x200 with 1 Axes>"
      ]
     },
     "metadata": {},
     "output_type": "display_data"
    },
    {
     "name": "stdout",
     "output_type": "stream",
     "text": [
      "\n",
      "--- Iter 124 ---\n",
      "Starting forward run...\n",
      "Starting adjoint run...\n",
      "Calculating gradient...\n",
      "Current beta: 2.153737583356691\n",
      "Current FOM: 0.023577964428397515\n",
      "Binary degree : 0.7111446215634218 \n"
     ]
    },
    {
     "data": {
      "image/png": "[encoded data removed]",
      "text/plain": [
       "<Figure size 300x200 with 1 Axes>"
      ]
     },
     "metadata": {},
     "output_type": "display_data"
    },
    {
     "name": "stdout",
     "output_type": "stream",
     "text": [
      "\n",
      "--- Iter 125 ---\n",
      "Starting forward run...\n",
      "Starting adjoint run...\n",
      "Calculating gradient...\n",
      "Current beta: 2.236416925480842\n",
      "Current FOM: 0.023930701841598633\n",
      "Binary degree : 0.7123805630820584 \n"
     ]
    },
    {
     "data": {
      "image/png": "[encoded data removed]",
      "text/plain": [
       "<Figure size 300x200 with 1 Axes>"
      ]
     },
     "metadata": {},
     "output_type": "display_data"
    },
    {
     "name": "stdout",
     "output_type": "stream",
     "text": [
      "\n",
      "--- Iter 126 ---\n",
      "Starting forward run...\n",
      "Starting adjoint run...\n",
      "Calculating gradient...\n",
      "Current beta: 2.236416925480842\n",
      "Current FOM: 0.02383796259484715\n",
      "Binary degree : 0.7166803358444512 \n"
     ]
    },
    {
     "data": {
      "image/png": "[encoded data removed]",
      "text/plain": [
       "<Figure size 300x200 with 1 Axes>"
      ]
     },
     "metadata": {},
     "output_type": "display_data"
    },
    {
     "name": "stdout",
     "output_type": "stream",
     "text": [
      "\n",
      "--- Iter 127 ---\n",
      "Starting forward run...\n",
      "Starting adjoint run...\n",
      "Calculating gradient...\n",
      "Current beta: 2.236416925480842\n",
      "Current FOM: 0.024149332577653233\n",
      "Binary degree : 0.7175113719036468 \n"
     ]
    },
    {
     "data": {
      "image/png": "[encoded data removed]",
      "text/plain": [
       "<Figure size 300x200 with 1 Axes>"
      ]
     },
     "metadata": {},
     "output_type": "display_data"
    },
    {
     "name": "stdout",
     "output_type": "stream",
     "text": [
      "\n",
      "--- Iter 128 ---\n",
      "Starting forward run...\n",
      "Starting adjoint run...\n",
      "Calculating gradient...\n",
      "Current beta: 2.236416925480842\n",
      "Current FOM: 0.024156786864491266\n",
      "Binary degree : 0.718041499572797 \n"
     ]
    },
    {
     "data": {
      "image/png": "[encoded data removed]",
      "text/plain": [
       "<Figure size 300x200 with 1 Axes>"
      ]
     },
     "metadata": {},
     "output_type": "display_data"
    },
    {
     "name": "stdout",
     "output_type": "stream",
     "text": [
      "\n",
      "--- Iter 129 ---\n",
      "Starting forward run...\n",
      "Starting adjoint run...\n",
      "Calculating gradient...\n",
      "Current beta: 2.236416925480842\n",
      "Current FOM: 0.024121846330888062\n",
      "Binary degree : 0.7184860147769528 \n"
     ]
    },
    {
     "data": {
      "image/png": "[encoded data removed]",
      "text/plain": [
       "<Figure size 300x200 with 1 Axes>"
      ]
     },
     "metadata": {},
     "output_type": "display_data"
    },
    {
     "name": "stdout",
     "output_type": "stream",
     "text": [
      "\n",
      "--- Iter 130 ---\n",
      "Starting forward run...\n",
      "Starting adjoint run...\n",
      "Calculating gradient...\n",
      "Current beta: 2.323229046896115\n",
      "Current FOM: 0.02438446032662954\n",
      "Binary degree : 0.7190100242984967 \n"
     ]
    },
    {
     "data": {
      "image/png": "[encoded data removed]",
      "text/plain": [
       "<Figure size 300x200 with 1 Axes>"
      ]
     },
     "metadata": {},
     "output_type": "display_data"
    },
    {
     "name": "stdout",
     "output_type": "stream",
     "text": [
      "\n",
      "--- Iter 131 ---\n",
      "Starting forward run...\n",
      "Starting adjoint run...\n",
      "Calculating gradient...\n",
      "Current beta: 2.323229046896115\n",
      "Current FOM: 0.02414613353985204\n",
      "Binary degree : 0.7227540920655813 \n"
     ]
    },
    {
     "data": {
      "image/png": "[encoded data removed]",
      "text/plain": [
       "<Figure size 300x200 with 1 Axes>"
      ]
     },
     "metadata": {},
     "output_type": "display_data"
    },
    {
     "name": "stdout",
     "output_type": "stream",
     "text": [
      "\n",
      "--- Iter 132 ---\n",
      "Starting forward run...\n",
      "Starting adjoint run...\n",
      "Calculating gradient...\n",
      "Current beta: 2.323229046896115\n",
      "Current FOM: 0.024634788452604552\n",
      "Binary degree : 0.723104439554971 \n"
     ]
    },
    {
     "data": {
      "image/png": "[encoded data removed]",
      "text/plain": [
       "<Figure size 300x200 with 1 Axes>"
      ]
     },
     "metadata": {},
     "output_type": "display_data"
    },
    {
     "name": "stdout",
     "output_type": "stream",
     "text": [
      "\n",
      "--- Iter 133 ---\n",
      "Starting forward run...\n",
      "Starting adjoint run...\n",
      "Calculating gradient...\n",
      "Current beta: 2.323229046896115\n",
      "Current FOM: 0.02399995012910009\n",
      "Binary degree : 0.7234483362809361 \n"
     ]
    },
    {
     "data": {
      "image/png": "[encoded data removed]",
      "text/plain": [
       "<Figure size 300x200 with 1 Axes>"
      ]
     },
     "metadata": {},
     "output_type": "display_data"
    },
    {
     "name": "stdout",
     "output_type": "stream",
     "text": [
      "\n",
      "--- Iter 134 ---\n",
      "Starting forward run...\n",
      "Starting adjoint run...\n",
      "Calculating gradient...\n",
      "Current beta: 2.323229046896115\n",
      "Current FOM: 0.02482322789786542\n",
      "Binary degree : 0.723814065142999 \n"
     ]
    },
    {
     "data": {
      "image/png": "[encoded data removed]",
      "text/plain": [
       "<Figure size 300x200 with 1 Axes>"
      ]
     },
     "metadata": {},
     "output_type": "display_data"
    },
    {
     "name": "stdout",
     "output_type": "stream",
     "text": [
      "\n",
      "--- Iter 135 ---\n",
      "Starting forward run...\n",
      "Starting adjoint run...\n",
      "Calculating gradient...\n",
      "Current beta: 2.323229046896115\n",
      "Current FOM: 0.022205829771381178\n",
      "Binary degree : 0.7249645559235802 \n"
     ]
    },
    {
     "data": {
      "image/png": "[encoded data removed]",
      "text/plain": [
       "<Figure size 300x200 with 1 Axes>"
      ]
     },
     "metadata": {},
     "output_type": "display_data"
    },
    {
     "name": "stdout",
     "output_type": "stream",
     "text": [
      "\n",
      "--- Iter 136 ---\n",
      "Starting forward run...\n",
      "Starting adjoint run...\n",
      "Calculating gradient...\n",
      "Current beta: 2.323229046896115\n",
      "Current FOM: 0.024549961483728882\n",
      "Binary degree : 0.7258403148355197 \n"
     ]
    },
    {
     "data": {
      "image/png": "[encoded data removed]",
      "text/plain": [
       "<Figure size 300x200 with 1 Axes>"
      ]
     },
     "metadata": {},
     "output_type": "display_data"
    },
    {
     "name": "stdout",
     "output_type": "stream",
     "text": [
      "\n",
      "--- Iter 137 ---\n",
      "Starting forward run...\n",
      "Starting adjoint run...\n",
      "Calculating gradient...\n",
      "Current beta: 2.323229046896115\n",
      "Current FOM: 0.02279674633521663\n",
      "Binary degree : 0.72794852434693 \n"
     ]
    },
    {
     "data": {
      "image/png": "[encoded data removed]",
      "text/plain": [
       "<Figure size 300x200 with 1 Axes>"
      ]
     },
     "metadata": {},
     "output_type": "display_data"
    },
    {
     "name": "stdout",
     "output_type": "stream",
     "text": [
      "\n",
      "--- Iter 138 ---\n",
      "Starting forward run...\n",
      "Starting adjoint run...\n",
      "Calculating gradient...\n",
      "Current beta: 2.323229046896115\n",
      "Current FOM: 0.02490473294358743\n",
      "Binary degree : 0.7297103296009836 \n"
     ]
    },
    {
     "data": {
      "image/png": "[encoded data removed]",
      "text/plain": [
       "<Figure size 300x200 with 1 Axes>"
      ]
     },
     "metadata": {},
     "output_type": "display_data"
    },
    {
     "name": "stdout",
     "output_type": "stream",
     "text": [
      "\n",
      "--- Iter 139 ---\n",
      "Starting forward run...\n",
      "Starting adjoint run...\n",
      "Calculating gradient...\n",
      "Current beta: 2.323229046896115\n",
      "Current FOM: 0.025108902852783523\n",
      "Binary degree : 0.731500542191414 \n"
     ]
    },
    {
     "data": {
      "image/png": "[encoded data removed]",
      "text/plain": [
       "<Figure size 300x200 with 1 Axes>"
      ]
     },
     "metadata": {},
     "output_type": "display_data"
    },
    {
     "name": "stdout",
     "output_type": "stream",
     "text": [
      "\n",
      "--- Iter 140 ---\n",
      "Starting forward run...\n",
      "Starting adjoint run...\n",
      "Calculating gradient...\n",
      "Current beta: 2.323229046896115\n",
      "Current FOM: 0.022864672674482958\n",
      "Binary degree : 0.7336613460493736 \n"
     ]
    },
    {
     "data": {
      "image/png": "[encoded data removed]",
      "text/plain": [
       "<Figure size 300x200 with 1 Axes>"
      ]
     },
     "metadata": {},
     "output_type": "display_data"
    },
    {
     "name": "stdout",
     "output_type": "stream",
     "text": [
      "\n",
      "--- Iter 141 ---\n",
      "Starting forward run...\n",
      "Starting adjoint run...\n",
      "Calculating gradient...\n",
      "Current beta: 2.323229046896115\n",
      "Current FOM: 0.025202255472210403\n",
      "Binary degree : 0.7352701253672262 \n"
     ]
    },
    {
     "data": {
      "image/png": "[encoded data removed]",
      "text/plain": [
       "<Figure size 300x200 with 1 Axes>"
      ]
     },
     "metadata": {},
     "output_type": "display_data"
    },
    {
     "name": "stdout",
     "output_type": "stream",
     "text": [
      "\n",
      "--- Iter 142 ---\n",
      "Starting forward run...\n",
      "Starting adjoint run...\n",
      "Calculating gradient...\n",
      "Current beta: 2.323229046896115\n",
      "Current FOM: 0.02533058873439406\n",
      "Binary degree : 0.7368647859762639 \n"
     ]
    },
    {
     "data": {
      "image/png": "[encoded data removed]",
      "text/plain": [
       "<Figure size 300x200 with 1 Axes>"
      ]
     },
     "metadata": {},
     "output_type": "display_data"
    },
    {
     "name": "stdout",
     "output_type": "stream",
     "text": [
      "\n",
      "--- Iter 143 ---\n",
      "Starting forward run...\n",
      "Starting adjoint run...\n",
      "Calculating gradient...\n",
      "Current beta: 2.323229046896115\n",
      "Current FOM: 0.023357361636899915\n",
      "Binary degree : 0.7385877944851634 \n"
     ]
    },
    {
     "data": {
      "image/png": "[encoded data removed]",
      "text/plain": [
       "<Figure size 300x200 with 1 Axes>"
      ]
     },
     "metadata": {},
     "output_type": "display_data"
    },
    {
     "name": "stdout",
     "output_type": "stream",
     "text": [
      "\n",
      "--- Iter 144 ---\n",
      "Starting forward run...\n",
      "Starting adjoint run...\n",
      "Calculating gradient...\n",
      "Current beta: 2.323229046896115\n",
      "Current FOM: 0.025244541783310023\n",
      "Binary degree : 0.7397805778748393 \n"
     ]
    },
    {
     "data": {
      "image/png": "[encoded data removed]",
      "text/plain": [
       "<Figure size 300x200 with 1 Axes>"
      ]
     },
     "metadata": {},
     "output_type": "display_data"
    },
    {
     "name": "stdout",
     "output_type": "stream",
     "text": [
      "\n",
      "--- Iter 145 ---\n",
      "Starting forward run...\n",
      "Starting adjoint run...\n",
      "Calculating gradient...\n",
      "Current beta: 2.323229046896115\n",
      "Current FOM: 0.025465824796717752\n",
      "Binary degree : 0.7408524135428873 \n"
     ]
    },
    {
     "data": {
      "image/png": "[encoded data removed]",
      "text/plain": [
       "<Figure size 300x200 with 1 Axes>"
      ]
     },
     "metadata": {},
     "output_type": "display_data"
    },
    {
     "name": "stdout",
     "output_type": "stream",
     "text": [
      "\n",
      "--- Iter 146 ---\n",
      "Starting forward run...\n",
      "Starting adjoint run...\n",
      "Calculating gradient...\n",
      "Current beta: 2.323229046896115\n",
      "Current FOM: 0.023833649270885774\n",
      "Binary degree : 0.742410866246336 \n"
     ]
    },
    {
     "data": {
      "image/png": "[encoded data removed]",
      "text/plain": [
       "<Figure size 300x200 with 1 Axes>"
      ]
     },
     "metadata": {},
     "output_type": "display_data"
    },
    {
     "name": "stdout",
     "output_type": "stream",
     "text": [
      "\n",
      "--- Iter 147 ---\n",
      "Starting forward run...\n",
      "Starting adjoint run...\n",
      "Calculating gradient...\n",
      "Current beta: 2.323229046896115\n",
      "Current FOM: 0.02516689509308416\n",
      "Binary degree : 0.7436380768004117 \n"
     ]
    },
    {
     "data": {
      "image/png": "[encoded data removed]",
      "text/plain": [
       "<Figure size 300x200 with 1 Axes>"
      ]
     },
     "metadata": {},
     "output_type": "display_data"
    },
    {
     "name": "stdout",
     "output_type": "stream",
     "text": [
      "\n",
      "--- Iter 148 ---\n",
      "Starting forward run...\n",
      "Starting adjoint run...\n",
      "Calculating gradient...\n",
      "Current beta: 2.323229046896115\n",
      "Current FOM: 0.02553356874021028\n",
      "Binary degree : 0.7445953782057912 \n"
     ]
    },
    {
     "data": {
      "image/png": "[encoded data removed]",
      "text/plain": [
       "<Figure size 300x200 with 1 Axes>"
      ]
     },
     "metadata": {},
     "output_type": "display_data"
    },
    {
     "name": "stdout",
     "output_type": "stream",
     "text": [
      "\n",
      "--- Iter 149 ---\n",
      "Starting forward run...\n",
      "Starting adjoint run...\n",
      "Calculating gradient...\n",
      "Current beta: 2.323229046896115\n",
      "Current FOM: 0.02435904695500638\n",
      "Binary degree : 0.746353676633281 \n"
     ]
    },
    {
     "data": {
      "image/png": "[encoded data removed]",
      "text/plain": [
       "<Figure size 300x200 with 1 Axes>"
      ]
     },
     "metadata": {},
     "output_type": "display_data"
    },
    {
     "name": "stdout",
     "output_type": "stream",
     "text": [
      "\n",
      "--- Iter 150 ---\n",
      "Starting forward run...\n",
      "Starting adjoint run...\n",
      "Calculating gradient...\n",
      "Current beta: 2.323229046896115\n",
      "Current FOM: 0.02510312041624181\n",
      "Binary degree : 0.7479582837002636 \n"
     ]
    },
    {
     "data": {
      "image/png": "[encoded data removed]",
      "text/plain": [
       "<Figure size 300x200 with 1 Axes>"
      ]
     },
     "metadata": {},
     "output_type": "display_data"
    }
   ],
   "source": [
    "# n = Nx*layer_num\n",
    "# x = np.ones(n) * 0.5\n",
    "\n",
    "n = Nx * layer_num\n",
    "np.random.seed(3)           # (선택) 재현 가능한 결과를 원할 때 시드 고정\n",
    "x = np.random.rand(n)  \n",
    "\n",
    "cur_beta = 2\n",
    "\n",
    "cur_iter             = [0]\n",
    "evaluation_history   = []\n",
    "beta_history         = []\n",
    "binarization_history = []\n",
    "\n",
    "g_histories   = [[] for _ in range(layer_num)]\n",
    "x_histories   = [[] for _ in range(layer_num)]\n",
    "lr_histories  = [[] for _ in range(layer_num)]\n",
    "uf_histories  = [[] for _ in range(layer_num)]\n",
    "t_histories   = [[] for _ in range(layer_num)]\n",
    "\n",
    "optimizers = [AdamOptimizer(lr=0.02, beta1=0.9) for _ in range(layer_num)]\n",
    "\n",
    "def f_multi(v, eta, beta):\n",
    "    print(f\"\\n--- Iter {cur_iter[0]+1} ---\")\n",
    "\n",
    "    rho_full = multi_mapping(v, eta, beta)\n",
    "\n",
    "    bin_deg = np.sum(np.abs(rho_full - 0.5)) / (0.5 * rho_full.size)\n",
    "    binarization_history.append(bin_deg)\n",
    "\n",
    "    size_each = Nx*Ny\n",
    "    rho_list = [rho_full[i*size_each:(i+1)*size_each]\n",
    "                for i in range(layer_num)]\n",
    "\n",
    "    f0, dJ_du = opt(rho_list,\n",
    "                    need_value=True,\n",
    "                    need_gradient=True,\n",
    "                    beta=beta)\n",
    "    \n",
    "    if not isinstance(dJ_du, (list, tuple)):\n",
    "        dJ_du = [dJ_du]\n",
    "\n",
    "    dJ_flat = np.concatenate([np.array(d).flatten() for d in dJ_du])\n",
    "\n",
    "    gradient_full = tensor_jacobian_product(multi_mapping_ad, 0)(\n",
    "        v, eta_i, beta, dJ_flat\n",
    "    )\n",
    "\n",
    "    grad_list = [gradient_full[i*size_each:(i+1)*size_each]\n",
    "                 for i in range(layer_num)]\n",
    "    \n",
    "    vs = v.reshape(layer_num, size_each)\n",
    "    v_new_layers = []\n",
    "    for i in range(layer_num):\n",
    "        vi_new, lr, uf, m, vt, t = optimizers[i].update(vs[i], grad_list[i])\n",
    "        lr_histories[i].append(lr)\n",
    "        uf_histories[i].append(uf)\n",
    "        t_histories[i].append(t)\n",
    "        g_histories[i].append(grad_list[i].copy())\n",
    "        x_histories[i].append(vi_new.copy())\n",
    "        v_new_layers.append(vi_new)\n",
    "\n",
    "    v_new = np.concatenate(v_new_layers)\n",
    "\n",
    "    # beta_new = beta + 5*np.tanh((beta - 0.5)*0.01)\n",
    "\n",
    "    f_val = float(np.real(f0))\n",
    "\n",
    "    beta_new = beta  # 기본값은 그대로\n",
    "    if len(evaluation_history) >= 3:\n",
    "        # 최근 3개 값: [n-3] [n-2] [n-1] (0-based indexing)\n",
    "        f_prev2 = evaluation_history[-3]\n",
    "        f_prev1 = evaluation_history[-2]\n",
    "        f_curr  = evaluation_history[-1]\n",
    "\n",
    "        # 변화율 계산\n",
    "        change1 = abs(f_curr  - f_prev1) / (abs(f_prev1) + 1e-12)\n",
    "        change2 = abs(f_prev1 - f_prev2) / (abs(f_prev2) + 1e-12)\n",
    "\n",
    "        # 둘 다 0.5% 미만이면 β를 1.2배로\n",
    "        if change1 < 0.005 and change2 < 0.005:\n",
    "            beta_new = beta + 5*np.tanh((beta - 0.5)*0.01)\n",
    "\n",
    "    evaluation_history.append(f_val)\n",
    "    beta_history.append(beta_new)\n",
    "    cur_iter[0] += 1\n",
    "\n",
    "    print(\"Current beta: {}\".format(beta_new))\n",
    "    print(\"Current FOM: {}\".format(f0))\n",
    "    print(\"Binary degree : {} \".format(bin_deg))\n",
    "\n",
    "    plt.figure(figsize=(3,2))\n",
    "    ax = plt.gca()\n",
    "    opt.plot2D(\n",
    "        False,\n",
    "        output_plane=mp.Volume(\n",
    "            size=mp.Vector3(design_region_width,region_height_each*layer_num-1/resolution,0),\n",
    "            center=mp.Vector3(0, full_center_y,0)\n",
    "        ),\n",
    "        ax=ax,\n",
    "        show_sources=False,\n",
    "        show_monitors=False,\n",
    "        show_boundary_layers=False,\n",
    "    )\n",
    "    ax.axis(\"off\")\n",
    "    plt.show()\n",
    "\n",
    "    return v_new, beta_new\n",
    "\n",
    "mp.verbosity(0)\n",
    "Max_iter = 150\n",
    "# Main loop (변경 없음)\n",
    "while cur_iter[0] < Max_iter:\n",
    "    x, cur_beta = f_multi(x, eta_i, cur_beta)\n",
    "    if binarization_history[-1] > 0.98:\n",
    "        print(\"Threshold reached → final mapping with β=∞\")\n",
    "        x, _ = f_multi(x, eta_i, np.inf)\n",
    "        break"
   ]
  },
  {
   "cell_type": "code",
   "execution_count": 296,
   "id": "24e5f16c",
   "metadata": {},
   "outputs": [
    {
     "name": "stdout",
     "output_type": "stream",
     "text": [
      "최대 FoM = 0.025534 는 iteration 148 에서 나왔습니다.\n"
     ]
    }
   ],
   "source": [
    "# 1) 배열로 변환\n",
    "eval_hist = np.array(evaluation_history)\n",
    "\n",
    "# 2) 최대값과 그 인덱스 찾기 (0-based)\n",
    "max_val   = eval_hist.max()\n",
    "max_idx0  = eval_hist.argmax()\n",
    "\n",
    "# 3) 사람이 셀 때 보통 1부터 시작하니 +1\n",
    "iteration = max_idx0 + 1\n",
    "\n",
    "print(f\"최대 FoM = {max_val:.6f} 는 iteration {iteration} 에서 나왔습니다.\")"
   ]
  },
  {
   "cell_type": "code",
   "execution_count": null,
   "id": "11d854ee",
   "metadata": {},
   "outputs": [],
   "source": []
  },
  {
   "cell_type": "code",
   "execution_count": 295,
   "id": "25fd6d0b",
   "metadata": {},
   "outputs": [
    {
     "name": "stderr",
     "output_type": "stream",
     "text": [
      "/tmp/ipykernel_914915/3744284663.py:9: UserWarning: No artists with labels found to put in legend.  Note that artists whose label start with an underscore are ignored when legend() is called with no argument.\n",
      "  plt.legend( fontsize = 14)\n"
     ]
    },
    {
     "data": {
      "image/png": "[encoded data removed]",
      "text/plain": [
       "<Figure size 600x600 with 1 Axes>"
      ]
     },
     "metadata": {},
     "output_type": "display_data"
    },
    {
     "data": {
      "image/png": "[encoded data removed]",
      "text/plain": [
       "<Figure size 600x600 with 1 Axes>"
      ]
     },
     "metadata": {},
     "output_type": "display_data"
    },
    {
     "data": {
      "image/png": "[encoded data removed]",
      "text/plain": [
       "<Figure size 600x600 with 1 Axes>"
      ]
     },
     "metadata": {},
     "output_type": "display_data"
    }
   ],
   "source": [
    "################ FOM plot ################ \n",
    "plt.figure(figsize = (6,6))\n",
    "plt.plot(evaluation_history, 'or-')\n",
    "plt.xlabel('Iteration',fontsize = 14)\n",
    "plt.ylabel('FOM',fontsize = 14)\n",
    "plt.xticks(fontsize = 14)\n",
    "plt.yticks(fontsize = 14)\n",
    "plt.tick_params(direction = 'in')\n",
    "plt.legend( fontsize = 14)\n",
    "plt.show()\n",
    "\n",
    "################ beta history plot ################ \n",
    "plt.figure(figsize = (6,6))\n",
    "plt.plot(beta_history, 'r-')\n",
    "plt.xlabel('Iteration',fontsize = 14)\n",
    "plt.ylabel('Beta history',fontsize = 14)\n",
    "plt.xticks(fontsize = 14)\n",
    "plt.yticks(fontsize = 14)\n",
    "plt.xlim(0, np.array(cur_iter))\n",
    "plt.show()\n",
    "\n",
    "################ Binarization degree plot ################ \n",
    "plt.figure(figsize = (6,6))\n",
    "plt.plot(binarization_history, 'b-')\n",
    "plt.xlabel('Iteration',fontsize = 14)\n",
    "plt.ylabel('Binarization degree',fontsize = 14)\n",
    "plt.xticks(fontsize = 14)\n",
    "plt.yticks(fontsize = 14)\n",
    "plt.xlim(0, np.array(cur_iter))\n",
    "plt.ylim(0,1)\n",
    "plt.show()"
   ]
  },
  {
   "cell_type": "code",
   "execution_count": 231,
   "id": "a2855e3f",
   "metadata": {},
   "outputs": [
    {
     "data": {
      "text/plain": [
       "0.7710963716256477"
      ]
     },
     "execution_count": 231,
     "metadata": {},
     "output_type": "execute_result"
    },
    {
     "data": {
      "image/png": "[encoded data removed]",
      "text/plain": [
       "<Figure size 600x600 with 1 Axes>"
      ]
     },
     "metadata": {},
     "output_type": "display_data"
    }
   ],
   "source": [
    "plt.figure(figsize = (6,6))\n",
    "plt.plot(binarization_history, 'b-')\n",
    "plt.xlabel('Iteration',fontsize = 14)\n",
    "plt.ylabel('Binarization degree',fontsize = 14)\n",
    "\n",
    "plt.xticks(fontsize = 14)\n",
    "plt.yticks(fontsize = 14)\n",
    "\n",
    "plt.xlim(0, np.array(cur_iter))\n",
    "plt.ylim(0,1)\n",
    "\n",
    "max(binarization_history)"
   ]
  },
  {
   "cell_type": "code",
   "execution_count": 147,
   "id": "282acbcd",
   "metadata": {},
   "outputs": [],
   "source": [
    "# multi2 = design_variables[0].weights\n",
    "# multi1 = design_variables[1].weights\n",
    "# k = design_variables.weights\n",
    "# opt.update_design([k])\n",
    "opt.update_design([multi2, multi1])"
   ]
  },
  {
   "cell_type": "code",
   "execution_count": 149,
   "id": "0c5b5b7c",
   "metadata": {},
   "outputs": [
    {
     "data": {
      "text/plain": [
       "(-1.2, 1.2, 1.01, 1.99)"
      ]
     },
     "execution_count": 149,
     "metadata": {},
     "output_type": "execute_result"
    },
    {
     "data": {
      "image/png": "[encoded data removed]",
      "text/plain": [
       "<Figure size 640x480 with 1 Axes>"
      ]
     },
     "metadata": {},
     "output_type": "display_data"
    }
   ],
   "source": [
    "opt.plot2D(\n",
    "    True,\n",
    "    output_plane = mp.Volume(size = mp.Vector3(design_region_width, design_region_height-1/resolution, 0), center = mp.Vector3(0, full_center_y,0)),\n",
    "    \n",
    "    plot_sources_flag=False,\n",
    "    plot_monitors_flag=False,\n",
    "    plot_boundaries_flag=False,\n",
    ")\n",
    "plt.axis(False)"
   ]
  },
  {
   "cell_type": "code",
   "execution_count": 297,
   "id": "38c000b5",
   "metadata": {},
   "outputs": [
    {
     "data": {
      "text/plain": [
       "(-1.2, 1.2, 1.01, 1.49)"
      ]
     },
     "execution_count": 297,
     "metadata": {},
     "output_type": "execute_result"
    },
    {
     "data": {
      "image/png": "[encoded data removed]",
      "text/plain": [
       "<Figure size 640x480 with 1 Axes>"
      ]
     },
     "metadata": {},
     "output_type": "display_data"
    }
   ],
   "source": [
    "opt.plot2D(\n",
    "    True,\n",
    "    output_plane = mp.Volume(size = mp.Vector3(design_region_width, design_region_height-1/resolution, 0), center = mp.Vector3(0, full_center_y,0)),\n",
    "    \n",
    "    plot_sources_flag=False,\n",
    "    plot_monitors_flag=False,\n",
    "    plot_boundaries_flag=False,\n",
    ")\n",
    "plt.axis(False)"
   ]
  },
  {
   "cell_type": "code",
   "execution_count": 298,
   "id": "d70ef33e",
   "metadata": {},
   "outputs": [
    {
     "data": {
      "text/plain": [
       "<Axes: xlabel='X', ylabel='Y'>"
      ]
     },
     "execution_count": 298,
     "metadata": {},
     "output_type": "execute_result"
    },
    {
     "data": {
      "image/png": "[encoded data removed]",
      "text/plain": [
       "<Figure size 640x480 with 1 Axes>"
      ]
     },
     "metadata": {},
     "output_type": "display_data"
    }
   ],
   "source": [
    "offset = 0.01\n",
    "flux_size = 0.02\n",
    "mn_size = 2\n",
    "\n",
    "monitor_position_y, monitor_size = mp.Vector3(0, center_y_monitor_position), mp.Vector3(mn_size,0)\n",
    "\n",
    "#### input source의 flux ####\n",
    "input_flux = opt.sim.add_flux(\n",
    "        fcen, 0, 1,\n",
    "        mp.FluxRegion(center=sources.center - mp.Vector3(offset, 0, 0),\n",
    "                    size=mp.Vector3(0, flux_size),\n",
    "                    # direction=mp.X, \n",
    "                    weight=-1),\n",
    "        mp.FluxRegion(center=sources.center + mp.Vector3(offset, 0, 0),\n",
    "                    size=mp.Vector3(0, flux_size),\n",
    "                    # direction=mp.X\n",
    "                    ),\n",
    "        mp.FluxRegion(center=sources.center - mp.Vector3(0, offset, 0),\n",
    "                    size=mp.Vector3(flux_size, 0),\n",
    "                    # direction=mp.Y, \n",
    "                    weight=-1),\n",
    "        mp.FluxRegion(center=sources.center + mp.Vector3(0, offset, 0),\n",
    "                    size=mp.Vector3(flux_size, 0),\n",
    "                    # direction=mp.Y\n",
    "                    )\n",
    "    )\n",
    "\n",
    "#### output flux -> add flux로 계산한 poynting vector ####\n",
    "out_flux = opt.sim.add_flux(\n",
    "        fcen, 0, 1,\n",
    "        mp.FluxRegion(\n",
    "                center=monitor_position_y,\n",
    "                size=monitor_size,\n",
    "                # direction=mp.Y\n",
    "                # weight=-1\n",
    "        )\n",
    "    )\n",
    "\n",
    "#### output flux -> 성분별 field를 뽑고, poynting vector를 계산할 예정 ####\n",
    "dft_fields = opt.sim.add_dft_fields([mp.Ex, mp.Ey, mp.Ez, mp.Hx, mp.Hy, mp.Hz], fcen, 0, 1, \n",
    "                                    center = monitor_position_y,\n",
    "                                    size = monitor_size, \n",
    "                                    yee_grid=True)\n",
    "\n",
    "opt.sim.plot2D()\n"
   ]
  },
  {
   "cell_type": "code",
   "execution_count": 299,
   "id": "2f4506a8",
   "metadata": {},
   "outputs": [
    {
     "data": {
      "image/png": "[encoded data removed]",
      "text/plain": [
       "<Figure size 640x480 with 1 Axes>"
      ]
     },
     "metadata": {},
     "output_type": "display_data"
    }
   ],
   "source": [
    "sim.run(until=mp.stop_when_fields_decayed(10/df, mp.Ez, sources.center, 1e-5))\n",
    "# sim.run(until_after_sources=mp.stop_when_dft_decayed(1e-3))\n",
    "\n",
    "opt.sim.plot2D(\n",
    "    fields=mp.Ez,\n",
    "    output_plane=mp.Volume(\n",
    "    center = monitor_position_y,\n",
    "    size = mp.Vector3(3, 1)),\n",
    "    field_parameters={\n",
    "        'post_process': lambda x: np.abs(np.real(x)),  # 복소수 필드 x → intensity |x|^2\n",
    "        'cmap': 'magma',                         # 원하시는 colormap\n",
    "        'alpha': 1,                            # 투명도\n",
    "        'interpolation': 'none'\n",
    "    },\n",
    "    eps_parameters={'cmap':'magma','alpha':0.5}\n",
    ")\n",
    "plt.axis(False)\n",
    "plt.show()"
   ]
  },
  {
   "cell_type": "code",
   "execution_count": 300,
   "id": "670d18c1",
   "metadata": {},
   "outputs": [
    {
     "data": {
      "text/plain": [
       "<Axes: xlabel='X', ylabel='Y'>"
      ]
     },
     "execution_count": 300,
     "metadata": {},
     "output_type": "execute_result"
    },
    {
     "data": {
      "image/png": "[encoded data removed]",
      "text/plain": [
       "<Figure size 640x480 with 1 Axes>"
      ]
     },
     "metadata": {},
     "output_type": "display_data"
    }
   ],
   "source": [
    "opt.sim.plot2D(fields = mp.Ez,\n",
    "           field_parameters={\n",
    "        'cmap': 'magma',    # magma 컬러맵 지정\n",
    "        'alpha': 0.5,       # 필드 투명도 (0.0~1.0)\n",
    "        'interpolation': 'none'\n",
    "    }\n",
    ")"
   ]
  },
  {
   "cell_type": "code",
   "execution_count": 301,
   "id": "c566e9b9",
   "metadata": {},
   "outputs": [
    {
     "data": {
      "image/png": "[encoded data removed]",
      "text/plain": [
       "<Figure size 600x600 with 1 Axes>"
      ]
     },
     "metadata": {},
     "output_type": "display_data"
    }
   ],
   "source": [
    "external_field_array = np.abs(sim.get_dft_array(dft_fields, mp.Ez, 0))\n",
    "\n",
    "N = len(external_field_array)\n",
    "W = mn_size                           # μm 단위 모니터 폭\n",
    "x = np.linspace(-W/2, W/2, N)                     # μm 단위 위치\n",
    "z = abs(center_y_monitor_position - center_y_source_position)  # μm 단위 거리\n",
    "\n",
    "# 3) Intensity 계산\n",
    "I = np.abs(external_field_array)**2\n",
    "\n",
    "# 4) θ 축으로 플롯\n",
    "plt.figure(figsize=(6,6))\n",
    "plt.plot(x, I, 'bo-')\n",
    "\n",
    "\n",
    "plt.xlabel('Monitor position $x$ (µm)', fontsize=14)\n",
    "plt.ylabel('Intensity |E|²',       fontsize=14)\n",
    "# plt.ylabel('phase',       fontsize=14)\n",
    "plt.title(r'Monitor size: $2\\mu m$', fontsize=16)\n",
    "plt.tick_params(direction = 'in')\n",
    "plt.xticks(fontsize = 14)\n",
    "plt.yticks(fontsize = 14)\n",
    "plt.tight_layout()\n",
    "plt.show()"
   ]
  },
  {
   "cell_type": "code",
   "execution_count": 302,
   "id": "0d74f7bf",
   "metadata": {},
   "outputs": [
    {
     "name": "stdout",
     "output_type": "stream",
     "text": [
      "Input flux : 0.7711100552978379\n",
      "Output flux : 0.8312671481739882\n",
      "EQE(%) : 107.80136278380066 %\n"
     ]
    }
   ],
   "source": [
    "eqe = mp.get_fluxes(out_flux)[0]/mp.get_fluxes(input_flux)[0]*100\n",
    "\n",
    "print(\"Input flux :\", mp.get_fluxes(input_flux)[0])\n",
    "print(\"Output flux :\", mp.get_fluxes(out_flux)[0])\n",
    "print(\"EQE(%) :\", eqe,\"%\")"
   ]
  },
  {
   "cell_type": "code",
   "execution_count": 303,
   "id": "182285fa",
   "metadata": {},
   "outputs": [
    {
     "data": {
      "image/png": "[encoded data removed]",
      "text/plain": [
       "<Figure size 600x600 with 1 Axes>"
      ]
     },
     "metadata": {},
     "output_type": "display_data"
    }
   ],
   "source": [
    "external_field_array = np.real(sim.get_dft_array(dft_fields, mp.Ez, 0))\n",
    "\n",
    "N = len(external_field_array)\n",
    "W = mn_size                           # μm 단위 모니터 폭\n",
    "x = np.linspace(-W/2, W/2, N)                     # μm 단위 위치\n",
    "z = abs(center_y_monitor_position - center_y_source_position)  # μm 단위 거리\n",
    "\n",
    "# 3) Intensity 계산\n",
    "I = np.abs(external_field_array)**2\n",
    "\n",
    "# 4) θ 축으로 플롯\n",
    "plt.figure(figsize=(6,6))\n",
    "plt.plot(x, I, 'bo-')\n",
    "\n",
    "\n",
    "plt.xlabel('Monitor position $x$ (µm)', fontsize=14)\n",
    "plt.ylabel('Intensity |E|²',       fontsize=14)\n",
    "# plt.ylabel('phase',       fontsize=14)\n",
    "plt.title(r'Monitor size: $2\\mu m$', fontsize=16)\n",
    "plt.tick_params(direction = 'in')\n",
    "plt.xticks(fontsize = 14)\n",
    "plt.yticks(fontsize = 14)\n",
    "plt.tight_layout()\n",
    "plt.show()"
   ]
  },
  {
   "cell_type": "code",
   "execution_count": 304,
   "id": "56114736",
   "metadata": {},
   "outputs": [
    {
     "data": {
      "image/png": "[encoded data removed]",
      "text/plain": [
       "<Figure size 800x400 with 2 Axes>"
      ]
     },
     "metadata": {},
     "output_type": "display_data"
    }
   ],
   "source": [
    "import numpy as np\n",
    "import matplotlib.pyplot as plt\n",
    "import meep as mp\n",
    "\n",
    "nx = int(design_region_resolution * design_region_width) + 1\n",
    "x_res = np.linspace(-design_region_width/2,\n",
    "                     design_region_width/2,\n",
    "                     nx)\n",
    "\n",
    "y_start = center_y_design + design_region_height/2\n",
    "y_end   = center_y_monitor_position + 1/fcen\n",
    "ny = int(design_region_resolution * (y_end - y_start)) + 1\n",
    "y_res = np.linspace(y_start, y_end, ny)\n",
    "\n",
    "vol = mp.Volume(\n",
    "    center=mp.Vector3(0, (y_start + y_end)/2, 0),\n",
    "    size=  mp.Vector3(design_region_width,\n",
    "                      y_end - y_start,\n",
    "                      0)\n",
    ")\n",
    "Ez_slice = opt.sim.get_array(mp.Ez, vol).T   # shape == (ny, nx)\n",
    "\n",
    "plt.figure(figsize=(8,4))\n",
    "plt.imshow(\n",
    "    np.abs(Ez_slice),      # (ny, nx)\n",
    "    origin='lower',\n",
    "    extent=[x_res.min(), x_res.max(), y_res.min(), y_res.max()],\n",
    "    aspect='equal',\n",
    "    cmap='jet'\n",
    ")\n",
    "\n",
    "cbar = plt.colorbar()\n",
    "cbar.set_label(r'$|E_z|$', fontsize=14)\n",
    "cbar.ax.tick_params(labelsize=14)\n",
    "\n",
    "# plt.xlabel('Monitor position $x$ (µm)', fontsize=14)\n",
    "# plt.ylabel('Height $y$ (µm)',           fontsize=14)\n",
    "# plt.title(r'Monitor size: $2\\ \\mu m$',   fontsize=16)\n",
    "\n",
    "# 틱 폰트 크기 및 방향 맞추기\n",
    "plt.tick_params(direction='in', labelsize=14)\n",
    "# plt.tight_layout()\n",
    "plt.axis('off')\n",
    "plt.show()"
   ]
  },
  {
   "cell_type": "code",
   "execution_count": 305,
   "id": "c7c648a3",
   "metadata": {},
   "outputs": [
    {
     "name": "stdout",
     "output_type": "stream",
     "text": [
      "Input flux : 0.7711100552978379\n",
      "Output flux : 0.8312671481739882\n",
      "±0.320 µm 구간 integrated intensity: 0.8390925052751658\n",
      "1차 ring까지의 Optical EQE : 108.8161799356993 %\n"
     ]
    }
   ],
   "source": [
    "import numpy as np\n",
    "\n",
    "I = np.real(external_field_array)**2\n",
    "N = len(I)\n",
    "W = mn_size\n",
    "x = np.linspace(-W/2, W/2, N)\n",
    "z = abs(center_y_monitor_position - center_y_source_position)\n",
    "\n",
    "center_idx = np.argmax(I)\n",
    "# 간단히 for문으로\n",
    "for i in range(center_idx+1, N-1):\n",
    "    if I[i] < I[i-1] and I[i] < I[i+1]:\n",
    "        x_limit = abs(x[i])\n",
    "        break\n",
    "else:\n",
    "    raise RuntimeError(\"1차 링 경계를 찾을 수 없음\")\n",
    "\n",
    "x_min, x_max = -x_limit, x_limit\n",
    "\n",
    "mask = (x >= x_min) & (x <= x_max)\n",
    "\n",
    "x_slice = x[mask]\n",
    "I_slice = I[mask]\n",
    "\n",
    "dx = x[1] - x[0]\n",
    "flux_slice = np.sum(I_slice) * dx   \n",
    "\n",
    "input = np.array(mp.get_fluxes(input_flux))[0]\n",
    "output = np.array(mp.get_fluxes(out_flux))[0]\n",
    "\n",
    "print(\"Input flux :\", input)\n",
    "print(\"Output flux :\", output)\n",
    "print(f\"±{x_limit:.3f} µm 구간 integrated intensity: {flux_slice}\")\n",
    "\n",
    "optical_eqe = flux_slice/input * 100\n",
    "print(\"1차 ring까지의 Optical EQE :\", optical_eqe,\"%\")"
   ]
  },
  {
   "cell_type": "code",
   "execution_count": 306,
   "id": "5e10232a",
   "metadata": {},
   "outputs": [
    {
     "name": "stdout",
     "output_type": "stream",
     "text": [
      "±0.320 µm 구간 intensity 적분: 0.8391\n",
      "모니터 기반 Optical EQE: 107.80%\n"
     ]
    }
   ],
   "source": [
    "import numpy as np\n",
    "\n",
    "# 1) 강도 계산\n",
    "I = np.abs(external_field_array)**2\n",
    "N = len(I)\n",
    "W = mn_size\n",
    "x = np.linspace(-W/2, W/2, N)\n",
    "center_idx = np.argmax(I)\n",
    "\n",
    "# 2) 첫 번째 링 경계: 미분으로 valley 찾기\n",
    "dI = np.diff(I)\n",
    "valleys = np.where((dI[:-1] < 0) & (dI[1:] > 0))[0] + 1\n",
    "valleys = valleys[valleys > center_idx]\n",
    "if valleys.size == 0:\n",
    "    raise RuntimeError(\"1차 링 경계를 찾을 수 없음\")\n",
    "idx_valley = valleys[0]\n",
    "x_limit = abs(x[idx_valley])\n",
    "\n",
    "# 3) 적분 구간 설정\n",
    "mask = (x >= -x_limit) & (x <= x_limit)\n",
    "dx = x[1] - x[0]\n",
    "flux_slice = np.sum(I[mask]) * dx\n",
    "\n",
    "# 4) Flux 모니터 값\n",
    "input_flux  = np.array(mp.get_fluxes(input_flux))[0]\n",
    "output_flux = np.array(mp.get_fluxes(out_flux))[0]\n",
    "\n",
    "# 5) Optical EQE 계산: 출력 flux 비율을 사용\n",
    "optical_eqe = output_flux / input_flux * 100\n",
    "\n",
    "print(f\"±{x_limit:.3f} µm 구간 intensity 적분: {flux_slice:.4f}\")\n",
    "print(f\"모니터 기반 Optical EQE: {optical_eqe:.2f}%\")\n"
   ]
  },
  {
   "cell_type": "code",
   "execution_count": 287,
   "id": "217cd63b",
   "metadata": {},
   "outputs": [
    {
     "ename": "AttributeError",
     "evalue": "'numpy.float64' object has no attribute 'flux'",
     "output_type": "error",
     "traceback": [
      "\u001b[0;31m---------------------------------------------------------------------------\u001b[0m",
      "\u001b[0;31mAttributeError\u001b[0m                            Traceback (most recent call last)",
      "Cell \u001b[0;32mIn[287], line 1\u001b[0m\n\u001b[0;32m----> 1\u001b[0m eqe \u001b[38;5;241m=\u001b[39m mp\u001b[38;5;241m.\u001b[39mget_fluxes(out_flux)[\u001b[38;5;241m0\u001b[39m]\u001b[38;5;241m/\u001b[39m\u001b[43mmp\u001b[49m\u001b[38;5;241;43m.\u001b[39;49m\u001b[43mget_fluxes\u001b[49m\u001b[43m(\u001b[49m\u001b[43minput_flux\u001b[49m\u001b[43m)\u001b[49m[\u001b[38;5;241m0\u001b[39m]\u001b[38;5;241m*\u001b[39m\u001b[38;5;241m100\u001b[39m\n\u001b[1;32m      3\u001b[0m \u001b[38;5;28mprint\u001b[39m(\u001b[38;5;124m\"\u001b[39m\u001b[38;5;124mInput flux :\u001b[39m\u001b[38;5;124m\"\u001b[39m, mp\u001b[38;5;241m.\u001b[39mget_fluxes(input_flux)[\u001b[38;5;241m0\u001b[39m])\n\u001b[1;32m      4\u001b[0m \u001b[38;5;28mprint\u001b[39m(\u001b[38;5;124m\"\u001b[39m\u001b[38;5;124mOutput flux :\u001b[39m\u001b[38;5;124m\"\u001b[39m, mp\u001b[38;5;241m.\u001b[39mget_fluxes(out_flux)[\u001b[38;5;241m0\u001b[39m])\n",
      "File \u001b[0;32m~/miniconda3/envs/mp/lib/python3.9/site-packages/meep/simulation.py:6027\u001b[0m, in \u001b[0;36mget_fluxes\u001b[0;34m(f)\u001b[0m\n\u001b[1;32m   6022\u001b[0m \u001b[38;5;28;01mdef\u001b[39;00m\u001b[38;5;250m \u001b[39m\u001b[38;5;21mget_fluxes\u001b[39m(f):\n\u001b[1;32m   6023\u001b[0m \u001b[38;5;250m    \u001b[39m\u001b[38;5;124;03m\"\"\"\u001b[39;00m\n\u001b[1;32m   6024\u001b[0m \u001b[38;5;124;03m    Given a flux object, returns a list of the current flux spectrum that it has\u001b[39;00m\n\u001b[1;32m   6025\u001b[0m \u001b[38;5;124;03m    accumulated.\u001b[39;00m\n\u001b[1;32m   6026\u001b[0m \u001b[38;5;124;03m    \"\"\"\u001b[39;00m\n\u001b[0;32m-> 6027\u001b[0m     \u001b[38;5;28;01mreturn\u001b[39;00m \u001b[43mf\u001b[49m\u001b[38;5;241;43m.\u001b[39;49m\u001b[43mflux\u001b[49m()\n",
      "\u001b[0;31mAttributeError\u001b[0m: 'numpy.float64' object has no attribute 'flux'"
     ]
    }
   ],
   "source": [
    "eqe = mp.get_fluxes(out_flux)[0]/mp.get_fluxes(input_flux)[0]*100\n",
    "    \n",
    "print(\"Input flux :\", mp.get_fluxes(input_flux)[0])\n",
    "print(\"Output flux :\", mp.get_fluxes(out_flux)[0])\n",
    "print(\"EQE(%) :\", eqe,\"%\")"
   ]
  }
 ],
 "metadata": {
  "kernelspec": {
   "display_name": "mp",
   "language": "python",
   "name": "python3"
  },
  "language_info": {
   "codemirror_mode": {
    "name": "ipython",
    "version": 3
   },
   "file_extension": ".py",
   "mimetype": "text/x-python",
   "name": "python",
   "nbconvert_exporter": "python",
   "pygments_lexer": "ipython3",
   "version": "3.9.22"
  }
 },
 "nbformat": 4,
 "nbformat_minor": 5
}
