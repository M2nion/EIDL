{
 "cells": [
  {
   "cell_type": "code",
   "execution_count": 137,
   "id": "7c0b5dbd",
   "metadata": {},
   "outputs": [],
   "source": [
    "import meep as mp\n",
    "import meep.adjoint as mpa\n",
    "import numpy as np\n",
    "from autograd import numpy as npa\n",
    "from autograd import tensor_jacobian_product, grad\n",
    "import nlopt\n",
    "from matplotlib import pyplot as plt\n",
    "from matplotlib.patches import Circle\n",
    "import math\n",
    "\n",
    "from meep.materials import Ag"
   ]
  },
  {
   "cell_type": "code",
   "execution_count": 138,
   "id": "8b2dc107",
   "metadata": {},
   "outputs": [],
   "source": [
    "fontlabel = 16\n",
    "\n",
    "lambda_min = 0.4       # 최소 파장 (µm)\n",
    "lambda_max = 0.7       # 최대 파장 (µm)\n",
    "fmin = 1/lambda_max    # 최소 주파수\n",
    "fmax = 1/lambda_min    # 최대 주파수\n",
    "fcen = 0.5*(fmin+fmax) # 중앙 주파수\n",
    "\n",
    "resolution = 50        # 시뮬레이션 해상도\n",
    "design_region_resolution = 50\n",
    "\n",
    "# nfreq = 50             # 추출할 주파수 개수\n",
    "df = fmax-fmin         # 주파수 대역폭\n",
    "\n",
    "# df = 0\n",
    "nfreq = 1"
   ]
  },
  {
   "cell_type": "code",
   "execution_count": 139,
   "id": "1ed44543",
   "metadata": {},
   "outputs": [],
   "source": [
    "tag_bot = 0.5\n",
    "tag_side = 4\n",
    "tsio2 = 4\n",
    "monitor_position = 0.5 * 2\n",
    "monitor_blank = 0.5 * 0.1\n",
    "tpml = 0.4\n",
    "\n",
    "width_ag = 0.2\n",
    "width_sio2 = 2\n",
    "width_bot_ag = round(width_ag + width_sio2 + width_ag,2)\n",
    "design_region_width = round(width_bot_ag, 3)\n",
    "design_region_height = 0.5\n",
    "\n",
    "# 시뮬레이션 셀 크기\n",
    "Sx = tpml + width_bot_ag + tpml\n",
    "Sy = round(tpml + tag_bot + tag_side + design_region_height + monitor_position + monitor_blank + tpml, 3)\n",
    "cell_size = mp.Vector3(Sx, Sy)\n",
    "\n",
    "# 재료\n",
    "SiO2 = mp.Medium(index=1.45)\n",
    "TiO2 = mp.Medium(index=2.6)\n",
    "Air = mp.Medium(index=1.0)\n",
    "\n",
    "# 디자인 변수 격자\n",
    "Nx = int(design_region_resolution * design_region_width) + 1\n",
    "Ny = 1  # 평면 구조\n",
    "\n",
    "# 위치 계산\n",
    "y_bottom = -Sy / 2\n",
    "center_y_ag = y_bottom + tpml + tag_bot / 2\n",
    "center_y_sio2 = y_bottom + tpml + tag_bot + tsio2 / 2\n",
    "center_y_design = y_bottom + tpml + tag_bot + tsio2 + design_region_height / 2\n",
    "center_y_monitor_position = y_bottom + tpml + tag_bot + tsio2 + design_region_height + monitor_position\n",
    "center_y_source_position = y_bottom + tpml + tag_bot + 5 / fcen\n",
    "center_Ag_x_position = design_region_width / 2 - width_ag / 2\n",
    "\n",
    "boundary_layers = [\n",
    "    # mp.Absorber(tpml, direction=mp.X),\n",
    "    mp.PML(tpml, direction=mp.Y, side=mp.Low),\n",
    "    mp.PML(tpml, direction=mp.Y, side=mp.High)\n",
    "]"
   ]
  },
  {
   "cell_type": "code",
   "execution_count": 140,
   "id": "1962bbd4",
   "metadata": {},
   "outputs": [],
   "source": [
    "# 셀 크기 설정\n",
    "# cell_size = mp.Vector3(Sx*3, Sy)\n",
    "cell_size = mp.Vector3(width_bot_ag*3, Sy)\n",
    "\n",
    "# 기본 지오메트리 정의\n",
    "geometry = [\n",
    "    # Bottom Ag layer\n",
    "    mp.Block(\n",
    "        material=Ag,\n",
    "        size=mp.Vector3(width_bot_ag, tag_bot, 0),\n",
    "        center=mp.Vector3(0, center_y_ag, 0)\n",
    "    ),\n",
    "    # SiO2 layer\n",
    "    mp.Block(\n",
    "        material=SiO2,\n",
    "        size=mp.Vector3(width_sio2, tsio2, 0),\n",
    "        center=mp.Vector3(0, center_y_sio2, 0)\n",
    "    ),\n",
    "    # Side metal\n",
    "    mp.Block(\n",
    "        material=Ag,\n",
    "        size=mp.Vector3(width_ag, tsio2, 0),\n",
    "        center=mp.Vector3(-center_Ag_x_position, center_y_sio2, 0)\n",
    "    ),\n",
    "    mp.Block(\n",
    "        material=Ag,\n",
    "        size=mp.Vector3(width_ag, tsio2, 0),\n",
    "        center=mp.Vector3(center_Ag_x_position, center_y_sio2, 0)\n",
    "    ),\n",
    "]\n"
   ]
  },
  {
   "cell_type": "code",
   "execution_count": 141,
   "id": "0dc2b845",
   "metadata": {},
   "outputs": [],
   "source": [
    "# 몇개의 layer로 최적화를 할건지 설정하고 싶다면 layer_num 갯수 조절\n",
    "layer_num = 1\n",
    "\n",
    "ML = (layer_num > 1)\n",
    "\n",
    "region_height_each = design_region_height / layer_num\n",
    "full_center_y = y_bottom + tag_bot + tsio2 + design_region_height/2\n",
    "\n",
    "if ML:\n",
    "    design_variables = []\n",
    "    design_region = []\n",
    "    for dv in range(layer_num):\n",
    "        mg = mp.MaterialGrid(\n",
    "            mp.Vector3(Nx, Ny),\n",
    "            TiO2,       \n",
    "            SiO2,       \n",
    "            grid_type=\"U_MEAN\",\n",
    "            do_averaging=False\n",
    "        )\n",
    "        design_variables.append(mg)\n",
    "        offset = ((layer_num - 1) / 2 - dv) * region_height_each\n",
    "        center_y = full_center_y + offset\n",
    "\n",
    "        dr = mpa.DesignRegion(\n",
    "            mg,\n",
    "            volume=mp.Volume(\n",
    "                center=mp.Vector3(0, center_y, 0),\n",
    "                size=mp.Vector3(design_region_width, region_height_each, 0),\n",
    "            ),\n",
    "        )\n",
    "        design_region.append(dr)\n",
    "\n",
    "        geometry.append(\n",
    "            mp.Block(\n",
    "                material=design_variables[dv],\n",
    "                size=design_region[dv].size,\n",
    "                center=design_region[dv].center\n",
    "            )\n",
    "        )\n",
    "else:\n",
    "    design_variables = mp.MaterialGrid(\n",
    "        mp.Vector3(Nx, Ny),\n",
    "        TiO2,\n",
    "        SiO2,\n",
    "        grid_type=\"U_MEAN\",\n",
    "        do_averaging=False\n",
    "    )\n",
    "    design_region = mpa.DesignRegion(\n",
    "        design_variables,\n",
    "        volume=mp.Volume(\n",
    "            center=mp.Vector3(0, full_center_y, 0),\n",
    "            size=mp.Vector3(design_region_width, region_height_each, 0),\n",
    "        )\n",
    "    )\n",
    "    geometry.append(\n",
    "        mp.Block(\n",
    "            material=design_variables,\n",
    "            size=design_region.size,\n",
    "            center=design_region.center\n",
    "        )\n",
    "    )\n"
   ]
  },
  {
   "cell_type": "code",
   "execution_count": 142,
   "id": "7d2a888b",
   "metadata": {},
   "outputs": [
    {
     "name": "stderr",
     "output_type": "stream",
     "text": [
      "Warning: grid volume is not an integer number of pixels; cell size will be rounded to nearest pixel.\n"
     ]
    },
    {
     "name": "stdout",
     "output_type": "stream",
     "text": [
      "     block, center = (0,-2.775,0)\n",
      "          size (2.4,0.5,0)\n",
      "          axes (1,0,0), (0,1,0), (0,0,1)\n",
      "          dielectric constant epsilon diagonal = (1,1,1)\n",
      "     block, center = (0,-0.525,0)\n",
      "          size (2,4,0)\n",
      "          axes (1,0,0), (0,1,0), (0,0,1)\n",
      "          dielectric constant epsilon diagonal = (2.1025,2.1025,2.1025)\n",
      "     block, center = (-1.1,-0.525,0)\n",
      "          size (0.2,4,0)\n",
      "          axes (1,0,0), (0,1,0), (0,0,1)\n",
      "          dielectric constant epsilon diagonal = (1,1,1)\n",
      "     block, center = (1.1,-0.525,0)\n",
      "          size (0.2,4,0)\n",
      "          axes (1,0,0), (0,1,0), (0,0,1)\n",
      "          dielectric constant epsilon diagonal = (1,1,1)\n",
      "     block, center = (0,1.325,0)\n",
      "          size (2.4,0.5,0)\n",
      "          axes (1,0,0), (0,1,0), (0,0,1)\n"
     ]
    },
    {
     "data": {
      "text/plain": [
       "<Axes: xlabel='X', ylabel='Y'>"
      ]
     },
     "execution_count": 142,
     "metadata": {},
     "output_type": "execute_result"
    },
    {
     "data": {
      "image/png": "[encoded data removed]",
      "text/plain": [
       "<Figure size 640x480 with 1 Axes>"
      ]
     },
     "metadata": {},
     "output_type": "display_data"
    }
   ],
   "source": [
    "num_sources = 1\n",
    "spacing = 10 / resolution  \n",
    "\n",
    "offsets = [ (i - (num_sources - 1) // 2) * spacing for i in range(num_sources) ]\n",
    "\n",
    "sources = [\n",
    "    mp.Source(\n",
    "        mp.GaussianSource(frequency=fcen, fwidth=df, is_integrated=True),\n",
    "        component=mp.Ez,\n",
    "        center=mp.Vector3(offset, center_y_source_position, 0)\n",
    "    )\n",
    "    for offset in offsets\n",
    "]\n",
    "\n",
    "\n",
    "k0 = mp.Vector3(0,0,0)\n",
    "\n",
    "sims = [\n",
    "    mp.Simulation(\n",
    "        resolution=resolution,\n",
    "        cell_size=cell_size,\n",
    "        boundary_layers=boundary_layers,\n",
    "        geometry=geometry,\n",
    "        sources=[src], \n",
    "        default_material=mp.Medium(index=1),\n",
    "        extra_materials=[Ag],\n",
    "        k_point=k0\n",
    "    )\n",
    "    for src in sources\n",
    "]\n",
    "\n",
    "monitor_position_J = mp.Vector3(0, center_y_monitor_position)\n",
    "monitor_size = mp.Vector3(width_bot_ag*3, 0)\n",
    "\n",
    "dft_monitor = sims[0].add_dft_fields([mp.Ez], fcen,0,1, center = monitor_position_J, size = monitor_size, yee_grid=True)\n",
    "\n",
    "\n",
    "sims[0].plot2D()"
   ]
  },
  {
   "cell_type": "code",
   "execution_count": 143,
   "id": "6aa2bd6e",
   "metadata": {},
   "outputs": [
    {
     "name": "stdout",
     "output_type": "stream",
     "text": [
      "관측 가증한 diffraction order : 29\n"
     ]
    }
   ],
   "source": [
    "L       = sims[0].cell_size.x     # = Sx*3 = 9.6\n",
    "lambda0 = 1/ fcen                 # = 0.64\n",
    "m_max   = int(np.floor(L / lambda0))  # = floor(9.6/0.64) = 15\n",
    "total_modes = 2*m_max + 1             # = 31\n",
    "print(\"관측 가증한 diffraction order :\",total_modes)  # → 31"
   ]
  },
  {
   "cell_type": "code",
   "execution_count": null,
   "id": "49cd62e1",
   "metadata": {},
   "outputs": [
    {
     "name": "stderr",
     "output_type": "stream",
     "text": [
      "Warning: grid volume is not an integer number of pixels; cell size will be rounded to nearest pixel.\n"
     ]
    },
    {
     "name": "stdout",
     "output_type": "stream",
     "text": [
      "-----------\n",
      "Initializing structure...\n",
      "time for choose_chunkdivision = 5.00679e-05 s\n",
      "Working in 2D dimensions.\n",
      "Computational cell is 7.2 x 6.86 x 0 with resolution 50\n",
      "     block, center = (0,-2.775,0)\n",
      "          size (2.4,0.5,0)\n",
      "          axes (1,0,0), (0,1,0), (0,0,1)\n",
      "          dielectric constant epsilon diagonal = (1,1,1)\n",
      "     block, center = (0,-0.525,0)\n",
      "          size (2,4,0)\n",
      "          axes (1,0,0), (0,1,0), (0,0,1)\n",
      "          dielectric constant epsilon diagonal = (2.1025,2.1025,2.1025)\n",
      "     block, center = (-1.1,-0.525,0)\n",
      "          size (0.2,4,0)\n",
      "          axes (1,0,0), (0,1,0), (0,0,1)\n",
      "          dielectric constant epsilon diagonal = (1,1,1)\n",
      "     block, center = (1.1,-0.525,0)\n",
      "          size (0.2,4,0)\n",
      "          axes (1,0,0), (0,1,0), (0,0,1)\n",
      "          dielectric constant epsilon diagonal = (1,1,1)\n",
      "     block, center = (0,1.325,0)\n",
      "          size (2.4,0.5,0)\n",
      "          axes (1,0,0), (0,1,0), (0,0,1)\n",
      "time for set_epsilon = 0.096102 s\n",
      "lorentzian susceptibility: frequency=16.365, gamma=1.95106\n",
      "lorentzian susceptibility: frequency=7.32593, gamma=0.738804\n",
      "lorentzian susceptibility: frequency=6.60165, gamma=0.052426\n",
      "lorentzian susceptibility: frequency=3.61417, gamma=0.364563\n",
      "lorentzian susceptibility: frequency=0.658148, gamma=3.13427\n",
      "drude susceptibility: frequency=1e-10, gamma=0.0387146\n",
      "-----------\n",
      "field decay(t = 9.34): 38.16397790475218 / 38.16397790475218 = 1.0\n",
      "field decay(t = 18.68): 0.630098423767221 / 38.16397790475218 = 0.016510292122581937\n",
      "field decay(t = 28.02): 0.5892297727722358 / 38.16397790475218 = 0.015439422332829326\n",
      "on time step 3358 (time=33.58), 0.00119146 s/step\n",
      "field decay(t = 37.36): 1.2520295432823523 / 38.16397790475218 = 0.03280657866449633\n",
      "field decay(t = 46.7): 0.6154710381571681 / 38.16397790475218 = 0.01612701484350586\n",
      "field decay(t = 56.04): 0.28269093427932457 / 38.16397790475218 = 0.007407271196541697\n",
      "field decay(t = 65.38): 0.5177376310869756 / 38.16397790475218 = 0.013566133812861968\n",
      "on time step 6942 (time=69.42), 0.00111631 s/step\n",
      "field decay(t = 74.72): 0.1804802673031995 / 38.16397790475218 = 0.004729073781397564\n",
      "field decay(t = 84.06): 0.2248944849724001 / 38.16397790475218 = 0.00589284705943602\n",
      "field decay(t = 93.4): 0.18596376387042 / 38.16397790475218 = 0.004872756302672101\n",
      "on time step 10088 (time=100.88), 0.00127169 s/step\n",
      "field decay(t = 102.74000000000001): 0.041889579001535525 / 38.16397790475218 = 0.0010976208797227984\n"
     ]
    },
    {
     "name": "stderr",
     "output_type": "stream",
     "text": [
      "Warning: grid volume is not an integer number of pixels; cell size will be rounded to nearest pixel.\n"
     ]
    },
    {
     "name": "stdout",
     "output_type": "stream",
     "text": [
      "field decay(t = 112.08): 0.021581627478253908 / 38.16397790475218 = 0.000565497326618213\n",
      "run 0 finished at t = 112.08 (11208 timesteps)\n",
      "     block, center = (0,-2.775,0)\n",
      "          size (2.4,0.5,0)\n",
      "          axes (1,0,0), (0,1,0), (0,0,1)\n",
      "          dielectric constant epsilon diagonal = (1,1,1)\n",
      "     block, center = (0,-0.525,0)\n",
      "          size (2,4,0)\n",
      "          axes (1,0,0), (0,1,0), (0,0,1)\n",
      "          dielectric constant epsilon diagonal = (2.1025,2.1025,2.1025)\n",
      "     block, center = (-1.1,-0.525,0)\n",
      "          size (0.2,4,0)\n",
      "          axes (1,0,0), (0,1,0), (0,0,1)\n",
      "          dielectric constant epsilon diagonal = (1,1,1)\n",
      "     block, center = (1.1,-0.525,0)\n",
      "          size (0.2,4,0)\n",
      "          axes (1,0,0), (0,1,0), (0,0,1)\n",
      "          dielectric constant epsilon diagonal = (1,1,1)\n",
      "     block, center = (0,1.325,0)\n",
      "          size (2.4,0.5,0)\n",
      "          axes (1,0,0), (0,1,0), (0,0,1)\n"
     ]
    },
    {
     "data": {
      "text/plain": [
       "<Axes: xlabel='X', ylabel='Y'>"
      ]
     },
     "execution_count": 144,
     "metadata": {},
     "output_type": "execute_result"
    },
    {
     "data": {
      "image/png": "[encoded data removed]",
      "text/plain": [
       "<Figure size 640x480 with 1 Axes>"
      ]
     },
     "metadata": {},
     "output_type": "display_data"
    }
   ],
   "source": [
    "# sims[0].run(until=200)\n",
    "\n",
    "sims[0].run(until_after_sources=mp.stop_when_fields_decayed(\n",
    "            10/df, mp.Ez, sources[0].center, 1e-3\n",
    "        ))\n",
    "\n",
    "Ez_dft =sims[0].get_dft_array(dft_monitor,mp.Ez,0)\n",
    "\n",
    "sims[0].plot2D()"
   ]
  },
  {
   "cell_type": "code",
   "execution_count": 146,
   "id": "b5b8cbc0",
   "metadata": {},
   "outputs": [
    {
     "data": {
      "image/png": "[encoded data removed]",
      "text/plain": [
       "<Figure size 600x600 with 1 Axes>"
      ]
     },
     "metadata": {},
     "output_type": "display_data"
    }
   ],
   "source": [
    "N        = len(Ez_dft)\n",
    "dx       = 1.0 / resolution\n",
    "E_k      = np.fft.fftshift(np.fft.fft(Ez_dft)) / N\n",
    "kx_cycles = np.fft.fftshift(np.fft.fftfreq(N, d=dx))  \n",
    "kx       = 2 * np.pi * kx_cycles                     \n",
    "\n",
    "Delta_k = 2*np.pi/(N*dx)\n",
    "p = kx/Delta_k\n",
    "\n",
    "plt.figure(figsize=(6,6))\n",
    "plt.plot(p, np.abs(E_k)**2, 'ro-', markersize=5)\n",
    "plt.xlabel(\"Diffraction order $m$\", fontsize=16)\n",
    "plt.ylabel(r\"Intensity $|E(k_x)|^2$\",                   fontsize=16)\n",
    "plt.xlim(-20, 20) \n",
    "plt.xticks(fontsize=14)\n",
    "plt.yticks(fontsize=14)\n",
    "plt.grid(True)\n",
    "plt.tight_layout()\n",
    "plt.show()"
   ]
  }
 ],
 "metadata": {
  "kernelspec": {
   "display_name": "mp",
   "language": "python",
   "name": "python3"
  },
  "language_info": {
   "codemirror_mode": {
    "name": "ipython",
    "version": 3
   },
   "file_extension": ".py",
   "mimetype": "text/x-python",
   "name": "python",
   "nbconvert_exporter": "python",
   "pygments_lexer": "ipython3",
   "version": "3.11.12"
  }
 },
 "nbformat": 4,
 "nbformat_minor": 5
}
