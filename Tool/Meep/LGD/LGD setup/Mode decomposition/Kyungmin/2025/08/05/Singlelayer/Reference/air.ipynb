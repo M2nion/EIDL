{
 "cells": [
  {
   "cell_type": "code",
   "execution_count": 114,
   "id": "7b4c402f",
   "metadata": {},
   "outputs": [],
   "source": [
    "import meep as mp\n",
    "import numpy as np\n",
    "from meep.materials import Ag"
   ]
  },
  {
   "cell_type": "code",
   "execution_count": 115,
   "id": "3783d27d",
   "metadata": {},
   "outputs": [],
   "source": [
    "fontlabel = 16\n",
    "\n",
    "lambda_min = 0.4       # 최소 파장 (µm)\n",
    "lambda_max = 0.7       # 최대 파장 (µm)\n",
    "fmin = 1/lambda_max    # 최소 주파수\n",
    "fmax = 1/lambda_min    # 최대 주파수\n",
    "fcen = 0.5*(fmin+fmax) # 중앙 주파수\n",
    "\n",
    "resolution = 50        # 시뮬레이션 해상도\n",
    "design_region_resolution = 50\n",
    "\n",
    "# nfreq = 50             # 추출할 주파수 개수\n",
    "df = fmax-fmin         # 주파수 대역폭\n",
    "\n",
    "# df = 0\n",
    "nfreq = 1"
   ]
  },
  {
   "cell_type": "code",
   "execution_count": 166,
   "id": "b126f5f6",
   "metadata": {},
   "outputs": [],
   "source": [
    "# 셀 크기 설정\n",
    "# cell_size = mp.Vector3(Sx*3, Sy)\n",
    "cell_size = mp.Vector3(3, 3)\n",
    "\n",
    "ag_width = 1\n",
    "ag_height = 3\n",
    "\n",
    "offset_ag = 1.5\n",
    "ag_size = 1\n",
    "\n",
    "# 기본 지오메트리 정의\n",
    "geometry = [\n",
    "    # Bottom Ag layer\n",
    "    mp.Block(\n",
    "        material=mp.Medium(index = 1),\n",
    "        size=mp.Vector3(mp.inf, mp.inf, 0),\n",
    "        center=mp.Vector3(0, 0, 0)\n",
    "    ),\n",
    "\n",
    "    mp.Block(\n",
    "        material=Ag,\n",
    "        size=mp.Vector3(ag_width, ag_height, 0),\n",
    "        center=mp.Vector3(offset_ag, 0, 0)\n",
    "    ),\n",
    "    mp.Block(\n",
    "        material=Ag,\n",
    "        size=mp.Vector3(ag_width, ag_height, 0),\n",
    "        center=mp.Vector3(-offset_ag, 0, 0)\n",
    "    ),\n",
    "    mp.Block(\n",
    "        material=Ag,\n",
    "        size=mp.Vector3(ag_height, ag_width, 0),\n",
    "        center=mp.Vector3(0, offset_ag, 0)\n",
    "    ),\n",
    "    mp.Block(\n",
    "        material=Ag,\n",
    "        size=mp.Vector3(ag_height, ag_width, 0),\n",
    "        center=mp.Vector3(0, -offset_ag, 0)\n",
    "    ),\n",
    "]\n"
   ]
  },
  {
   "cell_type": "code",
   "execution_count": 167,
   "id": "03de19fa",
   "metadata": {},
   "outputs": [],
   "source": [
    "num_sources = 1\n",
    "spacing = 10 / resolution  \n",
    "\n",
    "offsets = [ (i - (num_sources - 1) // 2) * spacing for i in range(num_sources) ]\n",
    "\n",
    "sources = [\n",
    "    mp.Source(\n",
    "        mp.GaussianSource(frequency=fcen, fwidth=df, is_integrated=True),\n",
    "        component=mp.Ez,\n",
    "        center=mp.Vector3(0, 0, 0)\n",
    "    )\n",
    "]\n",
    "\n",
    "tpml = 0.4\n",
    "boundary_layers = [\n",
    "    # mp.Absorber(tpml, direction=mp.X),\n",
    "    mp.Absorber(tpml, direction=mp.Y, side=mp.Low),\n",
    "    mp.Absorber(tpml, direction=mp.Y, side=mp.High),\n",
    "    mp.Absorber(tpml, direction=mp.X, side=mp.Low),\n",
    "    mp.Absorber(tpml, direction=mp.X, side=mp.High),\n",
    "]\n",
    "\n",
    "k0 = mp.Vector3(0,0,0)\n",
    "\n",
    "sims = mp.Simulation(\n",
    "        resolution=resolution,\n",
    "        cell_size=cell_size,\n",
    "        boundary_layers=boundary_layers,\n",
    "        geometry=geometry,\n",
    "        sources=sources, \n",
    "        default_material=mp.Medium(index=1),\n",
    "    )\n"
   ]
  },
  {
   "cell_type": "code",
   "execution_count": 169,
   "id": "da6547fc",
   "metadata": {},
   "outputs": [
    {
     "name": "stdout",
     "output_type": "stream",
     "text": [
      "     block, center = (0,0,0)\n",
      "          size (1e+20,1e+20,0)\n",
      "          axes (1,0,0), (0,1,0), (0,0,1)\n",
      "          dielectric constant epsilon diagonal = (1,1,1)\n",
      "     block, center = (1.5,0,0)\n",
      "          size (1,3,0)\n",
      "          axes (1,0,0), (0,1,0), (0,0,1)\n",
      "          dielectric constant epsilon diagonal = (1,1,1)\n",
      "     block, center = (-1.5,0,0)\n",
      "          size (1,3,0)\n",
      "          axes (1,0,0), (0,1,0), (0,0,1)\n",
      "          dielectric constant epsilon diagonal = (1,1,1)\n",
      "     block, center = (0,1.5,0)\n",
      "          size (3,1,0)\n",
      "          axes (1,0,0), (0,1,0), (0,0,1)\n",
      "          dielectric constant epsilon diagonal = (1,1,1)\n",
      "     block, center = (0,-1.5,0)\n",
      "          size (3,1,0)\n",
      "          axes (1,0,0), (0,1,0), (0,0,1)\n",
      "          dielectric constant epsilon diagonal = (1,1,1)\n"
     ]
    },
    {
     "data": {
      "text/plain": [
       "<Axes: xlabel='X', ylabel='Y'>"
      ]
     },
     "execution_count": 169,
     "metadata": {},
     "output_type": "execute_result"
    },
    {
     "data": {
      "image/png": "[encoded data removed]",
      "text/plain": [
       "<Figure size 640x480 with 1 Axes>"
      ]
     },
     "metadata": {},
     "output_type": "display_data"
    }
   ],
   "source": [
    "sims.plot2D()"
   ]
  },
  {
   "cell_type": "code",
   "execution_count": null,
   "id": "c7818623",
   "metadata": {},
   "outputs": [
    {
     "ename": "TypeError",
     "evalue": "__init__() got an unexpected keyword argument 'yee_grid'",
     "output_type": "error",
     "traceback": [
      "\u001b[0;31m---------------------------------------------------------------------------\u001b[0m",
      "\u001b[0;31mTypeError\u001b[0m                                 Traceback (most recent call last)",
      "Cell \u001b[0;32mIn[181], line 8\u001b[0m\n\u001b[1;32m      2\u001b[0m flux_size \u001b[38;5;241m=\u001b[39m \u001b[38;5;241m0.2\u001b[39m\n\u001b[1;32m      4\u001b[0m mn_size \u001b[38;5;241m=\u001b[39m \u001b[38;5;241m2\u001b[39m\n\u001b[1;32m      6\u001b[0m input_flux1 \u001b[38;5;241m=\u001b[39m sims\u001b[38;5;241m.\u001b[39madd_flux(\n\u001b[1;32m      7\u001b[0m         fcen, \u001b[38;5;241m0\u001b[39m, \u001b[38;5;241m1\u001b[39m,\n\u001b[0;32m----> 8\u001b[0m         \u001b[43mmp\u001b[49m\u001b[38;5;241;43m.\u001b[39;49m\u001b[43mFluxRegion\u001b[49m\u001b[43m(\u001b[49m\u001b[43mcenter\u001b[49m\u001b[38;5;241;43m=\u001b[39;49m\u001b[43msources\u001b[49m\u001b[43m[\u001b[49m\u001b[38;5;241;43m0\u001b[39;49m\u001b[43m]\u001b[49m\u001b[38;5;241;43m.\u001b[39;49m\u001b[43mcenter\u001b[49m\u001b[43m \u001b[49m\u001b[38;5;241;43m-\u001b[39;49m\u001b[43m \u001b[49m\u001b[43mmp\u001b[49m\u001b[38;5;241;43m.\u001b[39;49m\u001b[43mVector3\u001b[49m\u001b[43m(\u001b[49m\u001b[43moffset\u001b[49m\u001b[43m,\u001b[49m\u001b[43m \u001b[49m\u001b[38;5;241;43m0\u001b[39;49m\u001b[43m,\u001b[49m\u001b[43m \u001b[49m\u001b[38;5;241;43m0\u001b[39;49m\u001b[43m)\u001b[49m\u001b[43m,\u001b[49m\n\u001b[1;32m      9\u001b[0m \u001b[43m                      \u001b[49m\u001b[43msize\u001b[49m\u001b[38;5;241;43m=\u001b[39;49m\u001b[43mmp\u001b[49m\u001b[38;5;241;43m.\u001b[39;49m\u001b[43mVector3\u001b[49m\u001b[43m(\u001b[49m\u001b[38;5;241;43m0\u001b[39;49m\u001b[43m,\u001b[49m\u001b[43m \u001b[49m\u001b[43mflux_size\u001b[49m\u001b[43m)\u001b[49m\u001b[43m,\u001b[49m\n\u001b[1;32m     10\u001b[0m \u001b[43m                      \u001b[49m\u001b[43mweight\u001b[49m\u001b[38;5;241;43m=\u001b[39;49m\u001b[38;5;241;43m-\u001b[39;49m\u001b[38;5;241;43m1\u001b[39;49m\u001b[43m,\u001b[49m\u001b[43myee_grid\u001b[49m\u001b[38;5;241;43m=\u001b[39;49m\u001b[38;5;28;43;01mTrue\u001b[39;49;00m\n\u001b[1;32m     11\u001b[0m \u001b[43m                      \u001b[49m\u001b[43m)\u001b[49m,\n\u001b[1;32m     12\u001b[0m     )\n\u001b[1;32m     14\u001b[0m input_flux2 \u001b[38;5;241m=\u001b[39m sims\u001b[38;5;241m.\u001b[39madd_flux(\n\u001b[1;32m     15\u001b[0m         fcen, \u001b[38;5;241m0\u001b[39m, \u001b[38;5;241m1\u001b[39m,\n\u001b[1;32m     16\u001b[0m         mp\u001b[38;5;241m.\u001b[39mFluxRegion(center\u001b[38;5;241m=\u001b[39msources[\u001b[38;5;241m0\u001b[39m]\u001b[38;5;241m.\u001b[39mcenter \u001b[38;5;241m+\u001b[39m mp\u001b[38;5;241m.\u001b[39mVector3(offset, \u001b[38;5;241m0\u001b[39m, \u001b[38;5;241m0\u001b[39m),\n\u001b[1;32m     17\u001b[0m                       size\u001b[38;5;241m=\u001b[39mmp\u001b[38;5;241m.\u001b[39mVector3(\u001b[38;5;241m0\u001b[39m, flux_size)),yee_grid\u001b[38;5;241m=\u001b[39m\u001b[38;5;28;01mTrue\u001b[39;00m\n\u001b[1;32m     18\u001b[0m     )\n\u001b[1;32m     20\u001b[0m input_flux3 \u001b[38;5;241m=\u001b[39m sims\u001b[38;5;241m.\u001b[39madd_flux(\n\u001b[1;32m     21\u001b[0m         fcen, \u001b[38;5;241m0\u001b[39m, \u001b[38;5;241m1\u001b[39m,\n\u001b[1;32m     22\u001b[0m         mp\u001b[38;5;241m.\u001b[39mFluxRegion(center\u001b[38;5;241m=\u001b[39msources[\u001b[38;5;241m0\u001b[39m]\u001b[38;5;241m.\u001b[39mcenter \u001b[38;5;241m-\u001b[39m mp\u001b[38;5;241m.\u001b[39mVector3(\u001b[38;5;241m0\u001b[39m, offset, \u001b[38;5;241m0\u001b[39m),\n\u001b[0;32m   (...)\u001b[0m\n\u001b[1;32m     25\u001b[0m                       ),\n\u001b[1;32m     26\u001b[0m     )\n",
      "\u001b[0;31mTypeError\u001b[0m: __init__() got an unexpected keyword argument 'yee_grid'"
     ]
    }
   ],
   "source": [
    "offset = 0.1\n",
    "flux_size = 0.2\n",
    "\n",
    "mn_size = 2\n",
    "\n",
    "input_flux1 = sims.add_flux(\n",
    "        fcen, 0, 1,\n",
    "        mp.FluxRegion(center=sources[0].center - mp.Vector3(offset, 0, 0),\n",
    "                      size=mp.Vector3(0, flux_size),\n",
    "                      weight=-1\n",
    "                      ),\n",
    "    )\n",
    "\n",
    "input_flux2 = sims.add_flux(\n",
    "        fcen, 0, 1,\n",
    "        mp.FluxRegion(center=sources[0].center + mp.Vector3(offset, 0, 0),\n",
    "                      size=mp.Vector3(0, flux_size)),\n",
    "    )\n",
    "\n",
    "input_flux3 = sims.add_flux(\n",
    "        fcen, 0, 1,\n",
    "        mp.FluxRegion(center=sources[0].center - mp.Vector3(0, offset, 0),\n",
    "                      size=mp.Vector3(flux_size, 0),\n",
    "                      weight=-1\n",
    "                      ),\n",
    "    )\n",
    "\n",
    "input_flux4 = sims.add_flux(\n",
    "        fcen, 0, 1,\n",
    "        mp.FluxRegion(center=sources[0].center + mp.Vector3(0, offset, 0),\n",
    "                      size=mp.Vector3(flux_size, 0))\n",
    "    )\n"
   ]
  },
  {
   "cell_type": "code",
   "execution_count": 182,
   "id": "2f61f25f",
   "metadata": {},
   "outputs": [],
   "source": [
    "offset = 0.01\n",
    "flux_size = 0.02\n",
    "\n",
    "mn_size = 2\n",
    "\n",
    "input_flux11 = sims.add_flux(\n",
    "        fcen, 0, 1,\n",
    "        mp.FluxRegion(center=sources[0].center - mp.Vector3(offset, 0, 0),\n",
    "                      size=mp.Vector3(0, flux_size),\n",
    "                      weight=-1\n",
    "                      ),\n",
    "    )\n",
    "\n",
    "input_flux21 = sims.add_flux(\n",
    "        fcen, 0, 1,\n",
    "        mp.FluxRegion(center=sources[0].center + mp.Vector3(offset, 0, 0),\n",
    "                      size=mp.Vector3(0, flux_size)), yee_grid=True,\n",
    "    )\n",
    "\n",
    "input_flux31 = sims.add_flux(\n",
    "        fcen, 0, 1,\n",
    "        mp.FluxRegion(center=sources[0].center - mp.Vector3(0, offset, 0),\n",
    "                      size=mp.Vector3(flux_size, 0),\n",
    "                      weight=-1\n",
    "                      ),\n",
    "    )\n",
    "\n",
    "input_flux41 = sims.add_flux(\n",
    "        fcen, 0, 1,\n",
    "        mp.FluxRegion(center=sources[0].center + mp.Vector3(0, offset, 0),\n",
    "                      size=mp.Vector3(flux_size, 0))\n",
    "    )\n",
    "\n",
    "\n",
    "# output_flux_small = sims.add_flux(\n",
    "#     fcen, 0, 1,\n",
    "#         mp.FluxRegion(center=sources[0].center + mp.Vector3(0, 0.5, 0),\n",
    "#                       size = mp.Vector3(0.02,0,0)),\n",
    "# )\n",
    "\n",
    "# output_flux_large = sims.add_flux(\n",
    "#     fcen, 0, 1,\n",
    "#         mp.FluxRegion(center=sources[0].center + mp.Vector3(0, 0.5+0.1-0.01, 0),\n",
    "#                       size = mp.Vector3(0.2,0,0)),\n",
    "# )"
   ]
  },
  {
   "cell_type": "code",
   "execution_count": 183,
   "id": "ea424fc6",
   "metadata": {},
   "outputs": [
    {
     "name": "stdout",
     "output_type": "stream",
     "text": [
      "     block, center = (0,0,0)\n",
      "          size (1e+20,1e+20,0)\n",
      "          axes (1,0,0), (0,1,0), (0,0,1)\n",
      "          dielectric constant epsilon diagonal = (1,1,1)\n",
      "     block, center = (1.5,0,0)\n",
      "          size (1,3,0)\n",
      "          axes (1,0,0), (0,1,0), (0,0,1)\n",
      "          dielectric constant epsilon diagonal = (1,1,1)\n",
      "     block, center = (-1.5,0,0)\n",
      "          size (1,3,0)\n",
      "          axes (1,0,0), (0,1,0), (0,0,1)\n",
      "          dielectric constant epsilon diagonal = (1,1,1)\n",
      "     block, center = (0,1.5,0)\n",
      "          size (3,1,0)\n",
      "          axes (1,0,0), (0,1,0), (0,0,1)\n",
      "          dielectric constant epsilon diagonal = (1,1,1)\n",
      "     block, center = (0,-1.5,0)\n",
      "          size (3,1,0)\n",
      "          axes (1,0,0), (0,1,0), (0,0,1)\n",
      "          dielectric constant epsilon diagonal = (1,1,1)\n"
     ]
    },
    {
     "data": {
      "text/plain": [
       "<Axes: xlabel='X', ylabel='Y'>"
      ]
     },
     "execution_count": 183,
     "metadata": {},
     "output_type": "execute_result"
    },
    {
     "data": {
      "image/png": "[encoded data removed]",
      "text/plain": [
       "<Figure size 640x480 with 1 Axes>"
      ]
     },
     "metadata": {},
     "output_type": "display_data"
    }
   ],
   "source": [
    "sims.plot2D()"
   ]
  },
  {
   "cell_type": "code",
   "execution_count": 184,
   "id": "5f35e54a",
   "metadata": {},
   "outputs": [
    {
     "name": "stdout",
     "output_type": "stream",
     "text": [
      "on time step 20100 (time=201), 0.0191641 s/step\n"
     ]
    },
    {
     "name": "stdout",
     "output_type": "stream",
     "text": [
      "run 2 finished at t = 401.0 (40100 timesteps)\n"
     ]
    }
   ],
   "source": [
    "sims.run(until=200)"
   ]
  },
  {
   "cell_type": "code",
   "execution_count": 102,
   "id": "b355b5b8",
   "metadata": {},
   "outputs": [
    {
     "name": "stdout",
     "output_type": "stream",
     "text": [
      "0.10721000606340626\n"
     ]
    }
   ],
   "source": [
    "# ### Small size\n",
    "# print(mp.get_fluxes(input_flux11)[0])\n",
    "# print(mp.get_fluxes(input_flux21)[0])\n",
    "# print(mp.get_fluxes(input_flux31)[0])\n",
    "print(mp.get_fluxes(input_flux41)[0])"
   ]
  },
  {
   "cell_type": "code",
   "execution_count": 103,
   "id": "a573ed88",
   "metadata": {},
   "outputs": [
    {
     "name": "stdout",
     "output_type": "stream",
     "text": [
      "0.1679505268538246\n"
     ]
    }
   ],
   "source": [
    "# ### Large size\n",
    "# print(mp.get_fluxes(input_flux1)[0])\n",
    "# print(mp.get_fluxes(input_flux2)[0])\n",
    "# print(mp.get_fluxes(input_flux3)[0])\n",
    "print(mp.get_fluxes(input_flux4)[0])"
   ]
  },
  {
   "cell_type": "code",
   "execution_count": 104,
   "id": "142825bf",
   "metadata": {},
   "outputs": [
    {
     "name": "stdout",
     "output_type": "stream",
     "text": [
      "0.0042697689181078885\n",
      "0.03585123290159728\n"
     ]
    }
   ],
   "source": [
    "print(mp.get_fluxes(output_flux_small)[0])\n",
    "print(mp.get_fluxes(output_flux_large)[0])"
   ]
  },
  {
   "cell_type": "code",
   "execution_count": 105,
   "id": "0247a48d",
   "metadata": {},
   "outputs": [
    {
     "name": "stdout",
     "output_type": "stream",
     "text": [
      "0.5038515805614738\n"
     ]
    }
   ],
   "source": [
    "print(mp.get_fluxes(input_flux1)[0]+mp.get_fluxes(input_flux2)[0]+mp.get_fluxes(input_flux3)[0]+mp.get_fluxes(input_flux4)[0])"
   ]
  },
  {
   "cell_type": "code",
   "execution_count": 106,
   "id": "9731f8a4",
   "metadata": {},
   "outputs": [
    {
     "name": "stdout",
     "output_type": "stream",
     "text": [
      "0.32163001819021875\n"
     ]
    }
   ],
   "source": [
    "print(mp.get_fluxes(input_flux11)[0]+mp.get_fluxes(input_flux21)[0]+mp.get_fluxes(input_flux31)[0]+mp.get_fluxes(input_flux41)[0])"
   ]
  },
  {
   "cell_type": "code",
   "execution_count": 107,
   "id": "aa67cac8",
   "metadata": {},
   "outputs": [
    {
     "data": {
      "text/plain": [
       "0.03982621655279692"
      ]
     },
     "execution_count": 107,
     "metadata": {},
     "output_type": "execute_result"
    }
   ],
   "source": [
    "0.0042697689181078885/0.10721000606340626"
   ]
  },
  {
   "cell_type": "code",
   "execution_count": 108,
   "id": "6d04e3b4",
   "metadata": {},
   "outputs": [
    {
     "data": {
      "text/plain": [
       "0.2134630570870452"
      ]
     },
     "execution_count": 108,
     "metadata": {},
     "output_type": "execute_result"
    }
   ],
   "source": [
    "0.03585123290159728/0.1679505268538246"
   ]
  },
  {
   "cell_type": "code",
   "execution_count": 178,
   "id": "5e967a24",
   "metadata": {},
   "outputs": [
    {
     "name": "stdout",
     "output_type": "stream",
     "text": [
      "0.005214575357955258\n",
      "0.009226858904350382\n"
     ]
    }
   ],
   "source": [
    "print(mp.get_fluxes(input_flux41)[0])\n",
    "print(mp.get_fluxes(input_flux4)[0])"
   ]
  }
 ],
 "metadata": {
  "kernelspec": {
   "display_name": "mp",
   "language": "python",
   "name": "python3"
  },
  "language_info": {
   "codemirror_mode": {
    "name": "ipython",
    "version": 3
   },
   "file_extension": ".py",
   "mimetype": "text/x-python",
   "name": "python",
   "nbconvert_exporter": "python",
   "pygments_lexer": "ipython3",
   "version": "3.9.22"
  }
 },
 "nbformat": 4,
 "nbformat_minor": 5
}
