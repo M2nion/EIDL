{
 "cells": [
  {
   "cell_type": "code",
   "execution_count": 1,
   "id": "7c0b5dbd",
   "metadata": {},
   "outputs": [],
   "source": [
    "import meep as mp\n",
    "import meep.adjoint as mpa\n",
    "import numpy as np\n",
    "from autograd import numpy as npa\n",
    "from autograd import tensor_jacobian_product, grad\n",
    "import nlopt\n",
    "from matplotlib import pyplot as plt\n",
    "from matplotlib.patches import Circle\n",
    "import math\n",
    "\n",
    "from meep.materials import Ag"
   ]
  },
  {
   "cell_type": "code",
   "execution_count": 2,
   "id": "8b2dc107",
   "metadata": {},
   "outputs": [],
   "source": [
    "fontlabel = 16\n",
    "\n",
    "lambda_min = 0.4       # 최소 파장 (µm)\n",
    "lambda_max = 0.7       # 최대 파장 (µm)\n",
    "fmin = 1/lambda_max    # 최소 주파수\n",
    "fmax = 1/lambda_min    # 최대 주파수\n",
    "fcen = 0.5*(fmin+fmax) # 중앙 주파수\n",
    "\n",
    "resolution = 50        # 시뮬레이션 해상도\n",
    "design_region_resolution = 50\n",
    "\n",
    "# nfreq = 50             # 추출할 주파수 개수\n",
    "df = fmax-fmin         # 주파수 대역폭\n",
    "\n",
    "# df = 0\n",
    "nfreq = 1"
   ]
  },
  {
   "cell_type": "code",
   "execution_count": 8,
   "id": "1ed44543",
   "metadata": {},
   "outputs": [],
   "source": [
    "tag_bot = 0.5\n",
    "tag_side = 4\n",
    "tsio2 = 4\n",
    "monitor_position = 0.5 * 2\n",
    "monitor_blank = 0.5 * 0.1\n",
    "tpml = 0.4\n",
    "\n",
    "width_ag = 0.2\n",
    "width_sio2 = 2\n",
    "width_bot_ag = round(width_ag + width_sio2 + width_ag,2)\n",
    "design_region_width = round(width_bot_ag, 3)\n",
    "design_region_height = 0.5\n",
    "\n",
    "# 시뮬레이션 셀 크기\n",
    "Sx = tpml + width_bot_ag + tpml\n",
    "Sy = round(tpml + tag_bot + tag_side + design_region_height + monitor_position + monitor_blank + tpml, 3)\n",
    "cell_size = mp.Vector3(Sx, Sy)\n",
    "\n",
    "# 재료\n",
    "SiO2 = mp.Medium(index=1.45)\n",
    "TiO2 = mp.Medium(index=2.6)\n",
    "Air = mp.Medium(index=1.0)\n",
    "\n",
    "# 디자인 변수 격자\n",
    "Nx = int(design_region_resolution * design_region_width) + 1\n",
    "Ny = 1  # 평면 구조\n",
    "\n",
    "# 위치 계산\n",
    "y_bottom = -Sy / 2\n",
    "center_y_ag = y_bottom + tpml + tag_bot / 2\n",
    "center_y_sio2 = y_bottom + tpml + tag_bot + tsio2 / 2\n",
    "center_y_design = y_bottom + tpml + tag_bot + tsio2 + design_region_height / 2\n",
    "center_y_monitor_position = y_bottom + tpml + tag_bot + tsio2 + design_region_height + monitor_position\n",
    "center_y_source_position = y_bottom + tpml + tag_bot + 1 / fcen\n",
    "center_Ag_x_position = design_region_width / 2 - width_ag / 2\n",
    "\n",
    "boundary_layers = [\n",
    "    # mp.Absorber(tpml, direction=mp.X),\n",
    "    mp.PML(tpml, direction=mp.Y)\n",
    "]"
   ]
  },
  {
   "cell_type": "code",
   "execution_count": 9,
   "id": "1962bbd4",
   "metadata": {},
   "outputs": [],
   "source": [
    "# 셀 크기 설정\n",
    "# cell_size = mp.Vector3(Sx*3, Sy)\n",
    "cell_size = mp.Vector3(width_bot_ag*3, Sy)\n",
    "\n",
    "# 기본 지오메트리 정의\n",
    "geometry = [\n",
    "    # Bottom Ag layer\n",
    "    mp.Block(\n",
    "        material=Ag,\n",
    "        size=mp.Vector3(width_bot_ag, tag_bot, 0),\n",
    "        center=mp.Vector3(0, center_y_ag, 0)\n",
    "    ),\n",
    "    # SiO2 layer\n",
    "    mp.Block(\n",
    "        material=SiO2,\n",
    "        size=mp.Vector3(width_sio2, tsio2, 0),\n",
    "        center=mp.Vector3(0, center_y_sio2, 0)\n",
    "    ),\n",
    "    # Side metal\n",
    "    mp.Block(\n",
    "        material=Ag,\n",
    "        size=mp.Vector3(width_ag, tsio2, 0),\n",
    "        center=mp.Vector3(-center_Ag_x_position, center_y_sio2, 0)\n",
    "    ),\n",
    "    mp.Block(\n",
    "        material=Ag,\n",
    "        size=mp.Vector3(width_ag, tsio2, 0),\n",
    "        center=mp.Vector3(center_Ag_x_position, center_y_sio2, 0)\n",
    "    ),\n",
    "]\n"
   ]
  },
  {
   "cell_type": "code",
   "execution_count": 10,
   "id": "0dc2b845",
   "metadata": {},
   "outputs": [],
   "source": [
    "# 몇개의 layer로 최적화를 할건지 설정하고 싶다면 layer_num 갯수 조절\n",
    "layer_num = 1\n",
    "\n",
    "ML = (layer_num > 1)\n",
    "\n",
    "region_height_each = design_region_height / layer_num\n",
    "full_center_y = y_bottom + tag_bot + tsio2 + design_region_height/2\n",
    "\n",
    "if ML:\n",
    "    design_variables = []\n",
    "    design_region = []\n",
    "    for dv in range(layer_num):\n",
    "        mg = mp.MaterialGrid(\n",
    "            mp.Vector3(Nx, Ny),\n",
    "            TiO2,       \n",
    "            SiO2,       \n",
    "            grid_type=\"U_MEAN\",\n",
    "            do_averaging=False\n",
    "        )\n",
    "        design_variables.append(mg)\n",
    "        offset = ((layer_num - 1) / 2 - dv) * region_height_each\n",
    "        center_y = full_center_y + offset\n",
    "\n",
    "        dr = mpa.DesignRegion(\n",
    "            mg,\n",
    "            volume=mp.Volume(\n",
    "                center=mp.Vector3(0, center_y, 0),\n",
    "                size=mp.Vector3(design_region_width, region_height_each, 0),\n",
    "            ),\n",
    "        )\n",
    "        design_region.append(dr)\n",
    "\n",
    "        geometry.append(\n",
    "            mp.Block(\n",
    "                material=design_variables[dv],\n",
    "                size=design_region[dv].size,\n",
    "                center=design_region[dv].center\n",
    "            )\n",
    "        )\n",
    "else:\n",
    "    design_variables = mp.MaterialGrid(\n",
    "        mp.Vector3(Nx, Ny),\n",
    "        TiO2,\n",
    "        SiO2,\n",
    "        grid_type=\"U_MEAN\",\n",
    "        do_averaging=False\n",
    "    )\n",
    "    design_region = mpa.DesignRegion(\n",
    "        design_variables,\n",
    "        volume=mp.Volume(\n",
    "            center=mp.Vector3(0, full_center_y, 0),\n",
    "            size=mp.Vector3(design_region_width, region_height_each, 0),\n",
    "        )\n",
    "    )\n",
    "    geometry.append(\n",
    "        mp.Block(\n",
    "            material=design_variables,\n",
    "            size=design_region.size,\n",
    "            center=design_region.center\n",
    "        )\n",
    "    )\n"
   ]
  },
  {
   "cell_type": "code",
   "execution_count": 11,
   "id": "7d2a888b",
   "metadata": {},
   "outputs": [
    {
     "name": "stderr",
     "output_type": "stream",
     "text": [
      "Warning: grid volume is not an integer number of pixels; cell size will be rounded to nearest pixel.\n"
     ]
    },
    {
     "name": "stdout",
     "output_type": "stream",
     "text": [
      "     block, center = (0,-2.775,0)\n",
      "          size (2.4,0.5,0)\n",
      "          axes (1,0,0), (0,1,0), (0,0,1)\n",
      "          dielectric constant epsilon diagonal = (1,1,1)\n",
      "     block, center = (0,-0.525,0)\n",
      "          size (2,4,0)\n",
      "          axes (1,0,0), (0,1,0), (0,0,1)\n",
      "          dielectric constant epsilon diagonal = (2.1025,2.1025,2.1025)\n",
      "     block, center = (-1.1,-0.525,0)\n",
      "          size (0.2,4,0)\n",
      "          axes (1,0,0), (0,1,0), (0,0,1)\n",
      "          dielectric constant epsilon diagonal = (1,1,1)\n",
      "     block, center = (1.1,-0.525,0)\n",
      "          size (0.2,4,0)\n",
      "          axes (1,0,0), (0,1,0), (0,0,1)\n",
      "          dielectric constant epsilon diagonal = (1,1,1)\n",
      "     block, center = (0,1.325,0)\n",
      "          size (2.4,0.5,0)\n",
      "          axes (1,0,0), (0,1,0), (0,0,1)\n"
     ]
    },
    {
     "data": {
      "text/plain": [
       "<Axes: xlabel='X', ylabel='Y'>"
      ]
     },
     "execution_count": 11,
     "metadata": {},
     "output_type": "execute_result"
    },
    {
     "data": {
      "image/png": "[encoded data removed]",
      "text/plain": [
       "<Figure size 640x480 with 1 Axes>"
      ]
     },
     "metadata": {},
     "output_type": "display_data"
    }
   ],
   "source": [
    "num_sources = 1\n",
    "spacing = 10 / resolution  \n",
    "\n",
    "offsets = [ (i - (num_sources - 1) // 2) * spacing for i in range(num_sources) ]\n",
    "\n",
    "sources = [\n",
    "    mp.Source(\n",
    "        mp.GaussianSource(frequency=fcen, fwidth=df, is_integrated=True),\n",
    "        component=mp.Ez,\n",
    "        center=mp.Vector3(offset, center_y_source_position, 0)\n",
    "    )\n",
    "    for offset in offsets\n",
    "]\n",
    "\n",
    "\n",
    "k0 = mp.Vector3(0,0,0)\n",
    "\n",
    "sims = [\n",
    "    mp.Simulation(\n",
    "        resolution=resolution,\n",
    "        cell_size=cell_size,\n",
    "        boundary_layers=boundary_layers,\n",
    "        geometry=geometry,\n",
    "        sources=[src], \n",
    "        default_material=mp.Medium(index=1),\n",
    "        extra_materials=[Ag],\n",
    "        k_point=k0\n",
    "    )\n",
    "    for src in sources\n",
    "]\n",
    "\n",
    "monitor_position_J = mp.Vector3(0, center_y_monitor_position)\n",
    "monitor_size = mp.Vector3(width_bot_ag*3, 0)\n",
    "\n",
    "dft_monitor = sims[0].add_dft_fields([mp.Ez], fcen,0,1, center = monitor_position_J, size = monitor_size, yee_grid=True)\n",
    "\n",
    "\n",
    "sims[0].plot2D()"
   ]
  },
  {
   "cell_type": "code",
   "execution_count": null,
   "id": "ce817f54",
   "metadata": {},
   "outputs": [
    {
     "name": "stderr",
     "output_type": "stream",
     "text": [
      "Warning: grid volume is not an integer number of pixels; cell size will be rounded to nearest pixel.\n"
     ]
    },
    {
     "name": "stdout",
     "output_type": "stream",
     "text": [
      "     block, center = (0,-2.775,0)\n",
      "          size (2.4,0.5,0)\n",
      "          axes (1,0,0), (0,1,0), (0,0,1)\n",
      "          dielectric constant epsilon diagonal = (1,1,1)\n",
      "     block, center = (0,-0.525,0)\n",
      "          size (2,4,0)\n",
      "          axes (1,0,0), (0,1,0), (0,0,1)\n",
      "          dielectric constant epsilon diagonal = (2.1025,2.1025,2.1025)\n",
      "     block, center = (-1.1,-0.525,0)\n",
      "          size (0.2,4,0)\n",
      "          axes (1,0,0), (0,1,0), (0,0,1)\n",
      "          dielectric constant epsilon diagonal = (1,1,1)\n",
      "     block, center = (1.1,-0.525,0)\n",
      "          size (0.2,4,0)\n",
      "          axes (1,0,0), (0,1,0), (0,0,1)\n",
      "          dielectric constant epsilon diagonal = (1,1,1)\n",
      "     block, center = (0,1.325,0)\n",
      "          size (2.4,0.5,0)\n",
      "          axes (1,0,0), (0,1,0), (0,0,1)\n"
     ]
    },
    {
     "data": {
      "image/png": "[encoded data removed]",
      "text/plain": [
       "<Figure size 640x480 with 1 Axes>"
      ]
     },
     "metadata": {},
     "output_type": "display_data"
    }
   ],
   "source": [
    "monitor_position_J = mp.Vector3(0, center_y_monitor_position)\n",
    "monitor_size = mp.Vector3(width_bot_ag*3, 0)\n",
    "\n",
    "FourierFields_list = [\n",
    "    mpa.FourierFields(\n",
    "        sims[i],  \n",
    "        mp.Volume(center=monitor_position_J, size=monitor_size),\n",
    "        mp.Ez,\n",
    "        yee_grid=True\n",
    "    )\n",
    "    for i in range(num_sources)\n",
    "]\n",
    "\n",
    "\n",
    "def J(fields):\n",
    "    P_sum = 0.0\n",
    "\n",
    "    for f in fields:\n",
    "        arr = npa.atleast_1d(f)\n",
    "        if arr.ndim >= 2:\n",
    "            data = arr[0]\n",
    "        else:\n",
    "            data = arr\n",
    "        Ez0 = npa.mean(data)\n",
    "        P_sum += npa.abs(Ez0)**2\n",
    "\n",
    "    return P_sum\n",
    "\n",
    "def J(fields, ff_list):\n",
    "\n",
    "    P_sum = 0.0\n",
    "\n",
    "    for ff in ff_list:\n",
    "        # 1) 모드 분해를 수행 (API 이름은 예시입니다: 실제 사용하시는 버전에 맞춰 바꿔주세요)\n",
    "        #    mode_coeffs: [c0, c1, c2, ...] (각 모드 계수)\n",
    "        #    mode_flux  : [F0, F1, F2, ...] (각 모드 Poynting flux)\n",
    "        mode_coeffs, mode_flux = ff.compute_mode_decomposition()\n",
    "\n",
    "        # 2) 0차 모드 계수 추출\n",
    "        c0 = mode_coeffs[0]\n",
    "\n",
    "        # 3) 0차 모드 세기 합산\n",
    "        P_sum += abs(c0)**2\n",
    "\n",
    "    return P_sum\n",
    "\n",
    "opt_list = [\n",
    "    mpa.OptimizationProblem(\n",
    "        simulation=sims[i],\n",
    "        objective_functions=[J],\n",
    "        objective_arguments=[FourierFields_list[i]],\n",
    "        design_regions=[design_region],  \n",
    "        frequencies=[fcen],\n",
    "        maximum_run_time=100,\n",
    "    )\n",
    "    for i in range(num_sources)\n",
    "]\n",
    "for i in range(num_sources):\n",
    "    opt_list[i].plot2D(True)"
   ]
  },
  {
   "cell_type": "code",
   "execution_count": 14,
   "id": "67643741",
   "metadata": {},
   "outputs": [],
   "source": [
    "class AdamOptimizer:\n",
    "    def __init__(self, lr=0.01, beta1=0.9, beta2=0.999, epsilon=1e-8, warmup_iters=10):\n",
    "        self.lr = lr\n",
    "        self.beta1 = beta1\n",
    "        self.beta2 = beta2\n",
    "        self.epsilon = epsilon\n",
    "        self.mt = None\n",
    "        self.vt = None\n",
    "        self.iter = 0\n",
    "        self.warmup_iters = warmup_iters\n",
    "    \n",
    "    def update(self, v, gradient):\n",
    "        if self.mt is None:\n",
    "            self.mt = np.zeros_like(v)\n",
    "        if self.vt is None:\n",
    "            self.vt = np.zeros_like(v)\n",
    "            \n",
    "        #Adam에서는 기울기 값과 기울기의 제곱값의 지수이동평균을 활용하여 step 변회량을 조절\n",
    "        self.iter += 1\n",
    "        self.mt = self.beta1 * self.mt + (1 - self.beta1) * gradient           #m_(t)=beta_(1)*m_(t-1)+(1-beta_(1))*gradient\n",
    "        self.vt = self.beta2 * self.vt + (1 - self.beta2) * (gradient ** 2)       #v_(t)=beta_(2)*v_(t-1)+(1-beta_(2))*(gradeint^2)\n",
    "         \n",
    "        # 초기 몇번의 update에서 0으로 편향되어 있어서 출발 지점에서 멀리 떨어진 곳으로 이동하는, 초기 경로의 편향 문제를 해결 하기 위해 unbiased하게 만들어줌\n",
    "        m_hat = self.mt / (1 - self.beta1 ** self.iter)   #m_hat=m/(1-beta1**t)\n",
    "        v_hat = self.vt / (1 - self.beta2 ** self.iter)\n",
    "        \n",
    "        # Warm-up 단계\n",
    "        if self.iter <= self.warmup_iters:\n",
    "            warmup_factor = self.iter / self.warmup_iters\n",
    "            lr = self.lr * warmup_factor\n",
    "        else:\n",
    "            lr = self.lr   #lr_t <- alpha*sqrt\n",
    "            \n",
    "        #update = self.lr * m_hat / (np.sqrt(v_hat) + self.epsilon)\n",
    "        update_factor= m_hat / (np.sqrt(v_hat) + self.epsilon) #theta_t <- theta_(t-1)-alpha_(t)*m_(t)/(sqrt(v_(t))+epsilon) alpha_(t)=learning rate\n",
    "        update = lr * update_factor\n",
    "        updated_v = v + update\n",
    "        updated_v = np.clip(updated_v, 0.0, 1.0)\n",
    "        \n",
    "        adam_lr=np.mean(np.abs(update))\n",
    "        adam_uf=np.mean(np.abs(update_factor))\n",
    "        \n",
    "        # adam_beta1=self.beta1\n",
    "        # # adam_beta2=self.beta2\n",
    "        adam_m=self.mt\n",
    "        adam_v=self.vt\n",
    "        adam_t=self.iter\n",
    "        \n",
    "        return updated_v, adam_lr, adam_uf, adam_m, adam_v, adam_t"
   ]
  },
  {
   "cell_type": "code",
   "execution_count": 15,
   "id": "898368d9",
   "metadata": {},
   "outputs": [],
   "source": [
    "eta_i = 0.5\n",
    "\n",
    "def multi_mapping(x, eta, beta):    \n",
    "    size_each = Nx * Ny\n",
    "\n",
    "    v3 = x.reshape(layer_num, size_each)\n",
    "\n",
    "    rho_list = []\n",
    "    for i in range(layer_num):\n",
    "        layer_field = v3[i].reshape(Nx, Ny)\n",
    "        sym_field   = (layer_field[::-1, :] + layer_field) / 2\n",
    "        flat        = sym_field.ravel()\n",
    "        proj        = mpa.tanh_projection(flat, beta, eta)\n",
    "        rho_list.append(proj)\n",
    "\n",
    "    return npa.concatenate(rho_list, axis=0)\n"
   ]
  },
  {
   "cell_type": "code",
   "execution_count": 18,
   "id": "4b7a9add",
   "metadata": {},
   "outputs": [
    {
     "name": "stderr",
     "output_type": "stream",
     "text": [
      "Warning: grid volume is not an integer number of pixels; cell size will be rounded to nearest pixel.\n"
     ]
    },
    {
     "name": "stdout",
     "output_type": "stream",
     "text": [
      "\n",
      "--- Iter 1 ---\n",
      "Starting forward run...\n",
      "Starting adjoint run...\n"
     ]
    },
    {
     "name": "stderr",
     "output_type": "stream",
     "text": [
      "Warning: grid volume is not an integer number of pixels; cell size will be rounded to nearest pixel.\n"
     ]
    },
    {
     "name": "stdout",
     "output_type": "stream",
     "text": [
      "Calculating gradient...\n",
      "Current β: 5.000\n",
      "FoM values: [0.0003269438639666599]\n",
      "Mean FoM: 0.000327\n",
      "Binarization degree: 0.2028\n",
      "\n",
      "--- Iter 2 ---\n",
      "Starting forward run...\n",
      "Starting adjoint run...\n"
     ]
    },
    {
     "name": "stderr",
     "output_type": "stream",
     "text": [
      "Warning: grid volume is not an integer number of pixels; cell size will be rounded to nearest pixel.\n"
     ]
    },
    {
     "name": "stdout",
     "output_type": "stream",
     "text": [
      "Calculating gradient...\n",
      "Current β: 5.000\n",
      "FoM values: [0.0005151720659832073]\n",
      "Mean FoM: 0.000515\n",
      "Binarization degree: 0.2023\n",
      "\n",
      "--- Iter 3 ---\n",
      "Starting forward run...\n",
      "Starting adjoint run...\n"
     ]
    },
    {
     "name": "stderr",
     "output_type": "stream",
     "text": [
      "Warning: grid volume is not an integer number of pixels; cell size will be rounded to nearest pixel.\n"
     ]
    },
    {
     "name": "stdout",
     "output_type": "stream",
     "text": [
      "Calculating gradient...\n",
      "Current β: 5.000\n",
      "FoM values: [0.0010375295320055012]\n",
      "Mean FoM: 0.001038\n",
      "Binarization degree: 0.2026\n",
      "\n",
      "--- Iter 4 ---\n",
      "Starting forward run...\n",
      "Starting adjoint run...\n"
     ]
    },
    {
     "name": "stderr",
     "output_type": "stream",
     "text": [
      "Warning: grid volume is not an integer number of pixels; cell size will be rounded to nearest pixel.\n"
     ]
    },
    {
     "name": "stdout",
     "output_type": "stream",
     "text": [
      "Calculating gradient...\n",
      "Current β: 5.000\n",
      "FoM values: [0.001835447226488046]\n",
      "Mean FoM: 0.001835\n",
      "Binarization degree: 0.2039\n",
      "\n",
      "--- Iter 5 ---\n",
      "Starting forward run...\n",
      "Starting adjoint run...\n"
     ]
    },
    {
     "name": "stderr",
     "output_type": "stream",
     "text": [
      "Warning: grid volume is not an integer number of pixels; cell size will be rounded to nearest pixel.\n"
     ]
    },
    {
     "name": "stdout",
     "output_type": "stream",
     "text": [
      "Calculating gradient...\n",
      "Current β: 5.000\n",
      "FoM values: [0.0026843618767236088]\n",
      "Mean FoM: 0.002684\n",
      "Binarization degree: 0.2063\n",
      "\n",
      "--- Iter 6 ---\n",
      "Starting forward run...\n",
      "Starting adjoint run...\n"
     ]
    },
    {
     "name": "stderr",
     "output_type": "stream",
     "text": [
      "Warning: grid volume is not an integer number of pixels; cell size will be rounded to nearest pixel.\n"
     ]
    },
    {
     "name": "stdout",
     "output_type": "stream",
     "text": [
      "Calculating gradient...\n",
      "Current β: 5.000\n",
      "FoM values: [0.0021820690592139823]\n",
      "Mean FoM: 0.002182\n",
      "Binarization degree: 0.2140\n",
      "\n",
      "--- Iter 7 ---\n",
      "Starting forward run...\n",
      "Starting adjoint run...\n"
     ]
    },
    {
     "name": "stderr",
     "output_type": "stream",
     "text": [
      "Warning: grid volume is not an integer number of pixels; cell size will be rounded to nearest pixel.\n"
     ]
    },
    {
     "name": "stdout",
     "output_type": "stream",
     "text": [
      "Calculating gradient...\n",
      "Current β: 5.000\n",
      "FoM values: [0.004102273149550597]\n",
      "Mean FoM: 0.004102\n",
      "Binarization degree: 0.2146\n",
      "\n",
      "--- Iter 8 ---\n",
      "Starting forward run...\n",
      "Starting adjoint run...\n"
     ]
    },
    {
     "name": "stderr",
     "output_type": "stream",
     "text": [
      "Warning: grid volume is not an integer number of pixels; cell size will be rounded to nearest pixel.\n"
     ]
    },
    {
     "name": "stdout",
     "output_type": "stream",
     "text": [
      "Calculating gradient...\n",
      "Current β: 5.000\n",
      "FoM values: [0.005101799040835194]\n",
      "Mean FoM: 0.005102\n",
      "Binarization degree: 0.2184\n",
      "\n",
      "--- Iter 9 ---\n",
      "Starting forward run...\n",
      "Starting adjoint run...\n"
     ]
    },
    {
     "name": "stderr",
     "output_type": "stream",
     "text": [
      "Warning: grid volume is not an integer number of pixels; cell size will be rounded to nearest pixel.\n"
     ]
    },
    {
     "name": "stdout",
     "output_type": "stream",
     "text": [
      "Calculating gradient...\n",
      "Current β: 5.000\n",
      "FoM values: [0.008075566857809871]\n",
      "Mean FoM: 0.008076\n",
      "Binarization degree: 0.2274\n",
      "\n",
      "--- Iter 10 ---\n",
      "Starting forward run...\n",
      "Starting adjoint run...\n"
     ]
    },
    {
     "name": "stderr",
     "output_type": "stream",
     "text": [
      "Warning: grid volume is not an integer number of pixels; cell size will be rounded to nearest pixel.\n"
     ]
    },
    {
     "name": "stdout",
     "output_type": "stream",
     "text": [
      "Calculating gradient...\n",
      "Current β: 5.000\n",
      "FoM values: [0.010389457974643574]\n",
      "Mean FoM: 0.010389\n",
      "Binarization degree: 0.2419\n",
      "\n",
      "--- Iter 11 ---\n",
      "Starting forward run...\n",
      "Starting adjoint run...\n"
     ]
    },
    {
     "name": "stderr",
     "output_type": "stream",
     "text": [
      "Warning: grid volume is not an integer number of pixels; cell size will be rounded to nearest pixel.\n"
     ]
    },
    {
     "name": "stdout",
     "output_type": "stream",
     "text": [
      "Calculating gradient...\n",
      "Current β: 5.000\n",
      "FoM values: [0.009129870666674873]\n",
      "Mean FoM: 0.009130\n",
      "Binarization degree: 0.2585\n",
      "\n",
      "--- Iter 12 ---\n",
      "Starting forward run...\n",
      "Starting adjoint run...\n"
     ]
    },
    {
     "name": "stderr",
     "output_type": "stream",
     "text": [
      "Warning: grid volume is not an integer number of pixels; cell size will be rounded to nearest pixel.\n"
     ]
    },
    {
     "name": "stdout",
     "output_type": "stream",
     "text": [
      "Calculating gradient...\n",
      "Current β: 5.000\n",
      "FoM values: [0.013506387803552653]\n",
      "Mean FoM: 0.013506\n",
      "Binarization degree: 0.2741\n",
      "\n",
      "--- Iter 13 ---\n",
      "Starting forward run...\n",
      "Starting adjoint run...\n"
     ]
    },
    {
     "name": "stderr",
     "output_type": "stream",
     "text": [
      "Warning: grid volume is not an integer number of pixels; cell size will be rounded to nearest pixel.\n"
     ]
    },
    {
     "name": "stdout",
     "output_type": "stream",
     "text": [
      "Calculating gradient...\n",
      "Current β: 5.000\n",
      "FoM values: [0.015772649896977145]\n",
      "Mean FoM: 0.015773\n",
      "Binarization degree: 0.2866\n",
      "\n",
      "--- Iter 14 ---\n",
      "Starting forward run...\n",
      "Starting adjoint run...\n"
     ]
    },
    {
     "name": "stderr",
     "output_type": "stream",
     "text": [
      "Warning: grid volume is not an integer number of pixels; cell size will be rounded to nearest pixel.\n"
     ]
    },
    {
     "name": "stdout",
     "output_type": "stream",
     "text": [
      "Calculating gradient...\n",
      "Current β: 5.000\n",
      "FoM values: [0.01622485019043395]\n",
      "Mean FoM: 0.016225\n",
      "Binarization degree: 0.2982\n",
      "\n",
      "--- Iter 15 ---\n",
      "Starting forward run...\n",
      "Starting adjoint run...\n"
     ]
    },
    {
     "name": "stderr",
     "output_type": "stream",
     "text": [
      "Warning: grid volume is not an integer number of pixels; cell size will be rounded to nearest pixel.\n"
     ]
    },
    {
     "name": "stdout",
     "output_type": "stream",
     "text": [
      "Calculating gradient...\n",
      "Current β: 5.000\n",
      "FoM values: [0.017424619939555713]\n",
      "Mean FoM: 0.017425\n",
      "Binarization degree: 0.3107\n",
      "\n",
      "--- Iter 16 ---\n",
      "Starting forward run...\n",
      "Starting adjoint run...\n"
     ]
    },
    {
     "name": "stderr",
     "output_type": "stream",
     "text": [
      "Warning: grid volume is not an integer number of pixels; cell size will be rounded to nearest pixel.\n"
     ]
    },
    {
     "name": "stdout",
     "output_type": "stream",
     "text": [
      "Calculating gradient...\n",
      "Current β: 5.000\n",
      "FoM values: [0.017255271236495763]\n",
      "Mean FoM: 0.017255\n",
      "Binarization degree: 0.3228\n",
      "\n",
      "--- Iter 17 ---\n",
      "Starting forward run...\n",
      "Starting adjoint run...\n"
     ]
    },
    {
     "name": "stderr",
     "output_type": "stream",
     "text": [
      "Warning: grid volume is not an integer number of pixels; cell size will be rounded to nearest pixel.\n"
     ]
    },
    {
     "name": "stdout",
     "output_type": "stream",
     "text": [
      "Calculating gradient...\n",
      "Current β: 5.000\n",
      "FoM values: [0.02024687666114856]\n",
      "Mean FoM: 0.020247\n",
      "Binarization degree: 0.3335\n",
      "\n",
      "--- Iter 18 ---\n",
      "Starting forward run...\n",
      "Starting adjoint run...\n"
     ]
    },
    {
     "name": "stderr",
     "output_type": "stream",
     "text": [
      "Warning: grid volume is not an integer number of pixels; cell size will be rounded to nearest pixel.\n"
     ]
    },
    {
     "name": "stdout",
     "output_type": "stream",
     "text": [
      "Calculating gradient...\n",
      "Current β: 5.000\n",
      "FoM values: [0.02030992653919423]\n",
      "Mean FoM: 0.020310\n",
      "Binarization degree: 0.3437\n",
      "\n",
      "--- Iter 19 ---\n",
      "Starting forward run...\n",
      "Starting adjoint run...\n"
     ]
    },
    {
     "name": "stderr",
     "output_type": "stream",
     "text": [
      "Warning: grid volume is not an integer number of pixels; cell size will be rounded to nearest pixel.\n"
     ]
    },
    {
     "name": "stdout",
     "output_type": "stream",
     "text": [
      "Calculating gradient...\n",
      "Current β: 5.000\n",
      "FoM values: [0.01768855963915775]\n",
      "Mean FoM: 0.017689\n",
      "Binarization degree: 0.3527\n",
      "\n",
      "--- Iter 20 ---\n",
      "Starting forward run...\n",
      "Starting adjoint run...\n"
     ]
    },
    {
     "name": "stderr",
     "output_type": "stream",
     "text": [
      "Warning: grid volume is not an integer number of pixels; cell size will be rounded to nearest pixel.\n"
     ]
    },
    {
     "name": "stdout",
     "output_type": "stream",
     "text": [
      "Calculating gradient...\n",
      "Current β: 5.000\n",
      "FoM values: [0.019616887638037605]\n",
      "Mean FoM: 0.019617\n",
      "Binarization degree: 0.3610\n",
      "\n",
      "--- Iter 21 ---\n",
      "Starting forward run...\n",
      "Starting adjoint run...\n"
     ]
    },
    {
     "name": "stderr",
     "output_type": "stream",
     "text": [
      "Warning: grid volume is not an integer number of pixels; cell size will be rounded to nearest pixel.\n"
     ]
    },
    {
     "name": "stdout",
     "output_type": "stream",
     "text": [
      "Calculating gradient...\n",
      "Current β: 5.000\n",
      "FoM values: [0.02188017710531914]\n",
      "Mean FoM: 0.021880\n",
      "Binarization degree: 0.3680\n",
      "\n",
      "--- Iter 22 ---\n",
      "Starting forward run...\n",
      "Starting adjoint run...\n"
     ]
    },
    {
     "name": "stderr",
     "output_type": "stream",
     "text": [
      "Warning: grid volume is not an integer number of pixels; cell size will be rounded to nearest pixel.\n"
     ]
    },
    {
     "name": "stdout",
     "output_type": "stream",
     "text": [
      "Calculating gradient...\n",
      "Current β: 5.000\n",
      "FoM values: [0.022799100058340536]\n",
      "Mean FoM: 0.022799\n",
      "Binarization degree: 0.3747\n",
      "\n",
      "--- Iter 23 ---\n",
      "Starting forward run...\n",
      "Starting adjoint run...\n"
     ]
    },
    {
     "name": "stderr",
     "output_type": "stream",
     "text": [
      "Warning: grid volume is not an integer number of pixels; cell size will be rounded to nearest pixel.\n"
     ]
    },
    {
     "name": "stdout",
     "output_type": "stream",
     "text": [
      "Calculating gradient...\n",
      "Current β: 5.000\n",
      "FoM values: [0.02419432191595115]\n",
      "Mean FoM: 0.024194\n",
      "Binarization degree: 0.3827\n",
      "\n",
      "--- Iter 24 ---\n",
      "Starting forward run...\n",
      "Starting adjoint run...\n"
     ]
    },
    {
     "name": "stderr",
     "output_type": "stream",
     "text": [
      "Warning: grid volume is not an integer number of pixels; cell size will be rounded to nearest pixel.\n"
     ]
    },
    {
     "name": "stdout",
     "output_type": "stream",
     "text": [
      "Calculating gradient...\n",
      "Current β: 5.000\n",
      "FoM values: [0.02696267447484295]\n",
      "Mean FoM: 0.026963\n",
      "Binarization degree: 0.3895\n",
      "\n",
      "--- Iter 25 ---\n",
      "Starting forward run...\n",
      "Starting adjoint run...\n"
     ]
    },
    {
     "name": "stderr",
     "output_type": "stream",
     "text": [
      "Warning: grid volume is not an integer number of pixels; cell size will be rounded to nearest pixel.\n"
     ]
    },
    {
     "name": "stdout",
     "output_type": "stream",
     "text": [
      "Calculating gradient...\n",
      "Current β: 5.000\n",
      "FoM values: [0.029016704657349134]\n",
      "Mean FoM: 0.029017\n",
      "Binarization degree: 0.3955\n",
      "\n",
      "--- Iter 26 ---\n",
      "Starting forward run...\n",
      "Starting adjoint run...\n"
     ]
    },
    {
     "name": "stderr",
     "output_type": "stream",
     "text": [
      "Warning: grid volume is not an integer number of pixels; cell size will be rounded to nearest pixel.\n"
     ]
    },
    {
     "name": "stdout",
     "output_type": "stream",
     "text": [
      "Calculating gradient...\n",
      "Current β: 5.000\n",
      "FoM values: [0.030351560169643868]\n",
      "Mean FoM: 0.030352\n",
      "Binarization degree: 0.4001\n",
      "\n",
      "--- Iter 27 ---\n",
      "Starting forward run...\n",
      "Starting adjoint run...\n"
     ]
    },
    {
     "name": "stderr",
     "output_type": "stream",
     "text": [
      "Warning: grid volume is not an integer number of pixels; cell size will be rounded to nearest pixel.\n"
     ]
    },
    {
     "name": "stdout",
     "output_type": "stream",
     "text": [
      "Calculating gradient...\n",
      "Current β: 5.000\n",
      "FoM values: [0.030328778268814575]\n",
      "Mean FoM: 0.030329\n",
      "Binarization degree: 0.4039\n",
      "\n",
      "--- Iter 28 ---\n",
      "Starting forward run...\n",
      "Starting adjoint run...\n"
     ]
    },
    {
     "name": "stderr",
     "output_type": "stream",
     "text": [
      "Warning: grid volume is not an integer number of pixels; cell size will be rounded to nearest pixel.\n"
     ]
    },
    {
     "name": "stdout",
     "output_type": "stream",
     "text": [
      "Calculating gradient...\n",
      "Current β: 5.000\n",
      "FoM values: [0.020836005972612114]\n",
      "Mean FoM: 0.020836\n",
      "Binarization degree: 0.4090\n",
      "\n",
      "--- Iter 29 ---\n",
      "Starting forward run...\n",
      "Starting adjoint run...\n"
     ]
    },
    {
     "name": "stderr",
     "output_type": "stream",
     "text": [
      "Warning: grid volume is not an integer number of pixels; cell size will be rounded to nearest pixel.\n"
     ]
    },
    {
     "name": "stdout",
     "output_type": "stream",
     "text": [
      "Calculating gradient...\n",
      "Current β: 5.000\n",
      "FoM values: [0.03011336710207058]\n",
      "Mean FoM: 0.030113\n",
      "Binarization degree: 0.4164\n",
      "\n",
      "--- Iter 30 ---\n",
      "Starting forward run...\n",
      "Starting adjoint run...\n"
     ]
    },
    {
     "name": "stderr",
     "output_type": "stream",
     "text": [
      "Warning: grid volume is not an integer number of pixels; cell size will be rounded to nearest pixel.\n"
     ]
    },
    {
     "name": "stdout",
     "output_type": "stream",
     "text": [
      "Calculating gradient...\n",
      "Current β: 5.000\n",
      "FoM values: [0.031407174274282815]\n",
      "Mean FoM: 0.031407\n",
      "Binarization degree: 0.4237\n",
      "\n",
      "--- Iter 31 ---\n",
      "Starting forward run...\n",
      "Starting adjoint run...\n"
     ]
    },
    {
     "name": "stderr",
     "output_type": "stream",
     "text": [
      "Warning: grid volume is not an integer number of pixels; cell size will be rounded to nearest pixel.\n"
     ]
    },
    {
     "name": "stdout",
     "output_type": "stream",
     "text": [
      "Calculating gradient...\n",
      "Current β: 5.000\n",
      "FoM values: [0.02886612878545014]\n",
      "Mean FoM: 0.028866\n",
      "Binarization degree: 0.4299\n",
      "\n",
      "--- Iter 32 ---\n",
      "Starting forward run...\n",
      "Starting adjoint run...\n"
     ]
    },
    {
     "name": "stderr",
     "output_type": "stream",
     "text": [
      "Warning: grid volume is not an integer number of pixels; cell size will be rounded to nearest pixel.\n"
     ]
    },
    {
     "name": "stdout",
     "output_type": "stream",
     "text": [
      "Calculating gradient...\n",
      "Current β: 5.000\n",
      "FoM values: [0.030986433463487152]\n",
      "Mean FoM: 0.030986\n",
      "Binarization degree: 0.4356\n",
      "\n",
      "--- Iter 33 ---\n",
      "Starting forward run...\n",
      "Starting adjoint run...\n"
     ]
    },
    {
     "name": "stderr",
     "output_type": "stream",
     "text": [
      "Warning: grid volume is not an integer number of pixels; cell size will be rounded to nearest pixel.\n"
     ]
    },
    {
     "name": "stdout",
     "output_type": "stream",
     "text": [
      "Calculating gradient...\n",
      "Current β: 5.000\n",
      "FoM values: [0.03157067462561658]\n",
      "Mean FoM: 0.031571\n",
      "Binarization degree: 0.4395\n",
      "\n",
      "--- Iter 34 ---\n",
      "Starting forward run...\n",
      "Starting adjoint run...\n"
     ]
    },
    {
     "name": "stderr",
     "output_type": "stream",
     "text": [
      "Warning: grid volume is not an integer number of pixels; cell size will be rounded to nearest pixel.\n"
     ]
    },
    {
     "name": "stdout",
     "output_type": "stream",
     "text": [
      "Calculating gradient...\n",
      "Current β: 5.000\n",
      "FoM values: [0.030806171956781918]\n",
      "Mean FoM: 0.030806\n",
      "Binarization degree: 0.4427\n",
      "\n",
      "--- Iter 35 ---\n",
      "Starting forward run...\n",
      "Starting adjoint run...\n"
     ]
    },
    {
     "name": "stderr",
     "output_type": "stream",
     "text": [
      "Warning: grid volume is not an integer number of pixels; cell size will be rounded to nearest pixel.\n"
     ]
    },
    {
     "name": "stdout",
     "output_type": "stream",
     "text": [
      "Calculating gradient...\n",
      "Current β: 5.000\n",
      "FoM values: [0.03220374592534312]\n",
      "Mean FoM: 0.032204\n",
      "Binarization degree: 0.4464\n",
      "\n",
      "--- Iter 36 ---\n",
      "Starting forward run...\n",
      "Starting adjoint run...\n"
     ]
    },
    {
     "name": "stderr",
     "output_type": "stream",
     "text": [
      "Warning: grid volume is not an integer number of pixels; cell size will be rounded to nearest pixel.\n"
     ]
    },
    {
     "name": "stdout",
     "output_type": "stream",
     "text": [
      "Calculating gradient...\n",
      "Current β: 5.000\n",
      "FoM values: [0.03237084063134074]\n",
      "Mean FoM: 0.032371\n",
      "Binarization degree: 0.4489\n",
      "\n",
      "--- Iter 37 ---\n",
      "Starting forward run...\n",
      "Starting adjoint run...\n"
     ]
    },
    {
     "name": "stderr",
     "output_type": "stream",
     "text": [
      "Warning: grid volume is not an integer number of pixels; cell size will be rounded to nearest pixel.\n"
     ]
    },
    {
     "name": "stdout",
     "output_type": "stream",
     "text": [
      "Calculating gradient...\n",
      "Current β: 5.000\n",
      "FoM values: [0.03241101588316833]\n",
      "Mean FoM: 0.032411\n",
      "Binarization degree: 0.4516\n",
      "\n",
      "--- Iter 38 ---\n",
      "Starting forward run...\n",
      "Starting adjoint run...\n"
     ]
    },
    {
     "name": "stderr",
     "output_type": "stream",
     "text": [
      "Warning: grid volume is not an integer number of pixels; cell size will be rounded to nearest pixel.\n"
     ]
    },
    {
     "name": "stdout",
     "output_type": "stream",
     "text": [
      "Calculating gradient...\n",
      "Current β: 5.000\n",
      "FoM values: [0.03255786076310491]\n",
      "Mean FoM: 0.032558\n",
      "Binarization degree: 0.4557\n",
      "\n",
      "--- Iter 39 ---\n",
      "Starting forward run...\n",
      "Starting adjoint run...\n"
     ]
    },
    {
     "name": "stderr",
     "output_type": "stream",
     "text": [
      "Warning: grid volume is not an integer number of pixels; cell size will be rounded to nearest pixel.\n"
     ]
    },
    {
     "name": "stdout",
     "output_type": "stream",
     "text": [
      "Calculating gradient...\n",
      "Current β: 5.000\n",
      "FoM values: [0.03133450548026861]\n",
      "Mean FoM: 0.031335\n",
      "Binarization degree: 0.4588\n",
      "\n",
      "--- Iter 40 ---\n",
      "Starting forward run...\n",
      "Starting adjoint run...\n"
     ]
    },
    {
     "name": "stderr",
     "output_type": "stream",
     "text": [
      "Warning: grid volume is not an integer number of pixels; cell size will be rounded to nearest pixel.\n"
     ]
    },
    {
     "name": "stdout",
     "output_type": "stream",
     "text": [
      "Calculating gradient...\n",
      "Current β: 5.000\n",
      "FoM values: [0.03275979045247811]\n",
      "Mean FoM: 0.032760\n",
      "Binarization degree: 0.4621\n",
      "\n",
      "--- Iter 41 ---\n",
      "Starting forward run...\n",
      "Starting adjoint run...\n"
     ]
    },
    {
     "name": "stderr",
     "output_type": "stream",
     "text": [
      "Warning: grid volume is not an integer number of pixels; cell size will be rounded to nearest pixel.\n"
     ]
    },
    {
     "name": "stdout",
     "output_type": "stream",
     "text": [
      "Calculating gradient...\n",
      "Current β: 5.000\n",
      "FoM values: [0.03269962906977174]\n",
      "Mean FoM: 0.032700\n",
      "Binarization degree: 0.4643\n",
      "\n",
      "--- Iter 42 ---\n",
      "Starting forward run...\n",
      "Starting adjoint run...\n"
     ]
    },
    {
     "name": "stderr",
     "output_type": "stream",
     "text": [
      "Warning: grid volume is not an integer number of pixels; cell size will be rounded to nearest pixel.\n"
     ]
    },
    {
     "name": "stdout",
     "output_type": "stream",
     "text": [
      "Calculating gradient...\n",
      "Current β: 5.000\n",
      "FoM values: [0.03203186191542029]\n",
      "Mean FoM: 0.032032\n",
      "Binarization degree: 0.4659\n",
      "\n",
      "--- Iter 43 ---\n",
      "Starting forward run...\n",
      "Starting adjoint run...\n"
     ]
    },
    {
     "name": "stderr",
     "output_type": "stream",
     "text": [
      "Warning: grid volume is not an integer number of pixels; cell size will be rounded to nearest pixel.\n"
     ]
    },
    {
     "name": "stdout",
     "output_type": "stream",
     "text": [
      "Calculating gradient...\n",
      "Current β: 5.000\n",
      "FoM values: [0.0330914146637793]\n",
      "Mean FoM: 0.033091\n",
      "Binarization degree: 0.4676\n",
      "\n",
      "--- Iter 44 ---\n",
      "Starting forward run...\n",
      "Starting adjoint run...\n"
     ]
    },
    {
     "name": "stderr",
     "output_type": "stream",
     "text": [
      "Warning: grid volume is not an integer number of pixels; cell size will be rounded to nearest pixel.\n"
     ]
    },
    {
     "name": "stdout",
     "output_type": "stream",
     "text": [
      "Calculating gradient...\n",
      "Current β: 5.000\n",
      "FoM values: [0.03237090868496779]\n",
      "Mean FoM: 0.032371\n",
      "Binarization degree: 0.4683\n",
      "\n",
      "--- Iter 45 ---\n",
      "Starting forward run...\n",
      "Starting adjoint run...\n"
     ]
    },
    {
     "name": "stderr",
     "output_type": "stream",
     "text": [
      "Warning: grid volume is not an integer number of pixels; cell size will be rounded to nearest pixel.\n"
     ]
    },
    {
     "name": "stdout",
     "output_type": "stream",
     "text": [
      "Calculating gradient...\n",
      "Current β: 5.000\n",
      "FoM values: [0.03353851187571977]\n",
      "Mean FoM: 0.033539\n",
      "Binarization degree: 0.4692\n",
      "\n",
      "--- Iter 46 ---\n",
      "Starting forward run...\n",
      "Starting adjoint run...\n"
     ]
    },
    {
     "name": "stderr",
     "output_type": "stream",
     "text": [
      "Warning: grid volume is not an integer number of pixels; cell size will be rounded to nearest pixel.\n"
     ]
    },
    {
     "name": "stdout",
     "output_type": "stream",
     "text": [
      "Calculating gradient...\n",
      "Current β: 5.000\n",
      "FoM values: [0.03355071878367479]\n",
      "Mean FoM: 0.033551\n",
      "Binarization degree: 0.4698\n",
      "\n",
      "--- Iter 47 ---\n",
      "Starting forward run...\n",
      "Starting adjoint run...\n"
     ]
    },
    {
     "name": "stderr",
     "output_type": "stream",
     "text": [
      "Warning: grid volume is not an integer number of pixels; cell size will be rounded to nearest pixel.\n"
     ]
    },
    {
     "name": "stdout",
     "output_type": "stream",
     "text": [
      "Calculating gradient...\n",
      "Current β: 5.000\n",
      "FoM values: [0.03300443891236133]\n",
      "Mean FoM: 0.033004\n",
      "Binarization degree: 0.4711\n",
      "\n",
      "--- Iter 48 ---\n",
      "Starting forward run...\n",
      "Starting adjoint run...\n"
     ]
    },
    {
     "name": "stderr",
     "output_type": "stream",
     "text": [
      "Warning: grid volume is not an integer number of pixels; cell size will be rounded to nearest pixel.\n"
     ]
    },
    {
     "name": "stdout",
     "output_type": "stream",
     "text": [
      "Calculating gradient...\n",
      "Current β: 5.000\n",
      "FoM values: [0.03357780717952864]\n",
      "Mean FoM: 0.033578\n",
      "Binarization degree: 0.4723\n",
      "\n",
      "--- Iter 49 ---\n",
      "Starting forward run...\n",
      "Starting adjoint run...\n"
     ]
    },
    {
     "name": "stderr",
     "output_type": "stream",
     "text": [
      "Warning: grid volume is not an integer number of pixels; cell size will be rounded to nearest pixel.\n"
     ]
    },
    {
     "name": "stdout",
     "output_type": "stream",
     "text": [
      "Calculating gradient...\n",
      "Current β: 5.000\n",
      "FoM values: [0.03286454223688187]\n",
      "Mean FoM: 0.032865\n",
      "Binarization degree: 0.4730\n",
      "\n",
      "--- Iter 50 ---\n",
      "Starting forward run...\n",
      "Starting adjoint run...\n"
     ]
    },
    {
     "name": "stderr",
     "output_type": "stream",
     "text": [
      "Warning: grid volume is not an integer number of pixels; cell size will be rounded to nearest pixel.\n"
     ]
    },
    {
     "name": "stdout",
     "output_type": "stream",
     "text": [
      "Calculating gradient...\n",
      "Current β: 5.000\n",
      "FoM values: [0.033022946191905704]\n",
      "Mean FoM: 0.033023\n",
      "Binarization degree: 0.4738\n",
      "\n",
      "--- Iter 51 ---\n",
      "Starting forward run...\n",
      "Starting adjoint run...\n"
     ]
    },
    {
     "name": "stderr",
     "output_type": "stream",
     "text": [
      "Warning: grid volume is not an integer number of pixels; cell size will be rounded to nearest pixel.\n"
     ]
    },
    {
     "name": "stdout",
     "output_type": "stream",
     "text": [
      "Calculating gradient...\n",
      "Current β: 5.000\n",
      "FoM values: [0.03328467675929195]\n",
      "Mean FoM: 0.033285\n",
      "Binarization degree: 0.4742\n",
      "\n",
      "--- Iter 52 ---\n",
      "Starting forward run...\n",
      "Starting adjoint run...\n"
     ]
    },
    {
     "name": "stderr",
     "output_type": "stream",
     "text": [
      "Warning: grid volume is not an integer number of pixels; cell size will be rounded to nearest pixel.\n"
     ]
    },
    {
     "name": "stdout",
     "output_type": "stream",
     "text": [
      "Calculating gradient...\n",
      "Current β: 5.000\n",
      "FoM values: [0.03257510289914615]\n",
      "Mean FoM: 0.032575\n",
      "Binarization degree: 0.4739\n",
      "\n",
      "--- Iter 53 ---\n",
      "Starting forward run...\n",
      "Starting adjoint run...\n"
     ]
    },
    {
     "name": "stderr",
     "output_type": "stream",
     "text": [
      "Warning: grid volume is not an integer number of pixels; cell size will be rounded to nearest pixel.\n"
     ]
    },
    {
     "name": "stdout",
     "output_type": "stream",
     "text": [
      "Calculating gradient...\n",
      "Current β: 5.000\n",
      "FoM values: [0.03342328851608102]\n",
      "Mean FoM: 0.033423\n",
      "Binarization degree: 0.4739\n",
      "\n",
      "--- Iter 54 ---\n",
      "Starting forward run...\n",
      "Starting adjoint run...\n"
     ]
    },
    {
     "name": "stderr",
     "output_type": "stream",
     "text": [
      "Warning: grid volume is not an integer number of pixels; cell size will be rounded to nearest pixel.\n"
     ]
    },
    {
     "name": "stdout",
     "output_type": "stream",
     "text": [
      "Calculating gradient...\n",
      "Current β: 5.000\n",
      "FoM values: [0.03348005266857228]\n",
      "Mean FoM: 0.033480\n",
      "Binarization degree: 0.4735\n",
      "\n",
      "--- Iter 55 ---\n",
      "Starting forward run...\n",
      "Starting adjoint run...\n"
     ]
    },
    {
     "name": "stderr",
     "output_type": "stream",
     "text": [
      "Warning: grid volume is not an integer number of pixels; cell size will be rounded to nearest pixel.\n"
     ]
    },
    {
     "name": "stdout",
     "output_type": "stream",
     "text": [
      "Calculating gradient...\n",
      "Current β: 5.000\n",
      "FoM values: [0.03279862106854717]\n",
      "Mean FoM: 0.032799\n",
      "Binarization degree: 0.4726\n",
      "\n",
      "--- Iter 56 ---\n",
      "Starting forward run...\n",
      "Starting adjoint run...\n"
     ]
    },
    {
     "name": "stderr",
     "output_type": "stream",
     "text": [
      "Warning: grid volume is not an integer number of pixels; cell size will be rounded to nearest pixel.\n"
     ]
    },
    {
     "name": "stdout",
     "output_type": "stream",
     "text": [
      "Calculating gradient...\n",
      "Current β: 5.000\n",
      "FoM values: [0.03357721817654634]\n",
      "Mean FoM: 0.033577\n",
      "Binarization degree: 0.4720\n",
      "\n",
      "--- Iter 57 ---\n",
      "Starting forward run...\n",
      "Starting adjoint run...\n"
     ]
    },
    {
     "name": "stderr",
     "output_type": "stream",
     "text": [
      "Warning: grid volume is not an integer number of pixels; cell size will be rounded to nearest pixel.\n"
     ]
    },
    {
     "name": "stdout",
     "output_type": "stream",
     "text": [
      "Calculating gradient...\n",
      "Current β: 5.000\n",
      "FoM values: [0.032882059480365045]\n",
      "Mean FoM: 0.032882\n",
      "Binarization degree: 0.4708\n",
      "\n",
      "--- Iter 58 ---\n",
      "Starting forward run...\n",
      "Starting adjoint run...\n"
     ]
    },
    {
     "name": "stderr",
     "output_type": "stream",
     "text": [
      "Warning: grid volume is not an integer number of pixels; cell size will be rounded to nearest pixel.\n"
     ]
    },
    {
     "name": "stdout",
     "output_type": "stream",
     "text": [
      "Calculating gradient...\n",
      "Current β: 5.000\n",
      "FoM values: [0.03266974318504685]\n",
      "Mean FoM: 0.032670\n",
      "Binarization degree: 0.4699\n",
      "\n",
      "--- Iter 59 ---\n",
      "Starting forward run...\n",
      "Starting adjoint run...\n"
     ]
    },
    {
     "name": "stderr",
     "output_type": "stream",
     "text": [
      "Warning: grid volume is not an integer number of pixels; cell size will be rounded to nearest pixel.\n"
     ]
    },
    {
     "name": "stdout",
     "output_type": "stream",
     "text": [
      "Calculating gradient...\n",
      "Current β: 5.000\n",
      "FoM values: [0.03272054241762944]\n",
      "Mean FoM: 0.032721\n",
      "Binarization degree: 0.4691\n",
      "\n",
      "--- Iter 60 ---\n",
      "Starting forward run...\n",
      "Starting adjoint run...\n"
     ]
    },
    {
     "name": "stderr",
     "output_type": "stream",
     "text": [
      "Warning: grid volume is not an integer number of pixels; cell size will be rounded to nearest pixel.\n"
     ]
    },
    {
     "name": "stdout",
     "output_type": "stream",
     "text": [
      "Calculating gradient...\n",
      "Current β: 5.000\n",
      "FoM values: [0.03211182219287884]\n",
      "Mean FoM: 0.032112\n",
      "Binarization degree: 0.4682\n",
      "\n",
      "--- Iter 61 ---\n",
      "Starting forward run...\n",
      "Starting adjoint run...\n"
     ]
    },
    {
     "name": "stderr",
     "output_type": "stream",
     "text": [
      "Warning: grid volume is not an integer number of pixels; cell size will be rounded to nearest pixel.\n"
     ]
    },
    {
     "name": "stdout",
     "output_type": "stream",
     "text": [
      "Calculating gradient...\n",
      "Current β: 5.000\n",
      "FoM values: [0.03290898719467163]\n",
      "Mean FoM: 0.032909\n",
      "Binarization degree: 0.4678\n",
      "\n",
      "--- Iter 62 ---\n",
      "Starting forward run...\n",
      "Starting adjoint run...\n"
     ]
    },
    {
     "name": "stderr",
     "output_type": "stream",
     "text": [
      "Warning: grid volume is not an integer number of pixels; cell size will be rounded to nearest pixel.\n"
     ]
    },
    {
     "name": "stdout",
     "output_type": "stream",
     "text": [
      "Calculating gradient...\n",
      "Current β: 5.000\n",
      "FoM values: [0.03270398040263467]\n",
      "Mean FoM: 0.032704\n",
      "Binarization degree: 0.4669\n",
      "\n",
      "--- Iter 63 ---\n",
      "Starting forward run...\n",
      "Starting adjoint run...\n"
     ]
    },
    {
     "name": "stderr",
     "output_type": "stream",
     "text": [
      "Warning: grid volume is not an integer number of pixels; cell size will be rounded to nearest pixel.\n"
     ]
    },
    {
     "name": "stdout",
     "output_type": "stream",
     "text": [
      "Calculating gradient...\n",
      "Current β: 5.000\n",
      "FoM values: [0.033084704652561095]\n",
      "Mean FoM: 0.033085\n",
      "Binarization degree: 0.4662\n",
      "\n",
      "--- Iter 64 ---\n",
      "Starting forward run...\n",
      "Starting adjoint run...\n"
     ]
    },
    {
     "name": "stderr",
     "output_type": "stream",
     "text": [
      "Warning: grid volume is not an integer number of pixels; cell size will be rounded to nearest pixel.\n"
     ]
    },
    {
     "name": "stdout",
     "output_type": "stream",
     "text": [
      "Calculating gradient...\n",
      "Current β: 5.000\n",
      "FoM values: [0.03310105218889372]\n",
      "Mean FoM: 0.033101\n",
      "Binarization degree: 0.4654\n",
      "\n",
      "--- Iter 65 ---\n",
      "Starting forward run...\n",
      "Starting adjoint run...\n"
     ]
    },
    {
     "name": "stderr",
     "output_type": "stream",
     "text": [
      "Warning: grid volume is not an integer number of pixels; cell size will be rounded to nearest pixel.\n"
     ]
    },
    {
     "name": "stdout",
     "output_type": "stream",
     "text": [
      "Calculating gradient...\n",
      "Current β: 5.000\n",
      "FoM values: [0.032974710661519635]\n",
      "Mean FoM: 0.032975\n",
      "Binarization degree: 0.4645\n",
      "\n",
      "--- Iter 66 ---\n",
      "Starting forward run...\n",
      "Starting adjoint run...\n"
     ]
    },
    {
     "name": "stderr",
     "output_type": "stream",
     "text": [
      "Warning: grid volume is not an integer number of pixels; cell size will be rounded to nearest pixel.\n"
     ]
    },
    {
     "name": "stdout",
     "output_type": "stream",
     "text": [
      "Calculating gradient...\n",
      "Current β: 5.000\n",
      "FoM values: [0.0334217317396067]\n",
      "Mean FoM: 0.033422\n",
      "Binarization degree: 0.4639\n",
      "\n",
      "--- Iter 67 ---\n",
      "Starting forward run...\n",
      "Starting adjoint run...\n"
     ]
    },
    {
     "name": "stderr",
     "output_type": "stream",
     "text": [
      "Warning: grid volume is not an integer number of pixels; cell size will be rounded to nearest pixel.\n"
     ]
    },
    {
     "name": "stdout",
     "output_type": "stream",
     "text": [
      "Calculating gradient...\n",
      "Current β: 5.000\n",
      "FoM values: [0.032556823104067045]\n",
      "Mean FoM: 0.032557\n",
      "Binarization degree: 0.4629\n",
      "\n",
      "--- Iter 68 ---\n",
      "Starting forward run...\n",
      "Starting adjoint run...\n"
     ]
    },
    {
     "name": "stderr",
     "output_type": "stream",
     "text": [
      "Warning: grid volume is not an integer number of pixels; cell size will be rounded to nearest pixel.\n"
     ]
    },
    {
     "name": "stdout",
     "output_type": "stream",
     "text": [
      "Calculating gradient...\n",
      "Current β: 5.000\n",
      "FoM values: [0.03309269770588875]\n",
      "Mean FoM: 0.033093\n",
      "Binarization degree: 0.4624\n",
      "\n",
      "--- Iter 69 ---\n",
      "Starting forward run...\n",
      "Starting adjoint run...\n"
     ]
    },
    {
     "name": "stderr",
     "output_type": "stream",
     "text": [
      "Warning: grid volume is not an integer number of pixels; cell size will be rounded to nearest pixel.\n"
     ]
    },
    {
     "name": "stdout",
     "output_type": "stream",
     "text": [
      "Calculating gradient...\n",
      "Current β: 5.000\n",
      "FoM values: [0.030858148972685143]\n",
      "Mean FoM: 0.030858\n",
      "Binarization degree: 0.4611\n",
      "\n",
      "--- Iter 70 ---\n",
      "Starting forward run...\n",
      "Starting adjoint run...\n"
     ]
    },
    {
     "name": "stderr",
     "output_type": "stream",
     "text": [
      "Warning: grid volume is not an integer number of pixels; cell size will be rounded to nearest pixel.\n"
     ]
    },
    {
     "name": "stdout",
     "output_type": "stream",
     "text": [
      "Calculating gradient...\n",
      "Current β: 5.000\n",
      "FoM values: [0.03214177425385401]\n",
      "Mean FoM: 0.032142\n",
      "Binarization degree: 0.4610\n",
      "\n",
      "--- Iter 71 ---\n",
      "Starting forward run...\n",
      "Starting adjoint run...\n"
     ]
    },
    {
     "name": "stderr",
     "output_type": "stream",
     "text": [
      "Warning: grid volume is not an integer number of pixels; cell size will be rounded to nearest pixel.\n"
     ]
    },
    {
     "name": "stdout",
     "output_type": "stream",
     "text": [
      "Calculating gradient...\n",
      "Current β: 5.000\n",
      "FoM values: [0.030791623064163987]\n",
      "Mean FoM: 0.030792\n",
      "Binarization degree: 0.4601\n",
      "\n",
      "--- Iter 72 ---\n",
      "Starting forward run...\n",
      "Starting adjoint run...\n"
     ]
    },
    {
     "name": "stderr",
     "output_type": "stream",
     "text": [
      "Warning: grid volume is not an integer number of pixels; cell size will be rounded to nearest pixel.\n"
     ]
    },
    {
     "name": "stdout",
     "output_type": "stream",
     "text": [
      "Calculating gradient...\n",
      "Current β: 5.000\n",
      "FoM values: [0.032600542237679574]\n",
      "Mean FoM: 0.032601\n",
      "Binarization degree: 0.4601\n",
      "\n",
      "--- Iter 73 ---\n",
      "Starting forward run...\n",
      "Starting adjoint run...\n"
     ]
    },
    {
     "name": "stderr",
     "output_type": "stream",
     "text": [
      "Warning: grid volume is not an integer number of pixels; cell size will be rounded to nearest pixel.\n"
     ]
    },
    {
     "name": "stdout",
     "output_type": "stream",
     "text": [
      "Calculating gradient...\n",
      "Current β: 5.000\n",
      "FoM values: [0.03288043628248456]\n",
      "Mean FoM: 0.032880\n",
      "Binarization degree: 0.4598\n",
      "\n",
      "--- Iter 74 ---\n",
      "Starting forward run...\n",
      "Starting adjoint run...\n"
     ]
    },
    {
     "name": "stderr",
     "output_type": "stream",
     "text": [
      "Warning: grid volume is not an integer number of pixels; cell size will be rounded to nearest pixel.\n"
     ]
    },
    {
     "name": "stdout",
     "output_type": "stream",
     "text": [
      "Calculating gradient...\n",
      "Current β: 5.000\n",
      "FoM values: [0.03221945662966305]\n",
      "Mean FoM: 0.032219\n",
      "Binarization degree: 0.4593\n",
      "\n",
      "--- Iter 75 ---\n",
      "Starting forward run...\n",
      "Starting adjoint run...\n"
     ]
    },
    {
     "name": "stderr",
     "output_type": "stream",
     "text": [
      "Warning: grid volume is not an integer number of pixels; cell size will be rounded to nearest pixel.\n"
     ]
    },
    {
     "name": "stdout",
     "output_type": "stream",
     "text": [
      "Calculating gradient...\n",
      "Current β: 5.000\n",
      "FoM values: [0.03333340199522153]\n",
      "Mean FoM: 0.033333\n",
      "Binarization degree: 0.4594\n",
      "\n",
      "--- Iter 76 ---\n",
      "Starting forward run...\n",
      "Starting adjoint run...\n"
     ]
    },
    {
     "name": "stderr",
     "output_type": "stream",
     "text": [
      "Warning: grid volume is not an integer number of pixels; cell size will be rounded to nearest pixel.\n"
     ]
    },
    {
     "name": "stdout",
     "output_type": "stream",
     "text": [
      "Calculating gradient...\n",
      "Current β: 5.000\n",
      "FoM values: [0.03189794295466221]\n",
      "Mean FoM: 0.031898\n",
      "Binarization degree: 0.4584\n",
      "\n",
      "--- Iter 77 ---\n",
      "Starting forward run...\n",
      "Starting adjoint run...\n"
     ]
    },
    {
     "name": "stderr",
     "output_type": "stream",
     "text": [
      "Warning: grid volume is not an integer number of pixels; cell size will be rounded to nearest pixel.\n"
     ]
    },
    {
     "name": "stdout",
     "output_type": "stream",
     "text": [
      "Calculating gradient...\n",
      "Current β: 5.000\n",
      "FoM values: [0.033423759756757355]\n",
      "Mean FoM: 0.033424\n",
      "Binarization degree: 0.4587\n",
      "\n",
      "--- Iter 78 ---\n",
      "Starting forward run...\n",
      "Starting adjoint run...\n"
     ]
    },
    {
     "name": "stderr",
     "output_type": "stream",
     "text": [
      "Warning: grid volume is not an integer number of pixels; cell size will be rounded to nearest pixel.\n"
     ]
    },
    {
     "name": "stdout",
     "output_type": "stream",
     "text": [
      "Calculating gradient...\n",
      "Current β: 5.000\n",
      "FoM values: [0.03306461289061803]\n",
      "Mean FoM: 0.033065\n",
      "Binarization degree: 0.4582\n",
      "\n",
      "--- Iter 79 ---\n",
      "Starting forward run...\n",
      "Starting adjoint run...\n"
     ]
    },
    {
     "name": "stderr",
     "output_type": "stream",
     "text": [
      "Warning: grid volume is not an integer number of pixels; cell size will be rounded to nearest pixel.\n"
     ]
    },
    {
     "name": "stdout",
     "output_type": "stream",
     "text": [
      "Calculating gradient...\n",
      "Current β: 5.000\n",
      "FoM values: [0.032489785078418223]\n",
      "Mean FoM: 0.032490\n",
      "Binarization degree: 0.4579\n",
      "\n",
      "--- Iter 80 ---\n",
      "Starting forward run...\n",
      "Starting adjoint run...\n"
     ]
    },
    {
     "name": "stderr",
     "output_type": "stream",
     "text": [
      "Warning: grid volume is not an integer number of pixels; cell size will be rounded to nearest pixel.\n"
     ]
    },
    {
     "name": "stdout",
     "output_type": "stream",
     "text": [
      "Calculating gradient...\n",
      "Current β: 5.000\n",
      "FoM values: [0.03330890866858624]\n",
      "Mean FoM: 0.033309\n",
      "Binarization degree: 0.4582\n",
      "\n",
      "--- Iter 81 ---\n",
      "Starting forward run...\n",
      "Starting adjoint run...\n"
     ]
    },
    {
     "name": "stderr",
     "output_type": "stream",
     "text": [
      "Warning: grid volume is not an integer number of pixels; cell size will be rounded to nearest pixel.\n"
     ]
    },
    {
     "name": "stdout",
     "output_type": "stream",
     "text": [
      "Calculating gradient...\n",
      "Current β: 5.000\n",
      "FoM values: [0.03241948084366651]\n",
      "Mean FoM: 0.032419\n",
      "Binarization degree: 0.4576\n",
      "\n",
      "--- Iter 82 ---\n",
      "Starting forward run...\n",
      "Starting adjoint run...\n"
     ]
    },
    {
     "name": "stderr",
     "output_type": "stream",
     "text": [
      "Warning: grid volume is not an integer number of pixels; cell size will be rounded to nearest pixel.\n"
     ]
    },
    {
     "name": "stdout",
     "output_type": "stream",
     "text": [
      "Calculating gradient...\n",
      "Current β: 5.000\n",
      "FoM values: [0.033294929097137424]\n",
      "Mean FoM: 0.033295\n",
      "Binarization degree: 0.4576\n",
      "\n",
      "--- Iter 83 ---\n",
      "Starting forward run...\n",
      "Starting adjoint run...\n"
     ]
    },
    {
     "name": "stderr",
     "output_type": "stream",
     "text": [
      "Warning: grid volume is not an integer number of pixels; cell size will be rounded to nearest pixel.\n"
     ]
    },
    {
     "name": "stdout",
     "output_type": "stream",
     "text": [
      "Calculating gradient...\n",
      "Current β: 5.000\n",
      "FoM values: [0.03338984706294517]\n",
      "Mean FoM: 0.033390\n",
      "Binarization degree: 0.4572\n",
      "\n",
      "--- Iter 84 ---\n",
      "Starting forward run...\n",
      "Starting adjoint run...\n"
     ]
    },
    {
     "name": "stderr",
     "output_type": "stream",
     "text": [
      "Warning: grid volume is not an integer number of pixels; cell size will be rounded to nearest pixel.\n"
     ]
    },
    {
     "name": "stdout",
     "output_type": "stream",
     "text": [
      "Calculating gradient...\n",
      "Current β: 5.000\n",
      "FoM values: [0.03260470386411099]\n",
      "Mean FoM: 0.032605\n",
      "Binarization degree: 0.4569\n",
      "\n",
      "--- Iter 85 ---\n",
      "Starting forward run...\n",
      "Starting adjoint run...\n"
     ]
    },
    {
     "name": "stderr",
     "output_type": "stream",
     "text": [
      "Warning: grid volume is not an integer number of pixels; cell size will be rounded to nearest pixel.\n"
     ]
    },
    {
     "name": "stdout",
     "output_type": "stream",
     "text": [
      "Calculating gradient...\n",
      "Current β: 5.000\n",
      "FoM values: [0.033759250032119874]\n",
      "Mean FoM: 0.033759\n",
      "Binarization degree: 0.4575\n",
      "\n",
      "--- Iter 86 ---\n",
      "Starting forward run...\n",
      "Starting adjoint run...\n"
     ]
    },
    {
     "name": "stderr",
     "output_type": "stream",
     "text": [
      "Warning: grid volume is not an integer number of pixels; cell size will be rounded to nearest pixel.\n"
     ]
    },
    {
     "name": "stdout",
     "output_type": "stream",
     "text": [
      "Calculating gradient...\n",
      "Current β: 5.000\n",
      "FoM values: [0.03344739779310442]\n",
      "Mean FoM: 0.033447\n",
      "Binarization degree: 0.4570\n",
      "\n",
      "--- Iter 87 ---\n",
      "Starting forward run...\n",
      "Starting adjoint run...\n"
     ]
    },
    {
     "name": "stderr",
     "output_type": "stream",
     "text": [
      "Warning: grid volume is not an integer number of pixels; cell size will be rounded to nearest pixel.\n"
     ]
    },
    {
     "name": "stdout",
     "output_type": "stream",
     "text": [
      "Calculating gradient...\n",
      "Current β: 5.000\n",
      "FoM values: [0.033779882842259364]\n",
      "Mean FoM: 0.033780\n",
      "Binarization degree: 0.4570\n",
      "\n",
      "--- Iter 88 ---\n",
      "Starting forward run...\n",
      "Starting adjoint run...\n"
     ]
    },
    {
     "name": "stderr",
     "output_type": "stream",
     "text": [
      "Warning: grid volume is not an integer number of pixels; cell size will be rounded to nearest pixel.\n"
     ]
    },
    {
     "name": "stdout",
     "output_type": "stream",
     "text": [
      "Calculating gradient...\n",
      "Current β: 5.000\n",
      "FoM values: [0.03408809034748484]\n",
      "Mean FoM: 0.034088\n",
      "Binarization degree: 0.4571\n",
      "\n",
      "--- Iter 89 ---\n",
      "Starting forward run...\n",
      "Starting adjoint run...\n"
     ]
    },
    {
     "name": "stderr",
     "output_type": "stream",
     "text": [
      "Warning: grid volume is not an integer number of pixels; cell size will be rounded to nearest pixel.\n"
     ]
    },
    {
     "name": "stdout",
     "output_type": "stream",
     "text": [
      "Calculating gradient...\n",
      "Current β: 5.000\n",
      "FoM values: [0.03322713306551983]\n",
      "Mean FoM: 0.033227\n",
      "Binarization degree: 0.4565\n",
      "\n",
      "--- Iter 90 ---\n",
      "Starting forward run...\n",
      "Starting adjoint run...\n"
     ]
    },
    {
     "name": "stderr",
     "output_type": "stream",
     "text": [
      "Warning: grid volume is not an integer number of pixels; cell size will be rounded to nearest pixel.\n"
     ]
    },
    {
     "name": "stdout",
     "output_type": "stream",
     "text": [
      "Calculating gradient...\n",
      "Current β: 5.000\n",
      "FoM values: [0.033926404020259475]\n",
      "Mean FoM: 0.033926\n",
      "Binarization degree: 0.4566\n",
      "\n",
      "--- Iter 91 ---\n",
      "Starting forward run...\n",
      "Starting adjoint run...\n"
     ]
    },
    {
     "name": "stderr",
     "output_type": "stream",
     "text": [
      "Warning: grid volume is not an integer number of pixels; cell size will be rounded to nearest pixel.\n"
     ]
    },
    {
     "name": "stdout",
     "output_type": "stream",
     "text": [
      "Calculating gradient...\n",
      "Current β: 5.000\n",
      "FoM values: [0.03368518545110139]\n",
      "Mean FoM: 0.033685\n",
      "Binarization degree: 0.4562\n",
      "\n",
      "--- Iter 92 ---\n",
      "Starting forward run...\n",
      "Starting adjoint run...\n"
     ]
    },
    {
     "name": "stderr",
     "output_type": "stream",
     "text": [
      "Warning: grid volume is not an integer number of pixels; cell size will be rounded to nearest pixel.\n"
     ]
    },
    {
     "name": "stdout",
     "output_type": "stream",
     "text": [
      "Calculating gradient...\n",
      "Current β: 5.000\n",
      "FoM values: [0.03373336297403591]\n",
      "Mean FoM: 0.033733\n",
      "Binarization degree: 0.4559\n",
      "\n",
      "--- Iter 93 ---\n",
      "Starting forward run...\n",
      "Starting adjoint run...\n"
     ]
    },
    {
     "name": "stderr",
     "output_type": "stream",
     "text": [
      "Warning: grid volume is not an integer number of pixels; cell size will be rounded to nearest pixel.\n"
     ]
    },
    {
     "name": "stdout",
     "output_type": "stream",
     "text": [
      "Calculating gradient...\n",
      "Current β: 5.000\n",
      "FoM values: [0.03419740329690109]\n",
      "Mean FoM: 0.034197\n",
      "Binarization degree: 0.4558\n",
      "\n",
      "--- Iter 94 ---\n",
      "Starting forward run...\n",
      "Starting adjoint run...\n"
     ]
    },
    {
     "name": "stderr",
     "output_type": "stream",
     "text": [
      "Warning: grid volume is not an integer number of pixels; cell size will be rounded to nearest pixel.\n"
     ]
    },
    {
     "name": "stdout",
     "output_type": "stream",
     "text": [
      "Calculating gradient...\n",
      "Current β: 5.000\n",
      "FoM values: [0.03364951288067057]\n",
      "Mean FoM: 0.033650\n",
      "Binarization degree: 0.4550\n",
      "\n",
      "--- Iter 95 ---\n",
      "Starting forward run...\n",
      "Starting adjoint run...\n"
     ]
    },
    {
     "name": "stderr",
     "output_type": "stream",
     "text": [
      "Warning: grid volume is not an integer number of pixels; cell size will be rounded to nearest pixel.\n"
     ]
    },
    {
     "name": "stdout",
     "output_type": "stream",
     "text": [
      "Calculating gradient...\n",
      "Current β: 5.000\n",
      "FoM values: [0.034257064914699306]\n",
      "Mean FoM: 0.034257\n",
      "Binarization degree: 0.4549\n",
      "\n",
      "--- Iter 96 ---\n",
      "Starting forward run...\n",
      "Starting adjoint run...\n"
     ]
    },
    {
     "name": "stderr",
     "output_type": "stream",
     "text": [
      "Warning: grid volume is not an integer number of pixels; cell size will be rounded to nearest pixel.\n"
     ]
    },
    {
     "name": "stdout",
     "output_type": "stream",
     "text": [
      "Calculating gradient...\n",
      "Current β: 5.000\n",
      "FoM values: [0.034046786036092715]\n",
      "Mean FoM: 0.034047\n",
      "Binarization degree: 0.4543\n",
      "\n",
      "--- Iter 97 ---\n",
      "Starting forward run...\n",
      "Starting adjoint run...\n"
     ]
    },
    {
     "name": "stderr",
     "output_type": "stream",
     "text": [
      "Warning: grid volume is not an integer number of pixels; cell size will be rounded to nearest pixel.\n"
     ]
    },
    {
     "name": "stdout",
     "output_type": "stream",
     "text": [
      "Calculating gradient...\n",
      "Current β: 5.000\n",
      "FoM values: [0.034111800658658126]\n",
      "Mean FoM: 0.034112\n",
      "Binarization degree: 0.4541\n",
      "\n",
      "--- Iter 98 ---\n",
      "Starting forward run...\n",
      "Starting adjoint run...\n"
     ]
    },
    {
     "name": "stderr",
     "output_type": "stream",
     "text": [
      "Warning: grid volume is not an integer number of pixels; cell size will be rounded to nearest pixel.\n"
     ]
    },
    {
     "name": "stdout",
     "output_type": "stream",
     "text": [
      "Calculating gradient...\n",
      "Current β: 5.000\n",
      "FoM values: [0.03441810945380565]\n",
      "Mean FoM: 0.034418\n",
      "Binarization degree: 0.4543\n",
      "\n",
      "--- Iter 99 ---\n",
      "Starting forward run...\n",
      "Starting adjoint run...\n"
     ]
    },
    {
     "name": "stderr",
     "output_type": "stream",
     "text": [
      "Warning: grid volume is not an integer number of pixels; cell size will be rounded to nearest pixel.\n"
     ]
    },
    {
     "name": "stdout",
     "output_type": "stream",
     "text": [
      "Calculating gradient...\n",
      "Current β: 5.000\n",
      "FoM values: [0.03393511410143776]\n",
      "Mean FoM: 0.033935\n",
      "Binarization degree: 0.4537\n",
      "\n",
      "--- Iter 100 ---\n",
      "Starting forward run...\n",
      "Starting adjoint run...\n"
     ]
    },
    {
     "name": "stderr",
     "output_type": "stream",
     "text": [
      "Warning: grid volume is not an integer number of pixels; cell size will be rounded to nearest pixel.\n"
     ]
    },
    {
     "name": "stdout",
     "output_type": "stream",
     "text": [
      "Calculating gradient...\n",
      "Current β: 5.000\n",
      "FoM values: [0.0343575053569286]\n",
      "Mean FoM: 0.034358\n",
      "Binarization degree: 0.4540\n",
      "\n",
      "--- Iter 101 ---\n",
      "Starting forward run...\n",
      "Starting adjoint run...\n"
     ]
    },
    {
     "name": "stderr",
     "output_type": "stream",
     "text": [
      "Warning: grid volume is not an integer number of pixels; cell size will be rounded to nearest pixel.\n"
     ]
    },
    {
     "name": "stdout",
     "output_type": "stream",
     "text": [
      "Calculating gradient...\n",
      "Current β: 5.000\n",
      "FoM values: [0.03397731390263454]\n",
      "Mean FoM: 0.033977\n",
      "Binarization degree: 0.4535\n",
      "\n",
      "--- Iter 102 ---\n",
      "Starting forward run...\n",
      "Starting adjoint run...\n"
     ]
    },
    {
     "name": "stderr",
     "output_type": "stream",
     "text": [
      "Warning: grid volume is not an integer number of pixels; cell size will be rounded to nearest pixel.\n"
     ]
    },
    {
     "name": "stdout",
     "output_type": "stream",
     "text": [
      "Calculating gradient...\n",
      "Current β: 5.000\n",
      "FoM values: [0.0342318266435919]\n",
      "Mean FoM: 0.034232\n",
      "Binarization degree: 0.4536\n",
      "\n",
      "--- Iter 103 ---\n",
      "Starting forward run...\n",
      "Starting adjoint run...\n"
     ]
    },
    {
     "name": "stderr",
     "output_type": "stream",
     "text": [
      "Warning: grid volume is not an integer number of pixels; cell size will be rounded to nearest pixel.\n"
     ]
    },
    {
     "name": "stdout",
     "output_type": "stream",
     "text": [
      "Calculating gradient...\n",
      "Current β: 5.000\n",
      "FoM values: [0.034317561313428134]\n",
      "Mean FoM: 0.034318\n",
      "Binarization degree: 0.4536\n",
      "\n",
      "--- Iter 104 ---\n",
      "Starting forward run...\n",
      "Starting adjoint run...\n"
     ]
    },
    {
     "name": "stderr",
     "output_type": "stream",
     "text": [
      "Warning: grid volume is not an integer number of pixels; cell size will be rounded to nearest pixel.\n"
     ]
    },
    {
     "name": "stdout",
     "output_type": "stream",
     "text": [
      "Calculating gradient...\n",
      "Current β: 5.000\n",
      "FoM values: [0.03419390821197165]\n",
      "Mean FoM: 0.034194\n",
      "Binarization degree: 0.4534\n",
      "\n",
      "--- Iter 105 ---\n",
      "Starting forward run...\n",
      "Starting adjoint run...\n"
     ]
    },
    {
     "name": "stderr",
     "output_type": "stream",
     "text": [
      "Warning: grid volume is not an integer number of pixels; cell size will be rounded to nearest pixel.\n"
     ]
    },
    {
     "name": "stdout",
     "output_type": "stream",
     "text": [
      "Calculating gradient...\n",
      "Current β: 5.000\n",
      "FoM values: [0.03451197286876731]\n",
      "Mean FoM: 0.034512\n",
      "Binarization degree: 0.4536\n",
      "\n",
      "--- Iter 106 ---\n",
      "Starting forward run...\n",
      "Starting adjoint run...\n"
     ]
    },
    {
     "name": "stderr",
     "output_type": "stream",
     "text": [
      "Warning: grid volume is not an integer number of pixels; cell size will be rounded to nearest pixel.\n"
     ]
    },
    {
     "name": "stdout",
     "output_type": "stream",
     "text": [
      "Calculating gradient...\n",
      "Current β: 5.000\n",
      "FoM values: [0.03414021833324276]\n",
      "Mean FoM: 0.034140\n",
      "Binarization degree: 0.4532\n",
      "\n",
      "--- Iter 107 ---\n",
      "Starting forward run...\n",
      "Starting adjoint run...\n"
     ]
    },
    {
     "name": "stderr",
     "output_type": "stream",
     "text": [
      "Warning: grid volume is not an integer number of pixels; cell size will be rounded to nearest pixel.\n"
     ]
    },
    {
     "name": "stdout",
     "output_type": "stream",
     "text": [
      "Calculating gradient...\n",
      "Current β: 5.000\n",
      "FoM values: [0.03454788744591984]\n",
      "Mean FoM: 0.034548\n",
      "Binarization degree: 0.4535\n",
      "\n",
      "--- Iter 108 ---\n",
      "Starting forward run...\n",
      "Starting adjoint run...\n"
     ]
    },
    {
     "name": "stderr",
     "output_type": "stream",
     "text": [
      "Warning: grid volume is not an integer number of pixels; cell size will be rounded to nearest pixel.\n"
     ]
    },
    {
     "name": "stdout",
     "output_type": "stream",
     "text": [
      "Calculating gradient...\n",
      "Current β: 5.000\n",
      "FoM values: [0.03424853665801651]\n",
      "Mean FoM: 0.034249\n",
      "Binarization degree: 0.4531\n",
      "\n",
      "--- Iter 109 ---\n",
      "Starting forward run...\n",
      "Starting adjoint run...\n"
     ]
    },
    {
     "name": "stderr",
     "output_type": "stream",
     "text": [
      "Warning: grid volume is not an integer number of pixels; cell size will be rounded to nearest pixel.\n"
     ]
    },
    {
     "name": "stdout",
     "output_type": "stream",
     "text": [
      "Calculating gradient...\n",
      "Current β: 5.000\n",
      "FoM values: [0.034551820769171925]\n",
      "Mean FoM: 0.034552\n",
      "Binarization degree: 0.4533\n",
      "\n",
      "--- Iter 110 ---\n",
      "Starting forward run...\n",
      "Starting adjoint run...\n"
     ]
    },
    {
     "name": "stderr",
     "output_type": "stream",
     "text": [
      "Warning: grid volume is not an integer number of pixels; cell size will be rounded to nearest pixel.\n"
     ]
    },
    {
     "name": "stdout",
     "output_type": "stream",
     "text": [
      "Calculating gradient...\n",
      "Current β: 5.000\n",
      "FoM values: [0.03434799615373376]\n",
      "Mean FoM: 0.034348\n",
      "Binarization degree: 0.4530\n",
      "\n",
      "--- Iter 111 ---\n",
      "Starting forward run...\n",
      "Starting adjoint run...\n"
     ]
    },
    {
     "name": "stderr",
     "output_type": "stream",
     "text": [
      "Warning: grid volume is not an integer number of pixels; cell size will be rounded to nearest pixel.\n"
     ]
    },
    {
     "name": "stdout",
     "output_type": "stream",
     "text": [
      "Calculating gradient...\n",
      "Current β: 5.000\n",
      "FoM values: [0.03445360503078778]\n",
      "Mean FoM: 0.034454\n",
      "Binarization degree: 0.4530\n",
      "\n",
      "--- Iter 112 ---\n",
      "Starting forward run...\n",
      "Starting adjoint run...\n"
     ]
    },
    {
     "name": "stderr",
     "output_type": "stream",
     "text": [
      "Warning: grid volume is not an integer number of pixels; cell size will be rounded to nearest pixel.\n"
     ]
    },
    {
     "name": "stdout",
     "output_type": "stream",
     "text": [
      "Calculating gradient...\n",
      "Current β: 5.000\n",
      "FoM values: [0.0344377625804196]\n",
      "Mean FoM: 0.034438\n",
      "Binarization degree: 0.4529\n",
      "\n",
      "--- Iter 113 ---\n",
      "Starting forward run...\n",
      "Starting adjoint run...\n"
     ]
    },
    {
     "name": "stderr",
     "output_type": "stream",
     "text": [
      "Warning: grid volume is not an integer number of pixels; cell size will be rounded to nearest pixel.\n"
     ]
    },
    {
     "name": "stdout",
     "output_type": "stream",
     "text": [
      "Calculating gradient...\n",
      "Current β: 6.500\n",
      "FoM values: [0.034458718594736384]\n",
      "Mean FoM: 0.034459\n",
      "Binarization degree: 0.4529\n",
      "\n",
      "--- Iter 114 ---\n",
      "Starting forward run...\n",
      "Starting adjoint run...\n"
     ]
    },
    {
     "name": "stderr",
     "output_type": "stream",
     "text": [
      "Warning: grid volume is not an integer number of pixels; cell size will be rounded to nearest pixel.\n"
     ]
    },
    {
     "name": "stdout",
     "output_type": "stream",
     "text": [
      "Calculating gradient...\n",
      "Current β: 6.500\n",
      "FoM values: [0.026867267442115587]\n",
      "Mean FoM: 0.026867\n",
      "Binarization degree: 0.5169\n",
      "\n",
      "--- Iter 115 ---\n",
      "Starting forward run...\n",
      "Starting adjoint run...\n"
     ]
    },
    {
     "name": "stderr",
     "output_type": "stream",
     "text": [
      "Warning: grid volume is not an integer number of pixels; cell size will be rounded to nearest pixel.\n"
     ]
    },
    {
     "name": "stdout",
     "output_type": "stream",
     "text": [
      "Calculating gradient...\n",
      "Current β: 6.500\n",
      "FoM values: [0.030638521754078274]\n",
      "Mean FoM: 0.030639\n",
      "Binarization degree: 0.5152\n",
      "\n",
      "--- Iter 116 ---\n",
      "Starting forward run...\n",
      "Starting adjoint run...\n"
     ]
    },
    {
     "name": "stderr",
     "output_type": "stream",
     "text": [
      "Warning: grid volume is not an integer number of pixels; cell size will be rounded to nearest pixel.\n"
     ]
    },
    {
     "name": "stdout",
     "output_type": "stream",
     "text": [
      "Calculating gradient...\n",
      "Current β: 6.500\n",
      "FoM values: [0.032759717308801464]\n",
      "Mean FoM: 0.032760\n",
      "Binarization degree: 0.5173\n",
      "\n",
      "--- Iter 117 ---\n",
      "Starting forward run...\n",
      "Starting adjoint run...\n"
     ]
    },
    {
     "name": "stderr",
     "output_type": "stream",
     "text": [
      "Warning: grid volume is not an integer number of pixels; cell size will be rounded to nearest pixel.\n"
     ]
    },
    {
     "name": "stdout",
     "output_type": "stream",
     "text": [
      "Calculating gradient...\n",
      "Current β: 6.500\n",
      "FoM values: [0.019485768160555847]\n",
      "Mean FoM: 0.019486\n",
      "Binarization degree: 0.5183\n",
      "\n",
      "--- Iter 118 ---\n",
      "Starting forward run...\n",
      "Starting adjoint run...\n"
     ]
    },
    {
     "name": "stderr",
     "output_type": "stream",
     "text": [
      "Warning: grid volume is not an integer number of pixels; cell size will be rounded to nearest pixel.\n"
     ]
    },
    {
     "name": "stdout",
     "output_type": "stream",
     "text": [
      "Calculating gradient...\n",
      "Current β: 6.500\n",
      "FoM values: [0.02710771607569215]\n",
      "Mean FoM: 0.027108\n",
      "Binarization degree: 0.5234\n",
      "\n",
      "--- Iter 119 ---\n",
      "Starting forward run...\n",
      "Starting adjoint run...\n"
     ]
    },
    {
     "name": "stderr",
     "output_type": "stream",
     "text": [
      "Warning: grid volume is not an integer number of pixels; cell size will be rounded to nearest pixel.\n"
     ]
    },
    {
     "name": "stdout",
     "output_type": "stream",
     "text": [
      "Calculating gradient...\n",
      "Current β: 6.500\n",
      "FoM values: [0.02785407649245026]\n",
      "Mean FoM: 0.027854\n",
      "Binarization degree: 0.5235\n",
      "\n",
      "--- Iter 120 ---\n",
      "Starting forward run...\n",
      "Starting adjoint run...\n"
     ]
    },
    {
     "name": "stderr",
     "output_type": "stream",
     "text": [
      "Warning: grid volume is not an integer number of pixels; cell size will be rounded to nearest pixel.\n"
     ]
    },
    {
     "name": "stdout",
     "output_type": "stream",
     "text": [
      "Calculating gradient...\n",
      "Current β: 6.500\n",
      "FoM values: [0.0247952647033632]\n",
      "Mean FoM: 0.024795\n",
      "Binarization degree: 0.5206\n",
      "\n",
      "--- Iter 121 ---\n",
      "Starting forward run...\n",
      "Starting adjoint run...\n"
     ]
    },
    {
     "name": "stderr",
     "output_type": "stream",
     "text": [
      "Warning: grid volume is not an integer number of pixels; cell size will be rounded to nearest pixel.\n"
     ]
    },
    {
     "name": "stdout",
     "output_type": "stream",
     "text": [
      "Calculating gradient...\n",
      "Current β: 6.500\n",
      "FoM values: [0.03125690361604684]\n",
      "Mean FoM: 0.031257\n",
      "Binarization degree: 0.5235\n",
      "\n",
      "--- Iter 122 ---\n",
      "Starting forward run...\n",
      "Starting adjoint run...\n"
     ]
    },
    {
     "name": "stderr",
     "output_type": "stream",
     "text": [
      "Warning: grid volume is not an integer number of pixels; cell size will be rounded to nearest pixel.\n"
     ]
    },
    {
     "name": "stdout",
     "output_type": "stream",
     "text": [
      "Calculating gradient...\n",
      "Current β: 6.500\n",
      "FoM values: [0.026072928817942476]\n",
      "Mean FoM: 0.026073\n",
      "Binarization degree: 0.5317\n",
      "\n",
      "--- Iter 123 ---\n",
      "Starting forward run...\n",
      "Starting adjoint run...\n"
     ]
    },
    {
     "name": "stderr",
     "output_type": "stream",
     "text": [
      "Warning: grid volume is not an integer number of pixels; cell size will be rounded to nearest pixel.\n"
     ]
    },
    {
     "name": "stdout",
     "output_type": "stream",
     "text": [
      "Calculating gradient...\n",
      "Current β: 6.500\n",
      "FoM values: [0.028991406683657343]\n",
      "Mean FoM: 0.028991\n",
      "Binarization degree: 0.5367\n",
      "\n",
      "--- Iter 124 ---\n",
      "Starting forward run...\n",
      "Starting adjoint run...\n"
     ]
    },
    {
     "name": "stderr",
     "output_type": "stream",
     "text": [
      "Warning: grid volume is not an integer number of pixels; cell size will be rounded to nearest pixel.\n"
     ]
    },
    {
     "name": "stdout",
     "output_type": "stream",
     "text": [
      "Calculating gradient...\n",
      "Current β: 6.500\n",
      "FoM values: [0.025929803227880945]\n",
      "Mean FoM: 0.025930\n",
      "Binarization degree: 0.5404\n",
      "\n",
      "--- Iter 125 ---\n",
      "Starting forward run...\n",
      "Starting adjoint run...\n"
     ]
    },
    {
     "name": "stderr",
     "output_type": "stream",
     "text": [
      "Warning: grid volume is not an integer number of pixels; cell size will be rounded to nearest pixel.\n"
     ]
    },
    {
     "name": "stdout",
     "output_type": "stream",
     "text": [
      "Calculating gradient...\n",
      "Current β: 6.500\n",
      "FoM values: [0.030537094779757062]\n",
      "Mean FoM: 0.030537\n",
      "Binarization degree: 0.5449\n",
      "\n",
      "--- Iter 126 ---\n",
      "Starting forward run...\n",
      "Starting adjoint run...\n"
     ]
    },
    {
     "name": "stderr",
     "output_type": "stream",
     "text": [
      "Warning: grid volume is not an integer number of pixels; cell size will be rounded to nearest pixel.\n"
     ]
    },
    {
     "name": "stdout",
     "output_type": "stream",
     "text": [
      "Calculating gradient...\n",
      "Current β: 6.500\n",
      "FoM values: [0.03176673155967643]\n",
      "Mean FoM: 0.031767\n",
      "Binarization degree: 0.5477\n",
      "\n",
      "--- Iter 127 ---\n",
      "Starting forward run...\n",
      "Starting adjoint run...\n"
     ]
    },
    {
     "name": "stderr",
     "output_type": "stream",
     "text": [
      "Warning: grid volume is not an integer number of pixels; cell size will be rounded to nearest pixel.\n"
     ]
    },
    {
     "name": "stdout",
     "output_type": "stream",
     "text": [
      "Calculating gradient...\n",
      "Current β: 6.500\n",
      "FoM values: [0.031505729504991274]\n",
      "Mean FoM: 0.031506\n",
      "Binarization degree: 0.5474\n",
      "\n",
      "--- Iter 128 ---\n",
      "Starting forward run...\n",
      "Starting adjoint run...\n"
     ]
    },
    {
     "name": "stderr",
     "output_type": "stream",
     "text": [
      "Warning: grid volume is not an integer number of pixels; cell size will be rounded to nearest pixel.\n"
     ]
    },
    {
     "name": "stdout",
     "output_type": "stream",
     "text": [
      "Calculating gradient...\n",
      "Current β: 6.500\n",
      "FoM values: [0.03373444680517143]\n",
      "Mean FoM: 0.033734\n",
      "Binarization degree: 0.5485\n",
      "\n",
      "--- Iter 129 ---\n",
      "Starting forward run...\n",
      "Starting adjoint run...\n"
     ]
    },
    {
     "name": "stderr",
     "output_type": "stream",
     "text": [
      "Warning: grid volume is not an integer number of pixels; cell size will be rounded to nearest pixel.\n"
     ]
    },
    {
     "name": "stdout",
     "output_type": "stream",
     "text": [
      "Calculating gradient...\n",
      "Current β: 6.500\n",
      "FoM values: [0.0331167515743885]\n",
      "Mean FoM: 0.033117\n",
      "Binarization degree: 0.5499\n",
      "\n",
      "--- Iter 130 ---\n",
      "Starting forward run...\n",
      "Starting adjoint run...\n"
     ]
    },
    {
     "name": "stderr",
     "output_type": "stream",
     "text": [
      "Warning: grid volume is not an integer number of pixels; cell size will be rounded to nearest pixel.\n"
     ]
    },
    {
     "name": "stdout",
     "output_type": "stream",
     "text": [
      "Calculating gradient...\n",
      "Current β: 6.500\n",
      "FoM values: [0.03357945291707726]\n",
      "Mean FoM: 0.033579\n",
      "Binarization degree: 0.5504\n",
      "\n",
      "--- Iter 131 ---\n",
      "Starting forward run...\n",
      "Starting adjoint run...\n"
     ]
    },
    {
     "name": "stderr",
     "output_type": "stream",
     "text": [
      "Warning: grid volume is not an integer number of pixels; cell size will be rounded to nearest pixel.\n"
     ]
    },
    {
     "name": "stdout",
     "output_type": "stream",
     "text": [
      "Calculating gradient...\n",
      "Current β: 6.500\n",
      "FoM values: [0.03319351459281657]\n",
      "Mean FoM: 0.033194\n",
      "Binarization degree: 0.5507\n",
      "\n",
      "--- Iter 132 ---\n",
      "Starting forward run...\n",
      "Starting adjoint run...\n"
     ]
    },
    {
     "name": "stderr",
     "output_type": "stream",
     "text": [
      "Warning: grid volume is not an integer number of pixels; cell size will be rounded to nearest pixel.\n"
     ]
    },
    {
     "name": "stdout",
     "output_type": "stream",
     "text": [
      "Calculating gradient...\n",
      "Current β: 6.500\n",
      "FoM values: [0.03265496010294446]\n",
      "Mean FoM: 0.032655\n",
      "Binarization degree: 0.5528\n",
      "\n",
      "--- Iter 133 ---\n",
      "Starting forward run...\n",
      "Starting adjoint run...\n"
     ]
    },
    {
     "name": "stderr",
     "output_type": "stream",
     "text": [
      "Warning: grid volume is not an integer number of pixels; cell size will be rounded to nearest pixel.\n"
     ]
    },
    {
     "name": "stdout",
     "output_type": "stream",
     "text": [
      "Calculating gradient...\n",
      "Current β: 6.500\n",
      "FoM values: [0.03249848040579471]\n",
      "Mean FoM: 0.032498\n",
      "Binarization degree: 0.5566\n",
      "\n",
      "--- Iter 134 ---\n",
      "Starting forward run...\n",
      "Starting adjoint run...\n"
     ]
    },
    {
     "name": "stderr",
     "output_type": "stream",
     "text": [
      "Warning: grid volume is not an integer number of pixels; cell size will be rounded to nearest pixel.\n"
     ]
    },
    {
     "name": "stdout",
     "output_type": "stream",
     "text": [
      "Calculating gradient...\n",
      "Current β: 6.500\n",
      "FoM values: [0.03312897663578621]\n",
      "Mean FoM: 0.033129\n",
      "Binarization degree: 0.5602\n",
      "\n",
      "--- Iter 135 ---\n",
      "Starting forward run...\n",
      "Starting adjoint run...\n"
     ]
    },
    {
     "name": "stderr",
     "output_type": "stream",
     "text": [
      "Warning: grid volume is not an integer number of pixels; cell size will be rounded to nearest pixel.\n"
     ]
    },
    {
     "name": "stdout",
     "output_type": "stream",
     "text": [
      "Calculating gradient...\n",
      "Current β: 6.500\n",
      "FoM values: [0.031611234135524316]\n",
      "Mean FoM: 0.031611\n",
      "Binarization degree: 0.5635\n",
      "\n",
      "--- Iter 136 ---\n",
      "Starting forward run...\n",
      "Starting adjoint run...\n"
     ]
    },
    {
     "name": "stderr",
     "output_type": "stream",
     "text": [
      "Warning: grid volume is not an integer number of pixels; cell size will be rounded to nearest pixel.\n"
     ]
    },
    {
     "name": "stdout",
     "output_type": "stream",
     "text": [
      "Calculating gradient...\n",
      "Current β: 6.500\n",
      "FoM values: [0.03356476278974099]\n",
      "Mean FoM: 0.033565\n",
      "Binarization degree: 0.5667\n",
      "\n",
      "--- Iter 137 ---\n",
      "Starting forward run...\n",
      "Starting adjoint run...\n"
     ]
    },
    {
     "name": "stderr",
     "output_type": "stream",
     "text": [
      "Warning: grid volume is not an integer number of pixels; cell size will be rounded to nearest pixel.\n"
     ]
    },
    {
     "name": "stdout",
     "output_type": "stream",
     "text": [
      "Calculating gradient...\n",
      "Current β: 6.500\n",
      "FoM values: [0.033664708213962655]\n",
      "Mean FoM: 0.033665\n",
      "Binarization degree: 0.5696\n",
      "\n",
      "--- Iter 138 ---\n",
      "Starting forward run...\n",
      "Starting adjoint run...\n"
     ]
    },
    {
     "name": "stderr",
     "output_type": "stream",
     "text": [
      "Warning: grid volume is not an integer number of pixels; cell size will be rounded to nearest pixel.\n"
     ]
    },
    {
     "name": "stdout",
     "output_type": "stream",
     "text": [
      "Calculating gradient...\n",
      "Current β: 6.500\n",
      "FoM values: [0.0340073011308038]\n",
      "Mean FoM: 0.034007\n",
      "Binarization degree: 0.5722\n",
      "\n",
      "--- Iter 139 ---\n",
      "Starting forward run...\n",
      "Starting adjoint run...\n"
     ]
    },
    {
     "name": "stderr",
     "output_type": "stream",
     "text": [
      "Warning: grid volume is not an integer number of pixels; cell size will be rounded to nearest pixel.\n"
     ]
    },
    {
     "name": "stdout",
     "output_type": "stream",
     "text": [
      "Calculating gradient...\n",
      "Current β: 6.500\n",
      "FoM values: [0.03368703200872543]\n",
      "Mean FoM: 0.033687\n",
      "Binarization degree: 0.5743\n",
      "\n",
      "--- Iter 140 ---\n",
      "Starting forward run...\n",
      "Starting adjoint run...\n"
     ]
    },
    {
     "name": "stderr",
     "output_type": "stream",
     "text": [
      "Warning: grid volume is not an integer number of pixels; cell size will be rounded to nearest pixel.\n"
     ]
    },
    {
     "name": "stdout",
     "output_type": "stream",
     "text": [
      "Calculating gradient...\n",
      "Current β: 6.500\n",
      "FoM values: [0.034418938957557633]\n",
      "Mean FoM: 0.034419\n",
      "Binarization degree: 0.5765\n",
      "\n",
      "--- Iter 141 ---\n",
      "Starting forward run...\n",
      "Starting adjoint run...\n"
     ]
    },
    {
     "name": "stderr",
     "output_type": "stream",
     "text": [
      "Warning: grid volume is not an integer number of pixels; cell size will be rounded to nearest pixel.\n"
     ]
    },
    {
     "name": "stdout",
     "output_type": "stream",
     "text": [
      "Calculating gradient...\n",
      "Current β: 6.500\n",
      "FoM values: [0.034511812839114024]\n",
      "Mean FoM: 0.034512\n",
      "Binarization degree: 0.5779\n",
      "\n",
      "--- Iter 142 ---\n",
      "Starting forward run...\n",
      "Starting adjoint run...\n"
     ]
    },
    {
     "name": "stderr",
     "output_type": "stream",
     "text": [
      "Warning: grid volume is not an integer number of pixels; cell size will be rounded to nearest pixel.\n"
     ]
    },
    {
     "name": "stdout",
     "output_type": "stream",
     "text": [
      "Calculating gradient...\n",
      "Current β: 6.500\n",
      "FoM values: [0.03419559817346983]\n",
      "Mean FoM: 0.034196\n",
      "Binarization degree: 0.5784\n",
      "\n",
      "--- Iter 143 ---\n",
      "Starting forward run...\n",
      "Starting adjoint run...\n"
     ]
    },
    {
     "name": "stderr",
     "output_type": "stream",
     "text": [
      "Warning: grid volume is not an integer number of pixels; cell size will be rounded to nearest pixel.\n"
     ]
    },
    {
     "name": "stdout",
     "output_type": "stream",
     "text": [
      "Calculating gradient...\n",
      "Current β: 6.500\n",
      "FoM values: [0.034557754630386565]\n",
      "Mean FoM: 0.034558\n",
      "Binarization degree: 0.5793\n",
      "\n",
      "--- Iter 144 ---\n",
      "Starting forward run...\n",
      "Starting adjoint run...\n"
     ]
    },
    {
     "name": "stderr",
     "output_type": "stream",
     "text": [
      "Warning: grid volume is not an integer number of pixels; cell size will be rounded to nearest pixel.\n"
     ]
    },
    {
     "name": "stdout",
     "output_type": "stream",
     "text": [
      "Calculating gradient...\n",
      "Current β: 6.500\n",
      "FoM values: [0.03464038779243368]\n",
      "Mean FoM: 0.034640\n",
      "Binarization degree: 0.5801\n",
      "\n",
      "--- Iter 145 ---\n",
      "Starting forward run...\n",
      "Starting adjoint run...\n"
     ]
    },
    {
     "name": "stderr",
     "output_type": "stream",
     "text": [
      "Warning: grid volume is not an integer number of pixels; cell size will be rounded to nearest pixel.\n"
     ]
    },
    {
     "name": "stdout",
     "output_type": "stream",
     "text": [
      "Calculating gradient...\n",
      "Current β: 6.500\n",
      "FoM values: [0.03466300350110611]\n",
      "Mean FoM: 0.034663\n",
      "Binarization degree: 0.5808\n",
      "\n",
      "--- Iter 146 ---\n",
      "Starting forward run...\n",
      "Starting adjoint run...\n"
     ]
    },
    {
     "name": "stderr",
     "output_type": "stream",
     "text": [
      "Warning: grid volume is not an integer number of pixels; cell size will be rounded to nearest pixel.\n"
     ]
    },
    {
     "name": "stdout",
     "output_type": "stream",
     "text": [
      "Calculating gradient...\n",
      "Current β: 6.500\n",
      "FoM values: [0.033976552070367774]\n",
      "Mean FoM: 0.033977\n",
      "Binarization degree: 0.5811\n",
      "\n",
      "--- Iter 147 ---\n",
      "Starting forward run...\n",
      "Starting adjoint run...\n"
     ]
    },
    {
     "name": "stderr",
     "output_type": "stream",
     "text": [
      "Warning: grid volume is not an integer number of pixels; cell size will be rounded to nearest pixel.\n"
     ]
    },
    {
     "name": "stdout",
     "output_type": "stream",
     "text": [
      "Calculating gradient...\n",
      "Current β: 6.500\n",
      "FoM values: [0.03455627411428074]\n",
      "Mean FoM: 0.034556\n",
      "Binarization degree: 0.5814\n",
      "\n",
      "--- Iter 148 ---\n",
      "Starting forward run...\n",
      "Starting adjoint run...\n"
     ]
    },
    {
     "name": "stderr",
     "output_type": "stream",
     "text": [
      "Warning: grid volume is not an integer number of pixels; cell size will be rounded to nearest pixel.\n"
     ]
    },
    {
     "name": "stdout",
     "output_type": "stream",
     "text": [
      "Calculating gradient...\n",
      "Current β: 6.500\n",
      "FoM values: [0.03468837331823394]\n",
      "Mean FoM: 0.034688\n",
      "Binarization degree: 0.5820\n",
      "\n",
      "--- Iter 149 ---\n",
      "Starting forward run...\n",
      "Starting adjoint run...\n"
     ]
    },
    {
     "name": "stderr",
     "output_type": "stream",
     "text": [
      "Warning: grid volume is not an integer number of pixels; cell size will be rounded to nearest pixel.\n"
     ]
    },
    {
     "name": "stdout",
     "output_type": "stream",
     "text": [
      "Calculating gradient...\n",
      "Current β: 6.500\n",
      "FoM values: [0.03484547454362563]\n",
      "Mean FoM: 0.034845\n",
      "Binarization degree: 0.5822\n",
      "\n",
      "--- Iter 150 ---\n",
      "Starting forward run...\n",
      "Starting adjoint run...\n"
     ]
    },
    {
     "name": "stderr",
     "output_type": "stream",
     "text": [
      "Warning: grid volume is not an integer number of pixels; cell size will be rounded to nearest pixel.\n"
     ]
    },
    {
     "name": "stdout",
     "output_type": "stream",
     "text": [
      "Calculating gradient...\n",
      "Current β: 6.500\n",
      "FoM values: [0.03459525332515654]\n",
      "Mean FoM: 0.034595\n",
      "Binarization degree: 0.5822\n",
      "\n",
      "--- Iter 151 ---\n",
      "Starting forward run...\n",
      "Starting adjoint run...\n"
     ]
    },
    {
     "name": "stderr",
     "output_type": "stream",
     "text": [
      "Warning: grid volume is not an integer number of pixels; cell size will be rounded to nearest pixel.\n"
     ]
    },
    {
     "name": "stdout",
     "output_type": "stream",
     "text": [
      "Calculating gradient...\n",
      "Current β: 6.500\n",
      "FoM values: [0.03505152140995462]\n",
      "Mean FoM: 0.035052\n",
      "Binarization degree: 0.5820\n",
      "\n",
      "--- Iter 152 ---\n",
      "Starting forward run...\n",
      "Starting adjoint run...\n"
     ]
    },
    {
     "name": "stderr",
     "output_type": "stream",
     "text": [
      "Warning: grid volume is not an integer number of pixels; cell size will be rounded to nearest pixel.\n"
     ]
    },
    {
     "name": "stdout",
     "output_type": "stream",
     "text": [
      "Calculating gradient...\n",
      "Current β: 6.500\n",
      "FoM values: [0.03515328732981313]\n",
      "Mean FoM: 0.035153\n",
      "Binarization degree: 0.5820\n",
      "\n",
      "--- Iter 153 ---\n",
      "Starting forward run...\n",
      "Starting adjoint run...\n"
     ]
    },
    {
     "name": "stderr",
     "output_type": "stream",
     "text": [
      "Warning: grid volume is not an integer number of pixels; cell size will be rounded to nearest pixel.\n"
     ]
    },
    {
     "name": "stdout",
     "output_type": "stream",
     "text": [
      "Calculating gradient...\n",
      "Current β: 8.450\n",
      "FoM values: [0.03515454391472238]\n",
      "Mean FoM: 0.035155\n",
      "Binarization degree: 0.5817\n",
      "\n",
      "--- Iter 154 ---\n",
      "Starting forward run...\n",
      "Starting adjoint run...\n"
     ]
    },
    {
     "name": "stderr",
     "output_type": "stream",
     "text": [
      "Warning: grid volume is not an integer number of pixels; cell size will be rounded to nearest pixel.\n"
     ]
    },
    {
     "name": "stdout",
     "output_type": "stream",
     "text": [
      "Calculating gradient...\n",
      "Current β: 8.450\n",
      "FoM values: [0.021325876116829318]\n",
      "Mean FoM: 0.021326\n",
      "Binarization degree: 0.6516\n",
      "\n",
      "--- Iter 155 ---\n",
      "Starting forward run...\n",
      "Starting adjoint run...\n"
     ]
    },
    {
     "name": "stderr",
     "output_type": "stream",
     "text": [
      "Warning: grid volume is not an integer number of pixels; cell size will be rounded to nearest pixel.\n"
     ]
    },
    {
     "name": "stdout",
     "output_type": "stream",
     "text": [
      "Calculating gradient...\n",
      "Current β: 8.450\n",
      "FoM values: [0.028812144390747984]\n",
      "Mean FoM: 0.028812\n",
      "Binarization degree: 0.6551\n",
      "\n",
      "--- Iter 156 ---\n",
      "Starting forward run...\n",
      "Starting adjoint run...\n"
     ]
    },
    {
     "name": "stderr",
     "output_type": "stream",
     "text": [
      "Warning: grid volume is not an integer number of pixels; cell size will be rounded to nearest pixel.\n"
     ]
    },
    {
     "name": "stdout",
     "output_type": "stream",
     "text": [
      "Calculating gradient...\n",
      "Current β: 8.450\n",
      "FoM values: [0.02579728315642059]\n",
      "Mean FoM: 0.025797\n",
      "Binarization degree: 0.6573\n",
      "\n",
      "--- Iter 157 ---\n",
      "Starting forward run...\n",
      "Starting adjoint run...\n"
     ]
    },
    {
     "name": "stderr",
     "output_type": "stream",
     "text": [
      "Warning: grid volume is not an integer number of pixels; cell size will be rounded to nearest pixel.\n"
     ]
    },
    {
     "name": "stdout",
     "output_type": "stream",
     "text": [
      "Calculating gradient...\n",
      "Current β: 8.450\n",
      "FoM values: [0.02931542617245601]\n",
      "Mean FoM: 0.029315\n",
      "Binarization degree: 0.6584\n",
      "\n",
      "--- Iter 158 ---\n",
      "Starting forward run...\n",
      "Starting adjoint run...\n"
     ]
    },
    {
     "name": "stderr",
     "output_type": "stream",
     "text": [
      "Warning: grid volume is not an integer number of pixels; cell size will be rounded to nearest pixel.\n"
     ]
    },
    {
     "name": "stdout",
     "output_type": "stream",
     "text": [
      "Calculating gradient...\n",
      "Current β: 8.450\n",
      "FoM values: [0.025827436713926236]\n",
      "Mean FoM: 0.025827\n",
      "Binarization degree: 0.6598\n",
      "\n",
      "--- Iter 159 ---\n",
      "Starting forward run...\n",
      "Starting adjoint run...\n"
     ]
    },
    {
     "name": "stderr",
     "output_type": "stream",
     "text": [
      "Warning: grid volume is not an integer number of pixels; cell size will be rounded to nearest pixel.\n"
     ]
    },
    {
     "name": "stdout",
     "output_type": "stream",
     "text": [
      "Calculating gradient...\n",
      "Current β: 8.450\n",
      "FoM values: [0.029916678873613663]\n",
      "Mean FoM: 0.029917\n",
      "Binarization degree: 0.6624\n",
      "\n",
      "--- Iter 160 ---\n",
      "Starting forward run...\n",
      "Starting adjoint run...\n"
     ]
    },
    {
     "name": "stderr",
     "output_type": "stream",
     "text": [
      "Warning: grid volume is not an integer number of pixels; cell size will be rounded to nearest pixel.\n"
     ]
    },
    {
     "name": "stdout",
     "output_type": "stream",
     "text": [
      "Calculating gradient...\n",
      "Current β: 8.450\n",
      "FoM values: [0.029773866190030022]\n",
      "Mean FoM: 0.029774\n",
      "Binarization degree: 0.6680\n",
      "\n",
      "--- Iter 161 ---\n",
      "Starting forward run...\n",
      "Starting adjoint run...\n"
     ]
    },
    {
     "name": "stderr",
     "output_type": "stream",
     "text": [
      "Warning: grid volume is not an integer number of pixels; cell size will be rounded to nearest pixel.\n"
     ]
    },
    {
     "name": "stdout",
     "output_type": "stream",
     "text": [
      "Calculating gradient...\n",
      "Current β: 8.450\n",
      "FoM values: [0.03161912445964732]\n",
      "Mean FoM: 0.031619\n",
      "Binarization degree: 0.6705\n",
      "\n",
      "--- Iter 162 ---\n",
      "Starting forward run...\n",
      "Starting adjoint run...\n"
     ]
    },
    {
     "name": "stderr",
     "output_type": "stream",
     "text": [
      "Warning: grid volume is not an integer number of pixels; cell size will be rounded to nearest pixel.\n"
     ]
    },
    {
     "name": "stdout",
     "output_type": "stream",
     "text": [
      "Calculating gradient...\n",
      "Current β: 8.450\n",
      "FoM values: [0.029392025013510008]\n",
      "Mean FoM: 0.029392\n",
      "Binarization degree: 0.6703\n",
      "\n",
      "--- Iter 163 ---\n",
      "Starting forward run...\n",
      "Starting adjoint run...\n"
     ]
    },
    {
     "name": "stderr",
     "output_type": "stream",
     "text": [
      "Warning: grid volume is not an integer number of pixels; cell size will be rounded to nearest pixel.\n"
     ]
    },
    {
     "name": "stdout",
     "output_type": "stream",
     "text": [
      "Calculating gradient...\n",
      "Current β: 8.450\n",
      "FoM values: [0.030044833881750627]\n",
      "Mean FoM: 0.030045\n",
      "Binarization degree: 0.6735\n",
      "\n",
      "--- Iter 164 ---\n",
      "Starting forward run...\n",
      "Starting adjoint run...\n"
     ]
    },
    {
     "name": "stderr",
     "output_type": "stream",
     "text": [
      "Warning: grid volume is not an integer number of pixels; cell size will be rounded to nearest pixel.\n"
     ]
    },
    {
     "name": "stdout",
     "output_type": "stream",
     "text": [
      "Calculating gradient...\n",
      "Current β: 8.450\n",
      "FoM values: [0.03212160104058431]\n",
      "Mean FoM: 0.032122\n",
      "Binarization degree: 0.6791\n",
      "\n",
      "--- Iter 165 ---\n",
      "Starting forward run...\n",
      "Starting adjoint run...\n"
     ]
    },
    {
     "name": "stderr",
     "output_type": "stream",
     "text": [
      "Warning: grid volume is not an integer number of pixels; cell size will be rounded to nearest pixel.\n"
     ]
    },
    {
     "name": "stdout",
     "output_type": "stream",
     "text": [
      "Calculating gradient...\n",
      "Current β: 8.450\n",
      "FoM values: [0.03168440293910547]\n",
      "Mean FoM: 0.031684\n",
      "Binarization degree: 0.6817\n",
      "\n",
      "--- Iter 166 ---\n",
      "Starting forward run...\n",
      "Starting adjoint run...\n"
     ]
    },
    {
     "name": "stderr",
     "output_type": "stream",
     "text": [
      "Warning: grid volume is not an integer number of pixels; cell size will be rounded to nearest pixel.\n"
     ]
    },
    {
     "name": "stdout",
     "output_type": "stream",
     "text": [
      "Calculating gradient...\n",
      "Current β: 8.450\n",
      "FoM values: [0.032240905108882376]\n",
      "Mean FoM: 0.032241\n",
      "Binarization degree: 0.6814\n",
      "\n",
      "--- Iter 167 ---\n",
      "Starting forward run...\n",
      "Starting adjoint run...\n"
     ]
    },
    {
     "name": "stderr",
     "output_type": "stream",
     "text": [
      "Warning: grid volume is not an integer number of pixels; cell size will be rounded to nearest pixel.\n"
     ]
    },
    {
     "name": "stdout",
     "output_type": "stream",
     "text": [
      "Calculating gradient...\n",
      "Current β: 8.450\n",
      "FoM values: [0.030359570435346254]\n",
      "Mean FoM: 0.030360\n",
      "Binarization degree: 0.6821\n",
      "\n",
      "--- Iter 168 ---\n",
      "Starting forward run...\n",
      "Starting adjoint run...\n"
     ]
    },
    {
     "name": "stderr",
     "output_type": "stream",
     "text": [
      "Warning: grid volume is not an integer number of pixels; cell size will be rounded to nearest pixel.\n"
     ]
    },
    {
     "name": "stdout",
     "output_type": "stream",
     "text": [
      "Calculating gradient...\n",
      "Current β: 8.450\n",
      "FoM values: [0.03275110459334208]\n",
      "Mean FoM: 0.032751\n",
      "Binarization degree: 0.6853\n",
      "\n",
      "--- Iter 169 ---\n",
      "Starting forward run...\n",
      "Starting adjoint run...\n"
     ]
    },
    {
     "name": "stderr",
     "output_type": "stream",
     "text": [
      "Warning: grid volume is not an integer number of pixels; cell size will be rounded to nearest pixel.\n"
     ]
    },
    {
     "name": "stdout",
     "output_type": "stream",
     "text": [
      "Calculating gradient...\n",
      "Current β: 8.450\n",
      "FoM values: [0.0318741243156341]\n",
      "Mean FoM: 0.031874\n",
      "Binarization degree: 0.6880\n",
      "\n",
      "--- Iter 170 ---\n",
      "Starting forward run...\n",
      "Starting adjoint run...\n"
     ]
    },
    {
     "name": "stderr",
     "output_type": "stream",
     "text": [
      "Warning: grid volume is not an integer number of pixels; cell size will be rounded to nearest pixel.\n"
     ]
    },
    {
     "name": "stdout",
     "output_type": "stream",
     "text": [
      "Calculating gradient...\n",
      "Current β: 8.450\n",
      "FoM values: [0.032704836868399756]\n",
      "Mean FoM: 0.032705\n",
      "Binarization degree: 0.6881\n",
      "\n",
      "--- Iter 171 ---\n",
      "Starting forward run...\n",
      "Starting adjoint run...\n"
     ]
    },
    {
     "name": "stderr",
     "output_type": "stream",
     "text": [
      "Warning: grid volume is not an integer number of pixels; cell size will be rounded to nearest pixel.\n"
     ]
    },
    {
     "name": "stdout",
     "output_type": "stream",
     "text": [
      "Calculating gradient...\n",
      "Current β: 8.450\n",
      "FoM values: [0.03140105527559462]\n",
      "Mean FoM: 0.031401\n",
      "Binarization degree: 0.6869\n",
      "\n",
      "--- Iter 172 ---\n",
      "Starting forward run...\n",
      "Starting adjoint run...\n"
     ]
    },
    {
     "name": "stderr",
     "output_type": "stream",
     "text": [
      "Warning: grid volume is not an integer number of pixels; cell size will be rounded to nearest pixel.\n"
     ]
    },
    {
     "name": "stdout",
     "output_type": "stream",
     "text": [
      "Calculating gradient...\n",
      "Current β: 8.450\n",
      "FoM values: [0.03176102403473849]\n",
      "Mean FoM: 0.031761\n",
      "Binarization degree: 0.6876\n",
      "\n",
      "--- Iter 173 ---\n",
      "Starting forward run...\n",
      "Starting adjoint run...\n"
     ]
    },
    {
     "name": "stderr",
     "output_type": "stream",
     "text": [
      "Warning: grid volume is not an integer number of pixels; cell size will be rounded to nearest pixel.\n"
     ]
    },
    {
     "name": "stdout",
     "output_type": "stream",
     "text": [
      "Calculating gradient...\n",
      "Current β: 8.450\n",
      "FoM values: [0.03299752252882361]\n",
      "Mean FoM: 0.032998\n",
      "Binarization degree: 0.6897\n",
      "\n",
      "--- Iter 174 ---\n",
      "Starting forward run...\n",
      "Starting adjoint run...\n"
     ]
    },
    {
     "name": "stderr",
     "output_type": "stream",
     "text": [
      "Warning: grid volume is not an integer number of pixels; cell size will be rounded to nearest pixel.\n"
     ]
    },
    {
     "name": "stdout",
     "output_type": "stream",
     "text": [
      "Calculating gradient...\n",
      "Current β: 8.450\n",
      "FoM values: [0.032696783998134735]\n",
      "Mean FoM: 0.032697\n",
      "Binarization degree: 0.6905\n",
      "\n",
      "--- Iter 175 ---\n",
      "Starting forward run...\n",
      "Starting adjoint run...\n"
     ]
    },
    {
     "name": "stderr",
     "output_type": "stream",
     "text": [
      "Warning: grid volume is not an integer number of pixels; cell size will be rounded to nearest pixel.\n"
     ]
    },
    {
     "name": "stdout",
     "output_type": "stream",
     "text": [
      "Calculating gradient...\n",
      "Current β: 8.450\n",
      "FoM values: [0.032944577413212446]\n",
      "Mean FoM: 0.032945\n",
      "Binarization degree: 0.6896\n",
      "\n",
      "--- Iter 176 ---\n",
      "Starting forward run...\n",
      "Starting adjoint run...\n"
     ]
    },
    {
     "name": "stderr",
     "output_type": "stream",
     "text": [
      "Warning: grid volume is not an integer number of pixels; cell size will be rounded to nearest pixel.\n"
     ]
    },
    {
     "name": "stdout",
     "output_type": "stream",
     "text": [
      "Calculating gradient...\n",
      "Current β: 8.450\n",
      "FoM values: [0.031940708537765684]\n",
      "Mean FoM: 0.031941\n",
      "Binarization degree: 0.6892\n",
      "\n",
      "--- Iter 177 ---\n",
      "Starting forward run...\n",
      "Starting adjoint run...\n"
     ]
    },
    {
     "name": "stderr",
     "output_type": "stream",
     "text": [
      "Warning: grid volume is not an integer number of pixels; cell size will be rounded to nearest pixel.\n"
     ]
    },
    {
     "name": "stdout",
     "output_type": "stream",
     "text": [
      "Calculating gradient...\n",
      "Current β: 8.450\n",
      "FoM values: [0.033038502654876394]\n",
      "Mean FoM: 0.033039\n",
      "Binarization degree: 0.6905\n",
      "\n",
      "--- Iter 178 ---\n",
      "Starting forward run...\n",
      "Starting adjoint run...\n"
     ]
    },
    {
     "name": "stderr",
     "output_type": "stream",
     "text": [
      "Warning: grid volume is not an integer number of pixels; cell size will be rounded to nearest pixel.\n"
     ]
    },
    {
     "name": "stdout",
     "output_type": "stream",
     "text": [
      "Calculating gradient...\n",
      "Current β: 8.450\n",
      "FoM values: [0.03288467301710268]\n",
      "Mean FoM: 0.032885\n",
      "Binarization degree: 0.6918\n",
      "\n",
      "--- Iter 179 ---\n",
      "Starting forward run...\n",
      "Starting adjoint run...\n"
     ]
    },
    {
     "name": "stderr",
     "output_type": "stream",
     "text": [
      "Warning: grid volume is not an integer number of pixels; cell size will be rounded to nearest pixel.\n"
     ]
    },
    {
     "name": "stdout",
     "output_type": "stream",
     "text": [
      "Calculating gradient...\n",
      "Current β: 8.450\n",
      "FoM values: [0.03305883007310757]\n",
      "Mean FoM: 0.033059\n",
      "Binarization degree: 0.6914\n",
      "\n",
      "--- Iter 180 ---\n",
      "Starting forward run...\n",
      "Starting adjoint run...\n"
     ]
    },
    {
     "name": "stderr",
     "output_type": "stream",
     "text": [
      "Warning: grid volume is not an integer number of pixels; cell size will be rounded to nearest pixel.\n"
     ]
    },
    {
     "name": "stdout",
     "output_type": "stream",
     "text": [
      "Calculating gradient...\n",
      "Current β: 8.450\n",
      "FoM values: [0.03216984037158566]\n",
      "Mean FoM: 0.032170\n",
      "Binarization degree: 0.6903\n",
      "\n",
      "--- Iter 181 ---\n",
      "Starting forward run...\n",
      "Starting adjoint run...\n"
     ]
    },
    {
     "name": "stderr",
     "output_type": "stream",
     "text": [
      "Warning: grid volume is not an integer number of pixels; cell size will be rounded to nearest pixel.\n"
     ]
    },
    {
     "name": "stdout",
     "output_type": "stream",
     "text": [
      "Calculating gradient...\n",
      "Current β: 8.450\n",
      "FoM values: [0.03236189099582291]\n",
      "Mean FoM: 0.032362\n",
      "Binarization degree: 0.6906\n",
      "\n",
      "--- Iter 182 ---\n",
      "Starting forward run...\n",
      "Starting adjoint run...\n"
     ]
    },
    {
     "name": "stderr",
     "output_type": "stream",
     "text": [
      "Warning: grid volume is not an integer number of pixels; cell size will be rounded to nearest pixel.\n"
     ]
    },
    {
     "name": "stdout",
     "output_type": "stream",
     "text": [
      "Calculating gradient...\n",
      "Current β: 8.450\n",
      "FoM values: [0.033038468045609996]\n",
      "Mean FoM: 0.033038\n",
      "Binarization degree: 0.6917\n",
      "\n",
      "--- Iter 183 ---\n",
      "Starting forward run...\n",
      "Starting adjoint run...\n"
     ]
    },
    {
     "name": "stderr",
     "output_type": "stream",
     "text": [
      "Warning: grid volume is not an integer number of pixels; cell size will be rounded to nearest pixel.\n"
     ]
    },
    {
     "name": "stdout",
     "output_type": "stream",
     "text": [
      "Calculating gradient...\n",
      "Current β: 8.450\n",
      "FoM values: [0.033116832369882915]\n",
      "Mean FoM: 0.033117\n",
      "Binarization degree: 0.6918\n",
      "\n",
      "--- Iter 184 ---\n",
      "Starting forward run...\n",
      "Starting adjoint run...\n"
     ]
    },
    {
     "name": "stderr",
     "output_type": "stream",
     "text": [
      "Warning: grid volume is not an integer number of pixels; cell size will be rounded to nearest pixel.\n"
     ]
    },
    {
     "name": "stdout",
     "output_type": "stream",
     "text": [
      "Calculating gradient...\n",
      "Current β: 8.450\n",
      "FoM values: [0.03308792952042771]\n",
      "Mean FoM: 0.033088\n",
      "Binarization degree: 0.6907\n",
      "\n",
      "--- Iter 185 ---\n",
      "Starting forward run...\n",
      "Starting adjoint run...\n"
     ]
    },
    {
     "name": "stderr",
     "output_type": "stream",
     "text": [
      "Warning: grid volume is not an integer number of pixels; cell size will be rounded to nearest pixel.\n"
     ]
    },
    {
     "name": "stdout",
     "output_type": "stream",
     "text": [
      "Calculating gradient...\n",
      "Current β: 8.450\n",
      "FoM values: [0.032810786227944616]\n",
      "Mean FoM: 0.032811\n",
      "Binarization degree: 0.6899\n",
      "\n",
      "--- Iter 186 ---\n",
      "Starting forward run...\n",
      "Starting adjoint run...\n"
     ]
    },
    {
     "name": "stderr",
     "output_type": "stream",
     "text": [
      "Warning: grid volume is not an integer number of pixels; cell size will be rounded to nearest pixel.\n"
     ]
    },
    {
     "name": "stdout",
     "output_type": "stream",
     "text": [
      "Calculating gradient...\n",
      "Current β: 8.450\n",
      "FoM values: [0.03351610634642923]\n",
      "Mean FoM: 0.033516\n",
      "Binarization degree: 0.6903\n",
      "\n",
      "--- Iter 187 ---\n",
      "Starting forward run...\n",
      "Starting adjoint run...\n"
     ]
    },
    {
     "name": "stderr",
     "output_type": "stream",
     "text": [
      "Warning: grid volume is not an integer number of pixels; cell size will be rounded to nearest pixel.\n"
     ]
    },
    {
     "name": "stdout",
     "output_type": "stream",
     "text": [
      "Calculating gradient...\n",
      "Current β: 8.450\n",
      "FoM values: [0.03354745878662879]\n",
      "Mean FoM: 0.033547\n",
      "Binarization degree: 0.6904\n",
      "\n",
      "--- Iter 188 ---\n",
      "Starting forward run...\n",
      "Starting adjoint run...\n"
     ]
    },
    {
     "name": "stderr",
     "output_type": "stream",
     "text": [
      "Warning: grid volume is not an integer number of pixels; cell size will be rounded to nearest pixel.\n"
     ]
    },
    {
     "name": "stdout",
     "output_type": "stream",
     "text": [
      "Calculating gradient...\n",
      "Current β: 8.450\n",
      "FoM values: [0.0335991838439942]\n",
      "Mean FoM: 0.033599\n",
      "Binarization degree: 0.6892\n",
      "\n",
      "--- Iter 189 ---\n",
      "Starting forward run...\n",
      "Starting adjoint run...\n"
     ]
    },
    {
     "name": "stderr",
     "output_type": "stream",
     "text": [
      "Warning: grid volume is not an integer number of pixels; cell size will be rounded to nearest pixel.\n"
     ]
    },
    {
     "name": "stdout",
     "output_type": "stream",
     "text": [
      "Calculating gradient...\n",
      "Current β: 8.450\n",
      "FoM values: [0.03316916203330597]\n",
      "Mean FoM: 0.033169\n",
      "Binarization degree: 0.6880\n",
      "\n",
      "--- Iter 190 ---\n",
      "Starting forward run...\n",
      "Starting adjoint run...\n"
     ]
    },
    {
     "name": "stderr",
     "output_type": "stream",
     "text": [
      "Warning: grid volume is not an integer number of pixels; cell size will be rounded to nearest pixel.\n"
     ]
    },
    {
     "name": "stdout",
     "output_type": "stream",
     "text": [
      "Calculating gradient...\n",
      "Current β: 8.450\n",
      "FoM values: [0.033649100701745045]\n",
      "Mean FoM: 0.033649\n",
      "Binarization degree: 0.6880\n",
      "\n",
      "--- Iter 191 ---\n",
      "Starting forward run...\n",
      "Starting adjoint run...\n"
     ]
    },
    {
     "name": "stderr",
     "output_type": "stream",
     "text": [
      "Warning: grid volume is not an integer number of pixels; cell size will be rounded to nearest pixel.\n"
     ]
    },
    {
     "name": "stdout",
     "output_type": "stream",
     "text": [
      "Calculating gradient...\n",
      "Current β: 8.450\n",
      "FoM values: [0.03374030316496175]\n",
      "Mean FoM: 0.033740\n",
      "Binarization degree: 0.6880\n",
      "\n",
      "--- Iter 192 ---\n",
      "Starting forward run...\n",
      "Starting adjoint run...\n"
     ]
    },
    {
     "name": "stderr",
     "output_type": "stream",
     "text": [
      "Warning: grid volume is not an integer number of pixels; cell size will be rounded to nearest pixel.\n"
     ]
    },
    {
     "name": "stdout",
     "output_type": "stream",
     "text": [
      "Calculating gradient...\n",
      "Current β: 8.450\n",
      "FoM values: [0.03374957654352631]\n",
      "Mean FoM: 0.033750\n",
      "Binarization degree: 0.6868\n",
      "\n",
      "--- Iter 193 ---\n",
      "Starting forward run...\n",
      "Starting adjoint run...\n"
     ]
    },
    {
     "name": "stderr",
     "output_type": "stream",
     "text": [
      "Warning: grid volume is not an integer number of pixels; cell size will be rounded to nearest pixel.\n"
     ]
    },
    {
     "name": "stdout",
     "output_type": "stream",
     "text": [
      "Calculating gradient...\n",
      "Current β: 8.450\n",
      "FoM values: [0.033458885897848296]\n",
      "Mean FoM: 0.033459\n",
      "Binarization degree: 0.6857\n",
      "\n",
      "--- Iter 194 ---\n",
      "Starting forward run...\n",
      "Starting adjoint run...\n"
     ]
    },
    {
     "name": "stderr",
     "output_type": "stream",
     "text": [
      "Warning: grid volume is not an integer number of pixels; cell size will be rounded to nearest pixel.\n"
     ]
    },
    {
     "name": "stdout",
     "output_type": "stream",
     "text": [
      "Calculating gradient...\n",
      "Current β: 8.450\n",
      "FoM values: [0.0339058054591055]\n",
      "Mean FoM: 0.033906\n",
      "Binarization degree: 0.6857\n",
      "\n",
      "--- Iter 195 ---\n",
      "Starting forward run...\n",
      "Starting adjoint run...\n"
     ]
    },
    {
     "name": "stderr",
     "output_type": "stream",
     "text": [
      "Warning: grid volume is not an integer number of pixels; cell size will be rounded to nearest pixel.\n"
     ]
    },
    {
     "name": "stdout",
     "output_type": "stream",
     "text": [
      "Calculating gradient...\n",
      "Current β: 8.450\n",
      "FoM values: [0.03404359125641106]\n",
      "Mean FoM: 0.034044\n",
      "Binarization degree: 0.6857\n",
      "\n",
      "--- Iter 196 ---\n",
      "Starting forward run...\n",
      "Starting adjoint run...\n"
     ]
    },
    {
     "name": "stderr",
     "output_type": "stream",
     "text": [
      "Warning: grid volume is not an integer number of pixels; cell size will be rounded to nearest pixel.\n"
     ]
    },
    {
     "name": "stdout",
     "output_type": "stream",
     "text": [
      "Calculating gradient...\n",
      "Current β: 8.450\n",
      "FoM values: [0.03403766479235494]\n",
      "Mean FoM: 0.034038\n",
      "Binarization degree: 0.6847\n",
      "\n",
      "--- Iter 197 ---\n",
      "Starting forward run...\n",
      "Starting adjoint run...\n"
     ]
    },
    {
     "name": "stderr",
     "output_type": "stream",
     "text": [
      "Warning: grid volume is not an integer number of pixels; cell size will be rounded to nearest pixel.\n"
     ]
    },
    {
     "name": "stdout",
     "output_type": "stream",
     "text": [
      "Calculating gradient...\n",
      "Current β: 8.450\n",
      "FoM values: [0.03396494039486767]\n",
      "Mean FoM: 0.033965\n",
      "Binarization degree: 0.6841\n",
      "\n",
      "--- Iter 198 ---\n",
      "Starting forward run...\n",
      "Starting adjoint run...\n"
     ]
    },
    {
     "name": "stderr",
     "output_type": "stream",
     "text": [
      "Warning: grid volume is not an integer number of pixels; cell size will be rounded to nearest pixel.\n"
     ]
    },
    {
     "name": "stdout",
     "output_type": "stream",
     "text": [
      "Calculating gradient...\n",
      "Current β: 8.450\n",
      "FoM values: [0.034360344258406623]\n",
      "Mean FoM: 0.034360\n",
      "Binarization degree: 0.6844\n",
      "\n",
      "--- Iter 199 ---\n",
      "Starting forward run...\n",
      "Starting adjoint run...\n"
     ]
    },
    {
     "name": "stderr",
     "output_type": "stream",
     "text": [
      "Warning: grid volume is not an integer number of pixels; cell size will be rounded to nearest pixel.\n"
     ]
    },
    {
     "name": "stdout",
     "output_type": "stream",
     "text": [
      "Calculating gradient...\n",
      "Current β: 8.450\n",
      "FoM values: [0.034434865165963176]\n",
      "Mean FoM: 0.034435\n",
      "Binarization degree: 0.6840\n",
      "\n",
      "--- Iter 200 ---\n",
      "Starting forward run...\n",
      "Starting adjoint run...\n"
     ]
    },
    {
     "name": "stderr",
     "output_type": "stream",
     "text": [
      "Warning: grid volume is not an integer number of pixels; cell size will be rounded to nearest pixel.\n"
     ]
    },
    {
     "name": "stdout",
     "output_type": "stream",
     "text": [
      "Calculating gradient...\n",
      "Current β: 8.450\n",
      "FoM values: [0.03419465796320191]\n",
      "Mean FoM: 0.034195\n",
      "Binarization degree: 0.6836\n",
      "\n",
      "--- Iter 201 ---\n",
      "Starting forward run...\n",
      "Starting adjoint run...\n"
     ]
    },
    {
     "name": "stderr",
     "output_type": "stream",
     "text": [
      "Warning: grid volume is not an integer number of pixels; cell size will be rounded to nearest pixel.\n"
     ]
    },
    {
     "name": "stdout",
     "output_type": "stream",
     "text": [
      "Calculating gradient...\n",
      "Current β: 8.450\n",
      "FoM values: [0.03448999369717521]\n",
      "Mean FoM: 0.034490\n",
      "Binarization degree: 0.6835\n",
      "\n",
      "--- Iter 202 ---\n",
      "Starting forward run...\n",
      "Starting adjoint run...\n"
     ]
    },
    {
     "name": "stderr",
     "output_type": "stream",
     "text": [
      "Warning: grid volume is not an integer number of pixels; cell size will be rounded to nearest pixel.\n"
     ]
    },
    {
     "name": "stdout",
     "output_type": "stream",
     "text": [
      "Calculating gradient...\n",
      "Current β: 8.450\n",
      "FoM values: [0.034589398945373724]\n",
      "Mean FoM: 0.034589\n",
      "Binarization degree: 0.6834\n",
      "\n",
      "--- Iter 203 ---\n",
      "Starting forward run...\n",
      "Starting adjoint run...\n"
     ]
    },
    {
     "name": "stderr",
     "output_type": "stream",
     "text": [
      "Warning: grid volume is not an integer number of pixels; cell size will be rounded to nearest pixel.\n"
     ]
    },
    {
     "name": "stdout",
     "output_type": "stream",
     "text": [
      "Calculating gradient...\n",
      "Current β: 8.450\n",
      "FoM values: [0.03441611820970049]\n",
      "Mean FoM: 0.034416\n",
      "Binarization degree: 0.6829\n",
      "\n",
      "--- Iter 204 ---\n",
      "Starting forward run...\n",
      "Starting adjoint run...\n"
     ]
    },
    {
     "name": "stderr",
     "output_type": "stream",
     "text": [
      "Warning: grid volume is not an integer number of pixels; cell size will be rounded to nearest pixel.\n"
     ]
    },
    {
     "name": "stdout",
     "output_type": "stream",
     "text": [
      "Calculating gradient...\n",
      "Current β: 8.450\n",
      "FoM values: [0.034453342097271876]\n",
      "Mean FoM: 0.034453\n",
      "Binarization degree: 0.6828\n",
      "\n",
      "--- Iter 205 ---\n",
      "Starting forward run...\n",
      "Starting adjoint run...\n"
     ]
    },
    {
     "name": "stderr",
     "output_type": "stream",
     "text": [
      "Warning: grid volume is not an integer number of pixels; cell size will be rounded to nearest pixel.\n"
     ]
    },
    {
     "name": "stdout",
     "output_type": "stream",
     "text": [
      "Calculating gradient...\n",
      "Current β: 8.450\n",
      "FoM values: [0.03457500137077075]\n",
      "Mean FoM: 0.034575\n",
      "Binarization degree: 0.6830\n",
      "\n",
      "--- Iter 206 ---\n",
      "Starting forward run...\n",
      "Starting adjoint run...\n"
     ]
    },
    {
     "name": "stderr",
     "output_type": "stream",
     "text": [
      "Warning: grid volume is not an integer number of pixels; cell size will be rounded to nearest pixel.\n"
     ]
    },
    {
     "name": "stdout",
     "output_type": "stream",
     "text": [
      "Calculating gradient...\n",
      "Current β: 8.450\n",
      "FoM values: [0.034449525968588524]\n",
      "Mean FoM: 0.034450\n",
      "Binarization degree: 0.6829\n",
      "\n",
      "--- Iter 207 ---\n",
      "Starting forward run...\n",
      "Starting adjoint run...\n"
     ]
    },
    {
     "name": "stderr",
     "output_type": "stream",
     "text": [
      "Warning: grid volume is not an integer number of pixels; cell size will be rounded to nearest pixel.\n"
     ]
    },
    {
     "name": "stdout",
     "output_type": "stream",
     "text": [
      "Calculating gradient...\n",
      "Current β: 8.450\n",
      "FoM values: [0.034345628864420816]\n",
      "Mean FoM: 0.034346\n",
      "Binarization degree: 0.6829\n",
      "\n",
      "--- Iter 208 ---\n",
      "Starting forward run...\n",
      "Starting adjoint run...\n"
     ]
    },
    {
     "name": "stderr",
     "output_type": "stream",
     "text": [
      "Warning: grid volume is not an integer number of pixels; cell size will be rounded to nearest pixel.\n"
     ]
    },
    {
     "name": "stdout",
     "output_type": "stream",
     "text": [
      "Calculating gradient...\n",
      "Current β: 8.450\n",
      "FoM values: [0.03452638413976606]\n",
      "Mean FoM: 0.034526\n",
      "Binarization degree: 0.6833\n",
      "\n",
      "--- Iter 209 ---\n",
      "Starting forward run...\n",
      "Starting adjoint run...\n"
     ]
    },
    {
     "name": "stderr",
     "output_type": "stream",
     "text": [
      "Warning: grid volume is not an integer number of pixels; cell size will be rounded to nearest pixel.\n"
     ]
    },
    {
     "name": "stdout",
     "output_type": "stream",
     "text": [
      "Calculating gradient...\n",
      "Current β: 8.450\n",
      "FoM values: [0.0344727226958956]\n",
      "Mean FoM: 0.034473\n",
      "Binarization degree: 0.6832\n",
      "\n",
      "--- Iter 210 ---\n",
      "Starting forward run...\n",
      "Starting adjoint run...\n"
     ]
    },
    {
     "name": "stderr",
     "output_type": "stream",
     "text": [
      "Warning: grid volume is not an integer number of pixels; cell size will be rounded to nearest pixel.\n"
     ]
    },
    {
     "name": "stdout",
     "output_type": "stream",
     "text": [
      "Calculating gradient...\n",
      "Current β: 8.450\n",
      "FoM values: [0.03435808638904613]\n",
      "Mean FoM: 0.034358\n",
      "Binarization degree: 0.6830\n",
      "\n",
      "--- Iter 211 ---\n",
      "Starting forward run...\n",
      "Starting adjoint run...\n"
     ]
    },
    {
     "name": "stderr",
     "output_type": "stream",
     "text": [
      "Warning: grid volume is not an integer number of pixels; cell size will be rounded to nearest pixel.\n"
     ]
    },
    {
     "name": "stdout",
     "output_type": "stream",
     "text": [
      "Calculating gradient...\n",
      "Current β: 8.450\n",
      "FoM values: [0.03456267044301534]\n",
      "Mean FoM: 0.034563\n",
      "Binarization degree: 0.6833\n",
      "\n",
      "--- Iter 212 ---\n",
      "Starting forward run...\n",
      "Starting adjoint run...\n"
     ]
    },
    {
     "name": "stderr",
     "output_type": "stream",
     "text": [
      "Warning: grid volume is not an integer number of pixels; cell size will be rounded to nearest pixel.\n"
     ]
    },
    {
     "name": "stdout",
     "output_type": "stream",
     "text": [
      "Calculating gradient...\n",
      "Current β: 8.450\n",
      "FoM values: [0.03455040812778349]\n",
      "Mean FoM: 0.034550\n",
      "Binarization degree: 0.6832\n",
      "\n",
      "--- Iter 213 ---\n",
      "Starting forward run...\n",
      "Starting adjoint run...\n"
     ]
    },
    {
     "name": "stderr",
     "output_type": "stream",
     "text": [
      "Warning: grid volume is not an integer number of pixels; cell size will be rounded to nearest pixel.\n"
     ]
    },
    {
     "name": "stdout",
     "output_type": "stream",
     "text": [
      "Calculating gradient...\n",
      "Current β: 8.450\n",
      "FoM values: [0.03440463213984399]\n",
      "Mean FoM: 0.034405\n",
      "Binarization degree: 0.6831\n",
      "\n",
      "--- Iter 214 ---\n",
      "Starting forward run...\n",
      "Starting adjoint run...\n"
     ]
    },
    {
     "name": "stderr",
     "output_type": "stream",
     "text": [
      "Warning: grid volume is not an integer number of pixels; cell size will be rounded to nearest pixel.\n"
     ]
    },
    {
     "name": "stdout",
     "output_type": "stream",
     "text": [
      "Calculating gradient...\n",
      "Current β: 8.450\n",
      "FoM values: [0.03453213988182347]\n",
      "Mean FoM: 0.034532\n",
      "Binarization degree: 0.6837\n",
      "\n",
      "--- Iter 215 ---\n",
      "Starting forward run...\n",
      "Starting adjoint run...\n"
     ]
    },
    {
     "name": "stderr",
     "output_type": "stream",
     "text": [
      "Warning: grid volume is not an integer number of pixels; cell size will be rounded to nearest pixel.\n"
     ]
    },
    {
     "name": "stdout",
     "output_type": "stream",
     "text": [
      "Calculating gradient...\n",
      "Current β: 8.450\n",
      "FoM values: [0.03451382054309513]\n",
      "Mean FoM: 0.034514\n",
      "Binarization degree: 0.6843\n",
      "\n",
      "--- Iter 216 ---\n",
      "Starting forward run...\n",
      "Starting adjoint run...\n"
     ]
    },
    {
     "name": "stderr",
     "output_type": "stream",
     "text": [
      "Warning: grid volume is not an integer number of pixels; cell size will be rounded to nearest pixel.\n"
     ]
    },
    {
     "name": "stdout",
     "output_type": "stream",
     "text": [
      "Calculating gradient...\n",
      "Current β: 8.450\n",
      "FoM values: [0.03436404965126596]\n",
      "Mean FoM: 0.034364\n",
      "Binarization degree: 0.6846\n",
      "\n",
      "--- Iter 217 ---\n",
      "Starting forward run...\n",
      "Starting adjoint run...\n"
     ]
    },
    {
     "name": "stderr",
     "output_type": "stream",
     "text": [
      "Warning: grid volume is not an integer number of pixels; cell size will be rounded to nearest pixel.\n"
     ]
    },
    {
     "name": "stdout",
     "output_type": "stream",
     "text": [
      "Calculating gradient...\n",
      "Current β: 8.450\n",
      "FoM values: [0.0344506652363266]\n",
      "Mean FoM: 0.034451\n",
      "Binarization degree: 0.6853\n",
      "\n",
      "--- Iter 218 ---\n",
      "Starting forward run...\n",
      "Starting adjoint run...\n"
     ]
    },
    {
     "name": "stderr",
     "output_type": "stream",
     "text": [
      "Warning: grid volume is not an integer number of pixels; cell size will be rounded to nearest pixel.\n"
     ]
    },
    {
     "name": "stdout",
     "output_type": "stream",
     "text": [
      "Calculating gradient...\n",
      "Current β: 8.450\n",
      "FoM values: [0.03449380062987877]\n",
      "Mean FoM: 0.034494\n",
      "Binarization degree: 0.6858\n",
      "\n",
      "--- Iter 219 ---\n",
      "Starting forward run...\n",
      "Starting adjoint run...\n"
     ]
    },
    {
     "name": "stderr",
     "output_type": "stream",
     "text": [
      "Warning: grid volume is not an integer number of pixels; cell size will be rounded to nearest pixel.\n"
     ]
    },
    {
     "name": "stdout",
     "output_type": "stream",
     "text": [
      "Calculating gradient...\n",
      "Current β: 8.450\n",
      "FoM values: [0.034418578969697036]\n",
      "Mean FoM: 0.034419\n",
      "Binarization degree: 0.6859\n",
      "\n",
      "--- Iter 220 ---\n",
      "Starting forward run...\n",
      "Starting adjoint run...\n"
     ]
    },
    {
     "name": "stderr",
     "output_type": "stream",
     "text": [
      "Warning: grid volume is not an integer number of pixels; cell size will be rounded to nearest pixel.\n"
     ]
    },
    {
     "name": "stdout",
     "output_type": "stream",
     "text": [
      "Calculating gradient...\n",
      "Current β: 9.620\n",
      "FoM values: [0.034486275685598186]\n",
      "Mean FoM: 0.034486\n",
      "Binarization degree: 0.6862\n",
      "\n",
      "--- Iter 221 ---\n",
      "Starting forward run...\n",
      "Starting adjoint run...\n"
     ]
    },
    {
     "name": "stderr",
     "output_type": "stream",
     "text": [
      "Warning: grid volume is not an integer number of pixels; cell size will be rounded to nearest pixel.\n"
     ]
    },
    {
     "name": "stdout",
     "output_type": "stream",
     "text": [
      "Calculating gradient...\n",
      "Current β: 9.620\n",
      "FoM values: [0.03279322085878137]\n",
      "Mean FoM: 0.032793\n",
      "Binarization degree: 0.7198\n",
      "\n",
      "--- Iter 222 ---\n",
      "Starting forward run...\n",
      "Starting adjoint run...\n"
     ]
    },
    {
     "name": "stderr",
     "output_type": "stream",
     "text": [
      "Warning: grid volume is not an integer number of pixels; cell size will be rounded to nearest pixel.\n"
     ]
    },
    {
     "name": "stdout",
     "output_type": "stream",
     "text": [
      "Calculating gradient...\n",
      "Current β: 9.620\n",
      "FoM values: [0.033168390510843734]\n",
      "Mean FoM: 0.033168\n",
      "Binarization degree: 0.7204\n",
      "\n",
      "--- Iter 223 ---\n",
      "Starting forward run...\n",
      "Starting adjoint run...\n"
     ]
    },
    {
     "name": "stderr",
     "output_type": "stream",
     "text": [
      "Warning: grid volume is not an integer number of pixels; cell size will be rounded to nearest pixel.\n"
     ]
    },
    {
     "name": "stdout",
     "output_type": "stream",
     "text": [
      "Calculating gradient...\n",
      "Current β: 9.620\n",
      "FoM values: [0.03191108221430992]\n",
      "Mean FoM: 0.031911\n",
      "Binarization degree: 0.7181\n",
      "\n",
      "--- Iter 224 ---\n",
      "Starting forward run...\n",
      "Starting adjoint run...\n"
     ]
    },
    {
     "name": "stderr",
     "output_type": "stream",
     "text": [
      "Warning: grid volume is not an integer number of pixels; cell size will be rounded to nearest pixel.\n"
     ]
    },
    {
     "name": "stdout",
     "output_type": "stream",
     "text": [
      "Calculating gradient...\n",
      "Current β: 9.620\n",
      "FoM values: [0.033931160337234895]\n",
      "Mean FoM: 0.033931\n",
      "Binarization degree: 0.7205\n",
      "\n",
      "--- Iter 225 ---\n",
      "Starting forward run...\n",
      "Starting adjoint run...\n"
     ]
    },
    {
     "name": "stderr",
     "output_type": "stream",
     "text": [
      "Warning: grid volume is not an integer number of pixels; cell size will be rounded to nearest pixel.\n"
     ]
    },
    {
     "name": "stdout",
     "output_type": "stream",
     "text": [
      "Calculating gradient...\n",
      "Current β: 9.620\n",
      "FoM values: [0.03417199573784872]\n",
      "Mean FoM: 0.034172\n",
      "Binarization degree: 0.7203\n",
      "\n",
      "--- Iter 226 ---\n",
      "Starting forward run...\n",
      "Starting adjoint run...\n"
     ]
    },
    {
     "name": "stderr",
     "output_type": "stream",
     "text": [
      "Warning: grid volume is not an integer number of pixels; cell size will be rounded to nearest pixel.\n"
     ]
    },
    {
     "name": "stdout",
     "output_type": "stream",
     "text": [
      "Calculating gradient...\n",
      "Current β: 9.620\n",
      "FoM values: [0.03333536820568405]\n",
      "Mean FoM: 0.033335\n",
      "Binarization degree: 0.7193\n",
      "\n",
      "--- Iter 227 ---\n",
      "Starting forward run...\n",
      "Starting adjoint run...\n"
     ]
    },
    {
     "name": "stderr",
     "output_type": "stream",
     "text": [
      "Warning: grid volume is not an integer number of pixels; cell size will be rounded to nearest pixel.\n"
     ]
    },
    {
     "name": "stdout",
     "output_type": "stream",
     "text": [
      "Calculating gradient...\n",
      "Current β: 9.620\n",
      "FoM values: [0.03329362516356165]\n",
      "Mean FoM: 0.033294\n",
      "Binarization degree: 0.7214\n",
      "\n",
      "--- Iter 228 ---\n",
      "Starting forward run...\n",
      "Starting adjoint run...\n"
     ]
    },
    {
     "name": "stderr",
     "output_type": "stream",
     "text": [
      "Warning: grid volume is not an integer number of pixels; cell size will be rounded to nearest pixel.\n"
     ]
    },
    {
     "name": "stdout",
     "output_type": "stream",
     "text": [
      "Calculating gradient...\n",
      "Current β: 9.620\n",
      "FoM values: [0.032540040864238784]\n",
      "Mean FoM: 0.032540\n",
      "Binarization degree: 0.7201\n",
      "\n",
      "--- Iter 229 ---\n",
      "Starting forward run...\n",
      "Starting adjoint run...\n"
     ]
    },
    {
     "name": "stderr",
     "output_type": "stream",
     "text": [
      "Warning: grid volume is not an integer number of pixels; cell size will be rounded to nearest pixel.\n"
     ]
    },
    {
     "name": "stdout",
     "output_type": "stream",
     "text": [
      "Calculating gradient...\n",
      "Current β: 9.620\n",
      "FoM values: [0.03368243557021359]\n",
      "Mean FoM: 0.033682\n",
      "Binarization degree: 0.7206\n",
      "\n",
      "--- Iter 230 ---\n",
      "Starting forward run...\n",
      "Starting adjoint run...\n"
     ]
    },
    {
     "name": "stderr",
     "output_type": "stream",
     "text": [
      "Warning: grid volume is not an integer number of pixels; cell size will be rounded to nearest pixel.\n"
     ]
    },
    {
     "name": "stdout",
     "output_type": "stream",
     "text": [
      "Calculating gradient...\n",
      "Current β: 9.620\n",
      "FoM values: [0.0338625835675823]\n",
      "Mean FoM: 0.033863\n",
      "Binarization degree: 0.7197\n",
      "\n",
      "--- Iter 231 ---\n",
      "Starting forward run...\n",
      "Starting adjoint run...\n"
     ]
    },
    {
     "name": "stderr",
     "output_type": "stream",
     "text": [
      "Warning: grid volume is not an integer number of pixels; cell size will be rounded to nearest pixel.\n"
     ]
    },
    {
     "name": "stdout",
     "output_type": "stream",
     "text": [
      "Calculating gradient...\n",
      "Current β: 9.620\n",
      "FoM values: [0.032958069653101836]\n",
      "Mean FoM: 0.032958\n",
      "Binarization degree: 0.7176\n",
      "\n",
      "--- Iter 232 ---\n",
      "Starting forward run...\n",
      "Starting adjoint run...\n"
     ]
    },
    {
     "name": "stderr",
     "output_type": "stream",
     "text": [
      "Warning: grid volume is not an integer number of pixels; cell size will be rounded to nearest pixel.\n"
     ]
    },
    {
     "name": "stdout",
     "output_type": "stream",
     "text": [
      "Calculating gradient...\n",
      "Current β: 9.620\n",
      "FoM values: [0.03363829130058177]\n",
      "Mean FoM: 0.033638\n",
      "Binarization degree: 0.7187\n",
      "\n",
      "--- Iter 233 ---\n",
      "Starting forward run...\n",
      "Starting adjoint run...\n"
     ]
    },
    {
     "name": "stderr",
     "output_type": "stream",
     "text": [
      "Warning: grid volume is not an integer number of pixels; cell size will be rounded to nearest pixel.\n"
     ]
    },
    {
     "name": "stdout",
     "output_type": "stream",
     "text": [
      "Calculating gradient...\n",
      "Current β: 9.620\n",
      "FoM values: [0.03422505458541249]\n",
      "Mean FoM: 0.034225\n",
      "Binarization degree: 0.7174\n",
      "\n",
      "--- Iter 234 ---\n",
      "Starting forward run...\n",
      "Starting adjoint run...\n"
     ]
    },
    {
     "name": "stderr",
     "output_type": "stream",
     "text": [
      "Warning: grid volume is not an integer number of pixels; cell size will be rounded to nearest pixel.\n"
     ]
    },
    {
     "name": "stdout",
     "output_type": "stream",
     "text": [
      "Calculating gradient...\n",
      "Current β: 9.620\n",
      "FoM values: [0.033736913717330834]\n",
      "Mean FoM: 0.033737\n",
      "Binarization degree: 0.7175\n",
      "\n",
      "--- Iter 235 ---\n",
      "Starting forward run...\n",
      "Starting adjoint run...\n"
     ]
    },
    {
     "name": "stderr",
     "output_type": "stream",
     "text": [
      "Warning: grid volume is not an integer number of pixels; cell size will be rounded to nearest pixel.\n"
     ]
    },
    {
     "name": "stdout",
     "output_type": "stream",
     "text": [
      "Calculating gradient...\n",
      "Current β: 9.620\n",
      "FoM values: [0.034165767467124415]\n",
      "Mean FoM: 0.034166\n",
      "Binarization degree: 0.7184\n",
      "\n",
      "--- Iter 236 ---\n",
      "Starting forward run...\n",
      "Starting adjoint run...\n"
     ]
    },
    {
     "name": "stderr",
     "output_type": "stream",
     "text": [
      "Warning: grid volume is not an integer number of pixels; cell size will be rounded to nearest pixel.\n"
     ]
    },
    {
     "name": "stdout",
     "output_type": "stream",
     "text": [
      "Calculating gradient...\n",
      "Current β: 9.620\n",
      "FoM values: [0.03374781073160022]\n",
      "Mean FoM: 0.033748\n",
      "Binarization degree: 0.7170\n",
      "\n",
      "--- Iter 237 ---\n",
      "Starting forward run...\n",
      "Starting adjoint run...\n"
     ]
    },
    {
     "name": "stderr",
     "output_type": "stream",
     "text": [
      "Warning: grid volume is not an integer number of pixels; cell size will be rounded to nearest pixel.\n"
     ]
    },
    {
     "name": "stdout",
     "output_type": "stream",
     "text": [
      "Calculating gradient...\n",
      "Current β: 9.620\n",
      "FoM values: [0.034072600376793175]\n",
      "Mean FoM: 0.034073\n",
      "Binarization degree: 0.7169\n",
      "\n",
      "--- Iter 238 ---\n",
      "Starting forward run...\n",
      "Starting adjoint run...\n"
     ]
    },
    {
     "name": "stderr",
     "output_type": "stream",
     "text": [
      "Warning: grid volume is not an integer number of pixels; cell size will be rounded to nearest pixel.\n"
     ]
    },
    {
     "name": "stdout",
     "output_type": "stream",
     "text": [
      "Calculating gradient...\n",
      "Current β: 9.620\n",
      "FoM values: [0.03417878295907728]\n",
      "Mean FoM: 0.034179\n",
      "Binarization degree: 0.7160\n",
      "\n",
      "--- Iter 239 ---\n",
      "Starting forward run...\n",
      "Starting adjoint run...\n"
     ]
    },
    {
     "name": "stderr",
     "output_type": "stream",
     "text": [
      "Warning: grid volume is not an integer number of pixels; cell size will be rounded to nearest pixel.\n"
     ]
    },
    {
     "name": "stdout",
     "output_type": "stream",
     "text": [
      "Calculating gradient...\n",
      "Current β: 9.620\n",
      "FoM values: [0.03389357893896535]\n",
      "Mean FoM: 0.033894\n",
      "Binarization degree: 0.7156\n",
      "\n",
      "--- Iter 240 ---\n",
      "Starting forward run...\n",
      "Starting adjoint run...\n"
     ]
    },
    {
     "name": "stderr",
     "output_type": "stream",
     "text": [
      "Warning: grid volume is not an integer number of pixels; cell size will be rounded to nearest pixel.\n"
     ]
    },
    {
     "name": "stdout",
     "output_type": "stream",
     "text": [
      "Calculating gradient...\n",
      "Current β: 9.620\n",
      "FoM values: [0.034061940223984725]\n",
      "Mean FoM: 0.034062\n",
      "Binarization degree: 0.7160\n",
      "\n",
      "--- Iter 241 ---\n",
      "Starting forward run...\n",
      "Starting adjoint run...\n"
     ]
    },
    {
     "name": "stderr",
     "output_type": "stream",
     "text": [
      "Warning: grid volume is not an integer number of pixels; cell size will be rounded to nearest pixel.\n"
     ]
    },
    {
     "name": "stdout",
     "output_type": "stream",
     "text": [
      "Calculating gradient...\n",
      "Current β: 9.620\n",
      "FoM values: [0.03380860875486632]\n",
      "Mean FoM: 0.033809\n",
      "Binarization degree: 0.7151\n",
      "\n",
      "--- Iter 242 ---\n",
      "Starting forward run...\n",
      "Starting adjoint run...\n"
     ]
    },
    {
     "name": "stderr",
     "output_type": "stream",
     "text": [
      "Warning: grid volume is not an integer number of pixels; cell size will be rounded to nearest pixel.\n"
     ]
    },
    {
     "name": "stdout",
     "output_type": "stream",
     "text": [
      "Calculating gradient...\n",
      "Current β: 9.620\n",
      "FoM values: [0.034241757592126484]\n",
      "Mean FoM: 0.034242\n",
      "Binarization degree: 0.7154\n",
      "\n",
      "--- Iter 243 ---\n",
      "Starting forward run...\n",
      "Starting adjoint run...\n"
     ]
    },
    {
     "name": "stderr",
     "output_type": "stream",
     "text": [
      "Warning: grid volume is not an integer number of pixels; cell size will be rounded to nearest pixel.\n"
     ]
    },
    {
     "name": "stdout",
     "output_type": "stream",
     "text": [
      "Calculating gradient...\n",
      "Current β: 9.620\n",
      "FoM values: [0.0343255874284185]\n",
      "Mean FoM: 0.034326\n",
      "Binarization degree: 0.7151\n",
      "\n",
      "--- Iter 244 ---\n",
      "Starting forward run...\n",
      "Starting adjoint run...\n"
     ]
    },
    {
     "name": "stderr",
     "output_type": "stream",
     "text": [
      "Warning: grid volume is not an integer number of pixels; cell size will be rounded to nearest pixel.\n"
     ]
    },
    {
     "name": "stdout",
     "output_type": "stream",
     "text": [
      "Calculating gradient...\n",
      "Current β: 10.955\n",
      "FoM values: [0.03440583064899952]\n",
      "Mean FoM: 0.034406\n",
      "Binarization degree: 0.7148\n",
      "\n",
      "--- Iter 245 ---\n",
      "Starting forward run...\n",
      "Starting adjoint run...\n"
     ]
    },
    {
     "name": "stderr",
     "output_type": "stream",
     "text": [
      "Warning: grid volume is not an integer number of pixels; cell size will be rounded to nearest pixel.\n"
     ]
    },
    {
     "name": "stdout",
     "output_type": "stream",
     "text": [
      "Calculating gradient...\n",
      "Current β: 10.955\n",
      "FoM values: [0.033488472145136096]\n",
      "Mean FoM: 0.033488\n",
      "Binarization degree: 0.7448\n",
      "\n",
      "--- Iter 246 ---\n",
      "Starting forward run...\n",
      "Starting adjoint run...\n"
     ]
    },
    {
     "name": "stderr",
     "output_type": "stream",
     "text": [
      "Warning: grid volume is not an integer number of pixels; cell size will be rounded to nearest pixel.\n"
     ]
    },
    {
     "name": "stdout",
     "output_type": "stream",
     "text": [
      "Calculating gradient...\n",
      "Current β: 10.955\n",
      "FoM values: [0.033690429959767565]\n",
      "Mean FoM: 0.033690\n",
      "Binarization degree: 0.7428\n",
      "\n",
      "--- Iter 247 ---\n",
      "Starting forward run...\n",
      "Starting adjoint run...\n"
     ]
    },
    {
     "name": "stderr",
     "output_type": "stream",
     "text": [
      "Warning: grid volume is not an integer number of pixels; cell size will be rounded to nearest pixel.\n"
     ]
    },
    {
     "name": "stdout",
     "output_type": "stream",
     "text": [
      "Calculating gradient...\n",
      "Current β: 10.955\n",
      "FoM values: [0.033877942235930006]\n",
      "Mean FoM: 0.033878\n",
      "Binarization degree: 0.7435\n",
      "\n",
      "--- Iter 248 ---\n",
      "Starting forward run...\n",
      "Starting adjoint run...\n"
     ]
    },
    {
     "name": "stderr",
     "output_type": "stream",
     "text": [
      "Warning: grid volume is not an integer number of pixels; cell size will be rounded to nearest pixel.\n"
     ]
    },
    {
     "name": "stdout",
     "output_type": "stream",
     "text": [
      "Calculating gradient...\n",
      "Current β: 10.955\n",
      "FoM values: [0.02955469041380986]\n",
      "Mean FoM: 0.029555\n",
      "Binarization degree: 0.7402\n",
      "\n",
      "--- Iter 249 ---\n",
      "Starting forward run...\n",
      "Starting adjoint run...\n"
     ]
    },
    {
     "name": "stderr",
     "output_type": "stream",
     "text": [
      "Warning: grid volume is not an integer number of pixels; cell size will be rounded to nearest pixel.\n"
     ]
    },
    {
     "name": "stdout",
     "output_type": "stream",
     "text": [
      "Calculating gradient...\n",
      "Current β: 10.955\n",
      "FoM values: [0.020093102628427992]\n",
      "Mean FoM: 0.020093\n",
      "Binarization degree: 0.7448\n",
      "\n",
      "--- Iter 250 ---\n",
      "Starting forward run...\n",
      "Starting adjoint run...\n"
     ]
    },
    {
     "name": "stderr",
     "output_type": "stream",
     "text": [
      "Warning: grid volume is not an integer number of pixels; cell size will be rounded to nearest pixel.\n"
     ]
    },
    {
     "name": "stdout",
     "output_type": "stream",
     "text": [
      "Calculating gradient...\n",
      "Current β: 10.955\n",
      "FoM values: [0.02642295797176034]\n",
      "Mean FoM: 0.026423\n",
      "Binarization degree: 0.7438\n",
      "\n",
      "--- Iter 251 ---\n",
      "Starting forward run...\n",
      "Starting adjoint run...\n"
     ]
    },
    {
     "name": "stderr",
     "output_type": "stream",
     "text": [
      "Warning: grid volume is not an integer number of pixels; cell size will be rounded to nearest pixel.\n"
     ]
    },
    {
     "name": "stdout",
     "output_type": "stream",
     "text": [
      "Calculating gradient...\n",
      "Current β: 10.955\n",
      "FoM values: [0.01628330562005653]\n",
      "Mean FoM: 0.016283\n",
      "Binarization degree: 0.7371\n",
      "\n",
      "--- Iter 252 ---\n",
      "Starting forward run...\n",
      "Starting adjoint run...\n"
     ]
    },
    {
     "name": "stderr",
     "output_type": "stream",
     "text": [
      "Warning: grid volume is not an integer number of pixels; cell size will be rounded to nearest pixel.\n"
     ]
    },
    {
     "name": "stdout",
     "output_type": "stream",
     "text": [
      "Calculating gradient...\n",
      "Current β: 10.955\n",
      "FoM values: [0.011635243995319209]\n",
      "Mean FoM: 0.011635\n",
      "Binarization degree: 0.7395\n",
      "\n",
      "--- Iter 253 ---\n",
      "Starting forward run...\n",
      "Starting adjoint run...\n"
     ]
    },
    {
     "name": "stderr",
     "output_type": "stream",
     "text": [
      "Warning: grid volume is not an integer number of pixels; cell size will be rounded to nearest pixel.\n"
     ]
    },
    {
     "name": "stdout",
     "output_type": "stream",
     "text": [
      "Calculating gradient...\n",
      "Current β: 10.955\n",
      "FoM values: [0.018104260734021865]\n",
      "Mean FoM: 0.018104\n",
      "Binarization degree: 0.7453\n",
      "\n",
      "--- Iter 254 ---\n",
      "Starting forward run...\n",
      "Starting adjoint run...\n"
     ]
    },
    {
     "name": "stderr",
     "output_type": "stream",
     "text": [
      "Warning: grid volume is not an integer number of pixels; cell size will be rounded to nearest pixel.\n"
     ]
    },
    {
     "name": "stdout",
     "output_type": "stream",
     "text": [
      "Calculating gradient...\n",
      "Current β: 10.955\n",
      "FoM values: [0.018581486125962315]\n",
      "Mean FoM: 0.018581\n",
      "Binarization degree: 0.7521\n",
      "\n",
      "--- Iter 255 ---\n",
      "Starting forward run...\n",
      "Starting adjoint run...\n"
     ]
    },
    {
     "name": "stderr",
     "output_type": "stream",
     "text": [
      "Warning: grid volume is not an integer number of pixels; cell size will be rounded to nearest pixel.\n"
     ]
    },
    {
     "name": "stdout",
     "output_type": "stream",
     "text": [
      "Calculating gradient...\n",
      "Current β: 10.955\n",
      "FoM values: [0.015252304694747521]\n",
      "Mean FoM: 0.015252\n",
      "Binarization degree: 0.7537\n",
      "\n",
      "--- Iter 256 ---\n",
      "Starting forward run...\n",
      "Starting adjoint run...\n"
     ]
    },
    {
     "name": "stderr",
     "output_type": "stream",
     "text": [
      "Warning: grid volume is not an integer number of pixels; cell size will be rounded to nearest pixel.\n"
     ]
    },
    {
     "name": "stdout",
     "output_type": "stream",
     "text": [
      "Calculating gradient...\n",
      "Current β: 10.955\n",
      "FoM values: [0.01464943600131885]\n",
      "Mean FoM: 0.014649\n",
      "Binarization degree: 0.7538\n",
      "\n",
      "--- Iter 257 ---\n",
      "Starting forward run...\n",
      "Starting adjoint run...\n"
     ]
    },
    {
     "name": "stderr",
     "output_type": "stream",
     "text": [
      "Warning: grid volume is not an integer number of pixels; cell size will be rounded to nearest pixel.\n"
     ]
    },
    {
     "name": "stdout",
     "output_type": "stream",
     "text": [
      "Calculating gradient...\n",
      "Current β: 10.955\n",
      "FoM values: [0.019019705720230175]\n",
      "Mean FoM: 0.019020\n",
      "Binarization degree: 0.7524\n",
      "\n",
      "--- Iter 258 ---\n",
      "Starting forward run...\n",
      "Starting adjoint run...\n"
     ]
    },
    {
     "name": "stderr",
     "output_type": "stream",
     "text": [
      "Warning: grid volume is not an integer number of pixels; cell size will be rounded to nearest pixel.\n"
     ]
    },
    {
     "name": "stdout",
     "output_type": "stream",
     "text": [
      "Calculating gradient...\n",
      "Current β: 10.955\n",
      "FoM values: [0.02074988334509243]\n",
      "Mean FoM: 0.020750\n",
      "Binarization degree: 0.7493\n",
      "\n",
      "--- Iter 259 ---\n",
      "Starting forward run...\n",
      "Starting adjoint run...\n"
     ]
    },
    {
     "name": "stderr",
     "output_type": "stream",
     "text": [
      "Warning: grid volume is not an integer number of pixels; cell size will be rounded to nearest pixel.\n"
     ]
    },
    {
     "name": "stdout",
     "output_type": "stream",
     "text": [
      "Calculating gradient...\n",
      "Current β: 10.955\n",
      "FoM values: [0.019568796006682886]\n",
      "Mean FoM: 0.019569\n",
      "Binarization degree: 0.7527\n",
      "\n",
      "--- Iter 260 ---\n",
      "Starting forward run...\n",
      "Starting adjoint run...\n"
     ]
    },
    {
     "name": "stderr",
     "output_type": "stream",
     "text": [
      "Warning: grid volume is not an integer number of pixels; cell size will be rounded to nearest pixel.\n"
     ]
    },
    {
     "name": "stdout",
     "output_type": "stream",
     "text": [
      "Calculating gradient...\n",
      "Current β: 10.955\n",
      "FoM values: [0.018916560569671288]\n",
      "Mean FoM: 0.018917\n",
      "Binarization degree: 0.7576\n",
      "\n",
      "--- Iter 261 ---\n",
      "Starting forward run...\n",
      "Starting adjoint run...\n"
     ]
    },
    {
     "name": "stderr",
     "output_type": "stream",
     "text": [
      "Warning: grid volume is not an integer number of pixels; cell size will be rounded to nearest pixel.\n"
     ]
    },
    {
     "name": "stdout",
     "output_type": "stream",
     "text": [
      "Calculating gradient...\n",
      "Current β: 10.955\n",
      "FoM values: [0.018783254371648538]\n",
      "Mean FoM: 0.018783\n",
      "Binarization degree: 0.7636\n",
      "\n",
      "--- Iter 262 ---\n",
      "Starting forward run...\n",
      "Starting adjoint run...\n"
     ]
    },
    {
     "name": "stderr",
     "output_type": "stream",
     "text": [
      "Warning: grid volume is not an integer number of pixels; cell size will be rounded to nearest pixel.\n"
     ]
    },
    {
     "name": "stdout",
     "output_type": "stream",
     "text": [
      "Calculating gradient...\n",
      "Current β: 10.955\n",
      "FoM values: [0.018934915320905746]\n",
      "Mean FoM: 0.018935\n",
      "Binarization degree: 0.7687\n",
      "\n",
      "--- Iter 263 ---\n",
      "Starting forward run...\n",
      "Starting adjoint run...\n"
     ]
    },
    {
     "name": "stderr",
     "output_type": "stream",
     "text": [
      "Warning: grid volume is not an integer number of pixels; cell size will be rounded to nearest pixel.\n"
     ]
    },
    {
     "name": "stdout",
     "output_type": "stream",
     "text": [
      "Calculating gradient...\n",
      "Current β: 10.955\n",
      "FoM values: [0.019646699268005392]\n",
      "Mean FoM: 0.019647\n",
      "Binarization degree: 0.7748\n",
      "\n",
      "--- Iter 264 ---\n",
      "Starting forward run...\n",
      "Starting adjoint run...\n"
     ]
    },
    {
     "name": "stderr",
     "output_type": "stream",
     "text": [
      "Warning: grid volume is not an integer number of pixels; cell size will be rounded to nearest pixel.\n"
     ]
    },
    {
     "name": "stdout",
     "output_type": "stream",
     "text": [
      "Calculating gradient...\n",
      "Current β: 10.955\n",
      "FoM values: [0.02190907369073576]\n",
      "Mean FoM: 0.021909\n",
      "Binarization degree: 0.7796\n",
      "\n",
      "--- Iter 265 ---\n",
      "Starting forward run...\n",
      "Starting adjoint run...\n"
     ]
    },
    {
     "name": "stderr",
     "output_type": "stream",
     "text": [
      "Warning: grid volume is not an integer number of pixels; cell size will be rounded to nearest pixel.\n"
     ]
    },
    {
     "name": "stdout",
     "output_type": "stream",
     "text": [
      "Calculating gradient...\n",
      "Current β: 10.955\n",
      "FoM values: [0.02638207294564572]\n",
      "Mean FoM: 0.026382\n",
      "Binarization degree: 0.7846\n",
      "\n",
      "--- Iter 266 ---\n",
      "Starting forward run...\n",
      "Starting adjoint run...\n"
     ]
    },
    {
     "name": "stderr",
     "output_type": "stream",
     "text": [
      "Warning: grid volume is not an integer number of pixels; cell size will be rounded to nearest pixel.\n"
     ]
    },
    {
     "name": "stdout",
     "output_type": "stream",
     "text": [
      "Calculating gradient...\n",
      "Current β: 10.955\n",
      "FoM values: [0.027002768324250227]\n",
      "Mean FoM: 0.027003\n",
      "Binarization degree: 0.7899\n",
      "\n",
      "--- Iter 267 ---\n",
      "Starting forward run...\n",
      "Starting adjoint run...\n"
     ]
    },
    {
     "name": "stderr",
     "output_type": "stream",
     "text": [
      "Warning: grid volume is not an integer number of pixels; cell size will be rounded to nearest pixel.\n"
     ]
    },
    {
     "name": "stdout",
     "output_type": "stream",
     "text": [
      "Calculating gradient...\n",
      "Current β: 10.955\n",
      "FoM values: [0.033289323901578224]\n",
      "Mean FoM: 0.033289\n",
      "Binarization degree: 0.7916\n",
      "\n",
      "--- Iter 268 ---\n",
      "Starting forward run...\n",
      "Starting adjoint run...\n"
     ]
    },
    {
     "name": "stderr",
     "output_type": "stream",
     "text": [
      "Warning: grid volume is not an integer number of pixels; cell size will be rounded to nearest pixel.\n"
     ]
    },
    {
     "name": "stdout",
     "output_type": "stream",
     "text": [
      "Calculating gradient...\n",
      "Current β: 10.955\n",
      "FoM values: [0.027596210246064987]\n",
      "Mean FoM: 0.027596\n",
      "Binarization degree: 0.7929\n",
      "\n",
      "--- Iter 269 ---\n",
      "Starting forward run...\n",
      "Starting adjoint run...\n"
     ]
    },
    {
     "name": "stderr",
     "output_type": "stream",
     "text": [
      "Warning: grid volume is not an integer number of pixels; cell size will be rounded to nearest pixel.\n"
     ]
    },
    {
     "name": "stdout",
     "output_type": "stream",
     "text": [
      "Calculating gradient...\n",
      "Current β: 10.955\n",
      "FoM values: [0.030594119202595166]\n",
      "Mean FoM: 0.030594\n",
      "Binarization degree: 0.7964\n",
      "\n",
      "--- Iter 270 ---\n",
      "Starting forward run...\n",
      "Starting adjoint run...\n"
     ]
    },
    {
     "name": "stderr",
     "output_type": "stream",
     "text": [
      "Warning: grid volume is not an integer number of pixels; cell size will be rounded to nearest pixel.\n"
     ]
    },
    {
     "name": "stdout",
     "output_type": "stream",
     "text": [
      "Calculating gradient...\n",
      "Current β: 10.955\n",
      "FoM values: [0.028724767110827967]\n",
      "Mean FoM: 0.028725\n",
      "Binarization degree: 0.8001\n",
      "\n",
      "--- Iter 271 ---\n",
      "Starting forward run...\n",
      "Starting adjoint run...\n"
     ]
    },
    {
     "name": "stderr",
     "output_type": "stream",
     "text": [
      "Warning: grid volume is not an integer number of pixels; cell size will be rounded to nearest pixel.\n"
     ]
    },
    {
     "name": "stdout",
     "output_type": "stream",
     "text": [
      "Calculating gradient...\n",
      "Current β: 10.955\n",
      "FoM values: [0.02937720921463438]\n",
      "Mean FoM: 0.029377\n",
      "Binarization degree: 0.8014\n",
      "\n",
      "--- Iter 272 ---\n",
      "Starting forward run...\n",
      "Starting adjoint run...\n"
     ]
    },
    {
     "name": "stderr",
     "output_type": "stream",
     "text": [
      "Warning: grid volume is not an integer number of pixels; cell size will be rounded to nearest pixel.\n"
     ]
    },
    {
     "name": "stdout",
     "output_type": "stream",
     "text": [
      "Calculating gradient...\n",
      "Current β: 10.955\n",
      "FoM values: [0.028355233899568538]\n",
      "Mean FoM: 0.028355\n",
      "Binarization degree: 0.8012\n",
      "\n",
      "--- Iter 273 ---\n",
      "Starting forward run...\n",
      "Starting adjoint run...\n"
     ]
    },
    {
     "name": "stderr",
     "output_type": "stream",
     "text": [
      "Warning: grid volume is not an integer number of pixels; cell size will be rounded to nearest pixel.\n"
     ]
    },
    {
     "name": "stdout",
     "output_type": "stream",
     "text": [
      "Calculating gradient...\n",
      "Current β: 10.955\n",
      "FoM values: [0.027283370595048078]\n",
      "Mean FoM: 0.027283\n",
      "Binarization degree: 0.8016\n",
      "\n",
      "--- Iter 274 ---\n",
      "Starting forward run...\n",
      "Starting adjoint run...\n"
     ]
    },
    {
     "name": "stderr",
     "output_type": "stream",
     "text": [
      "Warning: grid volume is not an integer number of pixels; cell size will be rounded to nearest pixel.\n"
     ]
    },
    {
     "name": "stdout",
     "output_type": "stream",
     "text": [
      "Calculating gradient...\n",
      "Current β: 10.955\n",
      "FoM values: [0.030405372937940902]\n",
      "Mean FoM: 0.030405\n",
      "Binarization degree: 0.8031\n",
      "\n",
      "--- Iter 275 ---\n",
      "Starting forward run...\n",
      "Starting adjoint run...\n"
     ]
    },
    {
     "name": "stderr",
     "output_type": "stream",
     "text": [
      "Warning: grid volume is not an integer number of pixels; cell size will be rounded to nearest pixel.\n"
     ]
    },
    {
     "name": "stdout",
     "output_type": "stream",
     "text": [
      "Calculating gradient...\n",
      "Current β: 10.955\n",
      "FoM values: [0.031142606262495192]\n",
      "Mean FoM: 0.031143\n",
      "Binarization degree: 0.8045\n",
      "\n",
      "--- Iter 276 ---\n",
      "Starting forward run...\n",
      "Starting adjoint run...\n"
     ]
    },
    {
     "name": "stderr",
     "output_type": "stream",
     "text": [
      "Warning: grid volume is not an integer number of pixels; cell size will be rounded to nearest pixel.\n"
     ]
    },
    {
     "name": "stdout",
     "output_type": "stream",
     "text": [
      "Calculating gradient...\n",
      "Current β: 10.955\n",
      "FoM values: [0.03343154334706415]\n",
      "Mean FoM: 0.033432\n",
      "Binarization degree: 0.8038\n",
      "\n",
      "--- Iter 277 ---\n",
      "Starting forward run...\n",
      "Starting adjoint run...\n"
     ]
    },
    {
     "name": "stderr",
     "output_type": "stream",
     "text": [
      "Warning: grid volume is not an integer number of pixels; cell size will be rounded to nearest pixel.\n"
     ]
    },
    {
     "name": "stdout",
     "output_type": "stream",
     "text": [
      "Calculating gradient...\n",
      "Current β: 10.955\n",
      "FoM values: [0.02891496201620013]\n",
      "Mean FoM: 0.028915\n",
      "Binarization degree: 0.8022\n",
      "\n",
      "--- Iter 278 ---\n",
      "Starting forward run...\n",
      "Starting adjoint run...\n"
     ]
    },
    {
     "name": "stderr",
     "output_type": "stream",
     "text": [
      "Warning: grid volume is not an integer number of pixels; cell size will be rounded to nearest pixel.\n"
     ]
    },
    {
     "name": "stdout",
     "output_type": "stream",
     "text": [
      "Calculating gradient...\n",
      "Current β: 10.955\n",
      "FoM values: [0.03166524389761512]\n",
      "Mean FoM: 0.031665\n",
      "Binarization degree: 0.8030\n",
      "\n",
      "--- Iter 279 ---\n",
      "Starting forward run...\n",
      "Starting adjoint run...\n"
     ]
    },
    {
     "name": "stderr",
     "output_type": "stream",
     "text": [
      "Warning: grid volume is not an integer number of pixels; cell size will be rounded to nearest pixel.\n"
     ]
    },
    {
     "name": "stdout",
     "output_type": "stream",
     "text": [
      "Calculating gradient...\n",
      "Current β: 10.955\n",
      "FoM values: [0.029709767210918753]\n",
      "Mean FoM: 0.029710\n",
      "Binarization degree: 0.8053\n",
      "\n",
      "--- Iter 280 ---\n",
      "Starting forward run...\n",
      "Starting adjoint run...\n"
     ]
    },
    {
     "name": "stderr",
     "output_type": "stream",
     "text": [
      "Warning: grid volume is not an integer number of pixels; cell size will be rounded to nearest pixel.\n"
     ]
    },
    {
     "name": "stdout",
     "output_type": "stream",
     "text": [
      "Calculating gradient...\n",
      "Current β: 10.955\n",
      "FoM values: [0.03198381781623934]\n",
      "Mean FoM: 0.031984\n",
      "Binarization degree: 0.8051\n",
      "\n",
      "--- Iter 281 ---\n",
      "Starting forward run...\n",
      "Starting adjoint run...\n"
     ]
    },
    {
     "name": "stderr",
     "output_type": "stream",
     "text": [
      "Warning: grid volume is not an integer number of pixels; cell size will be rounded to nearest pixel.\n"
     ]
    },
    {
     "name": "stdout",
     "output_type": "stream",
     "text": [
      "Calculating gradient...\n",
      "Current β: 10.955\n",
      "FoM values: [0.029497825700803008]\n",
      "Mean FoM: 0.029498\n",
      "Binarization degree: 0.8048\n",
      "\n",
      "--- Iter 282 ---\n",
      "Starting forward run...\n",
      "Starting adjoint run...\n"
     ]
    },
    {
     "name": "stderr",
     "output_type": "stream",
     "text": [
      "Warning: grid volume is not an integer number of pixels; cell size will be rounded to nearest pixel.\n"
     ]
    },
    {
     "name": "stdout",
     "output_type": "stream",
     "text": [
      "Calculating gradient...\n",
      "Current β: 10.955\n",
      "FoM values: [0.03317809424810425]\n",
      "Mean FoM: 0.033178\n",
      "Binarization degree: 0.8064\n",
      "\n",
      "--- Iter 283 ---\n",
      "Starting forward run...\n",
      "Starting adjoint run...\n"
     ]
    },
    {
     "name": "stderr",
     "output_type": "stream",
     "text": [
      "Warning: grid volume is not an integer number of pixels; cell size will be rounded to nearest pixel.\n"
     ]
    },
    {
     "name": "stdout",
     "output_type": "stream",
     "text": [
      "Calculating gradient...\n",
      "Current β: 10.955\n",
      "FoM values: [0.032072771207306006]\n",
      "Mean FoM: 0.032073\n",
      "Binarization degree: 0.8079\n",
      "\n",
      "--- Iter 284 ---\n",
      "Starting forward run...\n",
      "Starting adjoint run...\n"
     ]
    },
    {
     "name": "stderr",
     "output_type": "stream",
     "text": [
      "Warning: grid volume is not an integer number of pixels; cell size will be rounded to nearest pixel.\n"
     ]
    },
    {
     "name": "stdout",
     "output_type": "stream",
     "text": [
      "Calculating gradient...\n",
      "Current β: 10.955\n",
      "FoM values: [0.03263710591400469]\n",
      "Mean FoM: 0.032637\n",
      "Binarization degree: 0.8074\n",
      "\n",
      "--- Iter 285 ---\n",
      "Starting forward run...\n",
      "Starting adjoint run...\n"
     ]
    },
    {
     "name": "stderr",
     "output_type": "stream",
     "text": [
      "Warning: grid volume is not an integer number of pixels; cell size will be rounded to nearest pixel.\n"
     ]
    },
    {
     "name": "stdout",
     "output_type": "stream",
     "text": [
      "Calculating gradient...\n",
      "Current β: 10.955\n",
      "FoM values: [0.031094070274901808]\n",
      "Mean FoM: 0.031094\n",
      "Binarization degree: 0.8070\n",
      "\n",
      "--- Iter 286 ---\n",
      "Starting forward run...\n",
      "Starting adjoint run...\n"
     ]
    },
    {
     "name": "stderr",
     "output_type": "stream",
     "text": [
      "Warning: grid volume is not an integer number of pixels; cell size will be rounded to nearest pixel.\n"
     ]
    },
    {
     "name": "stdout",
     "output_type": "stream",
     "text": [
      "Calculating gradient...\n",
      "Current β: 10.955\n",
      "FoM values: [0.032704857044147426]\n",
      "Mean FoM: 0.032705\n",
      "Binarization degree: 0.8080\n",
      "\n",
      "--- Iter 287 ---\n",
      "Starting forward run...\n",
      "Starting adjoint run...\n"
     ]
    },
    {
     "name": "stderr",
     "output_type": "stream",
     "text": [
      "Warning: grid volume is not an integer number of pixels; cell size will be rounded to nearest pixel.\n"
     ]
    },
    {
     "name": "stdout",
     "output_type": "stream",
     "text": [
      "Calculating gradient...\n",
      "Current β: 10.955\n",
      "FoM values: [0.032642009537267286]\n",
      "Mean FoM: 0.032642\n",
      "Binarization degree: 0.8090\n",
      "\n",
      "--- Iter 288 ---\n",
      "Starting forward run...\n",
      "Starting adjoint run...\n"
     ]
    },
    {
     "name": "stderr",
     "output_type": "stream",
     "text": [
      "Warning: grid volume is not an integer number of pixels; cell size will be rounded to nearest pixel.\n"
     ]
    },
    {
     "name": "stdout",
     "output_type": "stream",
     "text": [
      "Calculating gradient...\n",
      "Current β: 10.955\n",
      "FoM values: [0.033111863146638665]\n",
      "Mean FoM: 0.033112\n",
      "Binarization degree: 0.8085\n",
      "\n",
      "--- Iter 289 ---\n",
      "Starting forward run...\n",
      "Starting adjoint run...\n"
     ]
    },
    {
     "name": "stderr",
     "output_type": "stream",
     "text": [
      "Warning: grid volume is not an integer number of pixels; cell size will be rounded to nearest pixel.\n"
     ]
    },
    {
     "name": "stdout",
     "output_type": "stream",
     "text": [
      "Calculating gradient...\n",
      "Current β: 10.955\n",
      "FoM values: [0.031231475140641764]\n",
      "Mean FoM: 0.031231\n",
      "Binarization degree: 0.8080\n",
      "\n",
      "--- Iter 290 ---\n",
      "Starting forward run...\n",
      "Starting adjoint run...\n"
     ]
    },
    {
     "name": "stderr",
     "output_type": "stream",
     "text": [
      "Warning: grid volume is not an integer number of pixels; cell size will be rounded to nearest pixel.\n"
     ]
    },
    {
     "name": "stdout",
     "output_type": "stream",
     "text": [
      "Calculating gradient...\n",
      "Current β: 10.955\n",
      "FoM values: [0.03261909634355747]\n",
      "Mean FoM: 0.032619\n",
      "Binarization degree: 0.8089\n",
      "\n",
      "--- Iter 291 ---\n",
      "Starting forward run...\n",
      "Starting adjoint run...\n"
     ]
    },
    {
     "name": "stderr",
     "output_type": "stream",
     "text": [
      "Warning: grid volume is not an integer number of pixels; cell size will be rounded to nearest pixel.\n"
     ]
    },
    {
     "name": "stdout",
     "output_type": "stream",
     "text": [
      "Calculating gradient...\n",
      "Current β: 10.955\n",
      "FoM values: [0.03244621770670336]\n",
      "Mean FoM: 0.032446\n",
      "Binarization degree: 0.8094\n",
      "\n",
      "--- Iter 292 ---\n",
      "Starting forward run...\n",
      "Starting adjoint run...\n"
     ]
    },
    {
     "name": "stderr",
     "output_type": "stream",
     "text": [
      "Warning: grid volume is not an integer number of pixels; cell size will be rounded to nearest pixel.\n"
     ]
    },
    {
     "name": "stdout",
     "output_type": "stream",
     "text": [
      "Calculating gradient...\n",
      "Current β: 10.955\n",
      "FoM values: [0.03250743248194473]\n",
      "Mean FoM: 0.032507\n",
      "Binarization degree: 0.8088\n",
      "\n",
      "--- Iter 293 ---\n",
      "Starting forward run...\n",
      "Starting adjoint run...\n"
     ]
    },
    {
     "name": "stderr",
     "output_type": "stream",
     "text": [
      "Warning: grid volume is not an integer number of pixels; cell size will be rounded to nearest pixel.\n"
     ]
    },
    {
     "name": "stdout",
     "output_type": "stream",
     "text": [
      "Calculating gradient...\n",
      "Current β: 10.955\n",
      "FoM values: [0.032603350726561994]\n",
      "Mean FoM: 0.032603\n",
      "Binarization degree: 0.8091\n",
      "\n",
      "--- Iter 294 ---\n",
      "Starting forward run...\n",
      "Starting adjoint run...\n"
     ]
    },
    {
     "name": "stderr",
     "output_type": "stream",
     "text": [
      "Warning: grid volume is not an integer number of pixels; cell size will be rounded to nearest pixel.\n"
     ]
    },
    {
     "name": "stdout",
     "output_type": "stream",
     "text": [
      "Calculating gradient...\n",
      "Current β: 10.955\n",
      "FoM values: [0.03318585470035703]\n",
      "Mean FoM: 0.033186\n",
      "Binarization degree: 0.8102\n",
      "\n",
      "--- Iter 295 ---\n",
      "Starting forward run...\n",
      "Starting adjoint run...\n"
     ]
    },
    {
     "name": "stderr",
     "output_type": "stream",
     "text": [
      "Warning: grid volume is not an integer number of pixels; cell size will be rounded to nearest pixel.\n"
     ]
    },
    {
     "name": "stdout",
     "output_type": "stream",
     "text": [
      "Calculating gradient...\n",
      "Current β: 10.955\n",
      "FoM values: [0.03306827261247199]\n",
      "Mean FoM: 0.033068\n",
      "Binarization degree: 0.8103\n",
      "\n",
      "--- Iter 296 ---\n",
      "Starting forward run...\n",
      "Starting adjoint run...\n"
     ]
    },
    {
     "name": "stderr",
     "output_type": "stream",
     "text": [
      "Warning: grid volume is not an integer number of pixels; cell size will be rounded to nearest pixel.\n"
     ]
    },
    {
     "name": "stdout",
     "output_type": "stream",
     "text": [
      "Calculating gradient...\n",
      "Current β: 10.955\n",
      "FoM values: [0.03243678948066755]\n",
      "Mean FoM: 0.032437\n",
      "Binarization degree: 0.8098\n",
      "\n",
      "--- Iter 297 ---\n",
      "Starting forward run...\n",
      "Starting adjoint run...\n"
     ]
    },
    {
     "name": "stderr",
     "output_type": "stream",
     "text": [
      "Warning: grid volume is not an integer number of pixels; cell size will be rounded to nearest pixel.\n"
     ]
    },
    {
     "name": "stdout",
     "output_type": "stream",
     "text": [
      "Calculating gradient...\n",
      "Current β: 10.955\n",
      "FoM values: [0.03297680987683314]\n",
      "Mean FoM: 0.032977\n",
      "Binarization degree: 0.8099\n",
      "\n",
      "--- Iter 298 ---\n",
      "Starting forward run...\n",
      "Starting adjoint run...\n"
     ]
    },
    {
     "name": "stderr",
     "output_type": "stream",
     "text": [
      "Warning: grid volume is not an integer number of pixels; cell size will be rounded to nearest pixel.\n"
     ]
    },
    {
     "name": "stdout",
     "output_type": "stream",
     "text": [
      "Calculating gradient...\n",
      "Current β: 10.955\n",
      "FoM values: [0.033317301432979736]\n",
      "Mean FoM: 0.033317\n",
      "Binarization degree: 0.8102\n",
      "\n",
      "--- Iter 299 ---\n",
      "Starting forward run...\n",
      "Starting adjoint run...\n"
     ]
    },
    {
     "name": "stderr",
     "output_type": "stream",
     "text": [
      "Warning: grid volume is not an integer number of pixels; cell size will be rounded to nearest pixel.\n"
     ]
    },
    {
     "name": "stdout",
     "output_type": "stream",
     "text": [
      "Calculating gradient...\n",
      "Current β: 10.955\n",
      "FoM values: [0.033260790789963655]\n",
      "Mean FoM: 0.033261\n",
      "Binarization degree: 0.8098\n",
      "\n",
      "--- Iter 300 ---\n",
      "Starting forward run...\n",
      "Starting adjoint run...\n",
      "Calculating gradient...\n",
      "Current β: 10.955\n",
      "FoM values: [0.0323891622301888]\n",
      "Mean FoM: 0.032389\n",
      "Binarization degree: 0.8094\n"
     ]
    }
   ],
   "source": [
    "n = Nx * layer_num\n",
    "np.random.seed(5)           \n",
    "x = 0.4 + 0.2 * np.random.rand(n)  \n",
    "\n",
    "cur_beta = 5\n",
    "\n",
    "cur_iter             = [0]\n",
    "evaluation_history   = []\n",
    "beta_history         = []\n",
    "binarization_history = []\n",
    "\n",
    "g_histories   = [[] for _ in range(layer_num)]\n",
    "x_histories   = [[] for _ in range(layer_num)]\n",
    "lr_histories  = [[] for _ in range(layer_num)]\n",
    "uf_histories  = [[] for _ in range(layer_num)]\n",
    "t_histories   = [[] for _ in range(layer_num)]\n",
    "\n",
    "optimizers = [AdamOptimizer(lr=0.02, beta1=0.9) for _ in range(layer_num)]\n",
    "\n",
    "def f_multi(v, eta, beta):\n",
    "    print(f\"\\n--- Iter {cur_iter[0]+1} ---\")\n",
    "\n",
    "    rho_full = multi_mapping(v, eta, beta)\n",
    "\n",
    "    bin_deg = np.sum(np.abs(rho_full - 0.5)) / (0.5 * rho_full.size)\n",
    "    binarization_history.append(bin_deg)\n",
    "\n",
    "    size_each = Nx * Ny\n",
    "    rho_list = [rho_full[i * size_each:(i + 1) * size_each] for i in range(layer_num)]\n",
    "\n",
    "    f0_list = []\n",
    "    dJ_list = []\n",
    "    for i in range(len(opt_list)):\n",
    "        f0_i, dJ_i = opt_list[i]([rho_full], need_value=True, need_gradient=True, beta=beta)\n",
    "        f0_list.append(f0_i.flatten())\n",
    "        dJ_list.append(dJ_i)\n",
    "\n",
    "    dJ_total = np.mean(dJ_list, axis=0) # -> 3번째 트라이 바꾸는 부분\n",
    "    dJ_flat = np.array(dJ_total).flatten()\n",
    "\n",
    "    gradient_full = tensor_jacobian_product(multi_mapping, 0)(v, eta, beta, dJ_flat)\n",
    "\n",
    "    grad_list = [gradient_full[i * size_each:(i + 1) * size_each] for i in range(layer_num)]\n",
    "    vs = v.reshape(layer_num, size_each)\n",
    "    v_new_layers = []\n",
    "    for i in range(layer_num):\n",
    "        vi_new, lr, uf, m, vt, t = optimizers[i].update(vs[i], grad_list[i])\n",
    "        lr_histories[i].append(lr)\n",
    "        uf_histories[i].append(uf)\n",
    "        t_histories[i].append(t)\n",
    "        g_histories[i].append(grad_list[i].copy())\n",
    "        x_histories[i].append(vi_new.copy())\n",
    "        v_new_layers.append(vi_new)\n",
    "    v_new = np.concatenate(v_new_layers)\n",
    "\n",
    "    f_vals = [float(np.abs(f0).item()) for f0 in f0_list]\n",
    "    evaluation_history.append(f_vals)\n",
    "\n",
    "    beta_history.append(beta)\n",
    "    cur_iter[0] += 1\n",
    "\n",
    "    if len(evaluation_history) >= 3:\n",
    "        f_prev2 = evaluation_history[-3]\n",
    "        f_prev1 = evaluation_history[-2]\n",
    "        f_curr  = evaluation_history[-1]\n",
    "\n",
    "        bin_prev2 = binarization_history[-3]\n",
    "        bin_prev1 = binarization_history[-2]\n",
    "        bin_curr  = binarization_history[-1]\n",
    "\n",
    "        # FoM 기준 변화율 계산 (여기 부분 계속 수정중)\n",
    "        change1 = abs(np.mean(f_curr)  - np.mean(f_prev1)) / (abs(np.mean(f_prev1)) + 1e-12)\n",
    "        change2 = abs(np.mean(f_prev1) - np.mean(f_prev2)) / (abs(np.mean(f_prev2)) + 1e-12)\n",
    "\n",
    "        bin_change1 = abs(bin_curr  - bin_prev1) / (abs(bin_prev1) + 1e-12)\n",
    "        bin_change2 = abs(bin_prev1 - bin_prev2) / (abs(bin_prev2) + 1e-12)\n",
    "\n",
    "        if (change1 < 0.003 and change2 < 0.003) and (bin_change1 < 0.001 and bin_change2 < 0.00075):\n",
    "            if beta < 8:\n",
    "                beta *= 1.3\n",
    "            else:\n",
    "                beta = beta + 5*np.tanh((beta - 0.5)*0.03)\n",
    "                \n",
    "\n",
    "    print(f\"Current β: {beta:.3f}\")\n",
    "    print(\"FoM values:\", f_vals)\n",
    "    print(f\"Mean FoM: {np.mean(f_vals):.6f}\")\n",
    "\n",
    "    print(f\"Binarization degree: {bin_deg:.4f}\")\n",
    "\n",
    "    # plt.figure(figsize=(3, 2))\n",
    "    # ax = plt.gca()\n",
    "    # opt_list[0].plot2D(\n",
    "    #     False,\n",
    "    #     output_plane=mp.Volume(\n",
    "    #         size=mp.Vector3(design_region_width, region_height_each * layer_num - 1 / resolution, 0),\n",
    "    #         center=mp.Vector3(0, full_center_y, 0)\n",
    "    #     ),\n",
    "    #     ax=ax,\n",
    "    #     show_sources=False,\n",
    "    #     show_monitors=False,\n",
    "    #     show_boundary_layers=False,\n",
    "    # )\n",
    "    # ax.axis(\"off\")\n",
    "    # plt.show()\n",
    "\n",
    "    return v_new, beta\n",
    "\n",
    "mp.verbosity(0)\n",
    "Max_iter = 300\n",
    "\n",
    "while cur_iter[0] < Max_iter:\n",
    "    x, cur_beta = f_multi(x, eta_i, cur_beta)\n",
    "    if binarization_history[-1] > 0.99:\n",
    "        print(\"Threshold reached → final mapping with β=∞\")\n",
    "        x, _ = f_multi(x, eta_i, np.inf)\n",
    "        print(\"FOM increases : \", )\n",
    "        break"
   ]
  },
  {
   "cell_type": "code",
   "execution_count": 19,
   "id": "cfbf33a9",
   "metadata": {},
   "outputs": [
    {
     "name": "stdout",
     "output_type": "stream",
     "text": [
      "최대 FoM = 0.035155 는 iteration 153 에서 나왔습니다.\n"
     ]
    },
    {
     "data": {
      "image/png": "[encoded data removed]",
      "text/plain": [
       "<Figure size 600x600 with 1 Axes>"
      ]
     },
     "metadata": {},
     "output_type": "display_data"
    },
    {
     "data": {
      "image/png": "[encoded data removed]",
      "text/plain": [
       "<Figure size 600x600 with 1 Axes>"
      ]
     },
     "metadata": {},
     "output_type": "display_data"
    },
    {
     "data": {
      "image/png": "[encoded data removed]",
      "text/plain": [
       "<Figure size 600x600 with 2 Axes>"
      ]
     },
     "metadata": {},
     "output_type": "display_data"
    }
   ],
   "source": [
    "################ Find best FOM ################ \n",
    "eval_hist = np.array(evaluation_history)\n",
    "max_val   = eval_hist.max()\n",
    "max_idx0  = eval_hist.argmax()\n",
    "iteration = max_idx0 + 1\n",
    "\n",
    "print(f\"최대 FoM = {max_val:.6f} 는 iteration {iteration} 에서 나왔습니다.\")\n",
    "\n",
    "################ FOM plot ################ \n",
    "evaluation_array = np.array(evaluation_history)  \n",
    "iterations = np.arange(len(evaluation_history))\n",
    "\n",
    "###################### [1] 각 소스별 FoM plot ######################\n",
    "plt.figure(figsize=(6, 6))\n",
    "\n",
    "for i in range(evaluation_array.shape[1]):  # 각 소스별\n",
    "    plt.plot(iterations, evaluation_array[:, i], label=f\"Source {i+1}\")\n",
    "\n",
    "plt.xlabel('Iteration', fontsize=14)\n",
    "plt.ylabel('FoM (per source)', fontsize=14)\n",
    "plt.xticks(fontsize=12)\n",
    "plt.yticks(fontsize=12)\n",
    "plt.tick_params(direction='in')\n",
    "plt.grid(True)\n",
    "plt.legend(fontsize=12)\n",
    "plt.tight_layout()\n",
    "plt.show()\n",
    "\n",
    "###################### [2] 평균 FoM plot ######################\n",
    "plt.figure(figsize=(6, 6))\n",
    "\n",
    "mean_fom = evaluation_array.mean(axis=1)  # 평균 FoM 계산\n",
    "plt.plot(iterations, mean_fom, 'b-', label='Mean FoM')\n",
    "\n",
    "plt.xlabel('Iteration', fontsize=14)\n",
    "plt.ylabel('Mean FoM', fontsize=14)\n",
    "plt.xticks(fontsize=12)\n",
    "plt.yticks(fontsize=12)\n",
    "plt.tick_params(direction='in')\n",
    "plt.grid(True)\n",
    "plt.tight_layout()\n",
    "plt.show()\n",
    "\n",
    "################ Combined Beta and Binarization Degree Plot ################ \n",
    "fig, ax1 = plt.subplots(figsize=(6,6))\n",
    "\n",
    "color1 = 'red'\n",
    "ax1.set_xlabel('Iteration', fontsize=14)\n",
    "ax1.set_ylabel('Beta', color=color1, fontsize=14)\n",
    "ax1.plot(beta_history, color=color1, label='Beta History')\n",
    "ax1.tick_params(axis='y', labelcolor=color1)\n",
    "ax1.set_xlim(0, np.array(cur_iter))\n",
    "ax1.tick_params(labelsize=14)\n",
    "ax1.grid(True)\n",
    "\n",
    "ax2 = ax1.twinx()\n",
    "color2 = 'green'\n",
    "ax2.set_ylabel('Binarization Degree', color=color2, fontsize=14)\n",
    "ax2.plot(binarization_history, color=color2, linestyle='-', label='Binarization Degree')\n",
    "ax2.tick_params(axis='y', labelcolor=color2)\n",
    "ax2.set_ylim(0.4, 1)\n",
    "ax2.set_ylim(0, 1)\n",
    "ax2.tick_params(labelsize=16)\n",
    "\n",
    "fig.tight_layout()\n",
    "# plt.title('Beta & Binarization Degree', fontsize=15)\n",
    "plt.show()"
   ]
  }
 ],
 "metadata": {
  "kernelspec": {
   "display_name": "mp",
   "language": "python",
   "name": "python3"
  },
  "language_info": {
   "codemirror_mode": {
    "name": "ipython",
    "version": 3
   },
   "file_extension": ".py",
   "mimetype": "text/x-python",
   "name": "python",
   "nbconvert_exporter": "python",
   "pygments_lexer": "ipython3",
   "version": "3.11.12"
  }
 },
 "nbformat": 4,
 "nbformat_minor": 5
}
