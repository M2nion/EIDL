{
 "cells": [
  {
   "cell_type": "code",
   "execution_count": 11,
   "id": "7c0b5dbd",
   "metadata": {},
   "outputs": [],
   "source": [
    "import meep as mp\n",
    "import meep.adjoint as mpa\n",
    "import numpy as np\n",
    "from autograd import numpy as npa\n",
    "from autograd import tensor_jacobian_product, grad\n",
    "import nlopt\n",
    "from matplotlib import pyplot as plt\n",
    "from matplotlib.patches import Circle\n",
    "import math\n",
    "\n",
    "from meep.materials import Ag"
   ]
  },
  {
   "cell_type": "code",
   "execution_count": 12,
   "id": "8b2dc107",
   "metadata": {},
   "outputs": [],
   "source": [
    "fontlabel = 16\n",
    "\n",
    "lambda_min = 0.4       # 최소 파장 (µm)\n",
    "lambda_max = 0.7       # 최대 파장 (µm)\n",
    "fmin = 1/lambda_max    # 최소 주파수\n",
    "fmax = 1/lambda_min    # 최대 주파수\n",
    "fcen = 0.5*(fmin+fmax) # 중앙 주파수\n",
    "df = fmax-fmin         # 주파수 대역폭\n",
    "\n",
    "resolution = 50        # 시뮬레이션 해상도\n",
    "nfreq = 1             # 추출할 주파수 개수\n",
    "design_region_resolution = 50"
   ]
  },
  {
   "cell_type": "code",
   "execution_count": 230,
   "id": "1ed44543",
   "metadata": {},
   "outputs": [],
   "source": [
    "tag_bot         = 0.5\n",
    "tag_side        = 4\n",
    "tsio2           = 4\n",
    "tdesignregion   = 1\n",
    "monitor_position =  1 / fcen *2\n",
    "monitor_blank   = 1 / fcen * 0.1\n",
    "\n",
    "tpml = 0.4\n",
    "\n",
    "width_ag = 0.2\n",
    "width_sio2 = 2\n",
    "\n",
    "width_bot_ag = width_ag+width_sio2+width_ag\n",
    "\n",
    "design_region_width = round(width_bot_ag, 3)\n",
    "design_region_height = 1/2\n",
    "\n",
    "Sx = tpml+width_bot_ag+tpml\n",
    "Sy = tag_bot+tag_side+tdesignregion+monitor_position+monitor_blank+tpml\n",
    "\n",
    "SiO2 = mp.Medium(index = 1.45)\n",
    "TiO2 = mp.Medium(index = 2.6)\n",
    "\n",
    "Nx = int(design_region_resolution * design_region_width) + 1\n",
    "Ny = int(design_region_resolution * design_region_height) + 1\n",
    "\n",
    "y_bottom = -Sy/2\n",
    "center_y_ag = y_bottom + tag_bot / 2\n",
    "center_y_sio2 = y_bottom + tag_bot + tsio2 / 2\n",
    "center_y_design = y_bottom + tag_bot + tsio2 + design_region_height\n",
    "center_y_monitor_position = y_bottom + tag_bot + tsio2 + design_region_height + monitor_position\n",
    "center_y_source_position = y_bottom + tag_bot + 1/fcen \n",
    "center_Ag_x_position = design_region_width/2-width_ag/2 #+ tpml/2\n",
    "\n",
    "\n",
    "# 3) MaterialGrid 생성\n",
    "design_variables = mp.MaterialGrid(\n",
    "    mp.Vector3(Nx, Ny),\n",
    "    TiO2,    # weight=0일 때 매체\n",
    "    SiO2,    # weight=1일 때 매체\n",
    "    grid_type=\"U_MEAN\"\n",
    ")\n",
    "\n",
    "\n",
    "design_region0 = mpa.DesignRegion(\n",
    "    design_variables,\n",
    "    volume=mp.Volume(\n",
    "        center=mp.Vector3(0, center_y_design+design_region_height/2, 0),\n",
    "        size=mp.Vector3(design_region_width, design_region_height, 0),\n",
    "    ),\n",
    ")\n",
    "\n",
    "design_region1 = mpa.DesignRegion(\n",
    "    design_variables,\n",
    "    volume=mp.Volume(\n",
    "        center=mp.Vector3(0, center_y_design-design_region_height/2, 0),\n",
    "        size=mp.Vector3(design_region_width, design_region_height, 0),\n",
    "    ),\n",
    ")\n",
    "\n",
    "\n",
    "boundary_layers = [mp.Absorber(tpml,direction=mp.X),\n",
    "                   mp.PML(tpml,direction=mp.Y,side=mp.High)]"
   ]
  },
  {
   "cell_type": "code",
   "execution_count": 231,
   "id": "1962bbd4",
   "metadata": {},
   "outputs": [],
   "source": [
    "cell_size = mp.Vector3(Sx, Sy)\n",
    "geometry = [\n",
    "    mp.Block(\n",
    "        material=Ag,\n",
    "        size=mp.Vector3(width_bot_ag, tag_bot, 0),\n",
    "        center=mp.Vector3(0, center_y_ag, 0)\n",
    "    ),\n",
    "    mp.Block(\n",
    "        material=SiO2,\n",
    "        size=mp.Vector3(width_sio2, tsio2, 0),\n",
    "        center=mp.Vector3(0, center_y_sio2, 0)\n",
    "    ),\n",
    "    ############################################################\n",
    "    mp.Block(\n",
    "        material=design_variables,\n",
    "        size=design_region0.size,\n",
    "        center=design_region0.center\n",
    "    ),\n",
    "    mp.Block(\n",
    "        material=design_variables,\n",
    "        size=design_region1.size,\n",
    "        center=design_region1.center\n",
    "    ),\n",
    "    ############################################################\n",
    "    ######### Side metal ########## \n",
    "    mp.Block(\n",
    "        material=Ag,\n",
    "        size=mp.Vector3(width_ag, tsio2, 0),\n",
    "        center=mp.Vector3(-center_Ag_x_position, center_y_sio2, 0)\n",
    "    ),\n",
    "    mp.Block(\n",
    "        material=Ag,\n",
    "        size=mp.Vector3(width_ag, tsio2, 0),\n",
    "        center=mp.Vector3(center_Ag_x_position, center_y_sio2, 0)\n",
    "    ),\n",
    "]"
   ]
  },
  {
   "cell_type": "code",
   "execution_count": 232,
   "id": "1a900b70",
   "metadata": {},
   "outputs": [],
   "source": [
    "src = mp.GaussianSource(frequency=fcen, fwidth=df, is_integrated=True)\n",
    "\n",
    "sources = mp.Source(\n",
    "            src,\n",
    "            component=mp.Ez,\n",
    "            center=mp.Vector3(\n",
    "                0,\n",
    "                center_y_source_position,  # Alq3 층의 중간 높이\n",
    "                0\n",
    "            )\n",
    "        )\n",
    "\n",
    "sim = mp.Simulation(\n",
    "    resolution=resolution,\n",
    "    sources=[sources],\n",
    "    cell_size=cell_size,\n",
    "    boundary_layers=boundary_layers,\n",
    "    geometry=geometry,\n",
    "    default_material=mp.Medium(index = 1),\n",
    "    extra_materials=[Ag]\n",
    ")"
   ]
  },
  {
   "cell_type": "code",
   "execution_count": 234,
   "id": "3695ed6b",
   "metadata": {},
   "outputs": [],
   "source": [
    "minimum_length = 0.09  # minimum length scale (microns)\n",
    "eta_i = 0.5  # blueprint (or intermediate) design field thresholding point (between 0 and 1)\n",
    "eta_e = 0.55  # erosion design field thresholding point (between 0 and 1)\n",
    "eta_d = 1 - eta_e  # dilation design field thresholding point (between 0 and 1)\n",
    "filter_radius = mpa.get_conic_radius_from_eta_e(minimum_length, eta_e)\n",
    "\n",
    "# def mapping(x, eta, beta):\n",
    "def mapping(x, eta_i, beta):\n",
    "\n",
    "    # filter\n",
    "    filtered_field = mpa.conic_filter(\n",
    "        x,\n",
    "        filter_radius,\n",
    "        design_region_width,\n",
    "        design_region_height,\n",
    "        design_region_resolution,\n",
    "    )\n",
    "\n",
    "    # projection\n",
    "    projected_field = mpa.tanh_projection(filtered_field, beta, eta_i)\n",
    "\n",
    "    # interpolate to actual materials\n",
    "    return projected_field.flatten()"
   ]
  },
  {
   "cell_type": "code",
   "execution_count": 235,
   "id": "f2e44bbe",
   "metadata": {},
   "outputs": [
    {
     "name": "stderr",
     "output_type": "stream",
     "text": [
      "Warning: grid volume is not an integer number of pixels; cell size will be rounded to nearest pixel.\n"
     ]
    },
    {
     "data": {
      "image/png": "[encoded data removed]",
      "text/plain": [
       "<Figure size 640x480 with 1 Axes>"
      ]
     },
     "metadata": {},
     "output_type": "display_data"
    }
   ],
   "source": [
    "monitor_position_J, monitor_size = mp.Vector3(0, center_y_monitor_position+1/2), mp.Vector3(0,0)\n",
    "FourierFields = mpa.FourierFields(sim,mp.Volume(center=monitor_position_J,size=monitor_size),mp.Ez,yee_grid=True)\n",
    "ob_list = [FourierFields]\n",
    "\n",
    "def J(fields):\n",
    "    return npa.mean(npa.abs(fields) ** 2) # The index 1 corresponds to the point at the center of our monitor.\n",
    "\n",
    "opt = mpa.OptimizationProblem(\n",
    "    simulation=sim,\n",
    "    objective_functions=[J],\n",
    "    objective_arguments=ob_list,\n",
    "    design_regions=[design_region0, design_region1],\n",
    "    frequencies=[fcen],\n",
    "    maximum_run_time=100,\n",
    ")\n",
    "\n",
    "opt.plot2D(True)"
   ]
  },
  {
   "cell_type": "code",
   "execution_count": 209,
   "id": "cc813383",
   "metadata": {},
   "outputs": [],
   "source": [
    "class AdamOptimizer:\n",
    "    def __init__(self, lr=0.01, beta1=0.9, beta2=0.999, epsilon=1e-8, warmup_iters=10):\n",
    "        self.lr = lr\n",
    "        self.beta1 = beta1\n",
    "        self.beta2 = beta2\n",
    "        self.epsilon = epsilon\n",
    "        self.mt = None\n",
    "        self.vt = None\n",
    "        self.iter = 0\n",
    "        self.warmup_iters = warmup_iters\n",
    "    \n",
    "    def update(self, v, gradient):\n",
    "        if self.mt is None:\n",
    "            self.mt = np.zeros_like(v)\n",
    "        if self.vt is None:\n",
    "            self.vt = np.zeros_like(v)\n",
    "            \n",
    "        #Adam에서는 기울기 값과 기울기의 제곱값의 지수이동평균을 활용하여 step 변회량을 조절\n",
    "        self.iter += 1\n",
    "        self.mt = self.beta1 * self.mt + (1 - self.beta1) * gradient           #m_(t)=beta_(1)*m_(t-1)+(1-beta_(1))*gradient\n",
    "        self.vt = self.beta2 * self.vt + (1 - self.beta2) * (gradient ** 2)       #v_(t)=beta_(2)*v_(t-1)+(1-beta_(2))*(gradeint^2)\n",
    "        \n",
    "        # 초기 몇번의 update에서 0으로 편향되어 있어서 출발 지점에서 멀리 떨어진 곳으로 이동하는, 초기 경로의 편향 문제를 해결 하기 위해 unbiased하게 만들어줌\n",
    "        m_hat = self.mt / (1 - self.beta1 ** self.iter)   #m_hat=m/(1-beta1**t)\n",
    "        v_hat = self.vt / (1 - self.beta2 ** self.iter)\n",
    "        \n",
    "        # Warm-up 단계\n",
    "        if self.iter <= self.warmup_iters:\n",
    "            warmup_factor = self.iter / self.warmup_iters\n",
    "            lr = self.lr * warmup_factor\n",
    "        else:\n",
    "            lr = self.lr   #lr_t <- alpha*sqrt\n",
    "            \n",
    "        #update = self.lr * m_hat / (np.sqrt(v_hat) + self.epsilon)\n",
    "        update_factor= m_hat / (np.sqrt(v_hat) + self.epsilon) #theta_t <- theta_(t-1)-alpha_(t)*m_(t)/(sqrt(v_(t))+epsilon) alpha_(t)=learning rate\n",
    "        update = lr * update_factor\n",
    "        updated_v = v + update\n",
    "        updated_v = np.clip(updated_v, 0.0, 1.0)\n",
    "        \n",
    "        adam_lr=np.mean(np.abs(update))\n",
    "        adam_uf=np.mean(np.abs(update_factor))\n",
    "        \n",
    "        # adam_beta1=self.beta1\n",
    "        # # adam_beta2=self.beta2\n",
    "        adam_m=self.mt\n",
    "        adam_v=self.vt\n",
    "        adam_t=self.iter\n",
    "        \n",
    "        return updated_v, adam_lr, adam_uf, adam_m, adam_v, adam_t"
   ]
  },
  {
   "cell_type": "code",
   "execution_count": 212,
   "id": "b2899f8e",
   "metadata": {},
   "outputs": [],
   "source": [
    "evaluation_history_adam = []\n",
    "beta_history = []\n",
    "\n",
    "cur_iter = [0]\n",
    "\n",
    "numevl = 1\n",
    "\n",
    "lr_history=[]\n",
    "\n",
    "uf_history=[]\n",
    "t_history=[]\n",
    "adjgrad_history=[]\n",
    "lr_history = []\n",
    "\n",
    "optimizer = AdamOptimizer(lr=0.02, beta1=0.9)\n",
    "\n",
    "\n",
    "def f(v, eta, cur_beta):\n",
    "    size_each = Nx * Ny\n",
    "\n",
    "    v1 = v[         : size_each]    # layer 0\n",
    "    v2 = v[size_each: 2*size_each]  # layer 1\n",
    "\n",
    "    rho1 = mapping(v1, eta, cur_beta)\n",
    "    rho2 = mapping(v2, eta, cur_beta)\n",
    "\n",
    "\n",
    "    f0_r, gradients = opt([rho1, rho2],\n",
    "                          need_value=True,\n",
    "                          need_gradient=True,\n",
    "                          beta=cur_beta\n",
    "                          )\n",
    "    dJ1, dJ2 = gradients  # 각각 shape = (Ny, Nx)\n",
    "\n",
    "    g1 = dJ1.flatten()\n",
    "    g2 = dJ2.flatten()\n",
    "    gradient = np.concatenate([g1, g2])  # 길이 = 2*Nx*Ny\n",
    "\n",
    "    v_new, adam_lr, adam_uf, adam_m, adam_v, adam_t = \\\n",
    "        optimizer.update(v, gradient)\n",
    "\n",
    "    beta_new = cur_beta + np.tanh((cur_beta - 0.5)*0.01)\n",
    "\n",
    "    evaluation_history_adam.append(f0_r)\n",
    "    beta_history.append(beta_new)\n",
    "    cur_iter[0] += 1\n",
    "    lr_history.append(adam_lr)\n",
    "    uf_history.append(adam_uf)\n",
    "    t_history.append(adam_t)\n",
    "\n",
    "    print(f\"Iter {cur_iter[0]}: FoM = {float(np.real(f0_r)):.3e}, beta = {beta_new:.4f}\")\n",
    "\n",
    "    return v_new, adam_m, adam_v, beta_new\n"
   ]
  },
  {
   "cell_type": "code",
   "execution_count": 213,
   "id": "c5e67d9c",
   "metadata": {},
   "outputs": [
    {
     "name": "stderr",
     "output_type": "stream",
     "text": [
      "Warning: grid volume is not an integer number of pixels; cell size will be rounded to nearest pixel.\n"
     ]
    },
    {
     "name": "stdout",
     "output_type": "stream",
     "text": [
      "Starting forward run...\n",
      "Starting adjoint run...\n"
     ]
    },
    {
     "name": "stderr",
     "output_type": "stream",
     "text": [
      "Warning: grid volume is not an integer number of pixels; cell size will be rounded to nearest pixel.\n"
     ]
    },
    {
     "name": "stdout",
     "output_type": "stream",
     "text": [
      "Calculating gradient...\n",
      "Iter 1: FoM = 2.142e-03, beta = 1.0050\n",
      "Starting forward run...\n",
      "Starting adjoint run...\n"
     ]
    },
    {
     "name": "stderr",
     "output_type": "stream",
     "text": [
      "Warning: grid volume is not an integer number of pixels; cell size will be rounded to nearest pixel.\n"
     ]
    },
    {
     "name": "stdout",
     "output_type": "stream",
     "text": [
      "Calculating gradient...\n",
      "Iter 2: FoM = 2.380e-03, beta = 1.0100\n",
      "Starting forward run...\n",
      "Starting adjoint run...\n"
     ]
    },
    {
     "name": "stderr",
     "output_type": "stream",
     "text": [
      "Warning: grid volume is not an integer number of pixels; cell size will be rounded to nearest pixel.\n"
     ]
    },
    {
     "name": "stdout",
     "output_type": "stream",
     "text": [
      "Calculating gradient...\n",
      "Iter 3: FoM = 2.895e-03, beta = 1.0152\n",
      "Starting forward run...\n",
      "Starting adjoint run...\n"
     ]
    },
    {
     "name": "stderr",
     "output_type": "stream",
     "text": [
      "Warning: grid volume is not an integer number of pixels; cell size will be rounded to nearest pixel.\n"
     ]
    },
    {
     "name": "stdout",
     "output_type": "stream",
     "text": [
      "Calculating gradient...\n",
      "Iter 4: FoM = 3.765e-03, beta = 1.0203\n",
      "Starting forward run...\n",
      "Starting adjoint run...\n"
     ]
    },
    {
     "name": "stderr",
     "output_type": "stream",
     "text": [
      "Warning: grid volume is not an integer number of pixels; cell size will be rounded to nearest pixel.\n"
     ]
    },
    {
     "name": "stdout",
     "output_type": "stream",
     "text": [
      "Calculating gradient...\n",
      "Iter 5: FoM = 5.107e-03, beta = 1.0255\n",
      "Starting forward run...\n",
      "Starting adjoint run...\n"
     ]
    },
    {
     "name": "stderr",
     "output_type": "stream",
     "text": [
      "Warning: grid volume is not an integer number of pixels; cell size will be rounded to nearest pixel.\n"
     ]
    },
    {
     "name": "stdout",
     "output_type": "stream",
     "text": [
      "Calculating gradient...\n",
      "Iter 6: FoM = 7.052e-03, beta = 1.0308\n",
      "Starting forward run...\n",
      "Starting adjoint run...\n"
     ]
    },
    {
     "name": "stderr",
     "output_type": "stream",
     "text": [
      "Warning: grid volume is not an integer number of pixels; cell size will be rounded to nearest pixel.\n"
     ]
    },
    {
     "name": "stdout",
     "output_type": "stream",
     "text": [
      "Calculating gradient...\n",
      "Iter 7: FoM = 9.673e-03, beta = 1.0361\n",
      "Starting forward run...\n",
      "Starting adjoint run...\n"
     ]
    },
    {
     "name": "stderr",
     "output_type": "stream",
     "text": [
      "Warning: grid volume is not an integer number of pixels; cell size will be rounded to nearest pixel.\n"
     ]
    },
    {
     "name": "stdout",
     "output_type": "stream",
     "text": [
      "Calculating gradient...\n",
      "Iter 8: FoM = 1.275e-02, beta = 1.0414\n",
      "Starting forward run...\n",
      "Starting adjoint run...\n"
     ]
    },
    {
     "name": "stderr",
     "output_type": "stream",
     "text": [
      "Warning: grid volume is not an integer number of pixels; cell size will be rounded to nearest pixel.\n"
     ]
    },
    {
     "name": "stdout",
     "output_type": "stream",
     "text": [
      "Calculating gradient...\n",
      "Iter 9: FoM = 1.574e-02, beta = 1.0468\n",
      "Starting forward run...\n",
      "Starting adjoint run...\n"
     ]
    },
    {
     "name": "stderr",
     "output_type": "stream",
     "text": [
      "Warning: grid volume is not an integer number of pixels; cell size will be rounded to nearest pixel.\n"
     ]
    },
    {
     "name": "stdout",
     "output_type": "stream",
     "text": [
      "Calculating gradient...\n",
      "Iter 10: FoM = 1.861e-02, beta = 1.0523\n",
      "Starting forward run...\n",
      "Starting adjoint run...\n"
     ]
    },
    {
     "name": "stderr",
     "output_type": "stream",
     "text": [
      "Warning: grid volume is not an integer number of pixels; cell size will be rounded to nearest pixel.\n"
     ]
    },
    {
     "name": "stdout",
     "output_type": "stream",
     "text": [
      "Calculating gradient...\n",
      "Iter 11: FoM = 2.203e-02, beta = 1.0578\n",
      "Starting forward run...\n",
      "Starting adjoint run...\n"
     ]
    },
    {
     "name": "stderr",
     "output_type": "stream",
     "text": [
      "Warning: grid volume is not an integer number of pixels; cell size will be rounded to nearest pixel.\n"
     ]
    },
    {
     "name": "stdout",
     "output_type": "stream",
     "text": [
      "Calculating gradient...\n",
      "Iter 12: FoM = 2.595e-02, beta = 1.0634\n",
      "Starting forward run...\n",
      "Starting adjoint run...\n"
     ]
    },
    {
     "name": "stderr",
     "output_type": "stream",
     "text": [
      "Warning: grid volume is not an integer number of pixels; cell size will be rounded to nearest pixel.\n"
     ]
    },
    {
     "name": "stdout",
     "output_type": "stream",
     "text": [
      "Calculating gradient...\n",
      "Iter 13: FoM = 3.012e-02, beta = 1.0690\n",
      "Starting forward run...\n",
      "Starting adjoint run...\n"
     ]
    },
    {
     "name": "stderr",
     "output_type": "stream",
     "text": [
      "Warning: grid volume is not an integer number of pixels; cell size will be rounded to nearest pixel.\n"
     ]
    },
    {
     "name": "stdout",
     "output_type": "stream",
     "text": [
      "Calculating gradient...\n",
      "Iter 14: FoM = 3.413e-02, beta = 1.0747\n",
      "Starting forward run...\n",
      "Starting adjoint run...\n"
     ]
    },
    {
     "name": "stderr",
     "output_type": "stream",
     "text": [
      "Warning: grid volume is not an integer number of pixels; cell size will be rounded to nearest pixel.\n"
     ]
    },
    {
     "name": "stdout",
     "output_type": "stream",
     "text": [
      "Calculating gradient...\n",
      "Iter 15: FoM = 3.774e-02, beta = 1.0805\n",
      "Starting forward run...\n",
      "Starting adjoint run...\n"
     ]
    },
    {
     "name": "stderr",
     "output_type": "stream",
     "text": [
      "Warning: grid volume is not an integer number of pixels; cell size will be rounded to nearest pixel.\n"
     ]
    },
    {
     "name": "stdout",
     "output_type": "stream",
     "text": [
      "Calculating gradient...\n",
      "Iter 16: FoM = 4.098e-02, beta = 1.0863\n",
      "Starting forward run...\n",
      "Starting adjoint run...\n"
     ]
    },
    {
     "name": "stderr",
     "output_type": "stream",
     "text": [
      "Warning: grid volume is not an integer number of pixels; cell size will be rounded to nearest pixel.\n"
     ]
    },
    {
     "name": "stdout",
     "output_type": "stream",
     "text": [
      "Calculating gradient...\n",
      "Iter 17: FoM = 4.408e-02, beta = 1.0922\n",
      "Starting forward run...\n",
      "Starting adjoint run...\n"
     ]
    },
    {
     "name": "stderr",
     "output_type": "stream",
     "text": [
      "Warning: grid volume is not an integer number of pixels; cell size will be rounded to nearest pixel.\n"
     ]
    },
    {
     "name": "stdout",
     "output_type": "stream",
     "text": [
      "Calculating gradient...\n",
      "Iter 18: FoM = 4.722e-02, beta = 1.0981\n",
      "Starting forward run...\n",
      "Starting adjoint run...\n"
     ]
    },
    {
     "name": "stderr",
     "output_type": "stream",
     "text": [
      "Warning: grid volume is not an integer number of pixels; cell size will be rounded to nearest pixel.\n"
     ]
    },
    {
     "name": "stdout",
     "output_type": "stream",
     "text": [
      "Calculating gradient...\n",
      "Iter 19: FoM = 5.039e-02, beta = 1.1041\n",
      "Starting forward run...\n",
      "Starting adjoint run...\n"
     ]
    },
    {
     "name": "stderr",
     "output_type": "stream",
     "text": [
      "Warning: grid volume is not an integer number of pixels; cell size will be rounded to nearest pixel.\n"
     ]
    },
    {
     "name": "stdout",
     "output_type": "stream",
     "text": [
      "Calculating gradient...\n",
      "Iter 20: FoM = 5.337e-02, beta = 1.1101\n",
      "Starting forward run...\n",
      "Starting adjoint run...\n"
     ]
    },
    {
     "name": "stderr",
     "output_type": "stream",
     "text": [
      "Warning: grid volume is not an integer number of pixels; cell size will be rounded to nearest pixel.\n"
     ]
    },
    {
     "name": "stdout",
     "output_type": "stream",
     "text": [
      "Calculating gradient...\n",
      "Iter 21: FoM = 5.604e-02, beta = 1.1162\n",
      "Starting forward run...\n",
      "Starting adjoint run...\n"
     ]
    },
    {
     "name": "stderr",
     "output_type": "stream",
     "text": [
      "Warning: grid volume is not an integer number of pixels; cell size will be rounded to nearest pixel.\n"
     ]
    },
    {
     "name": "stdout",
     "output_type": "stream",
     "text": [
      "Calculating gradient...\n",
      "Iter 22: FoM = 5.842e-02, beta = 1.1224\n",
      "Starting forward run...\n",
      "Starting adjoint run...\n"
     ]
    },
    {
     "name": "stderr",
     "output_type": "stream",
     "text": [
      "Warning: grid volume is not an integer number of pixels; cell size will be rounded to nearest pixel.\n"
     ]
    },
    {
     "name": "stdout",
     "output_type": "stream",
     "text": [
      "Calculating gradient...\n",
      "Iter 23: FoM = 6.057e-02, beta = 1.1286\n",
      "Starting forward run...\n",
      "Starting adjoint run...\n"
     ]
    },
    {
     "name": "stderr",
     "output_type": "stream",
     "text": [
      "Warning: grid volume is not an integer number of pixels; cell size will be rounded to nearest pixel.\n"
     ]
    },
    {
     "name": "stdout",
     "output_type": "stream",
     "text": [
      "Calculating gradient...\n",
      "Iter 24: FoM = 6.257e-02, beta = 1.1349\n",
      "Starting forward run...\n",
      "Starting adjoint run...\n"
     ]
    },
    {
     "name": "stderr",
     "output_type": "stream",
     "text": [
      "Warning: grid volume is not an integer number of pixels; cell size will be rounded to nearest pixel.\n"
     ]
    },
    {
     "name": "stdout",
     "output_type": "stream",
     "text": [
      "Calculating gradient...\n",
      "Iter 25: FoM = 6.445e-02, beta = 1.1412\n",
      "Starting forward run...\n",
      "Starting adjoint run...\n"
     ]
    },
    {
     "name": "stderr",
     "output_type": "stream",
     "text": [
      "Warning: grid volume is not an integer number of pixels; cell size will be rounded to nearest pixel.\n"
     ]
    },
    {
     "name": "stdout",
     "output_type": "stream",
     "text": [
      "Calculating gradient...\n",
      "Iter 26: FoM = 6.629e-02, beta = 1.1476\n",
      "Starting forward run...\n",
      "Starting adjoint run...\n"
     ]
    },
    {
     "name": "stderr",
     "output_type": "stream",
     "text": [
      "Warning: grid volume is not an integer number of pixels; cell size will be rounded to nearest pixel.\n"
     ]
    },
    {
     "name": "stdout",
     "output_type": "stream",
     "text": [
      "Calculating gradient...\n",
      "Iter 27: FoM = 6.818e-02, beta = 1.1541\n",
      "Starting forward run...\n",
      "Starting adjoint run...\n"
     ]
    },
    {
     "name": "stderr",
     "output_type": "stream",
     "text": [
      "Warning: grid volume is not an integer number of pixels; cell size will be rounded to nearest pixel.\n"
     ]
    },
    {
     "name": "stdout",
     "output_type": "stream",
     "text": [
      "Calculating gradient...\n",
      "Iter 28: FoM = 7.017e-02, beta = 1.1606\n",
      "Starting forward run...\n",
      "Starting adjoint run...\n"
     ]
    },
    {
     "name": "stderr",
     "output_type": "stream",
     "text": [
      "Warning: grid volume is not an integer number of pixels; cell size will be rounded to nearest pixel.\n"
     ]
    },
    {
     "name": "stdout",
     "output_type": "stream",
     "text": [
      "Calculating gradient...\n",
      "Iter 29: FoM = 7.069e-02, beta = 1.1672\n",
      "Starting forward run...\n",
      "Starting adjoint run...\n"
     ]
    },
    {
     "name": "stderr",
     "output_type": "stream",
     "text": [
      "Warning: grid volume is not an integer number of pixels; cell size will be rounded to nearest pixel.\n"
     ]
    },
    {
     "name": "stdout",
     "output_type": "stream",
     "text": [
      "Calculating gradient...\n",
      "Iter 30: FoM = 7.085e-02, beta = 1.1739\n",
      "Starting forward run...\n",
      "Starting adjoint run...\n"
     ]
    },
    {
     "name": "stderr",
     "output_type": "stream",
     "text": [
      "Warning: grid volume is not an integer number of pixels; cell size will be rounded to nearest pixel.\n"
     ]
    },
    {
     "name": "stdout",
     "output_type": "stream",
     "text": [
      "Calculating gradient...\n",
      "Iter 31: FoM = 7.189e-02, beta = 1.1807\n",
      "Starting forward run...\n",
      "Starting adjoint run...\n"
     ]
    },
    {
     "name": "stderr",
     "output_type": "stream",
     "text": [
      "Warning: grid volume is not an integer number of pixels; cell size will be rounded to nearest pixel.\n"
     ]
    },
    {
     "name": "stdout",
     "output_type": "stream",
     "text": [
      "Calculating gradient...\n",
      "Iter 32: FoM = 7.352e-02, beta = 1.1875\n",
      "Starting forward run...\n",
      "Starting adjoint run...\n"
     ]
    },
    {
     "name": "stderr",
     "output_type": "stream",
     "text": [
      "Warning: grid volume is not an integer number of pixels; cell size will be rounded to nearest pixel.\n"
     ]
    },
    {
     "name": "stdout",
     "output_type": "stream",
     "text": [
      "Calculating gradient...\n",
      "Iter 33: FoM = 7.550e-02, beta = 1.1943\n",
      "Starting forward run...\n",
      "Starting adjoint run...\n"
     ]
    },
    {
     "name": "stderr",
     "output_type": "stream",
     "text": [
      "Warning: grid volume is not an integer number of pixels; cell size will be rounded to nearest pixel.\n"
     ]
    },
    {
     "name": "stdout",
     "output_type": "stream",
     "text": [
      "Calculating gradient...\n",
      "Iter 34: FoM = 7.761e-02, beta = 1.2013\n",
      "Starting forward run...\n",
      "Starting adjoint run...\n"
     ]
    },
    {
     "name": "stderr",
     "output_type": "stream",
     "text": [
      "Warning: grid volume is not an integer number of pixels; cell size will be rounded to nearest pixel.\n"
     ]
    },
    {
     "name": "stdout",
     "output_type": "stream",
     "text": [
      "Calculating gradient...\n",
      "Iter 35: FoM = 7.994e-02, beta = 1.2083\n",
      "Starting forward run...\n",
      "Starting adjoint run...\n"
     ]
    },
    {
     "name": "stderr",
     "output_type": "stream",
     "text": [
      "Warning: grid volume is not an integer number of pixels; cell size will be rounded to nearest pixel.\n"
     ]
    },
    {
     "name": "stdout",
     "output_type": "stream",
     "text": [
      "Calculating gradient...\n",
      "Iter 36: FoM = 8.245e-02, beta = 1.2154\n",
      "Starting forward run...\n",
      "Starting adjoint run...\n"
     ]
    },
    {
     "name": "stderr",
     "output_type": "stream",
     "text": [
      "Warning: grid volume is not an integer number of pixels; cell size will be rounded to nearest pixel.\n"
     ]
    },
    {
     "name": "stdout",
     "output_type": "stream",
     "text": [
      "Calculating gradient...\n",
      "Iter 37: FoM = 8.263e-02, beta = 1.2225\n",
      "Starting forward run...\n",
      "Starting adjoint run...\n"
     ]
    },
    {
     "name": "stderr",
     "output_type": "stream",
     "text": [
      "Warning: grid volume is not an integer number of pixels; cell size will be rounded to nearest pixel.\n"
     ]
    },
    {
     "name": "stdout",
     "output_type": "stream",
     "text": [
      "Calculating gradient...\n",
      "Iter 38: FoM = 7.791e-02, beta = 1.2298\n",
      "Starting forward run...\n",
      "Starting adjoint run...\n"
     ]
    },
    {
     "name": "stderr",
     "output_type": "stream",
     "text": [
      "Warning: grid volume is not an integer number of pixels; cell size will be rounded to nearest pixel.\n"
     ]
    },
    {
     "name": "stdout",
     "output_type": "stream",
     "text": [
      "Calculating gradient...\n",
      "Iter 39: FoM = 7.159e-02, beta = 1.2371\n",
      "Starting forward run...\n",
      "Starting adjoint run...\n"
     ]
    },
    {
     "name": "stderr",
     "output_type": "stream",
     "text": [
      "Warning: grid volume is not an integer number of pixels; cell size will be rounded to nearest pixel.\n"
     ]
    },
    {
     "name": "stdout",
     "output_type": "stream",
     "text": [
      "Calculating gradient...\n",
      "Iter 40: FoM = 6.792e-02, beta = 1.2444\n",
      "Starting forward run...\n",
      "Starting adjoint run...\n"
     ]
    },
    {
     "name": "stderr",
     "output_type": "stream",
     "text": [
      "Warning: grid volume is not an integer number of pixels; cell size will be rounded to nearest pixel.\n"
     ]
    },
    {
     "name": "stdout",
     "output_type": "stream",
     "text": [
      "Calculating gradient...\n",
      "Iter 41: FoM = 6.794e-02, beta = 1.2519\n",
      "Starting forward run...\n",
      "Starting adjoint run...\n"
     ]
    },
    {
     "name": "stderr",
     "output_type": "stream",
     "text": [
      "Warning: grid volume is not an integer number of pixels; cell size will be rounded to nearest pixel.\n"
     ]
    },
    {
     "name": "stdout",
     "output_type": "stream",
     "text": [
      "Calculating gradient...\n",
      "Iter 42: FoM = 7.077e-02, beta = 1.2594\n",
      "Starting forward run...\n",
      "Starting adjoint run...\n"
     ]
    },
    {
     "name": "stderr",
     "output_type": "stream",
     "text": [
      "Warning: grid volume is not an integer number of pixels; cell size will be rounded to nearest pixel.\n"
     ]
    },
    {
     "name": "stdout",
     "output_type": "stream",
     "text": [
      "Calculating gradient...\n",
      "Iter 43: FoM = 7.523e-02, beta = 1.2670\n",
      "Starting forward run...\n",
      "Starting adjoint run...\n"
     ]
    },
    {
     "name": "stderr",
     "output_type": "stream",
     "text": [
      "Warning: grid volume is not an integer number of pixels; cell size will be rounded to nearest pixel.\n"
     ]
    },
    {
     "name": "stdout",
     "output_type": "stream",
     "text": [
      "Calculating gradient...\n",
      "Iter 44: FoM = 7.987e-02, beta = 1.2747\n",
      "Starting forward run...\n",
      "Starting adjoint run...\n"
     ]
    },
    {
     "name": "stderr",
     "output_type": "stream",
     "text": [
      "Warning: grid volume is not an integer number of pixels; cell size will be rounded to nearest pixel.\n"
     ]
    },
    {
     "name": "stdout",
     "output_type": "stream",
     "text": [
      "Calculating gradient...\n",
      "Iter 45: FoM = 8.360e-02, beta = 1.2824\n",
      "Starting forward run...\n",
      "Starting adjoint run...\n"
     ]
    },
    {
     "name": "stderr",
     "output_type": "stream",
     "text": [
      "Warning: grid volume is not an integer number of pixels; cell size will be rounded to nearest pixel.\n"
     ]
    },
    {
     "name": "stdout",
     "output_type": "stream",
     "text": [
      "Calculating gradient...\n",
      "Iter 46: FoM = 8.583e-02, beta = 1.2902\n",
      "Starting forward run...\n",
      "Starting adjoint run...\n"
     ]
    },
    {
     "name": "stderr",
     "output_type": "stream",
     "text": [
      "Warning: grid volume is not an integer number of pixels; cell size will be rounded to nearest pixel.\n"
     ]
    },
    {
     "name": "stdout",
     "output_type": "stream",
     "text": [
      "Calculating gradient...\n",
      "Iter 47: FoM = 8.704e-02, beta = 1.2981\n",
      "Starting forward run...\n",
      "Starting adjoint run...\n"
     ]
    },
    {
     "name": "stderr",
     "output_type": "stream",
     "text": [
      "Warning: grid volume is not an integer number of pixels; cell size will be rounded to nearest pixel.\n"
     ]
    },
    {
     "name": "stdout",
     "output_type": "stream",
     "text": [
      "Calculating gradient...\n",
      "Iter 48: FoM = 8.789e-02, beta = 1.3061\n",
      "Starting forward run...\n",
      "Starting adjoint run...\n"
     ]
    },
    {
     "name": "stderr",
     "output_type": "stream",
     "text": [
      "Warning: grid volume is not an integer number of pixels; cell size will be rounded to nearest pixel.\n"
     ]
    },
    {
     "name": "stdout",
     "output_type": "stream",
     "text": [
      "Calculating gradient...\n",
      "Iter 49: FoM = 8.860e-02, beta = 1.3142\n",
      "Starting forward run...\n",
      "Starting adjoint run...\n",
      "Calculating gradient...\n",
      "Iter 50: FoM = 8.908e-02, beta = 1.3223\n"
     ]
    }
   ],
   "source": [
    "total_iter = 50\n",
    "cur_beta=1\n",
    "n=Nx*Ny*2\n",
    "x=np.ones(n)*0.5\n",
    "x_history = []\n",
    "\n",
    "mp.verbosity(0)\n",
    "for iters in range(total_iter):\n",
    "    x, adam_m, adam_v, cur_beta = f(x,eta_i,cur_beta)\n",
    "    x_history.append(x.copy())"
   ]
  },
  {
   "cell_type": "code",
   "execution_count": 154,
   "id": "b57e143a",
   "metadata": {},
   "outputs": [
    {
     "name": "stdout",
     "output_type": "stream",
     "text": [
      "[Iteration 5] FoM = 1.0563e-02, β = 1.0255, 디자인 (첫 10개) = [0.47036673 0.47063278 0.4705752  0.47051417 0.47042613 0.47018553\n",
      " 0.52559582 0.47080629 0.47069096 0.47061983] …\n",
      "[Best Iteration 50] FoM = 2.6969e-01, β = 1.3223, 디자인 (첫 10개) = [0.06065852 0.04253214 0.02955853 0.06020089 0.0348981  0.\n",
      " 0.03339093 0.         0.         0.        ] …\n",
      "[Last Iteration 50] FoM = 2.6969e-01, β = 1.3223, 디자인 (첫 10개) = [0.06065852 0.04253214 0.02955853 0.06020089 0.0348981  0.\n",
      " 0.03339093 0.         0.         0.        ] …\n"
     ]
    }
   ],
   "source": [
    "foms = np.real(evaluation_history_adam)\n",
    "best_idx = np.argmax(foms)\n",
    "\n",
    "init_idx = 4  # 0-based index → 5번째\n",
    "if len(foms) > init_idx:\n",
    "    init_fom    = foms[init_idx]\n",
    "    init_beta   = beta_history[init_idx]\n",
    "    init_design = x_history[init_idx]\n",
    "    print(f\"[Iteration 5] FoM = {init_fom:.4e}, β = {init_beta:.4f}, 디자인 (첫 10개) = {init_design[:10]} …\")\n",
    "else:\n",
    "    print(f\"Iteration 수({len(foms)})가 5보다 작아 5번째 정보가 없습니다.\")\n",
    "\n",
    "# --- 2) FoM 최대일 때 정보 ---\n",
    "best_fom    = foms[best_idx]\n",
    "best_beta   = beta_history[best_idx]\n",
    "best_design = x_history[best_idx]\n",
    "print(f\"[Best Iteration {best_idx+1}] FoM = {best_fom:.4e}, β = {best_beta:.4f}, 디자인 (첫 10개) = {best_design[:10]} …\")\n",
    "\n",
    "# --- 3) 마지막 iteration 정보 ---\n",
    "last_idx    = len(foms) - 1\n",
    "last_fom    = foms[last_idx]\n",
    "last_beta   = beta_history[last_idx]\n",
    "last_design = x_history[last_idx]\n",
    "print(f\"[Last Iteration {last_idx+1}] FoM = {last_fom:.4e}, β = {last_beta:.4f}, 디자인 (첫 10개) = {last_design[:10]} …\")\n"
   ]
  },
  {
   "cell_type": "markdown",
   "id": "673c7831",
   "metadata": {},
   "source": [
    "# FOM이 떨어지는 지점에서 beta 값이 수정되는건지?\n",
    "# Multi layer "
   ]
  },
  {
   "cell_type": "code",
   "execution_count": 214,
   "id": "25fd6d0b",
   "metadata": {},
   "outputs": [
    {
     "data": {
      "image/png": "[encoded data removed]",
      "text/plain": [
       "<Figure size 600x600 with 1 Axes>"
      ]
     },
     "metadata": {},
     "output_type": "display_data"
    }
   ],
   "source": [
    "plt.figure(figsize = (6,6))\n",
    "\n",
    "plt.plot(evaluation_history_adam, 'or-',   label='Evaluation history',)\n",
    "\n",
    "plt.xlabel('Iteration',fontsize = 14)\n",
    "plt.ylabel('FOM',fontsize = 14)\n",
    "plt.xticks(fontsize = 14)\n",
    "plt.yticks(fontsize = 14)\n",
    "\n",
    "# plt.title('Optimization', fontsize = 16)\n",
    "plt.tick_params(direction = 'in')\n",
    "\n",
    "plt.legend( fontsize = 14,)\n",
    "\n",
    "plt.show()"
   ]
  },
  {
   "cell_type": "code",
   "execution_count": null,
   "id": "7f2e3e85",
   "metadata": {},
   "outputs": [],
   "source": [
    "# np.savetxt(\"init_design.txt\", x_history[init_idx])\n",
    "# np.savetxt(\"best_design.txt\", x_history[best_idx])\n",
    "# np.savetxt(\"last_design.txt\", x_history[last_idx])"
   ]
  },
  {
   "cell_type": "code",
   "execution_count": null,
   "id": "4c91f71b",
   "metadata": {},
   "outputs": [],
   "source": [
    "# np.savetxt(\"adam_weights_2lambda_pos_mean_objf.txt\", design_variables.weights)"
   ]
  },
  {
   "cell_type": "code",
   "execution_count": null,
   "id": "5c1abfe4",
   "metadata": {},
   "outputs": [],
   "source": [
    "# np.savetxt(\"adam_weights_2lambda_pos_new_objf.txt\", design_variables.weights)"
   ]
  },
  {
   "cell_type": "code",
   "execution_count": null,
   "id": "76f3c937",
   "metadata": {},
   "outputs": [],
   "source": [
    "# np.savetxt(\"adam_weights_1lambda_pos_new_objf.txt\", design_variables.weights)"
   ]
  },
  {
   "cell_type": "code",
   "execution_count": null,
   "id": "f755f627",
   "metadata": {},
   "outputs": [],
   "source": [
    "# np.savetxt(\"adam_weights_2lambda_pos.txt\", design_variables.weights)"
   ]
  },
  {
   "cell_type": "code",
   "execution_count": null,
   "id": "5c68d585",
   "metadata": {},
   "outputs": [
    {
     "name": "stdout",
     "output_type": "stream",
     "text": [
      "Loaded array shape: (6171,)\n"
     ]
    }
   ],
   "source": [
    "# import numpy as np\n",
    "\n",
    "# data = np.loadtxt('adam_weights_1lambda_pos_new_objf.txt')\n",
    "\n",
    "# print(\"Loaded array shape:\", data.shape)\n",
    "\n",
    "# opt.update_design([data])\n",
    "# # data\n"
   ]
  },
  {
   "cell_type": "code",
   "execution_count": null,
   "id": "7db6cd71",
   "metadata": {},
   "outputs": [],
   "source": [
    "# data_init = np.loadtxt('init_design.txt')\n",
    "# data_best = np.loadtxt('best_design.txt')\n",
    "# data_last = np.loadtxt('last_design.txt')\n",
    "\n",
    "# # opt.update_design([data_init])\n",
    "# # opt.update_design([data_best])\n",
    "# opt.update_design([data_last])"
   ]
  },
  {
   "cell_type": "code",
   "execution_count": null,
   "id": "282acbcd",
   "metadata": {},
   "outputs": [],
   "source": [
    "# multi = design_variables.weights\n",
    "# opt.update_design([multi])"
   ]
  },
  {
   "cell_type": "code",
   "execution_count": 216,
   "id": "38c000b5",
   "metadata": {},
   "outputs": [
    {
     "name": "stderr",
     "output_type": "stream",
     "text": [
      "Warning: grid volume is not an integer number of pixels; cell size will be rounded to nearest pixel.\n"
     ]
    },
    {
     "data": {
      "text/plain": [
       "(-1.2, 1.2, 1.0154545454545456, 2.0154545454545456)"
      ]
     },
     "execution_count": 216,
     "metadata": {},
     "output_type": "execute_result"
    },
    {
     "data": {
      "image/png": "[encoded data removed]",
      "text/plain": [
       "<Figure size 640x480 with 1 Axes>"
      ]
     },
     "metadata": {},
     "output_type": "display_data"
    }
   ],
   "source": [
    "opt.plot2D(\n",
    "    True,\n",
    "    output_plane = mp.Volume(size = mp.Vector3(2.4, 1, 0), center = design_region.center),\n",
    "    \n",
    "    plot_sources_flag=False,\n",
    "    plot_monitors_flag=False,\n",
    "    plot_boundaries_flag=False,\n",
    ")\n",
    "plt.axis(False)"
   ]
  },
  {
   "cell_type": "code",
   "execution_count": 197,
   "id": "d70ef33e",
   "metadata": {},
   "outputs": [
    {
     "name": "stderr",
     "output_type": "stream",
     "text": [
      "Warning: grid volume is not an integer number of pixels; cell size will be rounded to nearest pixel.\n"
     ]
    },
    {
     "data": {
      "text/plain": [
       "<Axes: xlabel='X', ylabel='Y'>"
      ]
     },
     "execution_count": 197,
     "metadata": {},
     "output_type": "execute_result"
    },
    {
     "data": {
      "image/png": "[encoded data removed]",
      "text/plain": [
       "<Figure size 640x480 with 1 Axes>"
      ]
     },
     "metadata": {},
     "output_type": "display_data"
    }
   ],
   "source": [
    "offset = 0.01\n",
    "flux_size = 0.02\n",
    "mn_size = 2\n",
    "\n",
    "monitor_position_y, monitor_size = mp.Vector3(0, center_y_monitor_position+1/2), mp.Vector3(mn_size,0)\n",
    "\n",
    "#### input source의 flux ####\n",
    "input_flux = opt.sim.add_flux(\n",
    "        fcen, 0, 1,\n",
    "        mp.FluxRegion(\n",
    "            center=sources.center + mp.Vector3(0, 1/fcen, 0),\n",
    "                    size=mp.Vector3(width_sio2,0 ),\n",
    "                    ),\n",
    "    )\n",
    "\n",
    "#### output flux -> add flux로 계산한 poynting vector ####\n",
    "out_flux = opt.sim.add_flux(\n",
    "        fcen, 0, 1,\n",
    "        mp.FluxRegion(\n",
    "                center=monitor_position_y,\n",
    "                size=monitor_size,\n",
    "                # direction=mp.Y\n",
    "                # weight=-1\n",
    "        )\n",
    "    )\n",
    "\n",
    "#### output flux -> 성분별 field를 뽑고, poynting vector를 계산할 예정 ####\n",
    "dft_fields = opt.sim.add_dft_fields([mp.Ex, mp.Ey, mp.Ez, mp.Hx, mp.Hy, mp.Hz], fcen, 0, 1, \n",
    "                                    center = monitor_position_y,\n",
    "                                    size = monitor_size, \n",
    "                                    yee_grid=True)\n",
    "\n",
    "opt.sim.plot2D()\n"
   ]
  },
  {
   "cell_type": "code",
   "execution_count": 198,
   "id": "2f4506a8",
   "metadata": {},
   "outputs": [
    {
     "name": "stderr",
     "output_type": "stream",
     "text": [
      "Warning: grid volume is not an integer number of pixels; cell size will be rounded to nearest pixel.\n",
      "/home/min/miniconda3/envs/mp/lib/python3.9/site-packages/meep/visualization.py:284: UserWarning: The specified user volume is larger than the simulation domain and has been truncated.\n",
      "  warnings.warn(\n",
      "Warning: grid volume is not an integer number of pixels; cell size will be rounded to nearest pixel.\n"
     ]
    },
    {
     "data": {
      "image/png": "[encoded data removed]",
      "text/plain": [
       "<Figure size 640x480 with 1 Axes>"
      ]
     },
     "metadata": {},
     "output_type": "display_data"
    }
   ],
   "source": [
    "opt.sim.run(until_after_sources=mp.stop_when_fields_decayed(10/df, mp.Ez, sources.center, 1e-3))\n",
    "\n",
    "opt.sim.plot2D(\n",
    "    fields=mp.Ez,\n",
    "    output_plane=mp.Volume(\n",
    "    center = monitor_position_y,\n",
    "    size = mp.Vector3(3, 1)),\n",
    "    field_parameters={\n",
    "        'post_process': lambda x: np.abs(np.real(x))**2,  # 복소수 필드 x → intensity |x|^2\n",
    "        'cmap': 'magma',                         # 원하시는 colormap\n",
    "        'alpha': 1,                            # 투명도\n",
    "        'interpolation': 'none'\n",
    "    },\n",
    "    eps_parameters={'cmap':'magma','alpha':0.5}\n",
    ")\n",
    "plt.axis(False)\n",
    "plt.show()"
   ]
  },
  {
   "cell_type": "code",
   "execution_count": 199,
   "id": "670d18c1",
   "metadata": {},
   "outputs": [
    {
     "name": "stderr",
     "output_type": "stream",
     "text": [
      "Warning: grid volume is not an integer number of pixels; cell size will be rounded to nearest pixel.\n"
     ]
    },
    {
     "data": {
      "text/plain": [
       "<Axes: xlabel='X', ylabel='Y'>"
      ]
     },
     "execution_count": 199,
     "metadata": {},
     "output_type": "execute_result"
    },
    {
     "data": {
      "image/png": "[encoded data removed]",
      "text/plain": [
       "<Figure size 640x480 with 1 Axes>"
      ]
     },
     "metadata": {},
     "output_type": "display_data"
    }
   ],
   "source": [
    "opt.sim.plot2D(fields = mp.Ez,\n",
    "           field_parameters={\n",
    "        'cmap': 'magma',    # magma 컬러맵 지정\n",
    "        'alpha': 0.5,       # 필드 투명도 (0.0~1.0)\n",
    "        'interpolation': 'none'\n",
    "    }\n",
    ")"
   ]
  },
  {
   "cell_type": "code",
   "execution_count": 200,
   "id": "182285fa",
   "metadata": {},
   "outputs": [
    {
     "data": {
      "image/png": "[encoded data removed]",
      "text/plain": [
       "<Figure size 600x600 with 1 Axes>"
      ]
     },
     "metadata": {},
     "output_type": "display_data"
    }
   ],
   "source": [
    "external_field_array = (sim.get_dft_array(dft_fields, mp.Ez, 0))\n",
    "\n",
    "N = len(external_field_array)\n",
    "W = mn_size                           # μm 단위 모니터 폭\n",
    "x = np.linspace(-W/2, W/2, N)                     # μm 단위 위치\n",
    "z = abs(center_y_monitor_position - center_y_source_position)  # μm 단위 거리\n",
    "\n",
    "# 3) Intensity 계산\n",
    "I = np.abs(external_field_array)**2\n",
    "\n",
    "# 4) θ 축으로 플롯\n",
    "plt.figure(figsize=(6,6))\n",
    "plt.plot(x, I, 'bo-')\n",
    "\n",
    "\n",
    "plt.xlabel('Monitor position $x$ (µm)', fontsize=14)\n",
    "plt.ylabel('Intensity |E|²',       fontsize=14)\n",
    "# plt.ylabel('phase',       fontsize=14)\n",
    "plt.title(r'Monitor size: $2\\mu m$', fontsize=16)\n",
    "plt.tick_params(direction = 'in')\n",
    "plt.xticks(fontsize = 14)\n",
    "plt.yticks(fontsize = 14)\n",
    "plt.tight_layout()\n",
    "plt.show()"
   ]
  },
  {
   "cell_type": "code",
   "execution_count": 201,
   "id": "56114736",
   "metadata": {},
   "outputs": [
    {
     "data": {
      "image/png": "[encoded data removed]",
      "text/plain": [
       "<Figure size 800x400 with 2 Axes>"
      ]
     },
     "metadata": {},
     "output_type": "display_data"
    }
   ],
   "source": [
    "import numpy as np\n",
    "import matplotlib.pyplot as plt\n",
    "import meep as mp\n",
    "\n",
    "nx = int(design_region_resolution * design_region_width) + 1\n",
    "x_res = np.linspace(-design_region_width/2,\n",
    "                     design_region_width/2,\n",
    "                     nx)\n",
    "\n",
    "y_start = center_y_design + design_region_height/2\n",
    "y_end   = center_y_monitor_position + 1/fcen\n",
    "ny = int(design_region_resolution * (y_end - y_start)) + 1\n",
    "y_res = np.linspace(y_start, y_end, ny)\n",
    "\n",
    "vol = mp.Volume(\n",
    "    center=mp.Vector3(0, (y_start + y_end)/2, 0),\n",
    "    size=  mp.Vector3(design_region_width,\n",
    "                      y_end - y_start,\n",
    "                      0)\n",
    ")\n",
    "Ez_slice = opt.sim.get_array(mp.Ez, vol).T   # shape == (ny, nx)\n",
    "\n",
    "plt.figure(figsize=(8,4))\n",
    "plt.imshow(\n",
    "    np.abs(Ez_slice),      # (ny, nx)\n",
    "    origin='lower',\n",
    "    extent=[x_res.min(), x_res.max(), y_res.min(), y_res.max()],\n",
    "    aspect='equal',\n",
    "    cmap='jet'\n",
    ")\n",
    "\n",
    "cbar = plt.colorbar()\n",
    "cbar.set_label(r'$|E_z|$', fontsize=14)\n",
    "cbar.ax.tick_params(labelsize=14)\n",
    "\n",
    "# plt.xlabel('Monitor position $x$ (µm)', fontsize=14)\n",
    "# plt.ylabel('Height $y$ (µm)',           fontsize=14)\n",
    "# plt.title(r'Monitor size: $2\\ \\mu m$',   fontsize=16)\n",
    "\n",
    "# 틱 폰트 크기 및 방향 맞추기\n",
    "plt.tick_params(direction='in', labelsize=14)\n",
    "# plt.tight_layout()\n",
    "plt.axis('off')\n",
    "plt.show()"
   ]
  },
  {
   "cell_type": "code",
   "execution_count": 202,
   "id": "217cd63b",
   "metadata": {},
   "outputs": [
    {
     "name": "stdout",
     "output_type": "stream",
     "text": [
      "Input flux : 0.447849911237925\n",
      "Output flux : 0.3173413627147607\n",
      "EQE(%) : 70.85886471152381 %\n"
     ]
    }
   ],
   "source": [
    "eqe = mp.get_fluxes(out_flux)[0]/mp.get_fluxes(input_flux)[0]*100\n",
    "    \n",
    "print(\"Input flux :\", mp.get_fluxes(input_flux)[0])\n",
    "print(\"Output flux :\", mp.get_fluxes(out_flux)[0])\n",
    "print(\"EQE(%) :\", eqe,\"%\")"
   ]
  }
 ],
 "metadata": {
  "kernelspec": {
   "display_name": "mp",
   "language": "python",
   "name": "python3"
  },
  "language_info": {
   "codemirror_mode": {
    "name": "ipython",
    "version": 3
   },
   "file_extension": ".py",
   "mimetype": "text/x-python",
   "name": "python",
   "nbconvert_exporter": "python",
   "pygments_lexer": "ipython3",
   "version": "3.11.12"
  }
 },
 "nbformat": 4,
 "nbformat_minor": 5
}
