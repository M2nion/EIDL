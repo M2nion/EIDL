{
 "cells": [
  {
   "cell_type": "code",
   "execution_count": 1,
   "id": "7c0b5dbd",
   "metadata": {},
   "outputs": [],
   "source": [
    "import meep as mp\n",
    "import meep.adjoint as mpa\n",
    "import numpy as np\n",
    "from autograd import numpy as npa\n",
    "from autograd import tensor_jacobian_product, grad\n",
    "import nlopt\n",
    "from matplotlib import pyplot as plt\n",
    "from matplotlib.patches import Circle\n",
    "import math\n",
    "\n",
    "from meep.materials import Al "
   ]
  },
  {
   "cell_type": "code",
   "execution_count": 2,
   "id": "8b2dc107",
   "metadata": {},
   "outputs": [],
   "source": [
    "lambda_min = 0.4       # 최소 파장 (µm)\n",
    "lambda_max = 0.7       # 최대 파장 (µm)\n",
    "fmin = 1/lambda_max    # 최소 주파수\n",
    "fmax = 1/lambda_min    # 최대 주파수\n",
    "fcen = 0.5*(fmin+fmax) # 중앙 주파수\n",
    "df = fmax-fmin         # 주파수 대역폭\n",
    "\n",
    "resolution = 50        # 시뮬레이션 해상도\n",
    "nfreq = 1             # 추출할 주파수 개수\n",
    "design_region_resolution = 50"
   ]
  },
  {
   "cell_type": "code",
   "execution_count": null,
   "id": "1ed44543",
   "metadata": {},
   "outputs": [],
   "source": [
    "tal = 1\n",
    "talq3 = 0.5\n",
    "tsio2 = 2\n",
    "\n",
    "tair_near = 3.5\n",
    "tair_far = 6\n",
    "\n",
    "tpml = 0.5\n",
    "\n",
    "tmetal_boundary = 1\n",
    "\n",
    "\n",
    "design_region_width = 5       # OLED의 가로/세로 길이\n",
    "design_region_height = 1\n",
    "metal_boundary_height = tal+talq3+design_region_height+tsio2\n",
    "\n",
    "al = Al\n",
    "\n",
    "metal_boundary = mp.Medium(index=1.58)\n",
    "\n",
    "alq3 = mp.Medium(index = 1.68)\n",
    "sio2 = mp.Medium(index = 2.1)\n",
    "SiN = mp.Medium(index = 1.8)\n",
    "air = mp.Medium(index = 1)\n",
    "\n",
    "Nx = int(design_region_resolution * design_region_width) + 1\n",
    "Ny = int(design_region_resolution * design_region_height) + 1\n",
    "\n",
    "boundary_layers = [mp.PML(tpml,direction=mp.X),\n",
    "                   mp.PML(tpml,direction=mp.Y,side=mp.High)]\n",
    "\n"
   ]
  }
 ],
 "metadata": {
  "kernelspec": {
   "display_name": "mp",
   "language": "python",
   "name": "python3"
  },
  "language_info": {
   "codemirror_mode": {
    "name": "ipython",
    "version": 3
   },
   "file_extension": ".py",
   "mimetype": "text/x-python",
   "name": "python",
   "nbconvert_exporter": "python",
   "pygments_lexer": "ipython3",
   "version": "3.11.12"
  }
 },
 "nbformat": 4,
 "nbformat_minor": 5
}
