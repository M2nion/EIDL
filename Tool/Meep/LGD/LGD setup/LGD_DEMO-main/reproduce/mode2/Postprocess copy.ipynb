{
 "cells": [
  {
   "cell_type": "markdown",
   "id": "84fd4821",
   "metadata": {},
   "source": [
    "# OLED Optimization with FourierFields\n"
   ]
  },
  {
   "cell_type": "code",
   "execution_count": 1,
   "id": "5bfbab91",
   "metadata": {},
   "outputs": [],
   "source": [
    "import meep as mp\n",
    "import meep.adjoint as mpa\n",
    "import numpy as np\n",
    "from autograd import numpy as npa\n",
    "from autograd import tensor_jacobian_product, grad\n",
    "import nlopt\n",
    "from matplotlib import pyplot as plt\n",
    "from matplotlib.patches import Circle\n",
    "\n",
    "from meep.materials import Ag as Ag\n",
    "\n",
    "mp.verbosity(0)\n",
    "\n",
    "SiO2 = mp.Medium(epsilon=2.13)    # 글래스의 굴절률 설정\n",
    "GaN = mp.Medium(epsilon=6.18)   # OLED 유기층의 굴절률 설정\n",
    "Al2O3 = mp.Medium(epsilon=3.17)    # 실리콘 질화물의 굴절률 설정\n",
    "Air = mp.Medium(epsilon=1.0)    # 공기의 굴절률 설정"
   ]
  },
  {
   "cell_type": "markdown",
   "id": "b377f3a8",
   "metadata": {},
   "source": [
    "Basic setup"
   ]
  },
  {
   "cell_type": "code",
   "execution_count": 2,
   "id": "04999d54",
   "metadata": {},
   "outputs": [],
   "source": [
    "lambda_min = 0.4       # 최소 파장 (µm)\n",
    "lambda_max = 0.8       # 최대 파장 (µm)\n",
    "fmin = 1/lambda_max    # 최소 주파수\n",
    "fmax = 1/lambda_min    # 최대 주파수\n",
    "fcen = 1/(0.45) # 중앙 주파수\n",
    "df = fmax-fmin         # 주파수 대역폭\n",
    "\n",
    "resolution = 50        # 시뮬레이션 해상도\n",
    "nfreq = 25             # 추출할 주파수 개수\n",
    "design_region_resolution = 50                                                             \n",
    "\n",
    "tSiO2 = 0.07    # passivation layer 두께\n",
    "tAL = 1    # oxide side 두께\n",
    "tAg = 0.07    # 은 층 두께\n",
    "tGaN = 1   # GaN 층 두께\n",
    "tPML = 0.1    # PML 두께\n",
    "MtoPML = 0.1\n",
    "MtoD = 0.5\n",
    "\n",
    "L = 1.0       # OLED의 가로/세로 길이\n",
    "\n",
    "design_region_width = L + 2*tSiO2\n",
    "design_region_height = 0.1\n",
    "\n",
    "Sy = tPML + MtoPML + MtoD + design_region_height + tGaN + tAg   # Z 방향 전체 길이\n",
    "Sx = L + 2*tSiO2 + + 2*tAL + 2*tPML                        # X/Y 방향 길이\n",
    "cell_size = mp.Vector3(Sx, Sy)    # 시뮬레이션 셀 크기\n",
    "\n",
    "boundary_layers = [mp.Absorber(0.1,direction=mp.X),\n",
    "                   mp.PML(0.1,direction=mp.Y,side=mp.High)]\n",
    "\n",
    "Nx = int(design_region_resolution * design_region_width) + 1\n",
    "Ny = int(design_region_resolution * design_region_height) + 1\n",
    "structure_weights = np.loadtxt(f'lastdesign.txt')\n",
    "design_variables = mp.MaterialGrid(mp.Vector3(Nx, Ny), Air, SiO2, grid_type=\"U_MEAN\")\n",
    "design_variables.update_weights(structure_weights)\n",
    "design_region = mpa.DesignRegion(\n",
    "    design_variables,\n",
    "    volume=mp.Volume(\n",
    "        center=mp.Vector3(y=0.5*Sy - tPML - MtoPML - MtoD - 0.5*design_region_height),\n",
    "        size=mp.Vector3(design_region_width, design_region_height, 0),\n",
    "    ),\n",
    ")\n",
    "\n",
    "geometry = [\n",
    "    mp.Block(material=design_variables,      # 디자인 영역\n",
    "             size=design_region.size,\n",
    "             center=design_region.center),\n",
    "    \n",
    "    mp.Block(material=GaN,      # GaN 층\n",
    "             size=mp.Vector3(L, tGaN),\n",
    "             center=mp.Vector3(y=0.5*Sy - tPML - MtoPML - MtoD - design_region_height - 0.5*tGaN)),\n",
    "    \n",
    "    mp.Block(material=Ag,                       # 은 층\n",
    "             size=mp.Vector3(L, tAg),\n",
    "             center=mp.Vector3(y=0.5*Sy - tPML - MtoPML - MtoD - design_region_height - tGaN - 0.5*tAg)),\n",
    "    \n",
    "    mp.Block(material=SiO2,                       # 글래스 층\n",
    "             size=mp.Vector3(tSiO2, tGaN + tAg),\n",
    "             center=mp.Vector3(x=0.5*Sx - tPML - tAL - 0.5*tSiO2, y=0.5*Sy - tPML - MtoPML - MtoD - design_region_height - 0.5*(tGaN + tAg) )),\n",
    "\n",
    "    mp.Block(material=SiO2,                       # 글래스 층\n",
    "             size=mp.Vector3(tSiO2, tGaN + tAg),\n",
    "             center=mp.Vector3(x=-0.5*Sx + tPML + tAL + 0.5*tSiO2, y=0.5*Sy - tPML - MtoPML - MtoD - design_region_height - 0.5*(tGaN + tAg))),\n",
    "    \n",
    "    mp.Block(material=Al2O3,                       # 알루미늄 층\n",
    "             size=mp.Vector3(tPML + tAL, tGaN + tAg),\n",
    "             center=mp.Vector3(x=-0.5*Sx + 0.5*(tPML + tAL), y=0.5*Sy - tPML - MtoPML - MtoD - design_region_height - 0.5*(tGaN + tAg))),\n",
    "\n",
    "    mp.Block(material=Al2O3,                       # 알루미늄 층\n",
    "             size=mp.Vector3(tPML + tAL, tGaN + tAg),\n",
    "             center=mp.Vector3(x=0.5*Sx - 0.5*(tPML + tAL), y=0.5*Sy - tPML - MtoPML - MtoD - design_region_height - 0.5*(tGaN + tAg))),\n",
    "]\n",
    "\n",
    "src = mp.GaussianSource(frequency=fcen, fwidth=df, is_integrated=True)\n",
    "\n",
    "sources = []\n",
    "src_num = 49\n",
    "\n",
    "for i in range(src_num):  # x 방향 루프\n",
    "        sources.append(\n",
    "            mp.Source(\n",
    "                src,\n",
    "                component=mp.Ez,\n",
    "                center=mp.Vector3(\n",
    "                    x = -L/2 + (L)*((i+1)/(src_num+1)),  \n",
    "                    y = 0.5*Sy - tPML - MtoPML - MtoD - design_region_height - tGaN + 0.5*tAg,\n",
    "                    z = 0\n",
    "                )\n",
    "            )\n",
    "        )\n",
    "\n",
    "sim = []\n",
    "\n",
    "for i in range(src_num):\n",
    "    sim.append(\n",
    "        mp.Simulation(resolution=resolution,\n",
    "                      cell_size=cell_size,\n",
    "                      boundary_layers=boundary_layers,\n",
    "                      geometry=geometry,\n",
    "                      sources=[sources[i]],\n",
    "                      extra_materials=[Ag],)\n",
    "    )\n",
    "                    "
   ]
  },
  {
   "cell_type": "code",
   "execution_count": 3,
   "id": "6569b867",
   "metadata": {},
   "outputs": [
    {
     "name": "stderr",
     "output_type": "stream",
     "text": [
      "Warning: grid volume is not an integer number of pixels; cell size will be rounded to nearest pixel.\n"
     ]
    },
    {
     "data": {
      "text/plain": [
       "<Axes: xlabel='X', ylabel='Y'>"
      ]
     },
     "execution_count": 3,
     "metadata": {},
     "output_type": "execute_result"
    },
    {
     "data": {
      "image/png": "[encoded data removed]",
      "text/plain": [
       "<Figure size 640x480 with 1 Axes>"
      ]
     },
     "metadata": {},
     "output_type": "display_data"
    }
   ],
   "source": [
    "sim[0].plot2D()"
   ]
  },
  {
   "cell_type": "code",
   "execution_count": 4,
   "id": "9a1ee45d",
   "metadata": {},
   "outputs": [],
   "source": [
    "monitor_position, monitor_size = mp.Vector3(0,0.5*Sy - tPML - MtoPML), mp.Vector3(Sx - 2*tPML,0)\n",
    "\n",
    "FourierFields_Ez = []\n",
    "FourierFields_Hx = []\n",
    "for i in range(src_num):\n",
    "    FourierFields_Ez.append(mpa.FourierFields(sim[i],mp.Volume(center=monitor_position,size=monitor_size),mp.Ez,yee_grid=True))\n",
    "    FourierFields_Hx.append(mpa.FourierFields(sim[i],mp.Volume(center=monitor_position,size=monitor_size),mp.Hx,yee_grid=True))\n",
    "ob_list_Ez = []\n",
    "ob_list_Hx = []\n",
    "for i in range(src_num):\n",
    "    ob_list_Ez.append(FourierFields_Ez[i])\n",
    "    ob_list_Hx.append(FourierFields_Hx[i])\n",
    "\n",
    "def J(fields_Ez, fields_Hx):\n",
    "    return npa.real(npa.sum(fields_Ez[:,:]*(npa.real(fields_Hx[:,:])-npa.imag(fields_Hx[:,:])*1j)))\n",
    "\n",
    "opt = []\n",
    "for i in range(src_num):\n",
    "    opt.append(mpa.OptimizationProblem(\n",
    "        simulation=sim[i],\n",
    "        objective_functions=[J],\n",
    "        objective_arguments=[ob_list_Ez[i], ob_list_Hx[i]],\n",
    "        design_regions=[design_region],\n",
    "        frequencies=[fcen],\n",
    "        maximum_run_time=100,\n",
    "    ))"
   ]
  },
  {
   "cell_type": "code",
   "execution_count": 5,
   "id": "7c7d74b3",
   "metadata": {},
   "outputs": [
    {
     "name": "stderr",
     "output_type": "stream",
     "text": [
      "Warning: grid volume is not an integer number of pixels; cell size will be rounded to nearest pixel.\n"
     ]
    },
    {
     "data": {
      "image/png": "[encoded data removed]",
      "text/plain": [
       "<Figure size 640x480 with 1 Axes>"
      ]
     },
     "metadata": {},
     "output_type": "display_data"
    }
   ],
   "source": [
    "opt[0].plot2D(True)"
   ]
  },
  {
   "cell_type": "code",
   "execution_count": 6,
   "id": "fc2727d6",
   "metadata": {},
   "outputs": [],
   "source": [
    "minimum_length = 0.02  # minimum length scale (microns)\n",
    "eta_i = 0.5  # blueprint (or intermediate) design field thresholding point (between 0 and 1)\n",
    "eta_e = 0.55  # erosion design field thresholding point (between 0 and 1)\n",
    "eta_d = 1 - eta_e  # dilation design field thresholding point (between 0 and 1)\n",
    "filter_radius = mpa.get_conic_radius_from_eta_e(minimum_length, eta_e)"
   ]
  },
  {
   "cell_type": "code",
   "execution_count": 7,
   "id": "af463be9",
   "metadata": {},
   "outputs": [],
   "source": [
    "def mapping(x, eta, beta):\n",
    "\n",
    "    # # filter\n",
    "    # filtered_field = mpa.conic_filter(\n",
    "    #     x,\n",
    "    #     filter_radius,\n",
    "    #     design_region_width,\n",
    "    #     design_region_height,\n",
    "    #     design_region_resolution,\n",
    "    # )\n",
    "\n",
    "    # # projection\n",
    "    # projected_field = mpa.tanh_projection(filtered_field, beta, eta)\n",
    "\n",
    "    # interpolate to actual materials\n",
    "    return x"
   ]
  },
  {
   "cell_type": "code",
   "execution_count": 8,
   "id": "c9674cc4",
   "metadata": {},
   "outputs": [
    {
     "name": "stderr",
     "output_type": "stream",
     "text": [
      "Warning: grid volume is not an integer number of pixels; cell size will be rounded to nearest pixel.\n"
     ]
    },
    {
     "data": {
      "application/vnd.jupyter.widget-view+json": {
       "model_id": "1630ea3aaf02466681c2fd4531f3c906",
       "version_major": 2,
       "version_minor": 0
      },
      "text/plain": [
       "FloatProgress(value=0.0, description='0% done ')"
      ]
     },
     "metadata": {},
     "output_type": "display_data"
    },
    {
     "name": "stderr",
     "output_type": "stream",
     "text": [
      "Warning: grid volume is not an integer number of pixels; cell size will be rounded to nearest pixel.\n"
     ]
    },
    {
     "data": {
      "application/vnd.jupyter.widget-view+json": {
       "model_id": "59ceaae9fd3f4973aaaeb14922529221",
       "version_major": 2,
       "version_minor": 0
      },
      "text/plain": [
       "FloatProgress(value=0.0, description='0% done ')"
      ]
     },
     "metadata": {},
     "output_type": "display_data"
    },
    {
     "name": "stderr",
     "output_type": "stream",
     "text": [
      "Warning: grid volume is not an integer number of pixels; cell size will be rounded to nearest pixel.\n"
     ]
    },
    {
     "data": {
      "application/vnd.jupyter.widget-view+json": {
       "model_id": "4f9ccac7ed4e47b28608bc3f72398de0",
       "version_major": 2,
       "version_minor": 0
      },
      "text/plain": [
       "FloatProgress(value=0.0, description='0% done ')"
      ]
     },
     "metadata": {},
     "output_type": "display_data"
    },
    {
     "name": "stderr",
     "output_type": "stream",
     "text": [
      "Warning: grid volume is not an integer number of pixels; cell size will be rounded to nearest pixel.\n"
     ]
    },
    {
     "data": {
      "application/vnd.jupyter.widget-view+json": {
       "model_id": "fc1de8812b2e49b4b353eba9549f93eb",
       "version_major": 2,
       "version_minor": 0
      },
      "text/plain": [
       "FloatProgress(value=0.0, description='0% done ')"
      ]
     },
     "metadata": {},
     "output_type": "display_data"
    },
    {
     "name": "stderr",
     "output_type": "stream",
     "text": [
      "Warning: grid volume is not an integer number of pixels; cell size will be rounded to nearest pixel.\n"
     ]
    },
    {
     "data": {
      "application/vnd.jupyter.widget-view+json": {
       "model_id": "71782463355041fd8a1783dbe75dacd9",
       "version_major": 2,
       "version_minor": 0
      },
      "text/plain": [
       "FloatProgress(value=0.0, description='0% done ')"
      ]
     },
     "metadata": {},
     "output_type": "display_data"
    },
    {
     "name": "stderr",
     "output_type": "stream",
     "text": [
      "Warning: grid volume is not an integer number of pixels; cell size will be rounded to nearest pixel.\n"
     ]
    },
    {
     "data": {
      "application/vnd.jupyter.widget-view+json": {
       "model_id": "887c6d0955964304a2d84387801824ed",
       "version_major": 2,
       "version_minor": 0
      },
      "text/plain": [
       "FloatProgress(value=0.0, description='0% done ')"
      ]
     },
     "metadata": {},
     "output_type": "display_data"
    },
    {
     "name": "stderr",
     "output_type": "stream",
     "text": [
      "Warning: grid volume is not an integer number of pixels; cell size will be rounded to nearest pixel.\n"
     ]
    },
    {
     "data": {
      "application/vnd.jupyter.widget-view+json": {
       "model_id": "d66fd60da2b84d43972b739bf75f29a8",
       "version_major": 2,
       "version_minor": 0
      },
      "text/plain": [
       "FloatProgress(value=0.0, description='0% done ')"
      ]
     },
     "metadata": {},
     "output_type": "display_data"
    },
    {
     "name": "stderr",
     "output_type": "stream",
     "text": [
      "Warning: grid volume is not an integer number of pixels; cell size will be rounded to nearest pixel.\n"
     ]
    },
    {
     "data": {
      "application/vnd.jupyter.widget-view+json": {
       "model_id": "77bccead41834b7f9e423945d66dcb14",
       "version_major": 2,
       "version_minor": 0
      },
      "text/plain": [
       "FloatProgress(value=0.0, description='0% done ')"
      ]
     },
     "metadata": {},
     "output_type": "display_data"
    },
    {
     "name": "stderr",
     "output_type": "stream",
     "text": [
      "Warning: grid volume is not an integer number of pixels; cell size will be rounded to nearest pixel.\n"
     ]
    },
    {
     "data": {
      "application/vnd.jupyter.widget-view+json": {
       "model_id": "e54fced8b8e044819a964b0417902d9d",
       "version_major": 2,
       "version_minor": 0
      },
      "text/plain": [
       "FloatProgress(value=0.0, description='0% done ')"
      ]
     },
     "metadata": {},
     "output_type": "display_data"
    },
    {
     "name": "stderr",
     "output_type": "stream",
     "text": [
      "Warning: grid volume is not an integer number of pixels; cell size will be rounded to nearest pixel.\n"
     ]
    },
    {
     "data": {
      "application/vnd.jupyter.widget-view+json": {
       "model_id": "75685680aa9c4eb7bacd4d5ec1b621c5",
       "version_major": 2,
       "version_minor": 0
      },
      "text/plain": [
       "FloatProgress(value=0.0, description='0% done ')"
      ]
     },
     "metadata": {},
     "output_type": "display_data"
    },
    {
     "name": "stderr",
     "output_type": "stream",
     "text": [
      "Warning: grid volume is not an integer number of pixels; cell size will be rounded to nearest pixel.\n"
     ]
    },
    {
     "data": {
      "application/vnd.jupyter.widget-view+json": {
       "model_id": "75ce30e5bc01487f99a1c6e8076fd08b",
       "version_major": 2,
       "version_minor": 0
      },
      "text/plain": [
       "FloatProgress(value=0.0, description='0% done ')"
      ]
     },
     "metadata": {},
     "output_type": "display_data"
    },
    {
     "name": "stderr",
     "output_type": "stream",
     "text": [
      "Warning: grid volume is not an integer number of pixels; cell size will be rounded to nearest pixel.\n"
     ]
    },
    {
     "data": {
      "application/vnd.jupyter.widget-view+json": {
       "model_id": "b4ba651e22da4d3696e43f15ae9227b5",
       "version_major": 2,
       "version_minor": 0
      },
      "text/plain": [
       "FloatProgress(value=0.0, description='0% done ')"
      ]
     },
     "metadata": {},
     "output_type": "display_data"
    },
    {
     "name": "stderr",
     "output_type": "stream",
     "text": [
      "Warning: grid volume is not an integer number of pixels; cell size will be rounded to nearest pixel.\n"
     ]
    },
    {
     "data": {
      "application/vnd.jupyter.widget-view+json": {
       "model_id": "97b7f9f11efa4649826141dfc362413d",
       "version_major": 2,
       "version_minor": 0
      },
      "text/plain": [
       "FloatProgress(value=0.0, description='0% done ')"
      ]
     },
     "metadata": {},
     "output_type": "display_data"
    },
    {
     "name": "stderr",
     "output_type": "stream",
     "text": [
      "Warning: grid volume is not an integer number of pixels; cell size will be rounded to nearest pixel.\n"
     ]
    },
    {
     "data": {
      "application/vnd.jupyter.widget-view+json": {
       "model_id": "f0239da741064702a29ce0b2d15af7c1",
       "version_major": 2,
       "version_minor": 0
      },
      "text/plain": [
       "FloatProgress(value=0.0, description='0% done ')"
      ]
     },
     "metadata": {},
     "output_type": "display_data"
    },
    {
     "name": "stderr",
     "output_type": "stream",
     "text": [
      "Warning: grid volume is not an integer number of pixels; cell size will be rounded to nearest pixel.\n"
     ]
    },
    {
     "data": {
      "application/vnd.jupyter.widget-view+json": {
       "model_id": "1bc59358d2ef433894d8496a4df8bc2c",
       "version_major": 2,
       "version_minor": 0
      },
      "text/plain": [
       "FloatProgress(value=0.0, description='0% done ')"
      ]
     },
     "metadata": {},
     "output_type": "display_data"
    },
    {
     "name": "stderr",
     "output_type": "stream",
     "text": [
      "Warning: grid volume is not an integer number of pixels; cell size will be rounded to nearest pixel.\n"
     ]
    },
    {
     "data": {
      "application/vnd.jupyter.widget-view+json": {
       "model_id": "a7c61385ce09448da57b05cea432f78b",
       "version_major": 2,
       "version_minor": 0
      },
      "text/plain": [
       "FloatProgress(value=0.0, description='0% done ')"
      ]
     },
     "metadata": {},
     "output_type": "display_data"
    },
    {
     "name": "stderr",
     "output_type": "stream",
     "text": [
      "Warning: grid volume is not an integer number of pixels; cell size will be rounded to nearest pixel.\n"
     ]
    },
    {
     "data": {
      "application/vnd.jupyter.widget-view+json": {
       "model_id": "6072afce9aa34872bcea5faa77dada30",
       "version_major": 2,
       "version_minor": 0
      },
      "text/plain": [
       "FloatProgress(value=0.0, description='0% done ')"
      ]
     },
     "metadata": {},
     "output_type": "display_data"
    },
    {
     "name": "stderr",
     "output_type": "stream",
     "text": [
      "Warning: grid volume is not an integer number of pixels; cell size will be rounded to nearest pixel.\n"
     ]
    },
    {
     "data": {
      "application/vnd.jupyter.widget-view+json": {
       "model_id": "4eee00fba2dd4fa38045e256c6ccaa5a",
       "version_major": 2,
       "version_minor": 0
      },
      "text/plain": [
       "FloatProgress(value=0.0, description='0% done ')"
      ]
     },
     "metadata": {},
     "output_type": "display_data"
    },
    {
     "name": "stderr",
     "output_type": "stream",
     "text": [
      "Warning: grid volume is not an integer number of pixels; cell size will be rounded to nearest pixel.\n"
     ]
    },
    {
     "data": {
      "application/vnd.jupyter.widget-view+json": {
       "model_id": "9d60490d6e4e4ab8abc286db39a51d31",
       "version_major": 2,
       "version_minor": 0
      },
      "text/plain": [
       "FloatProgress(value=0.0, description='0% done ')"
      ]
     },
     "metadata": {},
     "output_type": "display_data"
    },
    {
     "name": "stderr",
     "output_type": "stream",
     "text": [
      "Warning: grid volume is not an integer number of pixels; cell size will be rounded to nearest pixel.\n"
     ]
    },
    {
     "data": {
      "application/vnd.jupyter.widget-view+json": {
       "model_id": "ad27c1be75f542f28cdf9e45ba093509",
       "version_major": 2,
       "version_minor": 0
      },
      "text/plain": [
       "FloatProgress(value=0.0, description='0% done ')"
      ]
     },
     "metadata": {},
     "output_type": "display_data"
    },
    {
     "name": "stderr",
     "output_type": "stream",
     "text": [
      "Warning: grid volume is not an integer number of pixels; cell size will be rounded to nearest pixel.\n"
     ]
    },
    {
     "data": {
      "application/vnd.jupyter.widget-view+json": {
       "model_id": "0d2086dd7b804b6aa777e306127205b8",
       "version_major": 2,
       "version_minor": 0
      },
      "text/plain": [
       "FloatProgress(value=0.0, description='0% done ')"
      ]
     },
     "metadata": {},
     "output_type": "display_data"
    },
    {
     "name": "stderr",
     "output_type": "stream",
     "text": [
      "Warning: grid volume is not an integer number of pixels; cell size will be rounded to nearest pixel.\n"
     ]
    },
    {
     "data": {
      "application/vnd.jupyter.widget-view+json": {
       "model_id": "fac1deb34f6b4f19b9d00509e4ee4177",
       "version_major": 2,
       "version_minor": 0
      },
      "text/plain": [
       "FloatProgress(value=0.0, description='0% done ')"
      ]
     },
     "metadata": {},
     "output_type": "display_data"
    },
    {
     "name": "stderr",
     "output_type": "stream",
     "text": [
      "Warning: grid volume is not an integer number of pixels; cell size will be rounded to nearest pixel.\n"
     ]
    },
    {
     "data": {
      "application/vnd.jupyter.widget-view+json": {
       "model_id": "ba19cde0008d4f689a6c8412f147ed91",
       "version_major": 2,
       "version_minor": 0
      },
      "text/plain": [
       "FloatProgress(value=0.0, description='0% done ')"
      ]
     },
     "metadata": {},
     "output_type": "display_data"
    },
    {
     "name": "stderr",
     "output_type": "stream",
     "text": [
      "Warning: grid volume is not an integer number of pixels; cell size will be rounded to nearest pixel.\n"
     ]
    },
    {
     "data": {
      "application/vnd.jupyter.widget-view+json": {
       "model_id": "6b639636421147609904bbf07f91d6f3",
       "version_major": 2,
       "version_minor": 0
      },
      "text/plain": [
       "FloatProgress(value=0.0, description='0% done ')"
      ]
     },
     "metadata": {},
     "output_type": "display_data"
    },
    {
     "name": "stderr",
     "output_type": "stream",
     "text": [
      "Warning: grid volume is not an integer number of pixels; cell size will be rounded to nearest pixel.\n"
     ]
    },
    {
     "data": {
      "application/vnd.jupyter.widget-view+json": {
       "model_id": "e23a0a7c67d644b1b3caca0f09fd0dca",
       "version_major": 2,
       "version_minor": 0
      },
      "text/plain": [
       "FloatProgress(value=0.0, description='0% done ')"
      ]
     },
     "metadata": {},
     "output_type": "display_data"
    },
    {
     "name": "stderr",
     "output_type": "stream",
     "text": [
      "Warning: grid volume is not an integer number of pixels; cell size will be rounded to nearest pixel.\n"
     ]
    },
    {
     "data": {
      "application/vnd.jupyter.widget-view+json": {
       "model_id": "4a56e6e34d63416cb6245017dbdefed3",
       "version_major": 2,
       "version_minor": 0
      },
      "text/plain": [
       "FloatProgress(value=0.0, description='0% done ')"
      ]
     },
     "metadata": {},
     "output_type": "display_data"
    },
    {
     "name": "stderr",
     "output_type": "stream",
     "text": [
      "Warning: grid volume is not an integer number of pixels; cell size will be rounded to nearest pixel.\n"
     ]
    },
    {
     "data": {
      "application/vnd.jupyter.widget-view+json": {
       "model_id": "df1a8195e9a14ef89a129e28b545d614",
       "version_major": 2,
       "version_minor": 0
      },
      "text/plain": [
       "FloatProgress(value=0.0, description='0% done ')"
      ]
     },
     "metadata": {},
     "output_type": "display_data"
    },
    {
     "name": "stderr",
     "output_type": "stream",
     "text": [
      "Warning: grid volume is not an integer number of pixels; cell size will be rounded to nearest pixel.\n"
     ]
    },
    {
     "data": {
      "application/vnd.jupyter.widget-view+json": {
       "model_id": "51a66f147dd24a669e16526d93bece5a",
       "version_major": 2,
       "version_minor": 0
      },
      "text/plain": [
       "FloatProgress(value=0.0, description='0% done ')"
      ]
     },
     "metadata": {},
     "output_type": "display_data"
    },
    {
     "name": "stderr",
     "output_type": "stream",
     "text": [
      "Warning: grid volume is not an integer number of pixels; cell size will be rounded to nearest pixel.\n"
     ]
    },
    {
     "data": {
      "application/vnd.jupyter.widget-view+json": {
       "model_id": "afe70617ad2048e99d4ac58683b97f74",
       "version_major": 2,
       "version_minor": 0
      },
      "text/plain": [
       "FloatProgress(value=0.0, description='0% done ')"
      ]
     },
     "metadata": {},
     "output_type": "display_data"
    },
    {
     "name": "stderr",
     "output_type": "stream",
     "text": [
      "Warning: grid volume is not an integer number of pixels; cell size will be rounded to nearest pixel.\n"
     ]
    },
    {
     "data": {
      "application/vnd.jupyter.widget-view+json": {
       "model_id": "650f21df705a40328004d7ff262d6a12",
       "version_major": 2,
       "version_minor": 0
      },
      "text/plain": [
       "FloatProgress(value=0.0, description='0% done ')"
      ]
     },
     "metadata": {},
     "output_type": "display_data"
    },
    {
     "name": "stderr",
     "output_type": "stream",
     "text": [
      "Warning: grid volume is not an integer number of pixels; cell size will be rounded to nearest pixel.\n"
     ]
    },
    {
     "data": {
      "application/vnd.jupyter.widget-view+json": {
       "model_id": "5d13014295bb40a4beae9b18d6feca14",
       "version_major": 2,
       "version_minor": 0
      },
      "text/plain": [
       "FloatProgress(value=0.0, description='0% done ')"
      ]
     },
     "metadata": {},
     "output_type": "display_data"
    },
    {
     "name": "stderr",
     "output_type": "stream",
     "text": [
      "Warning: grid volume is not an integer number of pixels; cell size will be rounded to nearest pixel.\n"
     ]
    },
    {
     "data": {
      "application/vnd.jupyter.widget-view+json": {
       "model_id": "9a78fd73091748e38525e950f02738c3",
       "version_major": 2,
       "version_minor": 0
      },
      "text/plain": [
       "FloatProgress(value=0.0, description='0% done ')"
      ]
     },
     "metadata": {},
     "output_type": "display_data"
    },
    {
     "name": "stderr",
     "output_type": "stream",
     "text": [
      "Warning: grid volume is not an integer number of pixels; cell size will be rounded to nearest pixel.\n"
     ]
    },
    {
     "data": {
      "application/vnd.jupyter.widget-view+json": {
       "model_id": "c3db97e7f7804dcfa0a4885de5e13a73",
       "version_major": 2,
       "version_minor": 0
      },
      "text/plain": [
       "FloatProgress(value=0.0, description='0% done ')"
      ]
     },
     "metadata": {},
     "output_type": "display_data"
    },
    {
     "name": "stderr",
     "output_type": "stream",
     "text": [
      "Warning: grid volume is not an integer number of pixels; cell size will be rounded to nearest pixel.\n"
     ]
    },
    {
     "data": {
      "application/vnd.jupyter.widget-view+json": {
       "model_id": "9bc9239025e142d18a3a7166c190b72b",
       "version_major": 2,
       "version_minor": 0
      },
      "text/plain": [
       "FloatProgress(value=0.0, description='0% done ')"
      ]
     },
     "metadata": {},
     "output_type": "display_data"
    },
    {
     "name": "stderr",
     "output_type": "stream",
     "text": [
      "Warning: grid volume is not an integer number of pixels; cell size will be rounded to nearest pixel.\n"
     ]
    },
    {
     "data": {
      "application/vnd.jupyter.widget-view+json": {
       "model_id": "05dd582bdf0e42b8aa2f2758572c7d98",
       "version_major": 2,
       "version_minor": 0
      },
      "text/plain": [
       "FloatProgress(value=0.0, description='0% done ')"
      ]
     },
     "metadata": {},
     "output_type": "display_data"
    },
    {
     "name": "stderr",
     "output_type": "stream",
     "text": [
      "Warning: grid volume is not an integer number of pixels; cell size will be rounded to nearest pixel.\n"
     ]
    },
    {
     "data": {
      "application/vnd.jupyter.widget-view+json": {
       "model_id": "aa8781b0d0944353b063515b756df95d",
       "version_major": 2,
       "version_minor": 0
      },
      "text/plain": [
       "FloatProgress(value=0.0, description='0% done ')"
      ]
     },
     "metadata": {},
     "output_type": "display_data"
    },
    {
     "name": "stderr",
     "output_type": "stream",
     "text": [
      "Warning: grid volume is not an integer number of pixels; cell size will be rounded to nearest pixel.\n"
     ]
    },
    {
     "data": {
      "application/vnd.jupyter.widget-view+json": {
       "model_id": "d800443353654538b6f8e21f176caef2",
       "version_major": 2,
       "version_minor": 0
      },
      "text/plain": [
       "FloatProgress(value=0.0, description='0% done ')"
      ]
     },
     "metadata": {},
     "output_type": "display_data"
    },
    {
     "name": "stderr",
     "output_type": "stream",
     "text": [
      "Warning: grid volume is not an integer number of pixels; cell size will be rounded to nearest pixel.\n"
     ]
    },
    {
     "data": {
      "application/vnd.jupyter.widget-view+json": {
       "model_id": "d6a574ae8a5940fdbba1b7fd6dd3ea95",
       "version_major": 2,
       "version_minor": 0
      },
      "text/plain": [
       "FloatProgress(value=0.0, description='0% done ')"
      ]
     },
     "metadata": {},
     "output_type": "display_data"
    },
    {
     "name": "stderr",
     "output_type": "stream",
     "text": [
      "Warning: grid volume is not an integer number of pixels; cell size will be rounded to nearest pixel.\n"
     ]
    },
    {
     "data": {
      "application/vnd.jupyter.widget-view+json": {
       "model_id": "6b97a6ce392e46b4b023d96f4918b253",
       "version_major": 2,
       "version_minor": 0
      },
      "text/plain": [
       "FloatProgress(value=0.0, description='0% done ')"
      ]
     },
     "metadata": {},
     "output_type": "display_data"
    },
    {
     "name": "stderr",
     "output_type": "stream",
     "text": [
      "Warning: grid volume is not an integer number of pixels; cell size will be rounded to nearest pixel.\n"
     ]
    },
    {
     "data": {
      "application/vnd.jupyter.widget-view+json": {
       "model_id": "1ad5a93553cc40499b5a9de62d1398bf",
       "version_major": 2,
       "version_minor": 0
      },
      "text/plain": [
       "FloatProgress(value=0.0, description='0% done ')"
      ]
     },
     "metadata": {},
     "output_type": "display_data"
    },
    {
     "name": "stderr",
     "output_type": "stream",
     "text": [
      "Warning: grid volume is not an integer number of pixels; cell size will be rounded to nearest pixel.\n"
     ]
    },
    {
     "data": {
      "application/vnd.jupyter.widget-view+json": {
       "model_id": "a7deafb56643413f8908d018599a70ba",
       "version_major": 2,
       "version_minor": 0
      },
      "text/plain": [
       "FloatProgress(value=0.0, description='0% done ')"
      ]
     },
     "metadata": {},
     "output_type": "display_data"
    },
    {
     "name": "stderr",
     "output_type": "stream",
     "text": [
      "Warning: grid volume is not an integer number of pixels; cell size will be rounded to nearest pixel.\n"
     ]
    },
    {
     "data": {
      "application/vnd.jupyter.widget-view+json": {
       "model_id": "d143699fc04c42b7a88604562fae9a44",
       "version_major": 2,
       "version_minor": 0
      },
      "text/plain": [
       "FloatProgress(value=0.0, description='0% done ')"
      ]
     },
     "metadata": {},
     "output_type": "display_data"
    },
    {
     "name": "stderr",
     "output_type": "stream",
     "text": [
      "Warning: grid volume is not an integer number of pixels; cell size will be rounded to nearest pixel.\n"
     ]
    },
    {
     "data": {
      "application/vnd.jupyter.widget-view+json": {
       "model_id": "4f9df3b529384132b2c843f9ce1c7bbc",
       "version_major": 2,
       "version_minor": 0
      },
      "text/plain": [
       "FloatProgress(value=0.0, description='0% done ')"
      ]
     },
     "metadata": {},
     "output_type": "display_data"
    },
    {
     "name": "stderr",
     "output_type": "stream",
     "text": [
      "Warning: grid volume is not an integer number of pixels; cell size will be rounded to nearest pixel.\n"
     ]
    },
    {
     "data": {
      "application/vnd.jupyter.widget-view+json": {
       "model_id": "4e6c26c8ad3340ba8175a858180d45b3",
       "version_major": 2,
       "version_minor": 0
      },
      "text/plain": [
       "FloatProgress(value=0.0, description='0% done ')"
      ]
     },
     "metadata": {},
     "output_type": "display_data"
    },
    {
     "name": "stderr",
     "output_type": "stream",
     "text": [
      "Warning: grid volume is not an integer number of pixels; cell size will be rounded to nearest pixel.\n"
     ]
    },
    {
     "data": {
      "application/vnd.jupyter.widget-view+json": {
       "model_id": "500a654f950b42dc99bb6f9d7a4038fd",
       "version_major": 2,
       "version_minor": 0
      },
      "text/plain": [
       "FloatProgress(value=0.0, description='0% done ')"
      ]
     },
     "metadata": {},
     "output_type": "display_data"
    },
    {
     "name": "stderr",
     "output_type": "stream",
     "text": [
      "Warning: grid volume is not an integer number of pixels; cell size will be rounded to nearest pixel.\n"
     ]
    },
    {
     "data": {
      "application/vnd.jupyter.widget-view+json": {
       "model_id": "12ee15bc16f441f3aa3f1fce238b5fb0",
       "version_major": 2,
       "version_minor": 0
      },
      "text/plain": [
       "FloatProgress(value=0.0, description='0% done ')"
      ]
     },
     "metadata": {},
     "output_type": "display_data"
    },
    {
     "name": "stderr",
     "output_type": "stream",
     "text": [
      "Warning: grid volume is not an integer number of pixels; cell size will be rounded to nearest pixel.\n"
     ]
    },
    {
     "data": {
      "application/vnd.jupyter.widget-view+json": {
       "model_id": "759a301e4bba491a9db3a67456146ce0",
       "version_major": 2,
       "version_minor": 0
      },
      "text/plain": [
       "FloatProgress(value=0.0, description='0% done ')"
      ]
     },
     "metadata": {},
     "output_type": "display_data"
    },
    {
     "name": "stderr",
     "output_type": "stream",
     "text": [
      "Warning: grid volume is not an integer number of pixels; cell size will be rounded to nearest pixel.\n"
     ]
    },
    {
     "data": {
      "application/vnd.jupyter.widget-view+json": {
       "model_id": "f27b3c8f711a4be4af3deae3f0d80777",
       "version_major": 2,
       "version_minor": 0
      },
      "text/plain": [
       "FloatProgress(value=0.0, description='0% done ')"
      ]
     },
     "metadata": {},
     "output_type": "display_data"
    },
    {
     "name": "stderr",
     "output_type": "stream",
     "text": [
      "Warning: grid volume is not an integer number of pixels; cell size will be rounded to nearest pixel.\n"
     ]
    },
    {
     "data": {
      "application/vnd.jupyter.widget-view+json": {
       "model_id": "9b6ce328ca8540f2adba8f433ee1257c",
       "version_major": 2,
       "version_minor": 0
      },
      "text/plain": [
       "FloatProgress(value=0.0, description='0% done ')"
      ]
     },
     "metadata": {},
     "output_type": "display_data"
    }
   ],
   "source": [
    "import os\n",
    "\n",
    "# 저장 폴더 생성\n",
    "output_dir = \"mode_number\"\n",
    "os.makedirs(output_dir, exist_ok=True)\n",
    "\n",
    "src = mp.ContinuousSource(frequency=fcen, fwidth=df, is_integrated=True)\n",
    "source = []\n",
    "\n",
    "for i in range(src_num):  # x 방향 루프\n",
    "        source.append(\n",
    "            mp.Source(\n",
    "                src,\n",
    "                component=mp.Ez,\n",
    "                center=mp.Vector3(\n",
    "                    x = -L/2 + (L)*((i+1)/(src_num+1)),  \n",
    "                    y = 0.5*Sy - tPML - MtoPML - MtoD - design_region_height - tGaN + 0.5*tAg,\n",
    "                    z = 0\n",
    "                )\n",
    "            )\n",
    "        )\n",
    "ppopt = []\n",
    "Ez_r0 = [0]*src_num\n",
    "Ez_r1 = [0]*src_num\n",
    "for i in range(src_num):\n",
    "    ppopt.append(\n",
    "        mp.Simulation(resolution=resolution,\n",
    "                      cell_size=cell_size,\n",
    "                      boundary_layers=boundary_layers,\n",
    "                      geometry=geometry,\n",
    "                      sources=[source[i]],\n",
    "                      extra_materials=[Ag],)\n",
    "    )\n",
    "\n",
    "    ppopt[i].reset_meep()\n",
    "\n",
    "    ppopt[i].sim = mp.Simulation(resolution=resolution,\n",
    "                        cell_size=cell_size,\n",
    "                        boundary_layers=boundary_layers,\n",
    "                        geometry=geometry,\n",
    "                        sources=[sources[i]],\n",
    "                        extra_materials=[Ag],)\n",
    "    \n",
    "    dft_fields_r0=ppopt[i].sim.add_dft_fields([mp.Ez],fcen,0,1,\n",
    "                                    center=mp.Vector3(0,0.5*Sy - tPML - MtoPML,0),\n",
    "                                    size=mp.Vector3(Sx - 2*tPML,0,0),yee_grid=True)\n",
    "    dft_fields_r1=ppopt[i].sim.add_dft_fields([mp.Ez],fcen,0,1,\n",
    "                                    center=mp.Vector3(0,0,0),\n",
    "                                    size=mp.Vector3(Sx,Sy,0),yee_grid=True)\n",
    "\n",
    "    ppopt[i].sim.run(until=100.0)\n",
    "\n",
    "    Ez_r0[i]=ppopt[i].sim.get_dft_array(dft_fields_r0,mp.Ez,0)\n",
    "    Ez_r1[i]=ppopt[i].sim.get_dft_array(dft_fields_r1,mp.Ez,0)\n",
    "\n",
    "    Ez_comp=Ez_r0[i][:]\n",
    "\n",
    "    m0ez_fft=npa.fft.fftshift(npa.fft.fft(Ez_comp))/(design_region_width*resolution+1)\n",
    "    kx = npa.fft.fftshift(np.fft.fftfreq(len(Ez_comp), 1 / resolution))\n",
    "\n",
    "    plt.plot(kx,np.abs(m0ez_fft),\"-ro\")\n",
    "    plt.xlabel(r\"Wavevector $k_x$ (2$\\pi^{-1}$)\")\n",
    "    plt.grid()\n",
    "    plt.xlim([-3,3])\n",
    "\n",
    "    plt.savefig(os.path.join(output_dir, f\"mode_number_{i}.png\"))\n",
    "    plt.cla()\n",
    "    plt.clf()\n",
    "    plt.close()\n",
    "\n",
    "    plt.savefig(os.path.join(output_dir, f\"mode_number_{i}.png\"))\n",
    "    plt.cla()\n",
    "    plt.clf()\n",
    "    plt.close()\n",
    "\n",
    "    x = np.linspace(-0.5 * Sx + tPML, 0.5 * Sx - tPML, int((Sx- 2*tPML)*resolution+2))\n",
    "    theta_out = np.arcsin(2 * np.sin(0))  # Snell's Law\n",
    "    lambda0 = 0.55\n",
    "    kx_air = (2 * np.pi / lambda0) * np.sin(theta_out)\n",
    "    Ez_comp = Ez_r0[i][:] * np.exp(-1j * kx_air * x)\n",
    "    Ez_fft = npa.fft.fftshift(npa.fft.fft(Ez_comp)) / len(Ez_comp)\n",
    "    kx_axis = npa.fft.fftshift(np.fft.fftfreq(len(Ez_comp), d=1/resolution))\n",
    "    kx_rad = 2 * np.pi * kx_axis  # [rad/μm]\n",
    "    sin_theta = kx_rad * lambda0 / (2 * np.pi)  # = sin(θ)\n",
    "    plt.plot(sin_theta, np.abs(Ez_fft), 'r-o')\n",
    "    plt.xlabel(\"sin(theta) (air)\")\n",
    "\n",
    "    plt.savefig(os.path.join(output_dir, f\"angle_{i}.png\"))\n",
    "    plt.cla()\n",
    "    plt.clf()\n",
    "    plt.close()"
   ]
  },
  {
   "cell_type": "code",
   "execution_count": 9,
   "id": "b09844b7",
   "metadata": {},
   "outputs": [],
   "source": [
    "geometryo = [\n",
    "    mp.Block(material=GaN,      # GaN 층\n",
    "             size=mp.Vector3(L, tGaN),\n",
    "             center=mp.Vector3(y=0.5*Sy - tPML - MtoPML - MtoD - design_region_height - 0.5*tGaN)),\n",
    "    \n",
    "    mp.Block(material=Ag,                       # 은 층\n",
    "             size=mp.Vector3(L, tAg),\n",
    "             center=mp.Vector3(y=0.5*Sy - tPML - MtoPML - MtoD - design_region_height - tGaN - 0.5*tAg)),\n",
    "    \n",
    "    mp.Block(material=SiO2,                       # 글래스 층\n",
    "             size=mp.Vector3(tSiO2, tGaN + tAg),\n",
    "             center=mp.Vector3(x=0.5*Sx - tPML - tAL - 0.5*tSiO2, y=0.5*Sy - tPML - MtoPML - MtoD - design_region_height - 0.5*(tGaN + tAg) )),\n",
    "\n",
    "    mp.Block(material=SiO2,                       # 글래스 층\n",
    "             size=mp.Vector3(tSiO2, tGaN + tAg),\n",
    "             center=mp.Vector3(x=-0.5*Sx + tPML + tAL + 0.5*tSiO2, y=0.5*Sy - tPML - MtoPML - MtoD - design_region_height - 0.5*(tGaN + tAg))),\n",
    "    \n",
    "    mp.Block(material=Al2O3,                       # 알루미늄 층\n",
    "             size=mp.Vector3(tPML + tAL, tGaN + tAg),\n",
    "             center=mp.Vector3(x=-0.5*Sx + 0.5*(tPML + tAL), y=0.5*Sy - tPML - MtoPML - MtoD - design_region_height - 0.5*(tGaN + tAg))),\n",
    "\n",
    "    mp.Block(material=Al2O3,                       # 알루미늄 층\n",
    "             size=mp.Vector3(tPML + tAL, tGaN + tAg),\n",
    "             center=mp.Vector3(x=0.5*Sx - 0.5*(tPML + tAL), y=0.5*Sy - tPML - MtoPML - MtoD - design_region_height - 0.5*(tGaN + tAg))),\n",
    "]"
   ]
  },
  {
   "cell_type": "code",
   "execution_count": 10,
   "id": "2cf797a6",
   "metadata": {},
   "outputs": [
    {
     "name": "stderr",
     "output_type": "stream",
     "text": [
      "Warning: grid volume is not an integer number of pixels; cell size will be rounded to nearest pixel.\n"
     ]
    },
    {
     "data": {
      "application/vnd.jupyter.widget-view+json": {
       "model_id": "56156043ccb343e2b438c3ae64597267",
       "version_major": 2,
       "version_minor": 0
      },
      "text/plain": [
       "FloatProgress(value=0.0, description='0% done ')"
      ]
     },
     "metadata": {},
     "output_type": "display_data"
    },
    {
     "name": "stderr",
     "output_type": "stream",
     "text": [
      "Warning: grid volume is not an integer number of pixels; cell size will be rounded to nearest pixel.\n"
     ]
    },
    {
     "data": {
      "application/vnd.jupyter.widget-view+json": {
       "model_id": "1e4833c7b3094ad9941e3a62f33790d0",
       "version_major": 2,
       "version_minor": 0
      },
      "text/plain": [
       "FloatProgress(value=0.0, description='0% done ')"
      ]
     },
     "metadata": {},
     "output_type": "display_data"
    },
    {
     "name": "stderr",
     "output_type": "stream",
     "text": [
      "Warning: grid volume is not an integer number of pixels; cell size will be rounded to nearest pixel.\n"
     ]
    },
    {
     "data": {
      "application/vnd.jupyter.widget-view+json": {
       "model_id": "d0d3b359335b43f6b2074d0a25aa0e35",
       "version_major": 2,
       "version_minor": 0
      },
      "text/plain": [
       "FloatProgress(value=0.0, description='0% done ')"
      ]
     },
     "metadata": {},
     "output_type": "display_data"
    },
    {
     "name": "stderr",
     "output_type": "stream",
     "text": [
      "Warning: grid volume is not an integer number of pixels; cell size will be rounded to nearest pixel.\n"
     ]
    },
    {
     "data": {
      "application/vnd.jupyter.widget-view+json": {
       "model_id": "fc2c1585c12e4d119b435598dabed0cc",
       "version_major": 2,
       "version_minor": 0
      },
      "text/plain": [
       "FloatProgress(value=0.0, description='0% done ')"
      ]
     },
     "metadata": {},
     "output_type": "display_data"
    },
    {
     "name": "stderr",
     "output_type": "stream",
     "text": [
      "Warning: grid volume is not an integer number of pixels; cell size will be rounded to nearest pixel.\n"
     ]
    },
    {
     "data": {
      "application/vnd.jupyter.widget-view+json": {
       "model_id": "3bbebeb2b02b4138b5cc30249f908a00",
       "version_major": 2,
       "version_minor": 0
      },
      "text/plain": [
       "FloatProgress(value=0.0, description='0% done ')"
      ]
     },
     "metadata": {},
     "output_type": "display_data"
    },
    {
     "name": "stderr",
     "output_type": "stream",
     "text": [
      "Warning: grid volume is not an integer number of pixels; cell size will be rounded to nearest pixel.\n"
     ]
    },
    {
     "data": {
      "application/vnd.jupyter.widget-view+json": {
       "model_id": "95c46daeadc44b04b27d5f0f8314f350",
       "version_major": 2,
       "version_minor": 0
      },
      "text/plain": [
       "FloatProgress(value=0.0, description='0% done ')"
      ]
     },
     "metadata": {},
     "output_type": "display_data"
    },
    {
     "name": "stderr",
     "output_type": "stream",
     "text": [
      "Warning: grid volume is not an integer number of pixels; cell size will be rounded to nearest pixel.\n"
     ]
    },
    {
     "data": {
      "application/vnd.jupyter.widget-view+json": {
       "model_id": "669886a14cdf43259c98d76c5800d604",
       "version_major": 2,
       "version_minor": 0
      },
      "text/plain": [
       "FloatProgress(value=0.0, description='0% done ')"
      ]
     },
     "metadata": {},
     "output_type": "display_data"
    },
    {
     "name": "stderr",
     "output_type": "stream",
     "text": [
      "Warning: grid volume is not an integer number of pixels; cell size will be rounded to nearest pixel.\n"
     ]
    },
    {
     "data": {
      "application/vnd.jupyter.widget-view+json": {
       "model_id": "b4f92ac39f274687a9bbfa2723c60b57",
       "version_major": 2,
       "version_minor": 0
      },
      "text/plain": [
       "FloatProgress(value=0.0, description='0% done ')"
      ]
     },
     "metadata": {},
     "output_type": "display_data"
    },
    {
     "name": "stderr",
     "output_type": "stream",
     "text": [
      "Warning: grid volume is not an integer number of pixels; cell size will be rounded to nearest pixel.\n"
     ]
    },
    {
     "data": {
      "application/vnd.jupyter.widget-view+json": {
       "model_id": "a1c8ee213126460586e68be0793f32c0",
       "version_major": 2,
       "version_minor": 0
      },
      "text/plain": [
       "FloatProgress(value=0.0, description='0% done ')"
      ]
     },
     "metadata": {},
     "output_type": "display_data"
    },
    {
     "name": "stderr",
     "output_type": "stream",
     "text": [
      "Warning: grid volume is not an integer number of pixels; cell size will be rounded to nearest pixel.\n"
     ]
    },
    {
     "data": {
      "application/vnd.jupyter.widget-view+json": {
       "model_id": "b1bdf467f3e54b08b7b71aad3c18f477",
       "version_major": 2,
       "version_minor": 0
      },
      "text/plain": [
       "FloatProgress(value=0.0, description='0% done ')"
      ]
     },
     "metadata": {},
     "output_type": "display_data"
    },
    {
     "name": "stderr",
     "output_type": "stream",
     "text": [
      "Warning: grid volume is not an integer number of pixels; cell size will be rounded to nearest pixel.\n"
     ]
    },
    {
     "data": {
      "application/vnd.jupyter.widget-view+json": {
       "model_id": "6edd5291379748ff9e42b49c868ef517",
       "version_major": 2,
       "version_minor": 0
      },
      "text/plain": [
       "FloatProgress(value=0.0, description='0% done ')"
      ]
     },
     "metadata": {},
     "output_type": "display_data"
    },
    {
     "name": "stderr",
     "output_type": "stream",
     "text": [
      "Warning: grid volume is not an integer number of pixels; cell size will be rounded to nearest pixel.\n"
     ]
    },
    {
     "data": {
      "application/vnd.jupyter.widget-view+json": {
       "model_id": "bca4759303bf4b54a389f93b9c121751",
       "version_major": 2,
       "version_minor": 0
      },
      "text/plain": [
       "FloatProgress(value=0.0, description='0% done ')"
      ]
     },
     "metadata": {},
     "output_type": "display_data"
    },
    {
     "name": "stderr",
     "output_type": "stream",
     "text": [
      "Warning: grid volume is not an integer number of pixels; cell size will be rounded to nearest pixel.\n"
     ]
    },
    {
     "data": {
      "application/vnd.jupyter.widget-view+json": {
       "model_id": "2e5af000231e4582bb4e6e7cd7469183",
       "version_major": 2,
       "version_minor": 0
      },
      "text/plain": [
       "FloatProgress(value=0.0, description='0% done ')"
      ]
     },
     "metadata": {},
     "output_type": "display_data"
    },
    {
     "name": "stderr",
     "output_type": "stream",
     "text": [
      "Warning: grid volume is not an integer number of pixels; cell size will be rounded to nearest pixel.\n"
     ]
    },
    {
     "data": {
      "application/vnd.jupyter.widget-view+json": {
       "model_id": "fd52988f02d146638587ec0a844c6984",
       "version_major": 2,
       "version_minor": 0
      },
      "text/plain": [
       "FloatProgress(value=0.0, description='0% done ')"
      ]
     },
     "metadata": {},
     "output_type": "display_data"
    },
    {
     "name": "stderr",
     "output_type": "stream",
     "text": [
      "Warning: grid volume is not an integer number of pixels; cell size will be rounded to nearest pixel.\n"
     ]
    },
    {
     "data": {
      "application/vnd.jupyter.widget-view+json": {
       "model_id": "b95081b2c53b4b5ba714e06eea3bdc50",
       "version_major": 2,
       "version_minor": 0
      },
      "text/plain": [
       "FloatProgress(value=0.0, description='0% done ')"
      ]
     },
     "metadata": {},
     "output_type": "display_data"
    },
    {
     "name": "stderr",
     "output_type": "stream",
     "text": [
      "Warning: grid volume is not an integer number of pixels; cell size will be rounded to nearest pixel.\n"
     ]
    },
    {
     "data": {
      "application/vnd.jupyter.widget-view+json": {
       "model_id": "ddc712f4deac4ced9196ce518230c094",
       "version_major": 2,
       "version_minor": 0
      },
      "text/plain": [
       "FloatProgress(value=0.0, description='0% done ')"
      ]
     },
     "metadata": {},
     "output_type": "display_data"
    },
    {
     "name": "stderr",
     "output_type": "stream",
     "text": [
      "Warning: grid volume is not an integer number of pixels; cell size will be rounded to nearest pixel.\n"
     ]
    },
    {
     "data": {
      "application/vnd.jupyter.widget-view+json": {
       "model_id": "6d94ac83892f41ca8a03c579a0aca47e",
       "version_major": 2,
       "version_minor": 0
      },
      "text/plain": [
       "FloatProgress(value=0.0, description='0% done ')"
      ]
     },
     "metadata": {},
     "output_type": "display_data"
    },
    {
     "name": "stderr",
     "output_type": "stream",
     "text": [
      "Warning: grid volume is not an integer number of pixels; cell size will be rounded to nearest pixel.\n"
     ]
    },
    {
     "data": {
      "application/vnd.jupyter.widget-view+json": {
       "model_id": "049a8647222243b39981b714a4020f8d",
       "version_major": 2,
       "version_minor": 0
      },
      "text/plain": [
       "FloatProgress(value=0.0, description='0% done ')"
      ]
     },
     "metadata": {},
     "output_type": "display_data"
    },
    {
     "name": "stderr",
     "output_type": "stream",
     "text": [
      "Warning: grid volume is not an integer number of pixels; cell size will be rounded to nearest pixel.\n"
     ]
    },
    {
     "data": {
      "application/vnd.jupyter.widget-view+json": {
       "model_id": "4ba0fefdc37b457dab6048b6fe5b843f",
       "version_major": 2,
       "version_minor": 0
      },
      "text/plain": [
       "FloatProgress(value=0.0, description='0% done ')"
      ]
     },
     "metadata": {},
     "output_type": "display_data"
    },
    {
     "name": "stderr",
     "output_type": "stream",
     "text": [
      "Warning: grid volume is not an integer number of pixels; cell size will be rounded to nearest pixel.\n"
     ]
    },
    {
     "data": {
      "application/vnd.jupyter.widget-view+json": {
       "model_id": "8ef4401f0d2e4c0d90834de41e2414a2",
       "version_major": 2,
       "version_minor": 0
      },
      "text/plain": [
       "FloatProgress(value=0.0, description='0% done ')"
      ]
     },
     "metadata": {},
     "output_type": "display_data"
    },
    {
     "name": "stderr",
     "output_type": "stream",
     "text": [
      "Warning: grid volume is not an integer number of pixels; cell size will be rounded to nearest pixel.\n"
     ]
    },
    {
     "data": {
      "application/vnd.jupyter.widget-view+json": {
       "model_id": "8cab22d565804529bbf5fc8b946182c8",
       "version_major": 2,
       "version_minor": 0
      },
      "text/plain": [
       "FloatProgress(value=0.0, description='0% done ')"
      ]
     },
     "metadata": {},
     "output_type": "display_data"
    },
    {
     "name": "stderr",
     "output_type": "stream",
     "text": [
      "Warning: grid volume is not an integer number of pixels; cell size will be rounded to nearest pixel.\n"
     ]
    },
    {
     "data": {
      "application/vnd.jupyter.widget-view+json": {
       "model_id": "2dfba4eb18914cf5bfdf6710b69e48cb",
       "version_major": 2,
       "version_minor": 0
      },
      "text/plain": [
       "FloatProgress(value=0.0, description='0% done ')"
      ]
     },
     "metadata": {},
     "output_type": "display_data"
    },
    {
     "name": "stderr",
     "output_type": "stream",
     "text": [
      "Warning: grid volume is not an integer number of pixels; cell size will be rounded to nearest pixel.\n"
     ]
    },
    {
     "data": {
      "application/vnd.jupyter.widget-view+json": {
       "model_id": "c24aa51a4676471f817b33d2dc63455d",
       "version_major": 2,
       "version_minor": 0
      },
      "text/plain": [
       "FloatProgress(value=0.0, description='0% done ')"
      ]
     },
     "metadata": {},
     "output_type": "display_data"
    },
    {
     "name": "stderr",
     "output_type": "stream",
     "text": [
      "Warning: grid volume is not an integer number of pixels; cell size will be rounded to nearest pixel.\n"
     ]
    },
    {
     "data": {
      "application/vnd.jupyter.widget-view+json": {
       "model_id": "9b64a5353deb4062a83fe5780b658f9f",
       "version_major": 2,
       "version_minor": 0
      },
      "text/plain": [
       "FloatProgress(value=0.0, description='0% done ')"
      ]
     },
     "metadata": {},
     "output_type": "display_data"
    },
    {
     "name": "stderr",
     "output_type": "stream",
     "text": [
      "Warning: grid volume is not an integer number of pixels; cell size will be rounded to nearest pixel.\n"
     ]
    },
    {
     "data": {
      "application/vnd.jupyter.widget-view+json": {
       "model_id": "2ece434669f140bbb8f26dd2f1da5a19",
       "version_major": 2,
       "version_minor": 0
      },
      "text/plain": [
       "FloatProgress(value=0.0, description='0% done ')"
      ]
     },
     "metadata": {},
     "output_type": "display_data"
    },
    {
     "name": "stderr",
     "output_type": "stream",
     "text": [
      "Warning: grid volume is not an integer number of pixels; cell size will be rounded to nearest pixel.\n"
     ]
    },
    {
     "data": {
      "application/vnd.jupyter.widget-view+json": {
       "model_id": "3bf033378c894249910ac567f01e31f3",
       "version_major": 2,
       "version_minor": 0
      },
      "text/plain": [
       "FloatProgress(value=0.0, description='0% done ')"
      ]
     },
     "metadata": {},
     "output_type": "display_data"
    },
    {
     "name": "stderr",
     "output_type": "stream",
     "text": [
      "Warning: grid volume is not an integer number of pixels; cell size will be rounded to nearest pixel.\n"
     ]
    },
    {
     "data": {
      "application/vnd.jupyter.widget-view+json": {
       "model_id": "e4fca5ba247441078ea7056c87ea3b82",
       "version_major": 2,
       "version_minor": 0
      },
      "text/plain": [
       "FloatProgress(value=0.0, description='0% done ')"
      ]
     },
     "metadata": {},
     "output_type": "display_data"
    },
    {
     "name": "stderr",
     "output_type": "stream",
     "text": [
      "Warning: grid volume is not an integer number of pixels; cell size will be rounded to nearest pixel.\n"
     ]
    },
    {
     "data": {
      "application/vnd.jupyter.widget-view+json": {
       "model_id": "a78bbe79f5fc40849795dbba4ebfb992",
       "version_major": 2,
       "version_minor": 0
      },
      "text/plain": [
       "FloatProgress(value=0.0, description='0% done ')"
      ]
     },
     "metadata": {},
     "output_type": "display_data"
    },
    {
     "name": "stderr",
     "output_type": "stream",
     "text": [
      "Warning: grid volume is not an integer number of pixels; cell size will be rounded to nearest pixel.\n"
     ]
    },
    {
     "data": {
      "application/vnd.jupyter.widget-view+json": {
       "model_id": "880ad085a35e485cae39fdaf7f4c9718",
       "version_major": 2,
       "version_minor": 0
      },
      "text/plain": [
       "FloatProgress(value=0.0, description='0% done ')"
      ]
     },
     "metadata": {},
     "output_type": "display_data"
    },
    {
     "name": "stderr",
     "output_type": "stream",
     "text": [
      "Warning: grid volume is not an integer number of pixels; cell size will be rounded to nearest pixel.\n"
     ]
    },
    {
     "data": {
      "application/vnd.jupyter.widget-view+json": {
       "model_id": "fa8bfc36ba2547789874a34b175964aa",
       "version_major": 2,
       "version_minor": 0
      },
      "text/plain": [
       "FloatProgress(value=0.0, description='0% done ')"
      ]
     },
     "metadata": {},
     "output_type": "display_data"
    },
    {
     "name": "stderr",
     "output_type": "stream",
     "text": [
      "Warning: grid volume is not an integer number of pixels; cell size will be rounded to nearest pixel.\n"
     ]
    },
    {
     "data": {
      "application/vnd.jupyter.widget-view+json": {
       "model_id": "b65daf3eda1147968d19dcd0dfebd1c1",
       "version_major": 2,
       "version_minor": 0
      },
      "text/plain": [
       "FloatProgress(value=0.0, description='0% done ')"
      ]
     },
     "metadata": {},
     "output_type": "display_data"
    },
    {
     "name": "stderr",
     "output_type": "stream",
     "text": [
      "Warning: grid volume is not an integer number of pixels; cell size will be rounded to nearest pixel.\n"
     ]
    },
    {
     "data": {
      "application/vnd.jupyter.widget-view+json": {
       "model_id": "991873ebb0a54b54b3ec257244328d06",
       "version_major": 2,
       "version_minor": 0
      },
      "text/plain": [
       "FloatProgress(value=0.0, description='0% done ')"
      ]
     },
     "metadata": {},
     "output_type": "display_data"
    },
    {
     "name": "stderr",
     "output_type": "stream",
     "text": [
      "Warning: grid volume is not an integer number of pixels; cell size will be rounded to nearest pixel.\n"
     ]
    },
    {
     "data": {
      "application/vnd.jupyter.widget-view+json": {
       "model_id": "94acf7adc8db4e049cc4950c67e664b0",
       "version_major": 2,
       "version_minor": 0
      },
      "text/plain": [
       "FloatProgress(value=0.0, description='0% done ')"
      ]
     },
     "metadata": {},
     "output_type": "display_data"
    },
    {
     "name": "stderr",
     "output_type": "stream",
     "text": [
      "Warning: grid volume is not an integer number of pixels; cell size will be rounded to nearest pixel.\n"
     ]
    },
    {
     "data": {
      "application/vnd.jupyter.widget-view+json": {
       "model_id": "95a3f0fb3081438b8891da2c4a37275d",
       "version_major": 2,
       "version_minor": 0
      },
      "text/plain": [
       "FloatProgress(value=0.0, description='0% done ')"
      ]
     },
     "metadata": {},
     "output_type": "display_data"
    },
    {
     "name": "stderr",
     "output_type": "stream",
     "text": [
      "Warning: grid volume is not an integer number of pixels; cell size will be rounded to nearest pixel.\n"
     ]
    },
    {
     "data": {
      "application/vnd.jupyter.widget-view+json": {
       "model_id": "e9a589c210dd42dc9c612e7f7fe310cc",
       "version_major": 2,
       "version_minor": 0
      },
      "text/plain": [
       "FloatProgress(value=0.0, description='0% done ')"
      ]
     },
     "metadata": {},
     "output_type": "display_data"
    },
    {
     "name": "stderr",
     "output_type": "stream",
     "text": [
      "Warning: grid volume is not an integer number of pixels; cell size will be rounded to nearest pixel.\n"
     ]
    },
    {
     "data": {
      "application/vnd.jupyter.widget-view+json": {
       "model_id": "fc4e739a284e4dd097d1ef595f9633d5",
       "version_major": 2,
       "version_minor": 0
      },
      "text/plain": [
       "FloatProgress(value=0.0, description='0% done ')"
      ]
     },
     "metadata": {},
     "output_type": "display_data"
    },
    {
     "name": "stderr",
     "output_type": "stream",
     "text": [
      "Warning: grid volume is not an integer number of pixels; cell size will be rounded to nearest pixel.\n"
     ]
    },
    {
     "data": {
      "application/vnd.jupyter.widget-view+json": {
       "model_id": "3b78831ba7d54e928f4ca231182e9148",
       "version_major": 2,
       "version_minor": 0
      },
      "text/plain": [
       "FloatProgress(value=0.0, description='0% done ')"
      ]
     },
     "metadata": {},
     "output_type": "display_data"
    },
    {
     "name": "stderr",
     "output_type": "stream",
     "text": [
      "Warning: grid volume is not an integer number of pixels; cell size will be rounded to nearest pixel.\n"
     ]
    },
    {
     "data": {
      "application/vnd.jupyter.widget-view+json": {
       "model_id": "fc743a51d349499cba6064096d9d08e2",
       "version_major": 2,
       "version_minor": 0
      },
      "text/plain": [
       "FloatProgress(value=0.0, description='0% done ')"
      ]
     },
     "metadata": {},
     "output_type": "display_data"
    },
    {
     "name": "stderr",
     "output_type": "stream",
     "text": [
      "Warning: grid volume is not an integer number of pixels; cell size will be rounded to nearest pixel.\n"
     ]
    },
    {
     "data": {
      "application/vnd.jupyter.widget-view+json": {
       "model_id": "1e86c9b654a1428b97b8cfd9f4515e8a",
       "version_major": 2,
       "version_minor": 0
      },
      "text/plain": [
       "FloatProgress(value=0.0, description='0% done ')"
      ]
     },
     "metadata": {},
     "output_type": "display_data"
    },
    {
     "name": "stderr",
     "output_type": "stream",
     "text": [
      "Warning: grid volume is not an integer number of pixels; cell size will be rounded to nearest pixel.\n"
     ]
    },
    {
     "data": {
      "application/vnd.jupyter.widget-view+json": {
       "model_id": "3bbbc4080cf04fefb4f5779430016f10",
       "version_major": 2,
       "version_minor": 0
      },
      "text/plain": [
       "FloatProgress(value=0.0, description='0% done ')"
      ]
     },
     "metadata": {},
     "output_type": "display_data"
    },
    {
     "name": "stderr",
     "output_type": "stream",
     "text": [
      "Warning: grid volume is not an integer number of pixels; cell size will be rounded to nearest pixel.\n"
     ]
    },
    {
     "data": {
      "application/vnd.jupyter.widget-view+json": {
       "model_id": "e6c5db3916c14fc5b730194e050a61bb",
       "version_major": 2,
       "version_minor": 0
      },
      "text/plain": [
       "FloatProgress(value=0.0, description='0% done ')"
      ]
     },
     "metadata": {},
     "output_type": "display_data"
    },
    {
     "name": "stderr",
     "output_type": "stream",
     "text": [
      "Warning: grid volume is not an integer number of pixels; cell size will be rounded to nearest pixel.\n"
     ]
    },
    {
     "data": {
      "application/vnd.jupyter.widget-view+json": {
       "model_id": "5ec0d8e69d6b486eb5a08f7c62e7c5c5",
       "version_major": 2,
       "version_minor": 0
      },
      "text/plain": [
       "FloatProgress(value=0.0, description='0% done ')"
      ]
     },
     "metadata": {},
     "output_type": "display_data"
    },
    {
     "name": "stderr",
     "output_type": "stream",
     "text": [
      "Warning: grid volume is not an integer number of pixels; cell size will be rounded to nearest pixel.\n"
     ]
    },
    {
     "data": {
      "application/vnd.jupyter.widget-view+json": {
       "model_id": "bd7a201230314c66bb57ef682a1f00ce",
       "version_major": 2,
       "version_minor": 0
      },
      "text/plain": [
       "FloatProgress(value=0.0, description='0% done ')"
      ]
     },
     "metadata": {},
     "output_type": "display_data"
    },
    {
     "name": "stderr",
     "output_type": "stream",
     "text": [
      "Warning: grid volume is not an integer number of pixels; cell size will be rounded to nearest pixel.\n"
     ]
    },
    {
     "data": {
      "application/vnd.jupyter.widget-view+json": {
       "model_id": "320c581d9273480f88dbe5e4316f7489",
       "version_major": 2,
       "version_minor": 0
      },
      "text/plain": [
       "FloatProgress(value=0.0, description='0% done ')"
      ]
     },
     "metadata": {},
     "output_type": "display_data"
    },
    {
     "name": "stderr",
     "output_type": "stream",
     "text": [
      "Warning: grid volume is not an integer number of pixels; cell size will be rounded to nearest pixel.\n"
     ]
    },
    {
     "data": {
      "application/vnd.jupyter.widget-view+json": {
       "model_id": "47e149f04418402a8a7be257402a81d0",
       "version_major": 2,
       "version_minor": 0
      },
      "text/plain": [
       "FloatProgress(value=0.0, description='0% done ')"
      ]
     },
     "metadata": {},
     "output_type": "display_data"
    },
    {
     "name": "stderr",
     "output_type": "stream",
     "text": [
      "Warning: grid volume is not an integer number of pixels; cell size will be rounded to nearest pixel.\n"
     ]
    },
    {
     "data": {
      "application/vnd.jupyter.widget-view+json": {
       "model_id": "731a042411d3489abc1353aabc5d1349",
       "version_major": 2,
       "version_minor": 0
      },
      "text/plain": [
       "FloatProgress(value=0.0, description='0% done ')"
      ]
     },
     "metadata": {},
     "output_type": "display_data"
    },
    {
     "name": "stderr",
     "output_type": "stream",
     "text": [
      "Warning: grid volume is not an integer number of pixels; cell size will be rounded to nearest pixel.\n"
     ]
    },
    {
     "data": {
      "application/vnd.jupyter.widget-view+json": {
       "model_id": "681fe8a030b64adf829889e0749c00bb",
       "version_major": 2,
       "version_minor": 0
      },
      "text/plain": [
       "FloatProgress(value=0.0, description='0% done ')"
      ]
     },
     "metadata": {},
     "output_type": "display_data"
    },
    {
     "name": "stderr",
     "output_type": "stream",
     "text": [
      "Warning: grid volume is not an integer number of pixels; cell size will be rounded to nearest pixel.\n"
     ]
    },
    {
     "data": {
      "application/vnd.jupyter.widget-view+json": {
       "model_id": "11044f6e946f4a5ebe6fce78fc63fe03",
       "version_major": 2,
       "version_minor": 0
      },
      "text/plain": [
       "FloatProgress(value=0.0, description='0% done ')"
      ]
     },
     "metadata": {},
     "output_type": "display_data"
    },
    {
     "name": "stderr",
     "output_type": "stream",
     "text": [
      "Warning: grid volume is not an integer number of pixels; cell size will be rounded to nearest pixel.\n"
     ]
    },
    {
     "data": {
      "application/vnd.jupyter.widget-view+json": {
       "model_id": "b4d224406cae46369aa32df8763c79fd",
       "version_major": 2,
       "version_minor": 0
      },
      "text/plain": [
       "FloatProgress(value=0.0, description='0% done ')"
      ]
     },
     "metadata": {},
     "output_type": "display_data"
    }
   ],
   "source": [
    "import os\n",
    "\n",
    "# 저장 폴더 생성\n",
    "output_dir = \"origin_mode_number\"\n",
    "os.makedirs(output_dir, exist_ok=True)\n",
    "\n",
    "ppopto = []\n",
    "Ez_r0 = [0]*src_num\n",
    "Ez_r1 = [0]*src_num\n",
    "for i in range(src_num):\n",
    "    ppopto.append(\n",
    "        mp.Simulation(resolution=resolution,\n",
    "                      cell_size=cell_size,\n",
    "                      boundary_layers=boundary_layers,\n",
    "                      geometry=geometryo,\n",
    "                      sources=[source[i]],\n",
    "                      extra_materials=[Ag],)\n",
    "    )\n",
    "\n",
    "    ppopto[i].reset_meep()\n",
    "\n",
    "    ppopto[i].sim = mp.Simulation(resolution=resolution,\n",
    "                        cell_size=cell_size,\n",
    "                        boundary_layers=boundary_layers,\n",
    "                        geometry=geometry,\n",
    "                        sources=[sources[i]],\n",
    "                        extra_materials=[Ag],)\n",
    "    \n",
    "    dft_fields_r0=ppopto[i].sim.add_dft_fields([mp.Ez],fcen,0,1,\n",
    "                                    center=mp.Vector3(0,0.5*Sy - tPML - MtoPML,0),\n",
    "                                    size=mp.Vector3(Sx - 2*tPML,0,0),yee_grid=True)\n",
    "    dft_fields_r1=ppopto[i].sim.add_dft_fields([mp.Ez],fcen,0,1,\n",
    "                                    center=mp.Vector3(0,0,0),\n",
    "                                    size=mp.Vector3(Sx,Sy,0),yee_grid=True)\n",
    "\n",
    "    ppopto[i].sim.run(until=100.0)\n",
    "\n",
    "    Ez_r0[i]=ppopto[i].sim.get_dft_array(dft_fields_r0,mp.Ez,0)\n",
    "    Ez_r1[i]=ppopto[i].sim.get_dft_array(dft_fields_r1,mp.Ez,0)\n",
    "\n",
    "    Ez_comp=Ez_r0[i][:]\n",
    "\n",
    "    m0ez_fft=npa.fft.fftshift(npa.fft.fft(Ez_comp))/(design_region_width*resolution+1)\n",
    "    kx = npa.fft.fftshift(np.fft.fftfreq(len(Ez_comp), 1 / resolution))\n",
    "\n",
    "    plt.plot(kx,np.abs(m0ez_fft),\"-ro\")\n",
    "    plt.xlabel(r\"Wavevector $k_x$ (2$\\pi^{-1}$)\")\n",
    "    plt.grid()\n",
    "    plt.xlim([-3,3])\n",
    "\n",
    "    plt.savefig(os.path.join(output_dir, f\"mode_number_{i}.png\"))\n",
    "    plt.cla()\n",
    "    plt.clf()\n",
    "    plt.close()\n",
    "\n",
    "    x = np.linspace(-0.5 * Sx + tPML, 0.5 * Sx - tPML, int((Sx- 2*tPML)*resolution+2))\n",
    "    theta_out = np.arcsin(2 * np.sin(0))  # Snell's Law\n",
    "    lambda0 = 0.55\n",
    "    kx_air = (2 * np.pi / lambda0) * np.sin(theta_out)\n",
    "    Ez_comp = Ez_r0[i][:] * np.exp(-1j * kx_air * x)\n",
    "    Ez_fft = npa.fft.fftshift(npa.fft.fft(Ez_comp)) / len(Ez_comp)\n",
    "    kx_axis = npa.fft.fftshift(np.fft.fftfreq(len(Ez_comp), d=1/resolution))\n",
    "    kx_rad = 2 * np.pi * kx_axis  # [rad/μm]\n",
    "    sin_theta = kx_rad * lambda0 / (2 * np.pi)  # = sin(θ)\n",
    "    plt.plot(sin_theta, np.abs(Ez_fft), 'r-o')\n",
    "    plt.xlabel(\"sin(theta) (air)\")\n",
    "\n",
    "    plt.savefig(os.path.join(output_dir, f\"angle_{i}.png\"))\n",
    "    plt.cla()\n",
    "    plt.clf()\n",
    "    plt.close()"
   ]
  }
 ],
 "metadata": {
  "kernelspec": {
   "display_name": "mp",
   "language": "python",
   "name": "python3"
  },
  "language_info": {
   "codemirror_mode": {
    "name": "ipython",
    "version": 3
   },
   "file_extension": ".py",
   "mimetype": "text/x-python",
   "name": "python",
   "nbconvert_exporter": "python",
   "pygments_lexer": "ipython3",
   "version": "3.8.20"
  }
 },
 "nbformat": 4,
 "nbformat_minor": 5
}
