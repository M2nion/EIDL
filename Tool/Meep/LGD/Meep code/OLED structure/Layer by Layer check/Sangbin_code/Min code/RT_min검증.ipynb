{
 "cells": [
  {
   "cell_type": "code",
   "execution_count": 1,
   "id": "1085458b",
   "metadata": {},
   "outputs": [],
   "source": [
    "# 시뮬레이션 라이브러리 불러오기\n",
    "import meep as mp\n",
    "import meep.adjoint as mpa\n",
    "import numpy as np\n",
    "from autograd import numpy as npa\n",
    "from autograd import tensor_jacobian_product, grad\n",
    "import nlopt\n",
    "from matplotlib import pyplot as plt\n",
    "from matplotlib.patches import Circle\n",
    "import pickle\n",
    "import math\n",
    "import os\n",
    "import sys"
   ]
  },
  {
   "cell_type": "code",
   "execution_count": 2,
   "id": "a6f081a1",
   "metadata": {},
   "outputs": [
    {
     "name": "stdout",
     "output_type": "stream",
     "text": [
      "Loaded fit from pickle: /home/min/EIDL/Tool/Meep/LGD/Meep code/OLED structure/Layer by Layer check/New fitting/New fitting data/SiO2/Material data/sio2_material_data_fit.pkl\n",
      "Loaded fit from pickle: /home/min/EIDL/Tool/Meep/LGD/Meep code/OLED structure/Layer by Layer check/New fitting/New fitting data/Al/Material data/al_material_data_fit.pkl\n",
      "Loaded fit from pickle: /home/min/EIDL/Tool/Meep/LGD/Meep code/OLED structure/Layer by Layer check/New fitting/New fitting data/aNDP/Material data/aNDP_material_data_fit.pkl\n"
     ]
    }
   ],
   "source": [
    "def Material_fit(Material_data_csv=\".\",\n",
    "                 eps_inf_min=1.1, eps_inf_max=1.2, eps_inf_linespace=1,\n",
    "                 wl_min=0.39, wl_max=0.73,\n",
    "                 num_L=2, num_rep=100):\n",
    "    # --- 0) 피클 경로 설정 ---\n",
    "    base, _ = os.path.splitext(Material_data_csv)\n",
    "    pickle_path = base + \"_fit.pkl\"\n",
    "\n",
    "    # --- 1) 피클이 있으면 로드 후 반환 ---\n",
    "    if os.path.exists(pickle_path):\n",
    "        with open(pickle_path, \"rb\") as f:\n",
    "            eps_inf_best, suscepts = pickle.load(f)\n",
    "        print(f\"Loaded fit from pickle: {pickle_path}\")\n",
    "        return eps_inf_best, suscepts\n",
    "\n",
    "    # --- 2) CSV 로드 및 준비 ---\n",
    "    data      = np.genfromtxt(Material_data_csv, delimiter=\",\")\n",
    "    wl        = data[:, 0]                    # 파장 (μm)\n",
    "    eps_total = data[:, 1] + 1j*data[:, 2]     # permittivity\n",
    "\n",
    "    mask     = (wl >= wl_min) & (wl <= wl_max)\n",
    "    wl_red   = wl[mask]\n",
    "    freqs_red = 1.0 / wl_red\n",
    "    eps_total_red = eps_total[mask]\n",
    "    eps_fit_target_raw = eps_total_red        # eps_inf 뺄 전 원본\n",
    "\n",
    "    # --- 3) 내부 피팅 함수 ---\n",
    "    def fit_for_eps_inf(eps_inf):\n",
    "        eps_fit_target = eps_fit_target_raw - eps_inf\n",
    "        best_err = np.inf\n",
    "        best_p   = None\n",
    "        for _ in range(num_rep):\n",
    "            p0 = []\n",
    "            for _ in range(num_L):\n",
    "                # 초기 파라미터: σ∈[1,100], ω∈[1/λ_max,1/λ_min], γ∈[1e-2,1]\n",
    "                sigma0 = 10**np.random.uniform(0, 2)\n",
    "                omega0 = np.random.uniform(1.0/wl_max, 1.0/wl_min)\n",
    "                gamma0 = 10**np.random.uniform(-2, 0)\n",
    "                p0.extend([sigma0, omega0, gamma0])\n",
    "            p_opt, err = lorentzfit(p0, freqs_red, eps_fit_target,\n",
    "                                    nlopt.LD_MMA, 1e-25, 200000)\n",
    "            if err < best_err:\n",
    "                best_err = err\n",
    "                best_p   = p_opt\n",
    "        return best_err, best_p\n",
    "\n",
    "    # --- 4) eps_inf 스윕 및 최적화 ---\n",
    "    eps_inf_vals = np.linspace(eps_inf_min, eps_inf_max, eps_inf_linespace)\n",
    "    results = []\n",
    "    for e_inf in eps_inf_vals:\n",
    "        err, p_opt = fit_for_eps_inf(e_inf)\n",
    "        results.append((e_inf, err, p_opt))\n",
    "\n",
    "    eps_inf_best, err_best, p_opt_best = min(results, key=lambda x: x[1])\n",
    "    print(\"Best eps_inf:\", eps_inf_best, \"error:\", err_best)\n",
    "\n",
    "    # --- 5) susceptibilities 생성 ---\n",
    "    suscepts = []\n",
    "    for j in range(num_L):\n",
    "        ω = p_opt_best[3*j + 1]\n",
    "        γ = p_opt_best[3*j + 2]\n",
    "        if abs(ω) < 1e-8:\n",
    "            σ = p_opt_best[3*j + 0]\n",
    "            suscepts.append(mp.DrudeSusceptibility(frequency=1.0, gamma=γ, sigma=σ))\n",
    "        else:\n",
    "            σ = p_opt_best[3*j + 0] / ω**2\n",
    "            suscepts.append(mp.LorentzianSusceptibility(frequency=ω, gamma=γ, sigma=σ))\n",
    "\n",
    "    # --- 6) 결과를 피클로 저장 ---\n",
    "    with open(pickle_path, \"wb\") as f:\n",
    "        pickle.dump((eps_inf_best, suscepts), f)\n",
    "    print(f\"Saved fit to pickle: {pickle_path}\")\n",
    "\n",
    "    return eps_inf_best, suscepts\n",
    "\n",
    "sio2_data_path = \"/home/min/EIDL/Tool/Meep/LGD/Meep code/OLED structure/Layer by Layer check/New fitting/New fitting data/SiO2/Material data/sio2_material_data.csv\"\n",
    "al_data_path   = \"/home/min/EIDL/Tool/Meep/LGD/Meep code/OLED structure/Layer by Layer check/New fitting/New fitting data/Al/Material data/al_material_data.csv\"\n",
    "andp_data_path = \"/home/min/EIDL/Tool/Meep/LGD/Meep code/OLED structure/Layer by Layer check/New fitting/New fitting data/aNDP/Material data/aNDP_material_data.csv\"\n",
    "\n",
    "eps_inf_sio2, suscept_sio2 = Material_fit(Material_data_csv=sio2_data_path)\n",
    "eps_inf_al, suscept_al = Material_fit(Material_data_csv=al_data_path)\n",
    "eps_inf_andp, suscept_andp = Material_fit(Material_data_csv=andp_data_path)"
   ]
  },
  {
   "cell_type": "code",
   "execution_count": 3,
   "id": "73dfedd0",
   "metadata": {},
   "outputs": [],
   "source": [
    "### ----- Refractive index ----- ###,\n",
    "sio2 = mp.Medium(epsilon=eps_inf_sio2, E_susceptibilities = suscept_sio2) # SiO2 ,\n",
    "andp = mp.Medium(epsilon=eps_inf_andp, E_susceptibilities = suscept_andp) # aNDP ,\n",
    "Al = mp.Medium(epsilon = eps_inf_al, E_susceptibilities = suscept_al)\n",
    "Air = mp.Medium(index = 1)"
   ]
  },
  {
   "cell_type": "code",
   "execution_count": 4,
   "id": "2cabeb1f",
   "metadata": {},
   "outputs": [],
   "source": [
    "resolution = 1000 # 해상도\n",
    "design_region_width = 0.01 # 디자인 영역 x\n",
    "design_region_width_y = 0.01 # 디자인 영역 y\n",
    "design_region_height = 2 # 디자인 영역 높이 z\n",
    "pml_size = 1.0 # PML 영역 크기"
   ]
  },
  {
   "cell_type": "code",
   "execution_count": 5,
   "id": "1d0d9821",
   "metadata": {},
   "outputs": [],
   "source": [
    "# 시뮬레이션 공간 설정\n",
    "Sx = design_region_width\n",
    "Sy = design_region_width_y\n",
    "Sz = 2 * pml_size + design_region_height + 1 + 5\n",
    "cell_size = mp.Vector3(0, 0, Sz)"
   ]
  },
  {
   "cell_type": "code",
   "execution_count": null,
   "id": "7a02020f",
   "metadata": {},
   "outputs": [],
   "source": [
    "from pathlib import Path\n",
    "\n",
    "al_csv_path = Path(\"/home/min/EIDL/Tool/Meep/LGD/Meep code/OLED structure/Layer by Layer check/New fitting/New fitting data/aNDP/Material data/aNDP_material_data.csv\")\n",
    "sio2_csv_path = Path(\"/home/min/EIDL/Tool/Meep/LGD/Meep code/OLED structure/Layer by Layer check/New fitting/New fitting data/aNDP/Material data/aNDP_material_data.csv\")\n",
    "andp_csv_path = Path(\"/home/min/EIDL/Tool/Meep/LGD/Meep code/OLED structure/Layer by Layer check/New fitting/New fitting data/aNDP/Material data/aNDP_material_data.csv\")\n",
    "\n",
    "# CSV 파일 불러오기\n",
    "andp_data = np.genfromtxt(andp_csv_path, delimiter=\",\")\n",
    "wavelengths = andp_data[:,0]\n",
    "frequencies = 1 / wavelengths\n",
    "nf = len(frequencies)"
   ]
  },
  {
   "cell_type": "code",
   "execution_count": 10,
   "id": "63233a8f",
   "metadata": {},
   "outputs": [],
   "source": [
    "minimum_length = 0.05  # minimum length scale (microns)\n",
    "eta_i = 0.5  # blueprint (or intermediate) design field thresholding point (between 0 and 1)\n",
    "eta_e = 0.55  # erosion design field thresholding point (between 0 and 1)\n",
    "eta_d = 1 - eta_e  # dilation design field thresholding point (between 0 and 1)\n",
    "filter_radius = mpa.get_conic_radius_from_eta_e(minimum_length, eta_e)\n",
    "design_region_resolution = int(resolution)\n",
    "\n",
    "pml_layers = [mp.PML(thickness = pml_size, direction = mp.Z)]"
   ]
  },
  {
   "cell_type": "code",
   "execution_count": 26,
   "id": "7f06858e",
   "metadata": {},
   "outputs": [
    {
     "name": "stdout",
     "output_type": "stream",
     "text": [
      "Red   frequencies: [1.40640251 1.43422432 1.46316911 1.49330625 1.52471099 1.55746501\n",
      " 1.59165717 1.62738432 1.6647522 ]\n",
      "Red   fwidths: [0.14064025 0.14342243 0.14631691 0.14933063 0.1524711  0.1557465\n",
      " 0.15916572 0.16273843 0.16647522] \n",
      "\n",
      "\n",
      "Green frequencies: [1.70387649 1.74488704 1.78791726 1.83312344 1.88067494 1.93075912\n",
      " 1.98358386]\n",
      "Green fwidths: [0.17038765 0.1744887  0.17879173 0.18331234 0.18806749 0.19307591\n",
      " 0.19835839] \n",
      "\n",
      "\n",
      "Blue  frequencies: [2.03938044 2.09840689 2.16095203 2.22734015 2.29794196 2.3731605\n",
      " 2.45346994 2.53940522 2.63157895]\n",
      "Blue  fwidths: [0.20393804 0.20984069 0.2160952  0.22273402 0.2297942  0.23731605\n",
      " 0.24534699 0.25394052 0.26315789]\n"
     ]
    }
   ],
   "source": [
    "wl_ranges = {\n",
    "    'blue':  (0.38, 0.5),\n",
    "    'green': (0.5, 0.6),\n",
    "    'red':   (0.6, 0.72),\n",
    "}\n",
    "\n",
    "# 3) mask 생성 후 뽑아내기\n",
    "width = 0.1  # fwidth 계산용 계수\n",
    "\n",
    "freqs_color  = {}\n",
    "fwidths_color = {}\n",
    "\n",
    "for color, (wl_min, wl_max) in wl_ranges.items():\n",
    "    mask = (wavelengths >= wl_min) & (wavelengths <= wl_max)\n",
    "    # mask 가 True 인 인덱스의 frequency 들\n",
    "    freqs_color[color]   = frequencies[mask]\n",
    "    # 대응하는 fwidth\n",
    "    fwidths_color[color] = width * freqs_color[color]\n",
    "\n",
    "# 결과 확인\n",
    "print(\"Red   frequencies:\", freqs_color['red'])\n",
    "print(\"Red   fwidths:\",    fwidths_color['red'], \"\\n\\n\")\n",
    "\n",
    "print(\"Green frequencies:\", freqs_color['green'])\n",
    "print(\"Green fwidths:\",    fwidths_color['green'], \"\\n\\n\")\n",
    "\n",
    "print(\"Blue  frequencies:\", freqs_color['blue'])\n",
    "print(\"Blue  fwidths:\",    fwidths_color['blue'])"
   ]
  },
  {
   "cell_type": "code",
   "execution_count": null,
   "id": "232446d6",
   "metadata": {},
   "outputs": [
    {
     "data": {
      "text/plain": [
       "{'blue': array([2.03938044, 2.09840689, 2.16095203, 2.22734015, 2.29794196,\n",
       "        2.3731605 , 2.45346994, 2.53940522, 2.63157895]),\n",
       " 'green': array([1.70387649, 1.74488704, 1.78791726, 1.83312344, 1.88067494,\n",
       "        1.93075912, 1.98358386]),\n",
       " 'red': array([1.40640251, 1.43422432, 1.46316911, 1.49330625, 1.52471099,\n",
       "        1.55746501, 1.59165717, 1.62738432, 1.6647522 ])}"
      ]
     },
     "execution_count": 27,
     "metadata": {},
     "output_type": "execute_result"
    }
   ],
   "source": []
  },
  {
   "cell_type": "code",
   "execution_count": 22,
   "id": "e1271b3d",
   "metadata": {},
   "outputs": [
    {
     "ename": "NameError",
     "evalue": "name 'fcen_red2' is not defined",
     "output_type": "error",
     "traceback": [
      "\u001b[0;31m---------------------------------------------------------------------------\u001b[0m",
      "\u001b[0;31mNameError\u001b[0m                                 Traceback (most recent call last)",
      "Cell \u001b[0;32mIn[22], line 3\u001b[0m\n\u001b[1;32m      1\u001b[0m source_center \u001b[38;5;241m=\u001b[39m [\u001b[38;5;241m0\u001b[39m, \u001b[38;5;241m0\u001b[39m, Sz \u001b[38;5;241m/\u001b[39m \u001b[38;5;241m2\u001b[39m \u001b[38;5;241m-\u001b[39m pml_size] \u001b[38;5;66;03m# Source 위치\u001b[39;00m\n\u001b[0;32m----> 3\u001b[0m src_0 \u001b[38;5;241m=\u001b[39m mp\u001b[38;5;241m.\u001b[39mGaussianSource(frequency\u001b[38;5;241m=\u001b[39m\u001b[43mfcen_red2\u001b[49m, fwidth\u001b[38;5;241m=\u001b[39mfwidth_red2, is_integrated\u001b[38;5;241m=\u001b[39m\u001b[38;5;28;01mTrue\u001b[39;00m)\n\u001b[1;32m      6\u001b[0m source \u001b[38;5;241m=\u001b[39m [mp\u001b[38;5;241m.\u001b[39mSource(src_0, component\u001b[38;5;241m=\u001b[39mmp\u001b[38;5;241m.\u001b[39mEy, center\u001b[38;5;241m=\u001b[39msource_center)]\n",
      "\u001b[0;31mNameError\u001b[0m: name 'fcen_red2' is not defined"
     ]
    }
   ],
   "source": [
    "source_center = [0, 0, Sz / 2 - pml_size] # Source 위치\n",
    "\n",
    "src_0 = mp.GaussianSource(frequency=fcen_red2, fwidth=fwidth_red2, is_integrated=True)\n",
    "\n",
    "\n",
    "source = [mp.Source(src_0, component=mp.Ey, center=source_center)]\n"
   ]
  }
 ],
 "metadata": {
  "kernelspec": {
   "display_name": "mp",
   "language": "python",
   "name": "python3"
  },
  "language_info": {
   "codemirror_mode": {
    "name": "ipython",
    "version": 3
   },
   "file_extension": ".py",
   "mimetype": "text/x-python",
   "name": "python",
   "nbconvert_exporter": "python",
   "pygments_lexer": "ipython3",
   "version": "3.11.12"
  }
 },
 "nbformat": 4,
 "nbformat_minor": 5
}
