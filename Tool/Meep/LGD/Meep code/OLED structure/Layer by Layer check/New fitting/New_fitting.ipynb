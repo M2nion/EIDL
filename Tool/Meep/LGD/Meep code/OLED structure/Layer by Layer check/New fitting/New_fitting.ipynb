{
 "cells": [
  {
   "cell_type": "code",
   "execution_count": 6,
   "id": "f3b666d5",
   "metadata": {},
   "outputs": [],
   "source": [
    "import pandas as pd\n",
    "import os\n",
    "\n",
    "def merge_eps_files(directory_path, re_eps_filename, im_eps_filename, output_csv_filename):\n",
    "    re_eps_file = os.path.join(directory_path, re_eps_filename)\n",
    "    im_eps_file = os.path.join(directory_path, im_eps_filename)\n",
    "    output_csv_file = os.path.join(directory_path, output_csv_filename)\n",
    "\n",
    "    # 데이터 불러오기 (구분자가 ','로 되어 있다고 가정)\n",
    "    re_data = pd.read_csv(re_eps_file, header=None, names=['wavelength (microns)', 'Re_eps'])\n",
    "    im_data = pd.read_csv(im_eps_file, header=None, names=['wavelength (microns)', 'Im_eps'])\n",
    "\n",
    "    # 병합 (wavelength (microns) 기준으로)\n",
    "    merged_data = pd.merge(re_data, im_data, on='wavelength (microns)')\n",
    "\n",
    "    # CSV로 저장 (쉼표 구분)\n",
    "    merged_data.to_csv(output_csv_file, index=False)\n",
    "\n",
    "    print(f\"병합된 파일이 저장되었습니다: {output_csv_file}\")\n",
    "\n",
    "al_path = \"/home/m2ni/EIDL/Tool/Meep/LGD/Meep code/OLED structure/Layer by Layer check/New fitting/New fitting data/Al\"\n",
    "\n",
    "aNDP_path = \"/home/m2ni/EIDL/Tool/Meep/LGD/Meep code/OLED structure/Layer by Layer check/New fitting/New fitting data/aNDP\"\n",
    "\n",
    "sio2_path = \"/home/m2ni/EIDL/Tool/Meep/LGD/Meep code/OLED structure/Layer by Layer check/New fitting/New fitting data/SiO2\""
   ]
  },
  {
   "cell_type": "code",
   "execution_count": 9,
   "id": "edf8e012",
   "metadata": {},
   "outputs": [
    {
     "name": "stdout",
     "output_type": "stream",
     "text": [
      "병합된 파일이 저장되었습니다: /home/m2ni/EIDL/Tool/Meep/LGD/Meep code/OLED structure/Layer by Layer check/New fitting/New fitting data/SiO2/merged_sio2_eps.csv\n"
     ]
    }
   ],
   "source": [
    "merge_eps_files(sio2_path, 'sio2_real.txt', 'sio2_im.txt', 'merged_sio2_eps.csv')"
   ]
  }
 ],
 "metadata": {
  "kernelspec": {
   "display_name": "mp",
   "language": "python",
   "name": "python3"
  },
  "language_info": {
   "codemirror_mode": {
    "name": "ipython",
    "version": 3
   },
   "file_extension": ".py",
   "mimetype": "text/x-python",
   "name": "python",
   "nbconvert_exporter": "python",
   "pygments_lexer": "ipython3",
   "version": "3.9.22"
  }
 },
 "nbformat": 4,
 "nbformat_minor": 5
}
