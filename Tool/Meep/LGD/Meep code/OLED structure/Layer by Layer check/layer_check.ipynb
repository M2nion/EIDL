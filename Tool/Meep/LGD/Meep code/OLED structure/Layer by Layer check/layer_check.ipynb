{
 "cells": [
  {
   "cell_type": "code",
   "execution_count": 1,
   "id": "6b513f4d",
   "metadata": {},
   "outputs": [],
   "source": [
    "import meep as mp\n",
    "import matplotlib.pyplot as plt\n",
    "import nlopt\n",
    "import numpy as np\n",
    "import pickle\n",
    "from meep_material import lorentzfit\n",
    "import os"
   ]
  },
  {
   "cell_type": "code",
   "execution_count": 2,
   "id": "720a74f3",
   "metadata": {},
   "outputs": [],
   "source": [
    "resolution = 200\n",
    "nfreq = 300\n",
    "fcen = 1.75\n",
    "df = 3.3"
   ]
  },
  {
   "cell_type": "code",
   "execution_count": 3,
   "id": "d40d673f",
   "metadata": {},
   "outputs": [],
   "source": [
    "import numpy as np\n",
    "import meep as mp\n",
    "import nlopt\n",
    "from typing import Tuple\n",
    "\n",
    "# lorentzfit 함수는 이미 정의되어 있어야 함 (여기선 너가 가지고 있다고 가정함)\n",
    "\n",
    "def fit_material_from_csv(\n",
    "    csv_path: str,\n",
    "    wl_range_nm = [0.38, 0.72],\n",
    "    eps_inf: float = 1.1,\n",
    "    num_lorentzians: int = 3,\n",
    "    num_repeat: int = 100,\n",
    "    opt_tol: float = 1e-25,\n",
    "    maxeval: int = 50000,\n",
    ") -> mp.Medium:\n",
    "    # --- 0) 피클 경로 설정 ---\n",
    "    base, _ = os.path.splitext(csv_path)\n",
    "    pickle_path = base + \"_fit.pkl\"\n",
    "\n",
    "    # --- 1) 피클이 있으면 로드 후 반환 ---\n",
    "    if os.path.exists(pickle_path):\n",
    "        with open(pickle_path, \"rb\") as f:\n",
    "            eps_inf, E_sus, freq_range = pickle.load(f)\n",
    "        print(f\"Loaded fit from pickle: {pickle_path}\")\n",
    "        return eps_inf, E_sus, freq_range\n",
    "    \n",
    "    # 데이터 불러오기\n",
    "    mydata = np.genfromtxt(csv_path, delimiter=\",\")\n",
    "    wl = mydata[:, 0]  # nm\n",
    "    n_complex = mydata[:, 1] + 1j * mydata[:, 2]\n",
    "    eps_data = np.square(n_complex) - eps_inf  # 유전율에서 eps_inf 보정\n",
    "\n",
    "    # 파장 범위 필터링\n",
    "    wl_min, wl_max = wl_range_nm\n",
    "    idx_start = np.where(wl > wl_min)[0][0]\n",
    "    idx_end = np.where(wl < wl_max)[0][-1] + 1\n",
    "    wl_reduced = wl[idx_start:idx_end]\n",
    "    eps_reduced = eps_data[idx_start:idx_end]\n",
    "    freqs_reduced = 1 / wl_reduced  # nm → 1/μm (Meep 단위)\n",
    "\n",
    "    # 최적화 반복\n",
    "    ps = np.zeros((num_repeat, 3 * num_lorentzians))\n",
    "    mins = np.zeros(num_repeat)\n",
    "\n",
    "    for m in range(num_repeat):\n",
    "        p_rand = [10 ** (np.random.random()) for _ in range(3 * num_lorentzians)]\n",
    "        ps[m, :], mins[m] = lorentzfit(\n",
    "            p_rand, freqs_reduced, eps_reduced, nlopt.LD_MMA, opt_tol, maxeval\n",
    "        )\n",
    "        print(f\"[{m:2d}] RMS error: {mins[m]:.6e} — params: {ps[m, :]}\")\n",
    "\n",
    "    # 최적 피팅 결과 선택\n",
    "    idx_opt = np.argmin(mins)\n",
    "    popt = ps[idx_opt, :]\n",
    "    print(f\"\\n>> Best fit RMS error = {mins[idx_opt]:.6e}\")\n",
    "    print(f\">> Optimal parameters = {popt}\")\n",
    "\n",
    "    # mp.Medium 구성\n",
    "    E_sus = []\n",
    "\n",
    "    for i in range(num_lorentzians):\n",
    "        sigma = popt[3 * i + 0]\n",
    "        freq = popt[3 * i + 1]\n",
    "        gamma = popt[3 * i + 2]\n",
    "\n",
    "        if freq == 0:\n",
    "            # Drude 항\n",
    "            E_sus.append(mp.DrudeSusceptibility(frequency=1.0, gamma=gamma, sigma=sigma))\n",
    "        else:\n",
    "            # Lorentz 항\n",
    "            sigma_adj = sigma / freq**2\n",
    "            E_sus.append(mp.LorentzianSusceptibility(frequency=freq, gamma=gamma, sigma=sigma_adj))\n",
    "\n",
    "    # 유효 주파수 범위 설정\n",
    "    freq_min = 1 / wl_max\n",
    "    freq_max = 1 / wl_min\n",
    "    freq_range = mp.FreqRange(min=freq_min, max=freq_max)\n",
    "\n",
    "    # --- 6) 결과를 피클로 저장 ---\n",
    "    with open(pickle_path, \"wb\") as f:\n",
    "        pickle.dump((eps_inf, E_sus, freq_range), f)\n",
    "\n",
    "    return eps_inf, E_sus, freq_range\n",
    "\n",
    "sio2_data_path = \"/home/min/EIDL/Tool/Meep/LGD/Meep code/OLED structure/Layer by Layer check/New fitting/New fitting data/SiO2/Material data/sio2_material_data.csv\"\n",
    "al_data_path   = \"/home/min/EIDL/Tool/Meep/LGD/Meep code/OLED structure/Layer by Layer check/New fitting/New fitting data/Al/Material data/al_material_data.csv\"\n",
    "andp_data_path = \"/home/min/EIDL/Tool/Meep/LGD/Meep code/OLED structure/Layer by Layer check/New fitting/New fitting data/aNDP/Material data/aNDP_material_data.csv\""
   ]
  },
  {
   "cell_type": "code",
   "execution_count": 4,
   "id": "26a44a4c",
   "metadata": {},
   "outputs": [
    {
     "name": "stdout",
     "output_type": "stream",
     "text": [
      "Loaded fit from pickle: /home/min/EIDL/Tool/Meep/LGD/Meep code/OLED structure/Layer by Layer check/New fitting/New fitting data/SiO2/Material data/sio2_material_data_fit.pkl\n",
      "Loaded fit from pickle: /home/min/EIDL/Tool/Meep/LGD/Meep code/OLED structure/Layer by Layer check/New fitting/New fitting data/Al/Material data/al_material_data_fit.pkl\n",
      "Loaded fit from pickle: /home/min/EIDL/Tool/Meep/LGD/Meep code/OLED structure/Layer by Layer check/New fitting/New fitting data/aNDP/Material data/aNDP_material_data_fit.pkl\n"
     ]
    }
   ],
   "source": [
    "eps_inf_sio2, suscept_sio2, freq_sio2 = fit_material_from_csv(csv_path=sio2_data_path, num_lorentzians=2)\n",
    "eps_inf_al, suscept_al, freq_al = fit_material_from_csv(csv_path=al_data_path, num_lorentzians=7)\n",
    "eps_inf_andp, suscept_andp, freq_andp = fit_material_from_csv(csv_path=andp_data_path, num_lorentzians=5)\n",
    "\n",
    "sio2 =  mp.Medium(epsilon = 1.1,   E_susceptibilities = suscept_sio2, valid_freq_range=freq_sio2) # SiO2 ,\n",
    "andp =  mp.Medium(epsilon = 1.1,   E_susceptibilities = suscept_andp, valid_freq_range=freq_andp) # aNDP ,\n",
    "Al  =   mp.Medium(epsilon = 1.1,     E_susceptibilities = suscept_al, valid_freq_range=freq_al)"
   ]
  },
  {
   "cell_type": "code",
   "execution_count": 7,
   "id": "1d898744",
   "metadata": {},
   "outputs": [],
   "source": [
    "PML_layer = 0.25\n",
    "\n",
    "boundary_layers = [\n",
    "    mp.PML(thickness=PML_layer, direction=mp.X, side=mp.Low),  # 좌측 PML,\n",
    "    mp.PML(thickness=PML_layer, direction=mp.X, side=mp.High), # 우측 PML,\n",
    "    mp.PML(thickness=PML_layer, direction=mp.Y, side=mp.High), # 상단 PML,\n",
    "    mp.PML(thickness=PML_layer, direction=mp.Y, side=mp.Low), # 상단 PML,\n",
    "]"
   ]
  },
  {
   "cell_type": "code",
   "execution_count": null,
   "id": "30988f76",
   "metadata": {},
   "outputs": [],
   "source": [
    "cell_size = mp.Vector3(2, 5, 0)"
   ]
  },
  {
   "cell_type": "code",
   "execution_count": null,
   "id": "15398f52",
   "metadata": {},
   "outputs": [],
   "source": []
  }
 ],
 "metadata": {
  "kernelspec": {
   "display_name": "mp",
   "language": "python",
   "name": "python3"
  },
  "language_info": {
   "codemirror_mode": {
    "name": "ipython",
    "version": 3
   },
   "file_extension": ".py",
   "mimetype": "text/x-python",
   "name": "python",
   "nbconvert_exporter": "python",
   "pygments_lexer": "ipython3",
   "version": "3.11.12"
  }
 },
 "nbformat": 4,
 "nbformat_minor": 5
}
