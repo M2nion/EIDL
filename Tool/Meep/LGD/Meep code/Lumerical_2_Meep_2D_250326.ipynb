{
 "cells": [
  {
   "cell_type": "markdown",
   "metadata": {},
   "source": [
    "### 1. Import Required Libraries"
   ]
  },
  {
   "cell_type": "code",
   "execution_count": 1,
   "metadata": {},
   "outputs": [],
   "source": [
    "import meep as mp\n",
    "import numpy as np\n",
    "import matplotlib.pyplot as plt"
   ]
  },
  {
   "cell_type": "markdown",
   "metadata": {},
   "source": [
    "### 2. Define OLED Simulation Environment"
   ]
  },
  {
   "cell_type": "code",
   "execution_count": 2,
   "metadata": {},
   "outputs": [],
   "source": [
    "lambda_min = 0.4  # 최소 파장 (μm)\n",
    "lambda_max = 0.7  # 최대 파장 (μm)\n",
    "fmin = 1 / lambda_max  # 최소 주파수 (1/μm)\n",
    "fmax = 1 / lambda_min  # 최대 주파수 (1/μm)\n",
    "fcen = 0.5 * (fmin + fmax)  # 중심 주파수\n",
    "df = fmax - fmin  # 주파수 폭\n",
    "# 주파수를 파장으로 변환\n",
    "# resolution = 33 # 1um/0.03um = 33\n",
    "resolution = 200 # 1um/200 = 0.002um = 5nm\n",
    "nfreq = 25\n"
   ]
  },
  {
   "cell_type": "markdown",
   "metadata": {},
   "source": [
    "### 3. Define OLED Layer Materials, Thickness"
   ]
  },
  {
   "cell_type": "code",
   "execution_count": 20,
   "metadata": {},
   "outputs": [
    {
     "name": "stdout",
     "output_type": "stream",
     "text": [
      "cell_size:  Vector3<30.0, 0.0, 2.35>\n",
      "tPML:  0.35\n",
      "tGlass:  1.37\n",
      "tCoverLayer:  0.07\n",
      "tITO:  0.15\n",
      "tNDP:  0.05\n",
      "tAlq3:  0.06\n",
      "tCathode:  0.3\n",
      "tOLED:  2.0\n"
     ]
    }
   ],
   "source": [
    "### ----- Refractive index ----- ###\n",
    "Glass = mp.Medium(index=1.5) # SiO2 임의값\n",
    "CoverLayer = mp.Medium(index=1.0) # SiN\n",
    "Cathode = mp.Medium(index=1.2)  # Al 임의값 1.1978\n",
    "aNDP = mp.Medium(index= 1.5)  # aNDP (aNPD_PFA (380 - 780 nm) 임의값 \n",
    "ITO = mp.Medium(index=1.8) \n",
    "Alq3 = mp.Medium(index=1.68) \n",
    "Air = mp.Medium(index=1.0) # 공기\n",
    "\n",
    "\n",
    "### ----- Thickness ----- ###\n",
    "tPML = round(lambda_max * 0.5, 3)  # 0.35\n",
    "tGlass = round(1.37, 2) #뒤에서 PML까지 연장해야함\n",
    "tCoverLayer = round(0.07, 3)\n",
    "tITO = round(0.15, 3)\n",
    "tNDP = round(0.05, 3)\n",
    "tAlq3 = round(0.06, 3)\n",
    "tCathode = round(0.3, 3)\n",
    "\n",
    "tOLED = round(tGlass + tCoverLayer + tITO + tNDP + tAlq3 + tCathode, 3)\n",
    "\n",
    "### ----- Simulation region ----- ###\n",
    "Sx = round(30, 3)\n",
    "Sy = round(0, 3)\n",
    "Sz = round(tOLED+tPML, 3)\n",
    "\n",
    "cell_size = mp.Vector3(Sx, Sy, Sz)\n",
    "\n",
    "print(\"cell_size: \", cell_size)\n",
    "print(\"tPML: \", tPML)\n",
    "print(\"tGlass: \", tGlass)\n",
    "print(\"tCoverLayer: \", tCoverLayer)\n",
    "print(\"tITO: \", tITO)\n",
    "print(\"tNDP: \", tNDP)\n",
    "print(\"tAlq3: \", tAlq3)\n",
    "print(\"tCathode: \", tCathode)\n",
    "print(\"tOLED: \", tOLED)"
   ]
  },
  {
   "cell_type": "markdown",
   "metadata": {},
   "source": [
    "### 4. Define Boundary Conditions (PML)\n"
   ]
  },
  {
   "cell_type": "code",
   "execution_count": 21,
   "metadata": {},
   "outputs": [],
   "source": [
    "# PML 경계조건\n",
    "boundary_layers = [mp.PML(tPML, direction=mp.X),\n",
    "                   mp.PML(tPML, direction=mp.Z, side=mp.High)] "
   ]
  },
  {
   "cell_type": "markdown",
   "metadata": {},
   "source": [
    "### 5. Define OLED Geometry, Structure\n"
   ]
  },
  {
   "cell_type": "code",
   "execution_count": 22,
   "metadata": {},
   "outputs": [],
   "source": [
    "# OLED 구조 정의 (Lumerical 반영)\n",
    "# geometry = [\n",
    "#     mp.Block(material=Air,\n",
    "#              size=mp.Vector3(Sx, Sy, tAir),\n",
    "#              center=mp.Vector3(z=tCathode/2 + tAlq3 + tNDP + tITO + tCoverLayer + tGlass + tAir/2)),\n",
    "\n",
    "#     mp.Block(material=Glass,\n",
    "#              size=mp.Vector3(Sx, Sy, tGlass),\n",
    "#              center=mp.Vector3(z=tCathode/2 + tAlq3 + tNDP + tITO + tCoverLayer + tGlass/2)),\n",
    "\n",
    "#     mp.Block(material=CoverLayer,\n",
    "#              size=mp.Vector3(Sx, Sy, tCoverLayer),\n",
    "#              center=mp.Vector3(z=tCathode/2 + tAlq3 + tNDP + tITO + tCoverLayer/2)),\n",
    "    \n",
    "#     mp.Block(material=ITO,\n",
    "#              size=mp.Vector3(Sx, Sy, tITO),\n",
    "#              center=mp.Vector3(z=tCathode/2 + tAlq3 + tNDP + tITO/2)),\n",
    "    \n",
    "#     mp.Block(material=aNDP,\n",
    "#              size=mp.Vector3(Sx, Sy, tNDP),\n",
    "#              center=mp.Vector3(z=tCathode/2 + tAlq3 + tNDP/2)),\n",
    "\n",
    "#     mp.Block(material=Alq3,\n",
    "#              size=mp.Vector3(Sx, Sy, tAlq3),\n",
    "#              center=mp.Vector3(z=tCathode/2 + tAlq3/2)),\n",
    "\n",
    "#     mp.Block(material=Cathode,\n",
    "#              size=mp.Vector3(Sx, Sy, tCathode),\n",
    "#              center=mp.Vector3(z=0)),\n",
    "# ]\n",
    "\n",
    "\n",
    "first_layer = -(Sz/2)\n",
    "geometry = [\n",
    "    mp.Block(material=Glass,\n",
    "             size=mp.Vector3(Sx, Sy, tGlass+tPML),\n",
    "             center=mp.Vector3(z=first_layer + tCathode + tAlq3 + tNDP + tITO + tCoverLayer + (tGlass+tPML)/2)),\n",
    "\n",
    "    mp.Block(material=CoverLayer,\n",
    "             size=mp.Vector3(Sx, Sy, tCoverLayer),\n",
    "             center=mp.Vector3(z=first_layer + tCathode + tAlq3 + tNDP + tITO + tCoverLayer/2)),\n",
    "    \n",
    "    mp.Block(material=ITO,\n",
    "             size=mp.Vector3(Sx, Sy, tITO),\n",
    "             center=mp.Vector3(z=first_layer + tCathode + tAlq3 + tNDP + tITO/2)),\n",
    "    \n",
    "    mp.Block(material=aNDP,\n",
    "             size=mp.Vector3(Sx, Sy, tNDP),\n",
    "             center=mp.Vector3(z=first_layer + tCathode + tAlq3 + tNDP/2)),\n",
    "\n",
    "    mp.Block(material=Alq3,\n",
    "             size=mp.Vector3(Sx, Sy, tAlq3),\n",
    "             center=mp.Vector3(z=first_layer + tCathode + tAlq3/2)),\n",
    "\n",
    "    mp.Block(material=Cathode,\n",
    "             size=mp.Vector3(Sx, Sy, tCathode),\n",
    "             center=mp.Vector3(z=first_layer + tCathode/2)),\n",
    "]"
   ]
  },
  {
   "cell_type": "code",
   "execution_count": 23,
   "metadata": {},
   "outputs": [
    {
     "name": "stdout",
     "output_type": "stream",
     "text": [
      "geometry:  0.31500000000000017\n"
     ]
    }
   ],
   "source": [
    "print(\"geometry: \", first_layer + tCathode + tAlq3 + tNDP + tITO + tCoverLayer + (tGlass+tPML)/2)"
   ]
  },
  {
   "cell_type": "markdown",
   "metadata": {},
   "source": [
    "### 6. Define Light Source (Dipole Source)"
   ]
  },
  {
   "cell_type": "code",
   "execution_count": 24,
   "metadata": {},
   "outputs": [],
   "source": [
    "### ----- 다이폴 소스 설정 (OLED 발광층에서 발생) ----- ###\n",
    "'''Lumerial에서 0.33에 위치함 -> Cathode/2 = 0.3 & Alq3/2 = 0.03 '''\n",
    "\n",
    "dipole_z = first_layer + tCathode + tAlq3/2  # 다이폴이 위치할 평면\n",
    "single_dipole = True  # True: single dipole, False: multiple dipoles\n",
    "num_dipoles = 1  # Number of dipoles, 1개로 동작 함\n",
    "\n",
    "if single_dipole:\n",
    "    sources = [mp.Source(mp.ContinuousSource(fcen),\n",
    "                     component=mp.Ez,\n",
    "                     center=mp.Vector3(x=0, z=dipole_z))]\n",
    "else:\n",
    "    dipole_x_positions = [i * (Sx / (num_dipoles + 1)) - Sx / 2 for i in range(1, num_dipoles + 1)]\n",
    "    sources = [\n",
    "        mp.Source(mp.ContinuousSource(frequency=1.0),\n",
    "                component=mp.Ez,\n",
    "                center=mp.Vector3(x=x_pos, z=dipole_z))\n",
    "        for x_pos in dipole_x_positions]"
   ]
  },
  {
   "cell_type": "code",
   "execution_count": 25,
   "metadata": {},
   "outputs": [
    {
     "name": "stdout",
     "output_type": "stream",
     "text": [
      "     block, center = (0,0,0.315)\n",
      "          size (30,0,1.72)\n",
      "          axes (1,0,0), (0,1,0), (0,0,1)\n",
      "          dielectric constant epsilon diagonal = (2.25,2.25,2.25)\n",
      "     block, center = (0,0,-0.58)\n",
      "          size (30,0,0.07)\n",
      "          axes (1,0,0), (0,1,0), (0,0,1)\n",
      "          dielectric constant epsilon diagonal = (1,1,1)\n",
      "     block, center = (0,0,-0.69)\n",
      "          size (30,0,0.15)\n",
      "          axes (1,0,0), (0,1,0), (0,0,1)\n",
      "          dielectric constant epsilon diagonal = (3.24,3.24,3.24)\n",
      "     block, center = (0,0,-0.79)\n",
      "          size (30,0,0.05)\n",
      "          axes (1,0,0), (0,1,0), (0,0,1)\n",
      "          dielectric constant epsilon diagonal = (2.25,2.25,2.25)\n",
      "     block, center = (0,0,-0.845)\n",
      "          size (30,0,0.06)\n",
      "          axes (1,0,0), (0,1,0), (0,0,1)\n",
      "          dielectric constant epsilon diagonal = (2.8224,2.8224,2.8224)\n",
      "     block"
     ]
    },
    {
     "name": "stdout",
     "output_type": "stream",
     "text": [
      ", center = (0,0,-1.025)\n",
      "          size (30,0,0.3)\n",
      "          axes (1,0,0), (0,1,0), (0,0,1)\n",
      "          dielectric constant epsilon diagonal = (1.44,1.44,1.44)\n",
      "-----------\n",
      "Initializing structure...\n",
      "time for choose_chunkdivision = 0.000512123 s\n",
      "Working in 3D dimensions.\n",
      "Computational cell is 30 x 0.005 x 2.35 with resolution 200\n",
      "     block, center = (0,0,0.315)\n",
      "          size (30,0,1.72)\n",
      "          axes (1,0,0), (0,1,0), (0,0,1)\n",
      "          dielectric constant epsilon diagonal = (2.25,2.25,2.25)\n",
      "     block, center = (0,0,-0.58)\n",
      "          size (30,0,0.07)\n",
      "          axes (1,0,0), (0,1,0), (0,0,1)\n",
      "          dielectric constant epsilon diagonal = (1,1,1)\n",
      "     block, center = (0,0,-0.69)\n",
      "          size (30,0,0.15)\n",
      "          axes (1,0,0), (0,1,0), (0,0,1)\n",
      "          dielectric constant epsilon diagonal = (3.24,3.24,3.24)\n",
      "     block, center = (0,0,-0.79)\n",
      "          size (30,0,0.05)\n",
      "          axes (1,0,0), (0,1,0), (0,0,1)\n",
      "          dielectric constant epsilon diagonal = (2.25,2.25,2.25)\n",
      "     block, center = (0,0,-0.845)\n",
      "          size (30,0,0.06)\n",
      "          axes (1,0,0), (0,1,0), (0,0,1)\n",
      "          dielectric constant epsilon diagonal = (2.8224,2.8224,2.8224)\n",
      "     block, center = (0,0,-1.025)\n",
      "          size (30,0,0.3)\n",
      "          axes (1,0,0), (0,1,0), (0,0,1)\n",
      "          dielectric constant epsilon diagonal = (1.44,1.44,1.44)\n",
      "time for set_epsilon = 2.26969 s\n",
      "-----------\n"
     ]
    },
    {
     "data": {
      "text/plain": [
       "<Axes: xlabel='X', ylabel='Z'>"
      ]
     },
     "execution_count": 25,
     "metadata": {},
     "output_type": "execute_result"
    },
    {
     "data": {
      "image/png": "[encoded data removed]",
      "text/plain": [
       "<Figure size 640x480 with 1 Axes>"
      ]
     },
     "metadata": {},
     "output_type": "display_data"
    }
   ],
   "source": [
    "#test\n",
    "\n",
    "# === 시뮬레이션 설정 === #\n",
    "sim = mp.Simulation(resolution=resolution,\n",
    "                    cell_size=cell_size,\n",
    "                    boundary_layers=boundary_layers,\n",
    "                    geometry=geometry,\n",
    "                    sources=sources,\n",
    "                    eps_averaging=False)\n",
    "\n",
    "sim.plot2D(fields=mp.Ez, output_plane=mp.Volume(center=mp.Vector3(y=0), size=mp.Vector3(Sx, 0, Sz)))"
   ]
  },
  {
   "cell_type": "markdown",
   "metadata": {},
   "source": [
    "### 7. Flux Monitors "
   ]
  },
  {
   "cell_type": "code",
   "execution_count": 8,
   "metadata": {},
   "outputs": [],
   "source": [
    "fluxbox_dpad = 0.02\n",
    "\n",
    "sim_t = mp.Simulation(resolution=resolution,\n",
    "                    cell_size=cell_size,\n",
    "                    boundary_layers=boundary_layers,\n",
    "                    geometry=geometry,\n",
    "                    sources=sources,\n",
    "                    eps_averaging=False)\n",
    "\n",
    "# Flux monitors\n",
    "trans_flux = sim_t.add_flux(fcen, df, nfreq,\n",
    "    mp.FluxRegion(center=mp.Vector3(0, 0, fluxbox_dpad/2), size=mp.Vector3(fluxbox_dpad, 0, 0)))  # 위쪽 (z+)\n",
    "\n",
    "refl_flux = sim_t.add_flux(fcen, df, nfreq,\n",
    "    mp.FluxRegion(center=mp.Vector3(0, 0, -fluxbox_dpad/2), size=mp.Vector3(fluxbox_dpad, 0, 0)))  # 아래쪽 (z-)\n",
    "\n",
    "side_left_flux = sim_t.add_flux(fcen, df, nfreq,\n",
    "    mp.FluxRegion(center=mp.Vector3(-fluxbox_dpad/2 , 0, 0), size=mp.Vector3(0, 0, fluxbox_dpad)))  # x1 왼쪽\n",
    "\n",
    "side_right_flux = sim_t.add_flux(fcen, df, nfreq,\n",
    "    mp.FluxRegion(center=mp.Vector3(fluxbox_dpad/2 , 0, 0), size=mp.Vector3(0, 0, fluxbox_dpad)))  # x2 오른쪽\n",
    "\n",
    "harminv_monitor = mp.Harminv(mp.Ez,\n",
    "                             mp.Vector3(0, 0, dipole_z),\n",
    "                             fcen, df)\n",
    "\n"
   ]
  },
  {
   "cell_type": "code",
   "execution_count": 9,
   "metadata": {},
   "outputs": [
    {
     "name": "stdout",
     "output_type": "stream",
     "text": [
      "     block, center = (0,0,-0.195)\n",
      "          size (30,0,1.72)\n",
      "          axes (1,0,0), (0,1,0), (0,0,1)\n",
      "          dielectric constant epsilon diagonal = (2.25,2.25,2.25)\n",
      "     block, center = (0,0,-1.09)\n",
      "          size (30,0,0.07)\n",
      "          axes (1,0,0), (0,1,0), (0,0,1)\n",
      "          dielectric constant epsilon diagonal = (1,1,1)\n",
      "     block, center = (0,0,-1.2)\n",
      "          size (30,0,0.15)\n",
      "          axes (1,0,0), (0,1,0), (0,0,1)\n",
      "          dielectric constant epsilon diagonal = (3.24,3.24,3.24)\n",
      "     block, center = (0,0,-1.3)\n",
      "          size (30,0,0.05)\n",
      "          axes (1,0,0), (0,1,0), (0,0,1)\n",
      "          dielectric constant epsilon diagonal = (2.25,2.25,2.25)\n",
      "     block, center = (0,0,-1.355)\n",
      "          size (30,0,0.06)\n",
      "          axes (1,0,0), (0,1,0), (0,0,1)\n",
      "          dielectric constant epsilon diagonal = (2.8224,2.8224,2.8224)\n",
      "     block, center = (0,0,-1.535)\n",
      "          size (30,0,0.3)\n",
      "          axes (1,0,0), (0,1,0), (0,0,1)\n",
      "          dielectric constant epsilon diagonal = (1.44,1.44,1.44)\n",
      "-----------\n",
      "Initializing structure...\n",
      "time for choose_chunkdivision = 0.000581026 s\n",
      "Working in 3D dimensions.\n",
      "Computational cell is 30 x 0.005 x 3.37 with resolution 200\n",
      "     block, center = (0,0,-0.195)\n",
      "          size (30,0,1.72)\n",
      "          axes (1,0,0), (0,1,0), (0,0,1)\n",
      "          dielectric constant epsilon diagonal = (2.25,2.25,2.25)\n",
      "     block, center = (0,0,-1.09)\n",
      "          size (30,0,0.07)\n",
      "          axes (1,0,0), (0,1,0), (0,0,1)\n",
      "          dielectric constant epsilon diagonal = (1,1,1)\n",
      "     block, center = (0,0,-1.2)\n",
      "          size (30,0,0.15)\n",
      "          axes (1,0,0), (0,1,0), (0,0,1)\n",
      "          dielectric constant epsilon diagonal = (3.24,3.24,3.24)\n",
      "     block, center = (0,0,-1.3)\n",
      "          size (30,0,0.05)\n",
      "          axes (1,0,0), (0,1,0), (0,0,1)\n",
      "          dielectric constant epsilon diagonal = (2.25,2.25,2.25)\n",
      "     block, center = (0,0,-1.355)\n",
      "          size (30,0,0.06)\n",
      "          axes (1,0,0), (0,1,0), (0,0,1)\n",
      "          dielectric constant epsilon diagonal = (2.8224,2.8224,2.8224)\n",
      "     block, center = (0,0,-1.535)\n",
      "          size (30,0,0.3)\n",
      "          axes (1,0,0), (0,1,0), (0,0,1)\n",
      "          dielectric constant epsilon diagonal = (1.44,1.44,1.44)\n",
      "time for set_epsilon = 3.09942 s\n",
      "-----------\n"
     ]
    },
    {
     "data": {
      "text/plain": [
       "<Axes: xlabel='X', ylabel='Z'>"
      ]
     },
     "execution_count": 9,
     "metadata": {},
     "output_type": "execute_result"
    },
    {
     "data": {
      "image/png": "[encoded data removed]",
      "text/plain": [
       "<Figure size 640x480 with 1 Axes>"
      ]
     },
     "metadata": {},
     "output_type": "display_data"
    }
   ],
   "source": [
    "sim_t.plot2D(fields=mp.Ez, output_plane=mp.Volume(center=mp.Vector3(y=0), size=mp.Vector3(Sx, 0, Sz)))"
   ]
  },
  {
   "cell_type": "markdown",
   "metadata": {},
   "source": [
    "### 8. Run the Simulation\n"
   ]
  },
  {
   "cell_type": "code",
   "execution_count": 10,
   "metadata": {},
   "outputs": [
    {
     "name": "stdout",
     "output_type": "stream",
     "text": [
      "-----------\n",
      "Initializing structure...\n",
      "time for choose_chunkdivision = 0.000550032 s\n",
      "Working in 3D dimensions.\n",
      "Computational cell is 30 x 0.005 x 3.37 with resolution 200\n",
      "     block, center = (0,0,-0.195)\n",
      "          size (30,0,1.72)\n",
      "          axes (1,0,0), (0,1,0), (0,0,1)\n",
      "          dielectric constant epsilon diagonal = (2.25,2.25,2.25)\n",
      "     block, center = (0,0,-1.09)\n",
      "          size (30,0,0.07)\n",
      "          axes (1,0,0), (0,1,0), (0,0,1)\n",
      "          dielectric constant epsilon diagonal = (1,1,1)\n",
      "     block, center = (0,0,-1.2)\n",
      "          size (30,0,0.15)\n",
      "          axes (1,0,0), (0,1,0), (0,0,1)\n",
      "          dielectric constant epsilon diagonal = (3.24,3.24,3.24)\n",
      "     block, center = (0,0,-1.3)\n",
      "          size (30,0,0.05)\n",
      "          axes (1,0,0), (0,1,0), (0,0,1)\n",
      "          dielectric constant epsilon diagonal = (2.25,2.25,2.25)\n",
      "     block, center = (0,0,-1.355)\n",
      "          size (30,0,0.06)\n",
      "          axes (1,0,0), (0,1,0), (0,0,1)\n",
      "          dielectric constant epsilon diagonal = (2.8224,2.8224,2.8224)\n",
      "     block, center = (0,0,-1.535)\n",
      "          size (30,0,0.3)\n",
      "          axes (1,0,0), (0,1,0), (0,0,1)\n",
      "          dielectric constant epsilon diagonal = (1.44,1.44,1.44)\n",
      "time for set_epsilon = 3.07769 s\n",
      "-----------\n",
      "Meep progress: 0.0025/100.0 = 0.0% done in 41.0s, 1640541.7s to go\n",
      "on time step 1 (time=0.0025), 41.0147 s/step\n",
      "Meep progress: 0.0525/100.0 = 0.1% done in 45.2s, 85974.6s to go\n",
      "on time step 21 (time=0.0525), 0.207251 s/step\n",
      "Meep progress: 0.0975/100.0 = 0.1% done in 49.2s, 50455.4s to go\n",
      "on time step 39 (time=0.0975), 0.226723 s/step\n",
      "Meep progress: 0.15/100.0 = 0.1% done in 53.4s, 35558.4s to go\n",
      "on time step 60 (time=0.15), 0.19882 s/step\n",
      "Meep progress: 0.195/100.0 = 0.2% done in 57.5s, 29410.8s to go\n",
      "on time step 78 (time=0.195), 0.224709 s/step\n",
      "Meep progress: 0.245/100.0 = 0.2% done in 61.5s, 25056.0s to go\n",
      "on time step 98 (time=0.245), 0.20372 s/step\n",
      "Meep progress: 0.295/100.0 = 0.3% done in 65.7s, 22200.7s to go\n",
      "on time step 118 (time=0.295), 0.207365 s/step\n",
      "Meep progress: 0.34500000000000003/100.0 = 0.3% done in 69.8s, 20172.8s to go\n",
      "on time step 138 (time=0.345), 0.207501 s/step\n"
     ]
    },
    {
     "ename": "KeyboardInterrupt",
     "evalue": "",
     "output_type": "error",
     "traceback": [
      "\u001b[0;31m---------------------------------------------------------------------------\u001b[0m",
      "\u001b[0;31mKeyboardInterrupt\u001b[0m                         Traceback (most recent call last)",
      "Cell \u001b[0;32mIn[10], line 12\u001b[0m\n\u001b[1;32m     10\u001b[0m mp\u001b[38;5;241m.\u001b[39mverbosity(\u001b[38;5;241m2\u001b[39m)\n\u001b[1;32m     11\u001b[0m sim\u001b[38;5;241m.\u001b[39mreset_meep()\n\u001b[0;32m---> 12\u001b[0m \u001b[43msim\u001b[49m\u001b[38;5;241;43m.\u001b[39;49m\u001b[43mrun\u001b[49m\u001b[43m(\u001b[49m\u001b[43muntil\u001b[49m\u001b[38;5;241;43m=\u001b[39;49m\u001b[38;5;241;43m100.0\u001b[39;49m\u001b[43m)\u001b[49m\n\u001b[1;32m     14\u001b[0m \u001b[38;5;66;03m# === Flux 데이터 수집 === #\u001b[39;00m\n\u001b[1;32m     15\u001b[0m flux_glass \u001b[38;5;241m=\u001b[39m np\u001b[38;5;241m.\u001b[39masarray(mp\u001b[38;5;241m.\u001b[39mget_fluxes(trans_flux))\n",
      "File \u001b[0;32m~/anaconda3/envs/mp/lib/python3.8/site-packages/meep/simulation.py:4536\u001b[0m, in \u001b[0;36mSimulation.run\u001b[0;34m(self, *step_funcs, **kwargs)\u001b[0m\n\u001b[1;32m   4534\u001b[0m     \u001b[38;5;28mself\u001b[39m\u001b[38;5;241m.\u001b[39m_run_sources_until(until_after_sources, step_funcs)\n\u001b[1;32m   4535\u001b[0m \u001b[38;5;28;01melif\u001b[39;00m until \u001b[38;5;129;01mis\u001b[39;00m \u001b[38;5;129;01mnot\u001b[39;00m \u001b[38;5;28;01mNone\u001b[39;00m:\n\u001b[0;32m-> 4536\u001b[0m     \u001b[38;5;28;43mself\u001b[39;49m\u001b[38;5;241;43m.\u001b[39;49m\u001b[43m_run_until\u001b[49m\u001b[43m(\u001b[49m\u001b[43muntil\u001b[49m\u001b[43m,\u001b[49m\u001b[43m \u001b[49m\u001b[43mstep_funcs\u001b[49m\u001b[43m)\u001b[49m\n\u001b[1;32m   4537\u001b[0m \u001b[38;5;28;01melse\u001b[39;00m:\n\u001b[1;32m   4538\u001b[0m     \u001b[38;5;28;01mraise\u001b[39;00m \u001b[38;5;167;01mValueError\u001b[39;00m(\u001b[38;5;124m\"\u001b[39m\u001b[38;5;124mInvalid run configuration\u001b[39m\u001b[38;5;124m\"\u001b[39m)\n",
      "File \u001b[0;32m~/anaconda3/envs/mp/lib/python3.8/site-packages/meep/simulation.py:2832\u001b[0m, in \u001b[0;36mSimulation._run_until\u001b[0;34m(self, cond, step_funcs)\u001b[0m\n\u001b[1;32m   2830\u001b[0m     \u001b[38;5;28;01mfor\u001b[39;00m func \u001b[38;5;129;01min\u001b[39;00m step_funcs:\n\u001b[1;32m   2831\u001b[0m         _eval_step_func(\u001b[38;5;28mself\u001b[39m, func, \u001b[38;5;124m\"\u001b[39m\u001b[38;5;124mstep\u001b[39m\u001b[38;5;124m\"\u001b[39m)\n\u001b[0;32m-> 2832\u001b[0m     \u001b[38;5;28;43mself\u001b[39;49m\u001b[38;5;241;43m.\u001b[39;49m\u001b[43mfields\u001b[49m\u001b[38;5;241;43m.\u001b[39;49m\u001b[43mstep\u001b[49m\u001b[43m(\u001b[49m\u001b[43m)\u001b[49m\n\u001b[1;32m   2834\u001b[0m \u001b[38;5;66;03m# Translating the recursive scheme version of run-until into an iterative version\u001b[39;00m\n\u001b[1;32m   2835\u001b[0m \u001b[38;5;66;03m# (because python isn't tail-call-optimized) means we need one extra iteration to\u001b[39;00m\n\u001b[1;32m   2836\u001b[0m \u001b[38;5;66;03m# be the same as scheme.\u001b[39;00m\n\u001b[1;32m   2837\u001b[0m \u001b[38;5;28;01mfor\u001b[39;00m func \u001b[38;5;129;01min\u001b[39;00m step_funcs:\n",
      "File \u001b[0;32m~/anaconda3/envs/mp/lib/python3.8/site-packages/meep/__init__.py:3041\u001b[0m, in \u001b[0;36mfields.step\u001b[0;34m(self)\u001b[0m\n\u001b[1;32m   3040\u001b[0m \u001b[38;5;28;01mdef\u001b[39;00m \u001b[38;5;21mstep\u001b[39m(\u001b[38;5;28mself\u001b[39m):\n\u001b[0;32m-> 3041\u001b[0m     \u001b[38;5;28;01mreturn\u001b[39;00m \u001b[43m_meep\u001b[49m\u001b[38;5;241;43m.\u001b[39;49m\u001b[43mfields_step\u001b[49m\u001b[43m(\u001b[49m\u001b[38;5;28;43mself\u001b[39;49m\u001b[43m)\u001b[49m\n",
      "\u001b[0;31mKeyboardInterrupt\u001b[0m: "
     ]
    }
   ],
   "source": [
    "# === 시뮬레이션 설정 === #\n",
    "sim = mp.Simulation(resolution=resolution,\n",
    "                    cell_size=cell_size,\n",
    "                    boundary_layers=boundary_layers,\n",
    "                    geometry=geometry,\n",
    "                    sources=sources,\n",
    "                    eps_averaging=False)\n",
    "\n",
    "# === OLED 시뮬레이션 실행 === #\n",
    "mp.verbosity(2)\n",
    "sim.reset_meep()\n",
    "sim.run(until=100.0)\n",
    "\n",
    "# === Flux 데이터 수집 === #\n",
    "flux_glass = np.asarray(mp.get_fluxes(trans_flux))\n",
    "flux_total = np.sum(flux_glass)  # 총 방출된 빛의 양\n",
    "\n",
    "# === 주파수를 파장으로 변환 === #\n",
    "freqs = np.linspace(fmin, fmax, len(flux_glass))  # 기존 주파수 값\n",
    "wavelengths = 1 / freqs  # 파장 변환 (단위: μm)"
   ]
  },
  {
   "cell_type": "markdown",
   "metadata": {},
   "source": [
    "### 9. Visualization of Results"
   ]
  },
  {
   "cell_type": "code",
   "execution_count": null,
   "metadata": {},
   "outputs": [],
   "source": [
    "def plot_geometry_2D(sim, plane='XZ'):\n",
    "    \"\"\" OLED 구조를 XZ 또는 YZ 평면에서 시각화 \"\"\"\n",
    "    eps_data = sim.get_epsilon()\n",
    "    plt.figure(figsize=(8,6), dpi=100)\n",
    "    \n",
    "    if plane == 'XZ':\n",
    "        plt.imshow(eps_data[:, int(resolution/2), :].T, origin=\"lower\", cmap=\"inferno\",\n",
    "                   extent=(-sxy/2, sxy/2, 0, sz))\n",
    "        plt.xlabel(\"X Position (μm)\")\n",
    "        plt.ylabel(\"Z Position (μm)\")\n",
    "        plt.title(\"OLED structure (XZ Plane)\")\n",
    "        \n",
    "    elif plane == 'YZ':\n",
    "        plt.imshow(eps_data[int(resolution/2), :, :].T, origin=\"lower\", cmap=\"inferno\",\n",
    "                   extent=(-sxy/2, sxy/2, 0, sz))\n",
    "        plt.xlabel(\"Y Position (μm)\")\n",
    "        plt.ylabel(\"Z Position (μm)\")\n",
    "        plt.title(\"OLED structure (YZ Plane)\")\n",
    "    \n",
    "    plt.colorbar(label=\"Relative Permittivity\")\n",
    "    plt.show()\n",
    "\n",
    "def plot_dipole_source():\n",
    "    plt.figure(figsize=(6,3))\n",
    "    plt.scatter(0, 0.5*sz-tPML-tGLS-tITO-0.5*tORG, color=\"red\", marker=\"o\", label=\"Dipole Source\")\n",
    "    plt.axhline(0.5*sz-tPML-tGLS-tITO-0.5*tORG, color=\"gray\", linestyle=\"--\")\n",
    "    plt.xlabel(\"X Position\")\n",
    "    plt.ylabel(\"Z Position\")\n",
    "    plt.title(\"Dipole Source 위치\")\n",
    "    plt.legend()\n",
    "    plt.grid()\n",
    "    plt.show()\n",
    "\n",
    "# === 전기장 (Ez 필드) 시각화 === #\n",
    "def plot_electric_field(sim):\n",
    "    \"\"\" 전기장 분포 (|Ez|²) 시각화 \"\"\"\n",
    "    Ez_data = np.abs(sim.get_array(center=mp.Vector3(), size=cell_size, component=mp.Ez))**2\n",
    "    plt.figure(figsize=(8,6))\n",
    "    plt.imshow(Ez_data[:,:,int(sim.resolution/2)].T, origin=\"lower\", cmap=\"plasma\", extent=(-L/2, L/2, -L/2, L/2))\n",
    "    plt.colorbar(label=\"|Ez|²\")\n",
    "    plt.title(\"Electric Field Distribution |Ez|²\")\n",
    "    plt.xlabel(\"X Position (μm)\")\n",
    "    plt.ylabel(\"Y Position (μm)\")\n",
    "    plt.show()\n",
    "\n",
    "# === Flux 결과 시각화 (파장 기반) === #\n",
    "def plot_flux_results(flux_glass, flux_waveguide, flux_total):\n",
    "    plt.figure(figsize=(8,5))\n",
    "    plt.plot(wavelengths, flux_glass, label=\"Extracted Light (Glass Region)\", color=\"blue\")\n",
    "    plt.plot(freqs, flux_waveguide, label=\"Waveguide Mode\", color=\"red\", linestyle=\"dashed\")\n",
    "    plt.plot(wavelengths, flux_total * np.ones(len(wavelengths)), label=\"Total Flux\", color=\"green\", linestyle=\"dotted\")\n",
    "\n",
    "    plt.xlabel(\"Wavelength (μm)\")  # X축을 파장으로 변경\n",
    "    plt.ylabel(\"Flux\")\n",
    "    plt.title(\"Flux Analysis of OLED Emission\")\n",
    "    plt.legend()\n",
    "    plt.grid()\n",
    "    plt.show()\n",
    "\n",
    "# === 시각화 실행 === #\n",
    "plot_geometry_2D(sim, plane='XZ')  # XZ 단면 시각화\n",
    "plot_geometry_2D(sim, plane='YZ')  # YZ 단면 시각화\n",
    "plot_dipole_source()        # 2. 다이폴 소스 위치\n",
    "plot_electric_field(sim)  # 전기장 분포 시각화\n",
    "plot_flux_results(flux_glass, flux_total)  # OLED 광추출효율(LEE) 그래프"
   ]
  }
 ],
 "metadata": {
  "kernelspec": {
   "display_name": "mp",
   "language": "python",
   "name": "python3"
  },
  "language_info": {
   "codemirror_mode": {
    "name": "ipython",
    "version": 3
   },
   "file_extension": ".py",
   "mimetype": "text/x-python",
   "name": "python",
   "nbconvert_exporter": "python",
   "pygments_lexer": "ipython3",
   "version": "3.8.20"
  }
 },
 "nbformat": 4,
 "nbformat_minor": 2
}
