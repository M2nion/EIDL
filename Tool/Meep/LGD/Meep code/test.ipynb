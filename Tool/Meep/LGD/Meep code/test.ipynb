{
 "cells": [
  {
   "cell_type": "code",
   "execution_count": 13,
   "metadata": {},
   "outputs": [],
   "source": [
    "import meep as mp\n",
    "import matplotlib.pyplot as plt"
   ]
  },
  {
   "cell_type": "code",
   "execution_count": 14,
   "metadata": {},
   "outputs": [],
   "source": [
    "SiO2 = mp.Medium(index=1.45)"
   ]
  },
  {
   "cell_type": "code",
   "execution_count": 15,
   "metadata": {},
   "outputs": [],
   "source": [
    "cell_size = (0.3,0,0.3)\n",
    "\n",
    "boundary_layer = [\n",
    "    mp.PML(0.05, mp.X),\n",
    "    mp.PML(0.05, mp.Z)\n",
    "                  ]"
   ]
  },
  {
   "cell_type": "code",
   "execution_count": 16,
   "metadata": {},
   "outputs": [],
   "source": [
    "lambda_min = 0.4\n",
    "lambda_max = 0.7\n",
    "fmin = 1 / lambda_min\n",
    "fmax = 1 / lambda_max\n",
    "fcen = 0.5 * (fmin+fmax)\n",
    "df = fmax - fmin\n",
    "resolution = 100\n",
    "nfreq = 25"
   ]
  },
  {
   "cell_type": "code",
   "execution_count": 17,
   "metadata": {},
   "outputs": [],
   "source": [
    "source_center = mp.Vector3(0,0,0)\n",
    "sources = [mp.Source(\n",
    "    src=mp.ContinuousSource(frequency=fcen, fwidth=df),\n",
    "    component=mp.Ez,\n",
    "    center=source_center\n",
    ")]"
   ]
  },
  {
   "cell_type": "code",
   "execution_count": 18,
   "metadata": {},
   "outputs": [],
   "source": [
    "sim = mp.Simulation(\n",
    "    cell_size=cell_size,\n",
    "    default_material=mp.Medium(index=1),\n",
    "    boundary_layers=boundary_layer,\n",
    "    sources=sources,\n",
    "    resolution=resolution\n",
    ")"
   ]
  },
  {
   "cell_type": "code",
   "execution_count": 19,
   "metadata": {},
   "outputs": [
    {
     "name": "stdout",
     "output_type": "stream",
     "text": [
      "-----------\n",
      "Initializing structure...\n",
      "time for choose_chunkdivision = 4.79221e-05 s\n",
      "Working in 3D dimensions.\n",
      "Computational cell is 0.3 x 0.01 x 0.3 with resolution 100\n",
      "time for set_epsilon = 0.00166297 s\n",
      "-----------\n"
     ]
    }
   ],
   "source": [
    "# --- Flux 모니터 4면 등록 (tight box 기준) ---\n",
    "offset = 0.05\n",
    "flux_size_x = 0.1\n",
    "flux_size_y = 0.1\n",
    "\n",
    "# Dipole 위치\n",
    "source_center = mp.Vector3(0, 0, 0)\n",
    "\n",
    "# 박스 4면\n",
    "flux_x1 = sim.add_flux(fcen, df, nfreq, mp.FluxRegion(\n",
    "    center=source_center - mp.Vector3(offset, 0, 0),\n",
    "    size=mp.Vector3(0, 0, flux_size_y),\n",
    "    direction=mp.Z,\n",
    "    weight=-1\n",
    "))\n",
    "flux_x1_get = sim.get_flux_data(flux_x1)\n",
    "\n",
    "flux_x2 = sim.add_flux(fcen, df, nfreq, mp.FluxRegion(\n",
    "    center=source_center + mp.Vector3(offset, 0, 0),\n",
    "    size=mp.Vector3(0, 0, flux_size_x),\n",
    "    direction=mp.Z\n",
    "))\n",
    "flux_x2_get = sim.get_flux_data(flux_x2)\n",
    "\n",
    "flux_y1 = sim.add_flux(fcen, df, nfreq, mp.FluxRegion(\n",
    "    center=source_center - mp.Vector3(0, 0, offset),\n",
    "    size=mp.Vector3(flux_size_y, 0),\n",
    "    direction=mp.Z,\n",
    "    weight=-1\n",
    "))\n",
    "flux_y1_get = sim.get_flux_data(flux_y1)\n",
    "\n",
    "flux_y2 = sim.add_flux(fcen, df, nfreq, mp.FluxRegion(\n",
    "    center=source_center + mp.Vector3(0, 0, offset),\n",
    "    size=mp.Vector3(flux_size_y, 0),\n",
    "    direction=mp.Z\n",
    "))\n",
    "flux_y2_get = sim.get_flux_data(flux_y2)\n"
   ]
  },
  {
   "cell_type": "code",
   "execution_count": 20,
   "metadata": {},
   "outputs": [
    {
     "data": {
      "image/png": "[encoded data removed]",
      "text/plain": [
       "<Figure size 640x480 with 1 Axes>"
      ]
     },
     "metadata": {},
     "output_type": "display_data"
    }
   ],
   "source": [
    "sim.plot2D()\n",
    "plt.show()"
   ]
  },
  {
   "cell_type": "code",
   "execution_count": 21,
   "metadata": {},
   "outputs": [
    {
     "name": "stdout",
     "output_type": "stream",
     "text": [
      "run 0 finished at t = 50.0 (10000 timesteps)\n"
     ]
    }
   ],
   "source": [
    "sim.run(until=50)"
   ]
  },
  {
   "cell_type": "code",
   "execution_count": 22,
   "metadata": {},
   "outputs": [],
   "source": [
    "# sim.run(until_after_sources = mp.stop_when_fields_decayed(50, mp.Ey, source_center, 1e-6))"
   ]
  },
  {
   "cell_type": "code",
   "execution_count": 23,
   "metadata": {},
   "outputs": [
    {
     "name": "stdout",
     "output_type": "stream",
     "text": [
      "[[0.+0.j 0.+0.j 0.+0.j ... 0.+0.j 0.+0.j 0.+0.j]\n",
      " [0.+0.j 0.+0.j 0.+0.j ... 0.+0.j 0.+0.j 0.+0.j]\n",
      " [0.+0.j 0.+0.j 0.+0.j ... 0.+0.j 0.+0.j 0.+0.j]\n",
      " ...\n",
      " [0.+0.j 0.+0.j 0.+0.j ... 0.+0.j 0.+0.j 0.+0.j]\n",
      " [0.+0.j 0.+0.j 0.+0.j ... 0.+0.j 0.+0.j 0.+0.j]\n",
      " [0.+0.j 0.+0.j 0.+0.j ... 0.+0.j 0.+0.j 0.+0.j]]\n"
     ]
    }
   ],
   "source": [
    "import numpy as np\n",
    "net_power = np.array(flux_x2_get+flux_x1_get+flux_y2_get+flux_y1_get)\n",
    "print(net_power)"
   ]
  }
 ],
 "metadata": {
  "kernelspec": {
   "display_name": "meep",
   "language": "python",
   "name": "python3"
  },
  "language_info": {
   "codemirror_mode": {
    "name": "ipython",
    "version": 3
   },
   "file_extension": ".py",
   "mimetype": "text/x-python",
   "name": "python",
   "nbconvert_exporter": "python",
   "pygments_lexer": "ipython3",
   "version": "3.8.20"
  }
 },
 "nbformat": 4,
 "nbformat_minor": 2
}
