{
 "cells": [
  {
   "cell_type": "code",
   "execution_count": 1,
   "metadata": {},
   "outputs": [],
   "source": [
    "import meep as mp\n",
    "import matplotlib.pyplot as plt\n",
    "import numpy as np"
   ]
  },
  {
   "cell_type": "code",
   "execution_count": 2,
   "metadata": {},
   "outputs": [],
   "source": [
    "cell_size = (2,2,0)\n",
    "\n",
    "boundary_layer = [\n",
    "    mp.PML(0.3, mp.X),\n",
    "    mp.PML(0.3, mp.Y)\n",
    "                  ]"
   ]
  },
  {
   "cell_type": "code",
   "execution_count": 3,
   "metadata": {},
   "outputs": [],
   "source": [
    "lambda_min = 0.4\n",
    "lambda_max = 0.7\n",
    "fmin = 1 / lambda_min\n",
    "fmax = 1 / lambda_max\n",
    "fcen = 0.5 * (fmin+fmax) \n",
    "df = fmax - fmin\n",
    "resolution = 100\n",
    "nfreq = 50"
   ]
  },
  {
   "cell_type": "code",
   "execution_count": 12,
   "metadata": {},
   "outputs": [],
   "source": [
    "source_center = mp.Vector3(0,0,0)\n",
    "sources = [mp.Source(\n",
    "    src=mp.GaussianSource(frequency=fcen, fwidth=df),\n",
    "    component=mp.Ey,\n",
    "    center=source_center\n",
    ")]"
   ]
  },
  {
   "cell_type": "code",
   "execution_count": 13,
   "metadata": {},
   "outputs": [],
   "source": [
    "sim = mp.Simulation(\n",
    "    cell_size=cell_size,\n",
    "    default_material=mp.Medium(index=1),\n",
    "    boundary_layers=boundary_layer,\n",
    "    sources=sources,\n",
    "    resolution=resolution\n",
    ")"
   ]
  },
  {
   "cell_type": "code",
   "execution_count": 14,
   "metadata": {},
   "outputs": [],
   "source": [
    "offset = 0.01\n",
    "flux_size_x = 0.02\n",
    "flux_size_y = 0.02\n",
    "\n",
    "box_power = sim.add_flux(\n",
    "    fcen, df, nfreq,\n",
    "    mp.FluxRegion(\n",
    "        center=source_center - mp.Vector3(offset, 0, 0),\n",
    "        size=mp.Vector3(0, flux_size_y, 0),\n",
    "        direction=mp.Y,\n",
    "        weight=-1\n",
    "    ),\n",
    "    mp.FluxRegion(\n",
    "        center=source_center + mp.Vector3(offset, 0, 0),\n",
    "        size=mp.Vector3(0, flux_size_x, 0),\n",
    "        direction=mp.Y\n",
    "    ),\n",
    "    mp.FluxRegion(\n",
    "        center=source_center - mp.Vector3(0, offset, 0),\n",
    "        size=mp.Vector3(flux_size_y, 0),\n",
    "        direction=mp.Y,\n",
    "        weight=-1\n",
    "    ),\n",
    "    mp.FluxRegion(\n",
    "        center=source_center + mp.Vector3(0, offset, 0),\n",
    "        size=mp.Vector3(flux_size_y, 0),\n",
    "        direction=mp.Y\n",
    "    )\n",
    ")"
   ]
  },
  {
   "cell_type": "markdown",
   "metadata": {},
   "source": [
    "아래는 continuous source로 데이터 출력하는 경우"
   ]
  },
  {
   "cell_type": "code",
   "execution_count": 6,
   "metadata": {},
   "outputs": [
    {
     "name": "stdout",
     "output_type": "stream",
     "text": [
      "-----------\n",
      "Initializing structure...\n",
      "time for choose_chunkdivision = 0.000118017 s\n",
      "Working in 2D dimensions.\n",
      "Computational cell is 2 x 2 x 0 with resolution 100\n",
      "time for set_epsilon = 0.0217481 s\n",
      "-----------\n",
      "run 0 finished at t = 50.005 (10001 timesteps)\n"
     ]
    },
    {
     "ename": "NameError",
     "evalue": "name 'flux_x1' is not defined",
     "output_type": "error",
     "traceback": [
      "\u001b[0;31m---------------------------------------------------------------------------\u001b[0m",
      "\u001b[0;31mNameError\u001b[0m                                 Traceback (most recent call last)",
      "Cell \u001b[0;32mIn[6], line 3\u001b[0m\n\u001b[1;32m      1\u001b[0m sim\u001b[38;5;241m.\u001b[39mrun(until_after_sources\u001b[38;5;241m=\u001b[39mmp\u001b[38;5;241m.\u001b[39mstop_when_fields_decayed(\u001b[38;5;241m50\u001b[39m, mp\u001b[38;5;241m.\u001b[39mEy, mp\u001b[38;5;241m.\u001b[39mVector3(), \u001b[38;5;241m1e-8\u001b[39m))\n\u001b[0;32m----> 3\u001b[0m Px1 \u001b[38;5;241m=\u001b[39m mp\u001b[38;5;241m.\u001b[39mget_fluxes(\u001b[43mflux_x1\u001b[49m)\n\u001b[1;32m      4\u001b[0m Px2 \u001b[38;5;241m=\u001b[39m mp\u001b[38;5;241m.\u001b[39mget_fluxes(flux_x2)\n\u001b[1;32m      6\u001b[0m Py1 \u001b[38;5;241m=\u001b[39m mp\u001b[38;5;241m.\u001b[39mget_fluxes(flux_y1)\n",
      "\u001b[0;31mNameError\u001b[0m: name 'flux_x1' is not defined"
     ]
    }
   ],
   "source": [
    "sim.run(until_after_sources=mp.stop_when_fields_decayed(50, mp.Ey, mp.Vector3(), 1e-8))\n",
    "\n",
    "Px1 = mp.get_fluxes(flux_x1)\n",
    "Px2 = mp.get_fluxes(flux_x2)\n",
    "\n",
    "Py1 = mp.get_fluxes(flux_y1)\n",
    "Py2 = mp.get_fluxes(flux_y2)\n",
    "\n",
    "freqs = mp.get_flux_freqs(flux_x1)"
   ]
  },
  {
   "cell_type": "code",
   "execution_count": 20,
   "metadata": {},
   "outputs": [
    {
     "name": "stdout",
     "output_type": "stream",
     "text": [
      "on time step 4000 (time=20), 0.0284929 s/step\n",
      "run 4 finished at t = 25.0 (5000 timesteps)\n"
     ]
    },
    {
     "ename": "TypeError",
     "evalue": "get_dft_flux_array() missing 3 required positional arguments: 'dft', 'c', and 'num_freq'",
     "output_type": "error",
     "traceback": [
      "\u001b[0;31m---------------------------------------------------------------------------\u001b[0m",
      "\u001b[0;31mTypeError\u001b[0m                                 Traceback (most recent call last)",
      "Cell \u001b[0;32mIn[20], line 4\u001b[0m\n\u001b[1;32m      1\u001b[0m sim\u001b[38;5;241m.\u001b[39mrun(until\u001b[38;5;241m=\u001b[39m\u001b[38;5;241m5\u001b[39m)\n\u001b[1;32m      3\u001b[0m \u001b[38;5;66;03m# freqs = mp.get_flux_freqs(box_power)\u001b[39;00m\n\u001b[0;32m----> 4\u001b[0m box_po \u001b[38;5;241m=\u001b[39m \u001b[43mmp\u001b[49m\u001b[38;5;241;43m.\u001b[39;49m\u001b[43mget_dft_flux_array\u001b[49m\u001b[43m(\u001b[49m\u001b[43mbox_power\u001b[49m\u001b[43m)\u001b[49m\n",
      "\u001b[0;31mTypeError\u001b[0m: get_dft_flux_array() missing 3 required positional arguments: 'dft', 'c', and 'num_freq'"
     ]
    }
   ],
   "source": [
    "sim.run(until=5)\n",
    "\n",
    "# freqs = mp.get_flux_freqs(box_power)\n",
    "box_po = mp.get_dft_flux_array(box_power)"
   ]
  },
  {
   "cell_type": "code",
   "execution_count": 16,
   "metadata": {},
   "outputs": [
    {
     "data": {
      "text/plain": [
       "[0.0,\n",
       " 0.0,\n",
       " 0.0,\n",
       " 0.0,\n",
       " 0.0,\n",
       " 0.0,\n",
       " 0.0,\n",
       " 0.0,\n",
       " 0.0,\n",
       " 0.0,\n",
       " 0.0,\n",
       " 0.0,\n",
       " 0.0,\n",
       " 0.0,\n",
       " 0.0,\n",
       " 0.0,\n",
       " 0.0,\n",
       " 0.0,\n",
       " 0.0,\n",
       " 0.0,\n",
       " 0.0,\n",
       " 0.0,\n",
       " 0.0,\n",
       " 0.0,\n",
       " 0.0,\n",
       " 0.0,\n",
       " 0.0,\n",
       " 0.0,\n",
       " 0.0,\n",
       " 0.0,\n",
       " 0.0,\n",
       " 0.0,\n",
       " 0.0,\n",
       " 0.0,\n",
       " 0.0,\n",
       " 0.0,\n",
       " 0.0,\n",
       " 0.0,\n",
       " 0.0,\n",
       " 0.0,\n",
       " 0.0,\n",
       " 0.0,\n",
       " 0.0,\n",
       " 0.0,\n",
       " 0.0,\n",
       " 0.0,\n",
       " 0.0,\n",
       " 0.0,\n",
       " 0.0,\n",
       " 0.0]"
      ]
     },
     "execution_count": 16,
     "metadata": {},
     "output_type": "execute_result"
    }
   ],
   "source": [
    "box_po"
   ]
  },
  {
   "cell_type": "code",
   "execution_count": 9,
   "metadata": {},
   "outputs": [
    {
     "data": {
      "image/png": "[encoded data removed]",
      "text/plain": [
       "<Figure size 640x480 with 1 Axes>"
      ]
     },
     "metadata": {},
     "output_type": "display_data"
    }
   ],
   "source": [
    "sim.plot2D(\n",
    "    output_plane=mp.Volume(center = mp.Vector3(0,0,0), size = mp.Vector3(0.25,0.25,0))\n",
    ")\n",
    "plt.show()"
   ]
  },
  {
   "cell_type": "code",
   "execution_count": 41,
   "metadata": {},
   "outputs": [
    {
     "ename": "NameError",
     "evalue": "name 'Px1' is not defined",
     "output_type": "error",
     "traceback": [
      "\u001b[0;31m---------------------------------------------------------------------------\u001b[0m",
      "\u001b[0;31mNameError\u001b[0m                                 Traceback (most recent call last)",
      "Cell \u001b[0;32mIn[41], line 1\u001b[0m\n\u001b[0;32m----> 1\u001b[0m Px1 \u001b[38;5;241m=\u001b[39m np\u001b[38;5;241m.\u001b[39marray(\u001b[43mPx1\u001b[49m)\n\u001b[1;32m      2\u001b[0m Px2 \u001b[38;5;241m=\u001b[39m np\u001b[38;5;241m.\u001b[39marray(Px2)\n\u001b[1;32m      3\u001b[0m Py1 \u001b[38;5;241m=\u001b[39m np\u001b[38;5;241m.\u001b[39marray(Py1)\n",
      "\u001b[0;31mNameError\u001b[0m: name 'Px1' is not defined"
     ]
    }
   ],
   "source": [
    "Px1 = np.array(Px1)\n",
    "Px2 = np.array(Px2)\n",
    "Py1 = np.array(Py1)\n",
    "Py2 = np.array(Py2)\n",
    "\n",
    "\n"
   ]
  },
  {
   "cell_type": "code",
   "execution_count": 25,
   "metadata": {},
   "outputs": [
    {
     "ename": "NameError",
     "evalue": "name 'Px1' is not defined",
     "output_type": "error",
     "traceback": [
      "\u001b[0;31m---------------------------------------------------------------------------\u001b[0m",
      "\u001b[0;31mNameError\u001b[0m                                 Traceback (most recent call last)",
      "Cell \u001b[0;32mIn[25], line 1\u001b[0m\n\u001b[0;32m----> 1\u001b[0m net_power \u001b[38;5;241m=\u001b[39m (\u001b[43mPx1\u001b[49m\u001b[38;5;241m+\u001b[39mPx2\u001b[38;5;241m+\u001b[39mPy1\u001b[38;5;241m+\u001b[39mPy2)\n\u001b[1;32m      2\u001b[0m \u001b[38;5;28mprint\u001b[39m(net_power)\n\u001b[1;32m      3\u001b[0m \u001b[38;5;28mprint\u001b[39m(freqs)\n",
      "\u001b[0;31mNameError\u001b[0m: name 'Px1' is not defined"
     ]
    }
   ],
   "source": [
    "net_power = (Px1+Px2+Py1+Py2)\n",
    "print(net_power)\n",
    "print(freqs)\n"
   ]
  },
  {
   "cell_type": "code",
   "execution_count": 10,
   "metadata": {},
   "outputs": [],
   "source": [
    "freqs = mp.get_flux_freqs(box_power)\n",
    "\n",
    "wavelengths = [1/f for f in freqs]"
   ]
  },
  {
   "cell_type": "markdown",
   "metadata": {},
   "source": [
    "# ------------Homogeneous dipole sourcepower------------"
   ]
  },
  {
   "cell_type": "code",
   "execution_count": 11,
   "metadata": {},
   "outputs": [
    {
     "data": {
      "image/png": "[encoded data removed]",
      "text/plain": [
       "<Figure size 800x600 with 1 Axes>"
      ]
     },
     "metadata": {},
     "output_type": "display_data"
    }
   ],
   "source": [
    "plt.figure(figsize=(8, 6))\n",
    "plt.plot(wavelengths, box_po, '-', label='dipolepower_box')\n",
    "plt.xlabel('Wavelength (μm)')\n",
    "plt.ylabel('Dipolepower_box')\n",
    "plt.title('Homogeneous dipolepower_box')\n",
    "plt.ylim(-4, 14)  # y축 최소값: -4, 최대값: 14\n",
    "plt.legend()\n",
    "plt.grid(True)\n",
    "plt.show()"
   ]
  },
  {
   "cell_type": "markdown",
   "metadata": {},
   "source": []
  }
 ],
 "metadata": {
  "kernelspec": {
   "display_name": "Python 3",
   "language": "python",
   "name": "python3"
  },
  "language_info": {
   "codemirror_mode": {
    "name": "ipython",
    "version": 3
   },
   "file_extension": ".py",
   "mimetype": "text/x-python",
   "name": "python",
   "nbconvert_exporter": "python",
   "pygments_lexer": "ipython3",
   "version": "3.8.19"
  }
 },
 "nbformat": 4,
 "nbformat_minor": 2
}
