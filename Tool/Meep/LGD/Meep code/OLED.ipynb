{
 "cells": [
  {
   "cell_type": "code",
   "execution_count": 2,
   "metadata": {},
   "outputs": [],
   "source": [
    "import meep as mp\n",
    "import numpy as np\n",
    "import matplotlib.pyplot as plt\n",
    "import nlopt\n",
    "from meep_material import lorentzfit"
   ]
  },
  {
   "cell_type": "code",
   "execution_count": 3,
   "metadata": {},
   "outputs": [],
   "source": [
    "lambda_min = 0.4\n",
    "lambda_max = 0.7\n",
    "fmin = 1 / lambda_min\n",
    "fmax = 1 / lambda_max\n",
    "fcen = 0.5 * (fmin+fmax)\n",
    "df = fmax - fmin\n",
    "resolution = 200\n",
    "nfreq = 25"
   ]
  },
  {
   "cell_type": "code",
   "execution_count": 4,
   "metadata": {},
   "outputs": [
    {
     "name": "stdout",
     "output_type": "stream",
     "text": [
      "Iteration   0, error: 0.000012\n",
      "Iteration   1, error: 0.000021\n",
      "Iteration   2, error: 0.000013\n",
      "Iteration   3, error: 0.000015\n",
      "Iteration   4, error: 0.000016\n",
      "Optimal error: 0.000012\n",
      "Iteration   0, error: 54.483567\n",
      "Iteration   1, error: 64.226780\n",
      "Iteration   2, error: 64.226780\n",
      "Iteration   3, error: 64.226780\n",
      "Iteration   4, error: 54.483567\n",
      "Optimal error: 54.483567\n",
      "Iteration   0, error: 0.032559\n",
      "Iteration   1, error: 0.028183\n",
      "Iteration   2, error: 0.028058\n",
      "Iteration   3, error: 0.028701\n",
      "Iteration   4, error: 0.028058\n",
      "Optimal error: 0.028058\n"
     ]
    }
   ],
   "source": [
    "def Material_fit(Material_data_csv=\".\", \n",
    "                   eps_inf=1,\n",
    "                   fit_wl_min=0.38, fit_wl_max=0.72,\n",
    "                   num_lorentzians=2, iteration=5\n",
    "                   ):    \n",
    "\n",
    "    # 1. 데이터 로드 및 전처리\n",
    "    data = np.genfromtxt(Material_data_csv, delimiter=\",\")\n",
    "    wl = data[:, 0] * 1e6  # 파장 (µm)\n",
    "    n_data = data[:, 1] + 1j * data[:, 2]\n",
    "    eps_all = np.square(n_data) - eps_inf\n",
    "\n",
    "    # 피팅 범위로 데이터 선택\n",
    "    mask = (wl >= fit_wl_min) & (wl <= fit_wl_max)\n",
    "    wl_fit, eps_fit = wl[mask], eps_all[mask]\n",
    "    freqs_fit = 1 / wl_fit\n",
    "\n",
    "    # 2. Lorentzian 피팅 최적화\n",
    "    ps = np.zeros((iteration, 3 * num_lorentzians))\n",
    "    errors = np.zeros(iteration)\n",
    "    for m in range(iteration):\n",
    "        p_rand = [10 ** np.random.random() for _ in range(3 * num_lorentzians)]\n",
    "        ps[m, :], errors[m] = lorentzfit(p_rand, freqs_fit, eps_fit, nlopt.LD_MMA, 1e-25, 50000)\n",
    "        print(f\"Iteration {m:3d}, error: {errors[m]:.6f}\")\n",
    "    best = np.argmin(errors)\n",
    "    print(f\"Optimal error: {errors[best]:.6f}\")\n",
    "\n",
    "    # 3. 최적 파라미터로 Susceptibility 생성 및 Meep 모델 구성\n",
    "    suscept = []\n",
    "    for i in range(num_lorentzians):\n",
    "        freq_param = ps[best][3*i + 1]\n",
    "        gamma = ps[best][3*i + 2]\n",
    "        if freq_param == 0:\n",
    "            sigma = ps[best][3*i + 0]\n",
    "            suscept.append(mp.DrudeSusceptibility(frequency=1.0, gamma=gamma, sigma=sigma))\n",
    "        else:\n",
    "            sigma = ps[best][3*i + 0] / freq_param**2\n",
    "            suscept.append(mp.LorentzianSusceptibility(frequency=freq_param, gamma=gamma, sigma=sigma))\n",
    "\n",
    "    return eps_inf, suscept\n",
    "\n",
    "sio2_data_path = \"/home/min/EIDL/Tool/Meep/LGD/Material CSV/Al_Palik/Data/CSV file/SiO2/CSV/SiO2_palik_data.csv\"\n",
    "al_data_path = \"/home/min/EIDL/Tool/Meep/LGD/Material CSV/Al_Palik/Data/CSV file/Al_Palik/CSV/Al_palik_data.csv\"\n",
    "andp_data_path = \"/home/min/EIDL/Tool/Meep/LGD/Material CSV/Al_Palik/Data/CSV file/aNDP/CSV/aNPD_PFA_data.csv\"\n",
    "\n",
    "eps_inf_sio2, suscept_sio2 = Material_fit(Material_data_csv=sio2_data_path)\n",
    "eps_inf_al, suscept_al = Material_fit(Material_data_csv=al_data_path)\n",
    "eps_inf_andp, suscept_andp = Material_fit(Material_data_csv=andp_data_path)"
   ]
  },
  {
   "cell_type": "code",
   "execution_count": 5,
   "metadata": {},
   "outputs": [],
   "source": [
    "Glass = mp.Medium(epsilon=eps_inf_sio2, E_susceptibilities=suscept_sio2) # SiO2 \n",
    "aNDP = mp.Medium(epsilon=eps_inf_andp, E_susceptibilities = suscept_andp) # aNDP \n",
    "Cathode = mp.Medium(epsilon=eps_inf_al, E_susceptibilities = suscept_al) # Al"
   ]
  },
  {
   "cell_type": "code",
   "execution_count": 6,
   "metadata": {},
   "outputs": [],
   "source": [
    "### ----- Refractive index ----- ###\n",
    "CoverLayer = mp.Medium(index=1.0) # SiN \n",
    "ITO = mp.Medium(index=1.8) \n",
    "Alq3 = mp.Medium(index=1.68) \n",
    "Air = mp.Medium(index=1.0) # 공기"
   ]
  },
  {
   "cell_type": "code",
   "execution_count": 7,
   "metadata": {},
   "outputs": [
    {
     "name": "stdout",
     "output_type": "stream",
     "text": [
      "2.0\n"
     ]
    }
   ],
   "source": [
    "Glass_layer = 1.37\n",
    "Cover_layer = 0.07\n",
    "ITO_layer = 0.15\n",
    "aNDP_layer = 0.05\n",
    "Alq3_layer = 0.06\n",
    "Cathode_layer = 0.3\n",
    "\n",
    "pml_layer = 0.3\n",
    "\n",
    "print(Glass_layer+Cover_layer+Cathode_layer+aNDP_layer+ITO_layer+Alq3_layer)"
   ]
  },
  {
   "cell_type": "code",
   "execution_count": 8,
   "metadata": {},
   "outputs": [],
   "source": [
    "# PML 경계조건\n",
    "# boundary_layers = [mp.PML(pml_layer)] \n",
    "\n",
    "boundary_layers = [\n",
    "    mp.PML(thickness=pml_layer, direction=mp.X, side=mp.Low),  # 좌측 PML\n",
    "    mp.PML(thickness=pml_layer, direction=mp.X, side=mp.High), # 우측 PML\n",
    "    mp.PML(thickness=pml_layer, direction=mp.Y, side=mp.High), # 상단 PML\n",
    "]"
   ]
  },
  {
   "cell_type": "code",
   "execution_count": 9,
   "metadata": {},
   "outputs": [],
   "source": [
    "geometry = [\n",
    "    # Cathode (하단)\n",
    "    mp.Block(\n",
    "        center=mp.Vector3(0, -0.85, 0),\n",
    "        size=mp.Vector3(30, Cathode_layer, 0),\n",
    "        material=Cathode\n",
    "    ),\n",
    "    # Alq3\n",
    "    mp.Block(\n",
    "        center=mp.Vector3(0, -0.67, 0),\n",
    "        size=mp.Vector3(30, Alq3_layer, 0),\n",
    "        material=Alq3\n",
    "    ),\n",
    "    # aNDP\n",
    "    mp.Block(\n",
    "        center=mp.Vector3(0, -0.615, 0),\n",
    "        size=mp.Vector3(30, aNDP_layer, 0),\n",
    "        material=aNDP\n",
    "    ),\n",
    "    # ITO\n",
    "    mp.Block(\n",
    "        center=mp.Vector3(0, -0.515, 0),\n",
    "        size=mp.Vector3(30, ITO_layer, 0),\n",
    "        material=ITO\n",
    "    ),\n",
    "    # Cover layer\n",
    "    mp.Block(\n",
    "        center=mp.Vector3(0, -0.405, 0),\n",
    "        size=mp.Vector3(30, Cover_layer, 0),\n",
    "        material=CoverLayer\n",
    "    ),\n",
    "    # Glass (상단; (0,0,0)은 이 Glass 내부에 위치함)\n",
    "    mp.Block(\n",
    "        center=mp.Vector3(0, 0.315, 0),\n",
    "        size=mp.Vector3(30, Glass_layer, 0),\n",
    "        material=Glass\n",
    "    )\n",
    "]"
   ]
  },
  {
   "cell_type": "code",
   "execution_count": 10,
   "metadata": {},
   "outputs": [],
   "source": [
    "cell_size = mp.Vector3(30, 2, 0)"
   ]
  },
  {
   "cell_type": "code",
   "execution_count": null,
   "metadata": {},
   "outputs": [],
   "source": [
    "# 1um 지점에 farfield 모니터\n",
    "# dft monitor <-> field monitor"
   ]
  },
  {
   "cell_type": "code",
   "execution_count": 11,
   "metadata": {},
   "outputs": [],
   "source": [
    "source_center = mp.Vector3(0,-0.67,0)\n",
    "sources = [mp.Source(\n",
    "    src=mp.GaussianSource(frequency=fcen, fwidth=df),\n",
    "    component=mp.Ey,\n",
    "    center=source_center\n",
    ")]"
   ]
  },
  {
   "cell_type": "code",
   "execution_count": 12,
   "metadata": {},
   "outputs": [
    {
     "data": {
      "text/plain": [
       "<Figure size 1280x960 with 0 Axes>"
      ]
     },
     "metadata": {},
     "output_type": "display_data"
    }
   ],
   "source": [
    "# === 시뮬레이션 설정 === #\n",
    "sim = mp.Simulation(\n",
    "    cell_size=cell_size,\n",
    "    boundary_layers=boundary_layers,\n",
    "    geometry=geometry,\n",
    "    sources=sources,\n",
    "    resolution=resolution,\n",
    ")\n",
    "\n",
    "plt.figure(dpi=200)\n",
    "plt.show()"
   ]
  },
  {
   "cell_type": "code",
   "execution_count": 13,
   "metadata": {},
   "outputs": [
    {
     "name": "stdout",
     "output_type": "stream",
     "text": [
      "     block, center = (0,-0.85,0)\n",
      "          size (30,0.3,0)\n",
      "          axes (1,0,0), (0,1,0), (0,0,1)\n",
      "          dielectric constant epsilon diagonal = (1,1,1)\n",
      "     block, center = (0,-0.67,0)\n",
      "          size (30,0.06,0)\n",
      "          axes (1,0,0), (0,1,0), (0,0,1)\n",
      "          dielectric constant epsilon diagonal = (2.8224,2.8224,2.8224)\n",
      "     block, center = (0,-0.615,0)\n",
      "          size (30,0.05,0)\n",
      "          axes (1,0,0), (0,1,0), (0,0,1)\n",
      "          dielectric constant epsilon diagonal = (1,1,1)\n",
      "     block, center = (0,-0.515,0)\n",
      "          size (30,0.15,0)\n",
      "          axes (1,0,0), (0,1,0), (0,0,1)\n",
      "          dielectric constant epsilon diagonal = (3.24,3.24,3.24)\n",
      "     block, center = (0,-0.405,0)\n",
      "          size (30,0.07,0)\n",
      "          axes (1,0,0), (0,1,0), (0,0,1)\n",
      "          dielectric constant epsilon diagonal = (1,1,1)\n",
      "     block, center = (0,0.315,0)\n",
      "          size (30,1.37,0)\n",
      "          axes (1,0,0), (0,1,0), (0,0,1)\n",
      "          dielectric constant epsilon diagonal = (1,1,1)\n"
     ]
    },
    {
     "data": {
      "text/plain": [
       "<Axes: xlabel='X', ylabel='Y'>"
      ]
     },
     "execution_count": 13,
     "metadata": {},
     "output_type": "execute_result"
    },
    {
     "data": {
      "image/png": "[encoded data removed]",
      "text/plain": [
       "<Figure size 1280x960 with 1 Axes>"
      ]
     },
     "metadata": {},
     "output_type": "display_data"
    }
   ],
   "source": [
    "plt.figure(dpi = 200)\n",
    "sim.plot2D()# output_plane=mp.Volume(center=mp.Vector3(y=0), size=mp.Vector3(Sx, 0, Sz)))"
   ]
  },
  {
   "cell_type": "code",
   "execution_count": null,
   "metadata": {},
   "outputs": [],
   "source": [
    "flux_dist = 1.0  # dipole로부터 거리\n",
    "flux_y1 = sim.add_flux(fcen, df, nfreq,\n",
    "    mp.FluxRegion(center=mp.Vector3(0, source_center.y - flux_dist), direction=mp.Y, weight=-1))\n",
    "flux_y2 = sim.add_flux(fcen, df, nfreq,\n",
    "    mp.FluxRegion(center=mp.Vector3(0, source_center.y + flux_dist), direction=mp.Y))\n",
    "\n",
    "# --- 시뮬레이션 실행 ---\n",
    "sim.run(until_after_sources=mp.stop_when_fields_decayed(50, mp.Ey, source_center, 1e-6))\n",
    "\n",
    "# --- flux 계산 ---\n",
    "flux_total = mp.get_fluxes(flux_y1) + mp.get_fluxes(flux_y2)\n",
    "frequencies = mp.get_flux_freqs(flux_y1)\n",
    "\n",
    "# --- 출력 ---\n",
    "print(\"frequency (1/μm)\\tnet power\")\n",
    "for i in range(nfreq):\n",
    "    print(f\"{frequencies[i]:.4f}\\t\\t{flux_total[i]:.6f}\")"
   ]
  },
  {
   "cell_type": "code",
   "execution_count": null,
   "metadata": {},
   "outputs": [],
   "source": [
    "plt.show()"
   ]
  }
 ],
 "metadata": {
  "kernelspec": {
   "display_name": "meep",
   "language": "python",
   "name": "python3"
  },
  "language_info": {
   "codemirror_mode": {
    "name": "ipython",
    "version": 3
   },
   "file_extension": ".py",
   "mimetype": "text/x-python",
   "name": "python",
   "nbconvert_exporter": "python",
   "pygments_lexer": "ipython3",
   "version": "3.8.20"
  }
 },
 "nbformat": 4,
 "nbformat_minor": 2
}
