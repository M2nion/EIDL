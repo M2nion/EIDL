{
 "cells": [
  {
   "cell_type": "code",
   "execution_count": null,
   "id": "76bd6ced",
   "metadata": {},
   "outputs": [],
   "source": [
    "import meep as mp\n",
    "import matplotlib.pyplot as plt\n",
    "import numpy as np\n",
    "import pickle\n",
    "import os\n",
    "\n",
    "from autograd import numpy as npa\n",
    "import meep.adjoint as mpa"
   ]
  },
  {
   "cell_type": "code",
   "execution_count": 118,
   "id": "b861073c",
   "metadata": {},
   "outputs": [],
   "source": [
    "from meep.materials import Al\n",
    "\n",
    "Air = mp.Medium(index = 1)\n",
    "\n",
    "alq3 = mp.Medium(index = 1.68)\n",
    "aNDP = mp.Medium(index = 3.6)\n",
    "ITO_m = mp.Medium(index = 1.8)\n",
    "SiN = mp.Medium(index = 1.9)\n",
    "\n",
    "SiO2 = mp.Medium(index = 1.45)\n",
    "\n",
    "wl_r = 0.65\n",
    "wl_g = 0.53\n",
    "wl_b = 0.45\n",
    "\n",
    "wavelengths = np.array([wl_r, wl_g, wl_b])\n",
    "frequencies = 1 / wavelengths\n",
    "\n",
    "width = 0.2\n",
    "frequencies_width = 0.1\n",
    "\n",
    "dal = 0.3\n",
    "dalq3 = 0.06\n",
    "dandp = 0.06\n",
    "dito = 0.16\n",
    "dcoverglass = 0.08\n",
    "\n",
    "design_region_width = 1.04\n",
    "design_region_height = 2.36\n",
    "\n",
    "dpml = 1\n",
    "dair = 1\n",
    "\n",
    "resolution = 50\n",
    "\n",
    "full_size = dal+dalq3+dandp+dito+dcoverglass+design_region_height+dair+dpml\n",
    "\n",
    "sx = design_region_width\n",
    "sy = design_region_height\n",
    "cell_size = mp.Vector3(design_region_width, full_size)\n",
    "\n",
    "pml_layers = [mp.PML(thickness = dpml, direction=mp.Y, side = mp.High)]\n",
    "\n",
    "# conic filter radius\n",
    "eta_i=0.5\n",
    "eta_e=0.55\n",
    "eta_d=1-eta_e\n",
    "minimum_length=0.09\n",
    "\n",
    "filter_radius=mpa.get_conic_radius_from_eta_e(minimum_length,eta_e)\n",
    "\n",
    "Nx=int(100)\n",
    "Ny=int(1)\n",
    "design_region_resolution=Nx/design_region_width\n",
    "\n",
    "design_variables=mp.MaterialGrid(mp.Vector3(Nx,Ny),Air,SiO2,grid_type=\"U_MEAN\")\n",
    "\n",
    "design_region=mpa.DesignRegion(design_variables,\n",
    "                               center=mp.Vector3(0,-0.5*sy+dpml+dair+0.5*design_region_height,0),\n",
    "                               size=mp.Vector3(design_region_width,design_region_height))\n",
    "\n",
    "# bloch boundary condition\n",
    "k_point = mp.Vector3(0, 0, 0)  # x 방향 주기 조건 적용 (Bloch-periodic with zero phase shift)\n"
   ]
  },
  {
   "cell_type": "code",
   "execution_count": 119,
   "id": "887665b5",
   "metadata": {},
   "outputs": [],
   "source": [
    "# 총 셀 높이 (y 방향)\n",
    "full_size = dal + dalq3 + dandp + dito + dcoverglass + design_region_height + dair + dpml  # = 5.0\n",
    "cell_y_min = -full_size/2  # = -2.5\n",
    "\n",
    "# 각 층의 중심 y 좌표를 미리 계산해 둡니다.\n",
    "centers_y = []\n",
    "current_bottom = cell_y_min\n",
    "for thickness in [dal, dalq3, dandp, dito, dcoverglass, design_region_height, dair, dpml]:\n",
    "    centers_y.append(current_bottom + thickness/2)\n",
    "    current_bottom += thickness\n",
    "\n",
    "# centers_y == [-2.35, -2.17, -2.115, -2.015, -1.905, -0.685, +1.0, +2.0]\n",
    "\n",
    "# Meep 객체로 만들기 (예시로 Al, Alq3, AnDp, ITO, Coverglass, DesignRegion, Air, PML 순서)\n",
    "geometry = [\n",
    "    mp.Block(\n",
    "        material=Al,\n",
    "        size=mp.Vector3(mp.inf, dal, mp.inf),\n",
    "        center=mp.Vector3(0, centers_y[0], 0)\n",
    "    ),\n",
    "    mp.Block(\n",
    "        material=alq3,\n",
    "        size=mp.Vector3(mp.inf, dalq3, mp.inf),\n",
    "        center=mp.Vector3(0, centers_y[1], 0)\n",
    "    ),\n",
    "    mp.Block(\n",
    "        material=aNDP,\n",
    "        size=mp.Vector3(mp.inf, dandp, mp.inf),\n",
    "        center=mp.Vector3(0, centers_y[2], 0)\n",
    "    ),\n",
    "    mp.Block(\n",
    "        material=ITO_m,\n",
    "        size=mp.Vector3(mp.inf, dito, mp.inf),\n",
    "        center=mp.Vector3(0, centers_y[3], 0)\n",
    "    ),\n",
    "    mp.Block(\n",
    "        material=SiN,\n",
    "        size=mp.Vector3(mp.inf, dcoverglass, mp.inf),\n",
    "        center=mp.Vector3(0, centers_y[4], 0)\n",
    "    ),\n",
    "    mp.Block(\n",
    "        material=SiO2,\n",
    "        size=mp.Vector3(mp.inf, design_region_height, mp.inf),\n",
    "        center=mp.Vector3(0, centers_y[5], 0)\n",
    "    ),\n",
    "    mp.Block(\n",
    "        material=Air,\n",
    "        size=mp.Vector3(mp.inf, dair, mp.inf),\n",
    "        center=mp.Vector3(0, centers_y[6], 0)\n",
    "    ),\n",
    "]"
   ]
  },
  {
   "cell_type": "code",
   "execution_count": 120,
   "id": "4bb11fe9",
   "metadata": {},
   "outputs": [],
   "source": [
    "sim = mp.Simulation(\n",
    "    cell_size=cell_size,\n",
    "    boundary_layers=pml_layers,\n",
    "    geometry=geometry,\n",
    "    resolution=resolution,\n",
    "    k_point=k_point\n",
    ")"
   ]
  },
  {
   "cell_type": "code",
   "execution_count": 121,
   "id": "f693385d",
   "metadata": {},
   "outputs": [
    {
     "name": "stderr",
     "output_type": "stream",
     "text": [
      "Warning: grid volume is not an integer number of pixels; cell size will be rounded to nearest pixel.\n"
     ]
    },
    {
     "name": "stdout",
     "output_type": "stream",
     "text": [
      "     block, center = (0,-2.36,0)\n",
      "          size (1e+20,0.3,1e+20)\n",
      "          axes (1,0,0), (0,1,0), (0,0,1)\n",
      "          dielectric constant epsilon diagonal = (1,1,1)\n",
      "     block, center = (0,-2.18,0)\n",
      "          size (1e+20,0.06,1e+20)\n",
      "          axes (1,0,0), (0,1,0), (0,0,1)\n",
      "          dielectric constant epsilon diagonal = (2.8224,2.8224,2.8224)\n",
      "     block, center = (0,-2.12,0)\n",
      "          size (1e+20,0.06,1e+20)\n",
      "          axes (1,0,0), (0,1,0), (0,0,1)\n",
      "          dielectric constant epsilon diagonal = (12.96,12.96,12.96)\n",
      "     block, center = (0,-2.01,0)\n",
      "          size (1e+20,0.16,1e+20)\n",
      "          axes (1,0,0), (0,1,0), (0,0,1)\n",
      "          dielectric constant epsilon diagonal = (3.24,3.24,3.24)\n",
      "     block, center = (0,-1.89,0)\n",
      "          size (1e+20,0.08,1e+20)\n",
      "          axes (1,0,0), (0,1,0), (0,0,1)\n",
      "          dielectric constant epsilon diagonal = (3.61,3.61,3.61)\n",
      "     block, center = (0,-0.67,0)\n",
      "          size (1e+20,2.36,1e+20)\n",
      "          axes (1,0,0), (0,1,0), (0,0,1)\n",
      "          dielectric constant epsilon diagonal = (2.1025,2.1025,2.1025)\n",
      "     block, center = (0,1.01,0)\n",
      "          size (1e+20,1,1e+20)\n",
      "          axes (1,0,0), (0,1,0), (0,0,1)\n",
      "          dielectric constant epsilon diagonal = (1,1,1)\n"
     ]
    },
    {
     "data": {
      "text/plain": [
       "<Axes: xlabel='X', ylabel='Y'>"
      ]
     },
     "execution_count": 121,
     "metadata": {},
     "output_type": "execute_result"
    },
    {
     "data": {
      "image/png": "[encoded data removed]",
      "text/plain": [
       "<Figure size 640x480 with 1 Axes>"
      ]
     },
     "metadata": {},
     "output_type": "display_data"
    }
   ],
   "source": [
    "sim.plot2D()"
   ]
  },
  {
   "cell_type": "code",
   "execution_count": 108,
   "id": "c6520ef2",
   "metadata": {},
   "outputs": [
    {
     "data": {
      "image/png": "[encoded data removed]",
      "text/plain": [
       "<Figure size 300x800 with 1 Axes>"
      ]
     },
     "metadata": {},
     "output_type": "display_data"
    }
   ],
   "source": [
    "import numpy as np\n",
    "import matplotlib.pyplot as plt\n",
    "\n",
    "# --- 1. 기존에 정의된 두께(thickness)와 전체 높이 계산 재사용 ---\n",
    "dal           = 0.5       # Al 두께\n",
    "dalq3         = 0.05      # Alq3 두께\n",
    "dandp         = 0.05      # aNDP 두께\n",
    "dito          = 0.15      # ITO 두께\n",
    "dcoverglass   = 0.1      # SiN(커버글라스) 두께\n",
    "design_region_height = 2.5  # SiO2 (Design Region) 두께\n",
    "dair          = 1.0       # Air 두께\n",
    "dpml          = 1.0       # PML 두께\n",
    "\n",
    "thicknesses = [dal, dalq3, dandp, dito, dcoverglass, design_region_height, dair, dpml]\n",
    "\n",
    "full_size = sum(thicknesses)      # = 5.0 μm, 전체 높이\n",
    "cell_y_min = -full_size / 2       # = -2.5 μm, y축 최소값\n",
    "\n",
    "# 각 층의 중심 y 좌표 계산\n",
    "centers_y = []\n",
    "current_bottom = cell_y_min\n",
    "for t in thicknesses:\n",
    "    centers_y.append(current_bottom + t / 2)\n",
    "    current_bottom += t\n",
    "\n",
    "# --- 2. x 방향 범위 설정 (플롯 너비) ---\n",
    "design_region_width = 1.04\n",
    "x_min = -design_region_width / 2  # = -0.52 μm\n",
    "x_max = +design_region_width / 2  # = +0.52 μm\n",
    "\n",
    "# --- 3. 층별 이름과 색상 지정 ---\n",
    "layer_names = ['Al', 'Alq3', 'aNDP', 'ITO', 'SiN(Coverglass)', 'SiO2(Design Region)', 'Air', 'PML']\n",
    "layer_colors = ['silver', 'magenta', 'cyan', 'yellow', 'brown', 'green', 'skyblue', 'gray']\n",
    "\n",
    "# --- 4. 플롯 생성 ---\n",
    "plt.figure(figsize=(3, 8))\n",
    "\n",
    "for i, (name, color) in enumerate(zip(layer_names, layer_colors)):\n",
    "    y_bottom = centers_y[i] - thicknesses[i] / 2\n",
    "    y_top    = centers_y[i] + thicknesses[i] / 2\n",
    "\n",
    "    xs = [x_min, x_max, x_max, x_min]\n",
    "    ys = [y_bottom, y_bottom, y_top, y_top]\n",
    "    plt.fill(xs, ys, color=color, alpha=0.8, label=name)\n",
    "\n",
    "# --- 5. 층 경계마다 검정색 점선(--) 그리기 ---\n",
    "boundaries = [cell_y_min]\n",
    "cum = cell_y_min\n",
    "for t in thicknesses:\n",
    "    cum += t\n",
    "    boundaries.append(cum)\n",
    "\n",
    "for y in boundaries:\n",
    "    plt.hlines(y, x_min, x_max, colors='k', linestyles='--')\n",
    "\n",
    "# --- 6. SiO2(Design Region) 상단에서 0.55 μm 지점에 'near field monitor' 빨간 선 그리기 ---\n",
    "y_nf = 0.75  # near field monitor 위치 (μm)\n",
    "plt.hlines(y_nf, x_min, x_max,\n",
    "           colors='red',\n",
    "           linestyles='-',\n",
    "           linewidth=1.5,\n",
    "           label='near field monitor')\n",
    "\n",
    "# --- 7. 눈금(tick) 방향을 안쪽으로 설정 ---\n",
    "plt.tick_params(axis='both',        # x축과 y축 모두\n",
    "                which='major',      # 주요 눈금\n",
    "                direction='in',     # 눈금을 안쪽으로\n",
    "                length=6,           # 눈금 길이(픽셀 단위)\n",
    "                width=1)            # 눈금 두께\n",
    "\n",
    "fontsize_label = 18\n",
    "\n",
    "# --- 8. 축 및 제목 설정 ---\n",
    "plt.ylim(cell_y_min, cell_y_min + full_size)\n",
    "plt.xlim(x_min, x_max)\n",
    "plt.xlabel('x (μm)', fontsize=fontsize_label)\n",
    "plt.ylabel('y (μm)', fontsize=fontsize_label)\n",
    "plt.title('Layer Structure', fontsize=fontsize_label)\n",
    "\n",
    "\n",
    "# 눈금(tick) 숫자(font size) 조절\n",
    "plt.tick_params(axis='both',      # 'x', 'y', 또는 'both'\n",
    "                which='major',    # 주요 눈금만 혹은 'both'\n",
    "                labelsize=14,     # 숫자 폰트 크기\n",
    "                direction='in',   # 눈금을 안쪽으로 향하게\n",
    "                length=6,         # 눈금 길이\n",
    "                width=1)          # 눈금 두께\n",
    "\n",
    "# (원한다면) 숫자 포맷 변경도 함께\n",
    "plt.ticklabel_format(style='plain', axis='both')  # 지수 표기가 아닌 일반 소수점 표기\n",
    "\n",
    "handles, labels = plt.gca().get_legend_handles_labels()\n",
    "plt.legend(handles[::-1],         # 핸들을 역순으로\n",
    "           labels[::-1],          # 라벨도 역순으로\n",
    "           loc='upper left',      # 범례 기준점을 \"축 좌표 (bbox_to_anchor) 안에서의 상단 왼쪽\" 으로 설정\n",
    "           bbox_to_anchor=(1.02, 1),  # 축의 오른쪽 상단 바깥( x=1.02, y=1 )에 범례 기준점을 맞춤\n",
    "           fontsize=10)\n",
    "plt.ticklabel_format()\n",
    "plt.show()\n"
   ]
  },
  {
   "cell_type": "code",
   "execution_count": 112,
   "id": "f2b4cfe6",
   "metadata": {},
   "outputs": [
    {
     "name": "stderr",
     "output_type": "stream",
     "text": [
      "Warning: grid volume is not an integer number of pixels; cell size will be rounded to nearest pixel.\n"
     ]
    },
    {
     "name": "stdout",
     "output_type": "stream",
     "text": [
      "     block, center = (0,-2.36,0)\n",
      "          size (1e+20,0.3,1e+20)\n",
      "          axes (1,0,0), (0,1,0), (0,0,1)\n",
      "          dielectric constant epsilon diagonal = (1,1,1)\n",
      "     block, center = (0,-2.18,0)\n",
      "          size (1e+20,0.06,1e+20)\n",
      "          axes (1,0,0), (0,1,0), (0,0,1)\n",
      "          dielectric constant epsilon diagonal = (2.8224,2.8224,2.8224)\n",
      "     block, center = (0,-2.12,0)\n",
      "          size (1e+20,0.06,1e+20)\n",
      "          axes (1,0,0), (0,1,0), (0,0,1)\n",
      "          dielectric constant epsilon diagonal = (12.96,12.96,12.96)\n",
      "     block, center = (0,-2.01,0)\n",
      "          size (1e+20,0.16,1e+20)\n",
      "          axes (1,0,0), (0,1,0), (0,0,1)\n",
      "          dielectric constant epsilon diagonal = (3.24,3.24,3.24)\n",
      "     block, center = (0,-1.89,0)\n",
      "          size (1e+20,0.08,1e+20)\n",
      "          axes (1,0,0), (0,1,0), (0,0,1)\n",
      "          dielectric constant epsilon diagonal = (3.61,3.61,3.61)\n",
      "     block, center = (0,-0.67,0)\n",
      "          size (1e+20,2.36,1e+20)\n",
      "          axes (1,0,0), (0,1,0), (0,0,1)\n",
      "          dielectric constant epsilon diagonal = (2.1025,2.1025,2.1025)\n",
      "     block, center = (0,1.01,0)\n",
      "          size (1e+20,1,1e+20)\n",
      "          axes (1,0,0), (0,1,0), (0,0,1)\n",
      "          dielectric constant epsilon diagonal = (1,1,1)\n"
     ]
    },
    {
     "data": {
      "text/plain": [
       "<Axes: xlabel='X', ylabel='Y'>"
      ]
     },
     "execution_count": 112,
     "metadata": {},
     "output_type": "execute_result"
    },
    {
     "data": {
      "image/png": "[encoded data removed]",
      "text/plain": [
       "<Figure size 640x480 with 1 Axes>"
      ]
     },
     "metadata": {},
     "output_type": "display_data"
    }
   ],
   "source": [
    "sim.plot2D()"
   ]
  },
  {
   "cell_type": "code",
   "execution_count": 113,
   "id": "739312d2",
   "metadata": {},
   "outputs": [
    {
     "name": "stderr",
     "output_type": "stream",
     "text": [
      "Warning: grid volume is not an integer number of pixels; cell size will be rounded to nearest pixel.\n"
     ]
    },
    {
     "name": "stdout",
     "output_type": "stream",
     "text": [
      "     block, center = (0,-2.36,0)\n",
      "          size (1e+20,0.3,1e+20)\n",
      "          axes (1,0,0), (0,1,0), (0,0,1)\n",
      "          dielectric constant epsilon diagonal = (1,1,1)\n",
      "     block, center = (0,-2.18,0)\n",
      "          size (1e+20,0.06,1e+20)\n",
      "          axes (1,0,0), (0,1,0), (0,0,1)\n",
      "          dielectric constant epsilon diagonal = (2.8224,2.8224,2.8224)\n",
      "     block, center = (0,-2.12,0)\n",
      "          size (1e+20,0.06,1e+20)\n",
      "          axes (1,0,0), (0,1,0), (0,0,1)\n",
      "          dielectric constant epsilon diagonal = (12.96,12.96,12.96)\n",
      "     block, center = (0,-2.01,0)\n",
      "          size (1e+20,0.16,1e+20)\n",
      "          axes (1,0,0), (0,1,0), (0,0,1)\n",
      "          dielectric constant epsilon diagonal = (3.24,3.24,3.24)\n",
      "     block, center = (0,-1.89,0)\n",
      "          size (1e+20,0.08,1e+20)\n",
      "          axes (1,0,0), (0,1,0), (0,0,1)\n",
      "          dielectric constant epsilon diagonal = (3.61,3.61,3.61)\n",
      "     block, center = (0,-0.67,0)\n",
      "          size (1e+20,2.36,1e+20)\n",
      "          axes (1,0,0), (0,1,0), (0,0,1)\n",
      "          dielectric constant epsilon diagonal = (2.1025,2.1025,2.1025)\n",
      "     block, center = (0,1.01,0)\n",
      "          size (1e+20,1,1e+20)\n",
      "          axes (1,0,0), (0,1,0), (0,0,1)\n",
      "          dielectric constant epsilon diagonal = (1,1,1)\n"
     ]
    },
    {
     "data": {
      "text/plain": [
       "<Axes: xlabel='X', ylabel='Y'>"
      ]
     },
     "execution_count": 113,
     "metadata": {},
     "output_type": "execute_result"
    },
    {
     "data": {
      "image/png": "[encoded data removed]",
      "text/plain": [
       "<Figure size 640x480 with 1 Axes>"
      ]
     },
     "metadata": {},
     "output_type": "display_data"
    }
   ],
   "source": [
    "sim.plot2D(output_plane=mp.Volume(center=mp.Vector3(0,-2,0),size = mp.Vector3(1,1,0)))"
   ]
  },
  {
   "cell_type": "code",
   "execution_count": 91,
   "id": "09b9966e",
   "metadata": {},
   "outputs": [
    {
     "ename": "TypeError",
     "evalue": "__init__() missing 1 required positional argument: 'sim'",
     "output_type": "error",
     "traceback": [
      "\u001b[0;31m---------------------------------------------------------------------------\u001b[0m",
      "\u001b[0;31mTypeError\u001b[0m                                 Traceback (most recent call last)",
      "Cell \u001b[0;32mIn[91], line 21\u001b[0m\n\u001b[1;32m     17\u001b[0m monitor_center \u001b[38;5;241m=\u001b[39m mp\u001b[38;5;241m.\u001b[39mVector3(x_n, monitor_y)\n\u001b[1;32m     18\u001b[0m monitor_size \u001b[38;5;241m=\u001b[39m mp\u001b[38;5;241m.\u001b[39mVector3(\u001b[38;5;241m0\u001b[39m, \u001b[38;5;241m0\u001b[39m, \u001b[38;5;241m0\u001b[39m)  \u001b[38;5;66;03m# 포인트 모니터\u001b[39;00m\n\u001b[1;32m     20\u001b[0m monitors\u001b[38;5;241m.\u001b[39mappend(\n\u001b[0;32m---> 21\u001b[0m     \u001b[43mmpa\u001b[49m\u001b[38;5;241;43m.\u001b[39;49m\u001b[43mEigenmodeCoefficient\u001b[49m\u001b[43m(\u001b[49m\n\u001b[1;32m     22\u001b[0m \u001b[43m        \u001b[49m\u001b[43mvolume\u001b[49m\u001b[38;5;241;43m=\u001b[39;49m\u001b[43mmp\u001b[49m\u001b[38;5;241;43m.\u001b[39;49m\u001b[43mVolume\u001b[49m\u001b[43m(\u001b[49m\u001b[43mcenter\u001b[49m\u001b[38;5;241;43m=\u001b[39;49m\u001b[43mmonitor_center\u001b[49m\u001b[43m,\u001b[49m\u001b[43m \u001b[49m\u001b[43msize\u001b[49m\u001b[38;5;241;43m=\u001b[39;49m\u001b[43mmonitor_size\u001b[49m\u001b[43m)\u001b[49m\u001b[43m,\u001b[49m\n\u001b[1;32m     23\u001b[0m \u001b[43m        \u001b[49m\u001b[43mmode\u001b[49m\u001b[38;5;241;43m=\u001b[39;49m\u001b[43mmode\u001b[49m\u001b[43m,\u001b[49m\n\u001b[1;32m     24\u001b[0m \u001b[43m        \u001b[49m\u001b[43mdirection\u001b[49m\u001b[38;5;241;43m=\u001b[39;49m\u001b[43mmp\u001b[49m\u001b[38;5;241;43m.\u001b[39;49m\u001b[43mY\u001b[49m\u001b[43m,\u001b[49m\n\u001b[1;32m     25\u001b[0m \u001b[43m        \u001b[49m\u001b[43meig_resolution\u001b[49m\u001b[38;5;241;43m=\u001b[39;49m\u001b[43mresolution\u001b[49m\n\u001b[1;32m     26\u001b[0m \u001b[43m    \u001b[49m\u001b[43m)\u001b[49m\n\u001b[1;32m     27\u001b[0m )\n",
      "\u001b[0;31mTypeError\u001b[0m: __init__() missing 1 required positional argument: 'sim'"
     ]
    }
   ],
   "source": [
    "from meep import Vector3\n",
    "from meep import DiffractedPlanewave\n",
    "\n",
    "monitors = []\n",
    "monitor_y = y_alq3_center + 0.3\n",
    "\n",
    "# mode 정의 (0차 회절 모드, y 방향으로 전파되는 모드)\n",
    "mode = DiffractedPlanewave(\n",
    "    g=[0, 0, 0],                 # 회절차수 (m_x, m_y, m_z)\n",
    "    axis=mp.Vector3(0, 1, 0),    # 전파 방향\n",
    "    s=1.0,                       # S-편광 성분 (Ex 방향)\n",
    "    p=0.0                        # P-편광 성분 (Ey 방향)\n",
    ")\n",
    "\n",
    "for n in range(ndipole):\n",
    "    x_n = -0.5 * sx + (n + 0.5) * (sx / ndipole)\n",
    "    monitor_center = mp.Vector3(x_n, monitor_y)\n",
    "    monitor_size = mp.Vector3(0, 0, 0)  # 포인트 모니터\n",
    "\n",
    "    monitors.append(\n",
    "        mpa.EigenmodeCoefficient(\n",
    "            volume=mp.Volume(center=monitor_center, size=monitor_size),\n",
    "            mode=mode,\n",
    "            direction=mp.Y,\n",
    "            eig_resolution=resolution\n",
    "        )\n",
    "    )\n"
   ]
  },
  {
   "cell_type": "code",
   "execution_count": null,
   "id": "35ec06a2",
   "metadata": {},
   "outputs": [],
   "source": [
    "# 주파수 정보\n",
    "fcen = frequencies[1]  # green (중심 파장)\n",
    "df = 0.1\n",
    "\n",
    "sim.use_output_directory()  # (필요한 경우)\n",
    "\n",
    "sim.run(\n",
    "    mp.at_beginning(mp.output_epsilon),\n",
    "    until_after_sources=mp.stop_when_fields_decayed(\n",
    "        50, mp.Ex, mp.Vector3(), 1e-6\n",
    "    )\n",
    ")\n",
    "\n",
    "# mode coefficient 계산\n",
    "mode_coeffs = [monitor.get_coefficients()[0, 0] for monitor in monitors]\n",
    "\n",
    "# 방출 모드 amplitude 확인 (복소수로 리턴됨)\n",
    "for i, coeff in enumerate(mode_coeffs):\n",
    "    print(f\"Dipole {i} mode amplitude: {abs(coeff):.4f}, phase: {np.angle(coeff):.2f} rad\")\n"
   ]
  }
 ],
 "metadata": {
  "kernelspec": {
   "display_name": "mp",
   "language": "python",
   "name": "python3"
  },
  "language_info": {
   "codemirror_mode": {
    "name": "ipython",
    "version": 3
   },
   "file_extension": ".py",
   "mimetype": "text/x-python",
   "name": "python",
   "nbconvert_exporter": "python",
   "pygments_lexer": "ipython3",
   "version": "3.9.22"
  }
 },
 "nbformat": 4,
 "nbformat_minor": 5
}
