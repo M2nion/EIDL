{
 "cells": [
  {
   "cell_type": "markdown",
   "id": "84fd4821",
   "metadata": {},
   "source": [
    "# OLED Optimization with FourierFields\n"
   ]
  },
  {
   "cell_type": "code",
   "execution_count": 66,
   "id": "5bfbab91",
   "metadata": {},
   "outputs": [],
   "source": [
    "import meep as mp\n",
    "import meep.adjoint as mpa\n",
    "import numpy as np\n",
    "from autograd import numpy as npa\n",
    "from autograd import tensor_jacobian_product, grad\n",
    "import nlopt\n",
    "from matplotlib import pyplot as plt\n",
    "from matplotlib.patches import Circle\n",
    "\n",
    "from meep.materials import Al as ALU\n",
    "\n",
    "mp.verbosity(0)\n",
    "\n",
    "GLS = mp.Medium(index=1.5)    # 글래스의 굴절률 설정\n",
    "ITO = mp.Medium(index=1.2)    # ITO의 굴절률 설정\n",
    "ORG = mp.Medium(index=1.75)   # OLED 유기층의 굴절률 설정\n",
    "SiN = mp.Medium(index=1.9)    # 실리콘 질화물의 굴절률 설정"
   ]
  },
  {
   "cell_type": "markdown",
   "id": "b377f3a8",
   "metadata": {},
   "source": [
    "Basic setup"
   ]
  },
  {
   "cell_type": "code",
   "execution_count": 67,
   "id": "04999d54",
   "metadata": {},
   "outputs": [],
   "source": [
    "lambda_min = 0.4       # 최소 파장 (µm)\n",
    "lambda_max = 0.8       # 최대 파장 (µm)\n",
    "fmin = 1/lambda_max    # 최소 주파수\n",
    "fmax = 1/lambda_min    # 최대 주파수\n",
    "fcen = 0.5*(fmin+fmax) # 중앙 주파수\n",
    "df = fmax-fmin         # 주파수 대역폭\n",
    "\n",
    "resolution = 50        # 시뮬레이션 해상도\n",
    "nfreq = 25             # 추출할 주파수 개수\n",
    "design_region_resolution = 50                                                             \n",
    "\n",
    "tABS = 0.5    # X/Y 방향 흡수 경계층 두께\n",
    "tPML = 0.5    # Z 방향 PML 경계층 두께\n",
    "tGLS = 0.5    # 글래스 층 두께\n",
    "tITO = 0.5    # ITO 층 두께\n",
    "tORG = 0.5    # 유기층(OLED 발광층) 두께\n",
    "tALU = 0.2    # 알루미늄(캐소드) 두께\n",
    "MtoD = 0.5\n",
    "\n",
    "L = 5.0       # OLED의 가로/세로 길이\n",
    "\n",
    "design_region_width = L\n",
    "design_region_height = 0.2\n",
    "\n",
    "Sy = tPML + tGLS + MtoD + design_region_height + tITO + tORG + tALU  # Z 방향 전체 길이\n",
    "Sx = L + 2*tABS                        # X/Y 방향 길이\n",
    "cell_size = mp.Vector3(Sx, Sy)    # 시뮬레이션 셀 크기\n",
    "\n",
    "boundary_layers = [mp.Absorber(tABS,direction=mp.X),\n",
    "                   mp.PML(tPML,direction=mp.Y,side=mp.High)]\n",
    "\n",
    "Nx = int(design_region_resolution * design_region_width) + 1\n",
    "Ny = int(design_region_resolution * design_region_height) + 1\n",
    "\n",
    "structure_weights = np.loadtxt(f'lastdesign.txt')\n",
    "design_variables = mp.MaterialGrid(mp.Vector3(Nx, Ny), GLS, SiN, grid_type=\"U_MEAN\")\n",
    "design_variables.update_weights(structure_weights)\n",
    "design_region = mpa.DesignRegion(\n",
    "    design_variables,\n",
    "    volume=mp.Volume(\n",
    "        center=mp.Vector3(y=0.5*Sy - tPML - tGLS - MtoD - 0.5*design_region_height),\n",
    "        size=mp.Vector3(design_region_width, design_region_height, 0),\n",
    "    ),\n",
    ")\n",
    "\n",
    "geometry = [\n",
    "    mp.Block(material=GLS,      # 유리층\n",
    "             size=mp.Vector3(mp.inf, tPML + tGLS + MtoD + design_region_height),\n",
    "             center=mp.Vector3(y=0.5*Sy - 0.5*(tPML + tGLS + MtoD + design_region_height))),\n",
    "\n",
    "    mp.Block(material=design_variables,      # 디자인 영역\n",
    "             size=design_region.size,\n",
    "             center=design_region.center),\n",
    "    \n",
    "    mp.Block(material=ITO,      # ITO 층\n",
    "             size=mp.Vector3(mp.inf, tITO),\n",
    "             center=mp.Vector3(y=0.5*Sy - tPML - tGLS - MtoD - design_region_height - 0.5*tITO)),\n",
    "    \n",
    "    mp.Block(material=ORG,                       # 유기층\n",
    "             size=mp.Vector3(mp.inf, tORG),\n",
    "             center=mp.Vector3(y=0.5*Sy - tPML - tGLS - MtoD - design_region_height - tITO - 0.5*tORG)),\n",
    "    \n",
    "    mp.Block(material=ALU,                       # 알루미늄 층\n",
    "             size=mp.Vector3(mp.inf, tALU),\n",
    "             center=mp.Vector3(y=0.5*Sy - tPML - tGLS - MtoD - design_region_height - tITO - tORG - 0.5*tALU))\n",
    "]\n",
    "\n",
    "src = mp.GaussianSource(frequency=fcen, fwidth=df, is_integrated=True)\n",
    "\n",
    "sources = []\n",
    "src_num = 7\n",
    "\n",
    "for i in range(src_num):  # x 방향 루프\n",
    "        sources.append(\n",
    "            mp.Source(\n",
    "                src,\n",
    "                component=mp.Ez,\n",
    "                center=mp.Vector3(\n",
    "                    x = -design_region_width/2 + (design_region_width)*((i+1)/(src_num+1)),  \n",
    "                    y = 0.5*Sy - tPML - tGLS - MtoD - design_region_height - tITO - 0.5*tORG,\n",
    "                    z = 0\n",
    "                )\n",
    "            )\n",
    "        )\n",
    "\n",
    "sim = []\n",
    "\n",
    "for i in range(src_num):\n",
    "    sim.append(\n",
    "        mp.Simulation(resolution=resolution,\n",
    "                      cell_size=cell_size,\n",
    "                      boundary_layers=boundary_layers,\n",
    "                      geometry=geometry,\n",
    "                      sources=[sources[i]],\n",
    "                      extra_materials=[ALU],)\n",
    "    )\n",
    "\n",
    "                     "
   ]
  },
  {
   "cell_type": "code",
   "execution_count": 68,
   "id": "6569b867",
   "metadata": {},
   "outputs": [
    {
     "name": "stderr",
     "output_type": "stream",
     "text": [
      "Warning: grid volume is not an integer number of pixels; cell size will be rounded to nearest pixel.\n"
     ]
    },
    {
     "data": {
      "text/plain": [
       "<Axes: xlabel='X', ylabel='Y'>"
      ]
     },
     "execution_count": 68,
     "metadata": {},
     "output_type": "execute_result"
    },
    {
     "data": {
      "image/png": "[encoded data removed]",
      "text/plain": [
       "<Figure size 640x480 with 1 Axes>"
      ]
     },
     "metadata": {},
     "output_type": "display_data"
    }
   ],
   "source": [
    "sim[0].plot2D()"
   ]
  },
  {
   "cell_type": "code",
   "execution_count": 69,
   "id": "9a1ee45d",
   "metadata": {},
   "outputs": [],
   "source": [
    "monitor_position, monitor_size = mp.Vector3(0,0.5*Sy-tPML-tGLS), mp.Vector3(L,0)\n",
    "\n",
    "FourierFields = []\n",
    "\n",
    "for i in range(src_num):\n",
    "    FourierFields.append(mpa.FourierFields(sim[i],mp.Volume(center=monitor_position,size=monitor_size),mp.Ez,yee_grid=True))\n",
    "\n",
    "ob_list = []\n",
    "\n",
    "for i in range(src_num):\n",
    "    ob_list.append(FourierFields[i])\n",
    "\n",
    "def M0(m0ez):\n",
    "    m0ez_fft=npa.fft.fftshift(npa.fft.fft(m0ez[0,:]))\n",
    "    length=len(m0ez_fft)\n",
    "    kx = npa.fft.fftshift(npa.fft.fftfreq(len(m0ez_fft), 1 / resolution))\n",
    "    num_index=npa.argmin(np.abs(kx))\n",
    "\n",
    "    power0=npa.abs(m0ez_fft[num_index])\n",
    "\n",
    "    return - power0\n",
    "\n",
    "opt = []\n",
    "for i in range(src_num):\n",
    "    opt.append(mpa.OptimizationProblem(\n",
    "        simulation=sim[i],\n",
    "        objective_functions=[M0],\n",
    "        objective_arguments=[ob_list[i]],\n",
    "        design_regions=[design_region],\n",
    "        frequencies=[fcen],\n",
    "        maximum_run_time=100,\n",
    "    ))"
   ]
  },
  {
   "cell_type": "code",
   "execution_count": 70,
   "id": "7c7d74b3",
   "metadata": {},
   "outputs": [
    {
     "name": "stderr",
     "output_type": "stream",
     "text": [
      "Warning: grid volume is not an integer number of pixels; cell size will be rounded to nearest pixel.\n"
     ]
    },
    {
     "data": {
      "image/png": "[encoded data removed]",
      "text/plain": [
       "<Figure size 640x480 with 1 Axes>"
      ]
     },
     "metadata": {},
     "output_type": "display_data"
    }
   ],
   "source": [
    "opt[0].plot2D(True)"
   ]
  },
  {
   "cell_type": "code",
   "execution_count": 71,
   "id": "fc2727d6",
   "metadata": {},
   "outputs": [],
   "source": [
    "minimum_length = 0.02  # minimum length scale (microns)\n",
    "eta_i = 0.5  # blueprint (or intermediate) design field thresholding point (between 0 and 1)\n",
    "eta_e = 0.55  # erosion design field thresholding point (between 0 and 1)\n",
    "eta_d = 1 - eta_e  # dilation design field thresholding point (between 0 and 1)\n",
    "filter_radius = mpa.get_conic_radius_from_eta_e(minimum_length, eta_e)"
   ]
  },
  {
   "cell_type": "code",
   "execution_count": 72,
   "id": "af463be9",
   "metadata": {},
   "outputs": [],
   "source": [
    "def mapping(x, eta, beta):\n",
    "\n",
    "    # # filter\n",
    "    # filtered_field = mpa.conic_filter(\n",
    "    #     x,\n",
    "    #     filter_radius,\n",
    "    #     design_region_width,\n",
    "    #     design_region_height,\n",
    "    #     design_region_resolution,\n",
    "    # )\n",
    "\n",
    "    # # projection\n",
    "    # projected_field = mpa.tanh_projection(filtered_field, beta, eta)\n",
    "\n",
    "    # interpolate to actual materials\n",
    "    return x"
   ]
  },
  {
   "cell_type": "code",
   "execution_count": 73,
   "id": "70ec559d",
   "metadata": {},
   "outputs": [],
   "source": [
    "evaluation_history = []\n",
    "cur_iter = [0]\n",
    "numevl = 1\n",
    "\n",
    "def f(v, gradient, beta):\n",
    "    print(\"Current iteration: {}\".format(cur_iter[0] + 1))\n",
    "\n",
    "    f0 = []\n",
    "    dJ_du = []\n",
    "\n",
    "    global numevl\n",
    "\n",
    "    for i in range(src_num):\n",
    "        f0_i, dJ_du_i = opt[i]([mapping(v, eta_i, beta)])\n",
    "        f0.append(f0_i.flatten())\n",
    "        dJ_du.append(dJ_du_i)\n",
    "\n",
    "    if gradient.size > 0:\n",
    "        gradient[:] = tensor_jacobian_product(mapping, 0)(\n",
    "            v, eta_i, beta, np.sum(dJ_du, axis=0)\n",
    "        )  # backprop\n",
    "\n",
    "    evaluation_history.append([np.max(np.real(f0[i])) for i in range(src_num)])\n",
    "\n",
    "    numevl += 1\n",
    "    cur_iter[0] = cur_iter[0] + 1\n",
    "\n",
    "    print(\"First FoM: {}\".format(evaluation_history[0]))\n",
    "    print(\"Current f0 values: \" + \", \".join([\"f0_{}: {}\".format(i, np.real(f0[i])) for i in range(src_num)]))\n",
    "\n",
    "    return np.mean(f0)  # return the sum of the objective function values\n"
   ]
  },
  {
   "cell_type": "code",
   "execution_count": 74,
   "id": "6f9665b1",
   "metadata": {},
   "outputs": [
    {
     "name": "stderr",
     "output_type": "stream",
     "text": [
      "Warning: grid volume is not an integer number of pixels; cell size will be rounded to nearest pixel.\n"
     ]
    },
    {
     "data": {
      "application/vnd.jupyter.widget-view+json": {
       "model_id": "2059effa140845a98529ebf55b90498e",
       "version_major": 2,
       "version_minor": 0
      },
      "text/plain": [
       "FloatProgress(value=0.0, description='0% done ')"
      ]
     },
     "metadata": {},
     "output_type": "display_data"
    },
    {
     "name": "stderr",
     "output_type": "stream",
     "text": [
      "Warning: grid volume is not an integer number of pixels; cell size will be rounded to nearest pixel.\n"
     ]
    },
    {
     "data": {
      "application/vnd.jupyter.widget-view+json": {
       "model_id": "f37c7c0b5c824c8b80acc0abdac38294",
       "version_major": 2,
       "version_minor": 0
      },
      "text/plain": [
       "FloatProgress(value=0.0, description='0% done ')"
      ]
     },
     "metadata": {},
     "output_type": "display_data"
    },
    {
     "name": "stderr",
     "output_type": "stream",
     "text": [
      "Warning: grid volume is not an integer number of pixels; cell size will be rounded to nearest pixel.\n"
     ]
    },
    {
     "data": {
      "application/vnd.jupyter.widget-view+json": {
       "model_id": "5027779fbb7341a3adee5ce8c0f43e5a",
       "version_major": 2,
       "version_minor": 0
      },
      "text/plain": [
       "FloatProgress(value=0.0, description='0% done ')"
      ]
     },
     "metadata": {},
     "output_type": "display_data"
    },
    {
     "name": "stderr",
     "output_type": "stream",
     "text": [
      "Warning: grid volume is not an integer number of pixels; cell size will be rounded to nearest pixel.\n"
     ]
    },
    {
     "data": {
      "application/vnd.jupyter.widget-view+json": {
       "model_id": "c1fed39c0663404ba1833c9d47d375b4",
       "version_major": 2,
       "version_minor": 0
      },
      "text/plain": [
       "FloatProgress(value=0.0, description='0% done ')"
      ]
     },
     "metadata": {},
     "output_type": "display_data"
    },
    {
     "name": "stderr",
     "output_type": "stream",
     "text": [
      "Warning: grid volume is not an integer number of pixels; cell size will be rounded to nearest pixel.\n"
     ]
    },
    {
     "data": {
      "application/vnd.jupyter.widget-view+json": {
       "model_id": "ac310095eaf048e495e88bfb9d022218",
       "version_major": 2,
       "version_minor": 0
      },
      "text/plain": [
       "FloatProgress(value=0.0, description='0% done ')"
      ]
     },
     "metadata": {},
     "output_type": "display_data"
    },
    {
     "name": "stderr",
     "output_type": "stream",
     "text": [
      "Warning: grid volume is not an integer number of pixels; cell size will be rounded to nearest pixel.\n"
     ]
    },
    {
     "data": {
      "application/vnd.jupyter.widget-view+json": {
       "model_id": "f32f5eab3fa8495c8d1e7b054b6aa254",
       "version_major": 2,
       "version_minor": 0
      },
      "text/plain": [
       "FloatProgress(value=0.0, description='0% done ')"
      ]
     },
     "metadata": {},
     "output_type": "display_data"
    },
    {
     "name": "stderr",
     "output_type": "stream",
     "text": [
      "Warning: grid volume is not an integer number of pixels; cell size will be rounded to nearest pixel.\n"
     ]
    },
    {
     "data": {
      "application/vnd.jupyter.widget-view+json": {
       "model_id": "218af3e2343545359a5d0d24607df591",
       "version_major": 2,
       "version_minor": 0
      },
      "text/plain": [
       "FloatProgress(value=0.0, description='0% done ')"
      ]
     },
     "metadata": {},
     "output_type": "display_data"
    }
   ],
   "source": [
    "import os\n",
    "\n",
    "# 저장 폴더 생성\n",
    "output_dir = \"mode_number\"\n",
    "os.makedirs(output_dir, exist_ok=True)\n",
    "\n",
    "src = mp.ContinuousSource(frequency=fcen, fwidth=df, is_integrated=True)\n",
    "source = []\n",
    "\n",
    "ppopt = []\n",
    "Ez_r0 = [0]*src_num\n",
    "Ez_r1 = [0]*src_num\n",
    "for i in range(src_num):\n",
    "    ppopt.append(\n",
    "        mp.Simulation(resolution=resolution,\n",
    "                      cell_size=cell_size,\n",
    "                      boundary_layers=boundary_layers,\n",
    "                      geometry=geometry,\n",
    "                      sources=[sources[i]],\n",
    "                      extra_materials=[ALU],)\n",
    "    )\n",
    "\n",
    "    ppopt[i].reset_meep()\n",
    "\n",
    "    ppopt[i].sim = mp.Simulation(resolution=resolution,\n",
    "                        cell_size=cell_size,\n",
    "                        boundary_layers=boundary_layers,\n",
    "                        geometry=geometry,\n",
    "                        sources=[sources[i]],\n",
    "                        extra_materials=[ALU],)\n",
    "    \n",
    "    dft_fields_r0=ppopt[i].sim.add_dft_fields([mp.Ez],fcen,0,1,\n",
    "                                    center=mp.Vector3(0,0.5*Sy-tPML-tGLS,0),\n",
    "                                    size=mp.Vector3(Sx - 2*tPML,0,0),yee_grid=True)\n",
    "    dft_fields_r1=ppopt[i].sim.add_dft_fields([mp.Ez],fcen,0,1,\n",
    "                                    center=mp.Vector3(0,0,0),\n",
    "                                    size=mp.Vector3(Sx,Sy,0),yee_grid=True)\n",
    "\n",
    "    ppopt[i].sim.run(until=100.0)\n",
    "\n",
    "    Ez_r0[i]=ppopt[i].sim.get_dft_array(dft_fields_r0,mp.Ez,0)\n",
    "    Ez_r1[i]=ppopt[i].sim.get_dft_array(dft_fields_r1,mp.Ez,0)\n",
    "\n",
    "    Ez_comp=Ez_r0[i][:]\n",
    "\n",
    "    m0ez_fft=npa.fft.fftshift(npa.fft.fft(Ez_comp))/(design_region_width*resolution+1)\n",
    "    kx = npa.fft.fftshift(np.fft.fftfreq(len(Ez_comp), 1 / resolution))\n",
    "\n",
    "    plt.plot(kx,np.abs(m0ez_fft),\"-ro\")\n",
    "    plt.xlabel(r\"Wavevector $k_x$ (2$\\pi^{-1}$)\")\n",
    "    plt.grid()\n",
    "    plt.xlim([-3,3])\n",
    "\n",
    "    plt.savefig(os.path.join(output_dir, f\"mode_number_{i}.png\"))\n",
    "    plt.cla()\n",
    "    plt.clf()\n",
    "    plt.close()\n",
    "\n",
    "    x = np.linspace(-0.5 * Sx + tPML, 0.5 * Sx - tPML, int((Sx- 2*tPML)*resolution+2))\n",
    "    theta_out = np.arcsin(2 * np.sin(0))  # Snell's Law\n",
    "    lambda0 = 0.55\n",
    "    kx_air = (2 * np.pi / lambda0) * np.sin(theta_out)\n",
    "    Ez_comp = Ez_r0[i][:] * np.exp(-1j * kx_air * x)\n",
    "    Ez_fft = npa.fft.fftshift(npa.fft.fft(Ez_comp)) / len(Ez_comp)\n",
    "    kx_axis = npa.fft.fftshift(np.fft.fftfreq(len(Ez_comp), d=1/resolution))\n",
    "    kx_rad = 2 * np.pi * kx_axis  # [rad/μm]\n",
    "    sin_theta = kx_rad * lambda0 / (2 * np.pi)  # = sin(θ)\n",
    "    plt.plot(sin_theta, np.abs(Ez_fft), 'r-o')\n",
    "    plt.xlabel(\"sin(theta) (air)\")\n",
    "\n",
    "    plt.savefig(os.path.join(output_dir, f\"angle_{i}.png\"))\n",
    "    plt.cla()\n",
    "    plt.clf()\n",
    "    plt.close()"
   ]
  }
 ],
 "metadata": {
  "kernelspec": {
   "display_name": "mp",
   "language": "python",
   "name": "python3"
  },
  "language_info": {
   "codemirror_mode": {
    "name": "ipython",
    "version": 3
   },
   "file_extension": ".py",
   "mimetype": "text/x-python",
   "name": "python",
   "nbconvert_exporter": "python",
   "pygments_lexer": "ipython3",
   "version": "3.8.20"
  }
 },
 "nbformat": 4,
 "nbformat_minor": 5
}
