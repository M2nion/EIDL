{
 "cells": [
  {
   "cell_type": "code",
   "execution_count": 11,
   "id": "13a34929",
   "metadata": {},
   "outputs": [
    {
     "name": "stderr",
     "output_type": "stream",
     "text": [
      "Warning: grid volume is not an integer number of pixels; cell size will be rounded to nearest pixel.\n",
      "Warning: grid volume is not an integer number of pixels; cell size will be rounded to nearest pixel.\n"
     ]
    },
    {
     "name": "stdout",
     "output_type": "stream",
     "text": [
      "📏 기준 Input Flux (Ag + 기판 + 공기): 0.131055\n"
     ]
    },
    {
     "data": {
      "image/png": "[encoded data removed]",
      "text/plain": [
       "<Figure size 640x480 with 1 Axes>"
      ]
     },
     "metadata": {},
     "output_type": "display_data"
    }
   ],
   "source": [
    "def Reference_structure(per_time=10,decay_rate = 1e-3):\n",
    "    import meep as mp\n",
    "    import numpy as np\n",
    "    import matplotlib.pyplot as plt\n",
    "    from meep.materials import Ag\n",
    "\n",
    "    mp.verbosity(0)\n",
    "    lambda_min = 0.4\n",
    "    lambda_max = 0.7\n",
    "    fmin = 1 / lambda_max\n",
    "    fmax = 1 / lambda_min\n",
    "    fcen = 0.5 * (fmin + fmax)\n",
    "    df = fmax - fmin\n",
    "    resolution = 50\n",
    "\n",
    "    # 구조물 파라미터\n",
    "    tag_bot = 0.5     # 하단 Ag 두께\n",
    "    tsio2 = 4         # SiO₂ 기판 두께\n",
    "    tpml = 0.4        # PML 두께\n",
    "    design_region_height = 0.5\n",
    "\n",
    "    monitor_position = 1 / fcen * 2\n",
    "    monitor_blank = 1 / fcen * 0.1\n",
    "    width_ag = 0.2\n",
    "    width_sio2 = 2\n",
    "    width_bot_ag = width_ag + width_sio2 + width_ag\n",
    "    Sx = tpml + width_bot_ag + tpml\n",
    "    Sy = round(tpml + tag_bot + tsio2 + design_region_height + monitor_position + monitor_blank + tpml, 3)\n",
    "    cell_size = mp.Vector3(Sx, Sy)\n",
    "    design_region_width = round(width_bot_ag, 3)\n",
    "\n",
    "    # === 재료 정의 ===\n",
    "    SiO2 = mp.Medium(index=1.45)\n",
    "    Air = mp.Medium(index=1.0)\n",
    "\n",
    "    # === 위치 계산 ===\n",
    "    y_bottom = -Sy / 2\n",
    "    center_y_ag = y_bottom + tpml + tag_bot / 2\n",
    "    center_y_sio2 = y_bottom + tpml + tag_bot + tsio2 / 2\n",
    "    center_y_design = y_bottom + tpml + tag_bot + tsio2 + design_region_height / 2\n",
    "    center_y_monitor_position = y_bottom + tpml + tag_bot + tsio2 + design_region_height + monitor_position\n",
    "    center_y_source_position = y_bottom + tpml + tag_bot + 1 / fcen\n",
    "    center_Ag_x_position = design_region_width / 2 - width_ag / 2\n",
    "\n",
    "    # === geometry 정의 (기판 + Ag만 유지) ===\n",
    "    geometry = [\n",
    "        mp.Block(material=SiO2, size=mp.Vector3(width_sio2, tsio2, 0), center=mp.Vector3(0, center_y_sio2, 0)),\n",
    "        mp.Block(material=Ag, size=mp.Vector3(width_bot_ag, tag_bot, 0), center=mp.Vector3(0, center_y_ag, 0)),\n",
    "        mp.Block(\n",
    "            material=Ag,\n",
    "            size=mp.Vector3(width_ag, tsio2, 0),\n",
    "            center=mp.Vector3(-center_Ag_x_position, center_y_sio2, 0)\n",
    "        ),\n",
    "        mp.Block(\n",
    "            material=Ag,\n",
    "            size=mp.Vector3(width_ag, tsio2, 0),\n",
    "            center=mp.Vector3(center_Ag_x_position, center_y_sio2, 0)\n",
    "        ),\n",
    "    ]\n",
    "\n",
    "    # === PML 설정 (상하단 모두) ===\n",
    "    boundary_layers = [\n",
    "        mp.PML(tpml, direction=mp.X),\n",
    "        mp.PML(tpml, direction=mp.Y, side=mp.Low),\n",
    "        mp.PML(tpml, direction=mp.Y, side=mp.High)\n",
    "    ]\n",
    "\n",
    "    # === dipole 소스 ===\n",
    "    source = mp.Source(\n",
    "        src=mp.GaussianSource(frequency=fcen, fwidth=df, is_integrated=True),\n",
    "        component=mp.Ez,\n",
    "        center=mp.Vector3(0, center_y_source_position, 0)\n",
    "    )\n",
    "\n",
    "    # === 시뮬레이션 설정 ===\n",
    "    sim = mp.Simulation(\n",
    "        resolution=resolution,\n",
    "        cell_size=cell_size,\n",
    "        boundary_layers=boundary_layers,\n",
    "        geometry=geometry,\n",
    "        sources=[source],\n",
    "        default_material=Air\n",
    "    )\n",
    "\n",
    "    # === 4방향 flux monitor ===\n",
    "    offset = 0.01\n",
    "    flux_size = 0.02\n",
    "    input_flux = sim.add_flux(\n",
    "        fcen, 0, 1,\n",
    "        mp.FluxRegion(center=source.center - mp.Vector3(offset, 0), size=mp.Vector3(0, flux_size), weight=-1),\n",
    "        mp.FluxRegion(center=source.center + mp.Vector3(offset, 0), size=mp.Vector3(0, flux_size)),\n",
    "        mp.FluxRegion(center=source.center - mp.Vector3(0, offset), size=mp.Vector3(flux_size, 0), weight=-1),\n",
    "        mp.FluxRegion(center=source.center + mp.Vector3(0, offset), size=mp.Vector3(flux_size, 0))\n",
    "    )\n",
    "\n",
    "    # === 시뮬레이션 실행 ===\n",
    "    sim.run(until_after_sources=mp.stop_when_fields_decayed(per_time, mp.Ez, source.center, decay_rate))\n",
    "\n",
    "    # === 결과 출력 ===\n",
    "    flux_value = mp.get_fluxes(input_flux)[0]\n",
    "    print(f\"📏 기준 Input Flux (Ag + 기판 + 공기): {flux_value:.6f}\")\n",
    "\n",
    "    # === geometry 시각화 ===\n",
    "    sim.plot2D()\n",
    "    plt.title(\"Reference Geometry\")\n",
    "    plt.show()\n",
    "\n",
    "Reference_structure()"
   ]
  }
 ],
 "metadata": {
  "kernelspec": {
   "display_name": "mp",
   "language": "python",
   "name": "python3"
  },
  "language_info": {
   "codemirror_mode": {
    "name": "ipython",
    "version": 3
   },
   "file_extension": ".py",
   "mimetype": "text/x-python",
   "name": "python",
   "nbconvert_exporter": "python",
   "pygments_lexer": "ipython3",
   "version": "3.9.22"
  }
 },
 "nbformat": 4,
 "nbformat_minor": 5
}
