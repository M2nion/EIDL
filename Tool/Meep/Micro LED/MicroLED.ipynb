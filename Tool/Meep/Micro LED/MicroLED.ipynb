{
 "cells": [
  {
   "cell_type": "code",
   "execution_count": 2,
   "metadata": {},
   "outputs": [],
   "source": [
    "import meep as mp\n",
    "import numpy as np\n",
    "import matplotlib.pyplot as plt"
   ]
  },
  {
   "cell_type": "code",
   "execution_count": null,
   "metadata": {},
   "outputs": [
    {
     "name": "stdout",
     "output_type": "stream",
     "text": [
      "SiO2 (ε=2.13): n = 1.459, k = 0.000\n",
      "Ag (ε=(-7.01+0.21j)): n = 0.040, k = 2.648\n",
      "GaN (ε=6.18): n = 2.486, k = 0.000\n",
      "Al2O3 (ε=3.17): n = 1.780, k = 0.000\n"
     ]
    }
   ],
   "source": [
    "import cmath\n",
    "\n",
    "def permittivity_to_refractive_index(epsilon):\n",
    "    \"\"\"\n",
    "    복소 유전율(epsilon)을 입력받아 복소 굴절률(n + i*k)을 반환합니다.\n",
    "    epsilon: 복소수 혹은 실수 형태의 유전율(예: 2.13, -7.01+0.21j 등)\n",
    "    return: 복소 굴절률 n_complex = n + i*k (n_complex.real, n_complex.imag)\n",
    "    \"\"\"\n",
    "    return cmath.sqrt(epsilon)\n",
    "\n",
    "# 예시: 표에 주어진 물질들의 복소 유전율\n",
    "materials = {\n",
    "    \"SiO2\": 2.13,             # 실수만 있는 경우\n",
    "    \"Ag\"  : -7.01 + 0.21j,    # 복소수(실수부가 음수)\n",
    "    \"GaN\" : 6.18,             # 실수만 있는 경우\n",
    "    \"Al2O3\": 3.17             # 실수만 있는 경우\n",
    "}\n",
    "\n",
    "# 각 물질에 대해 복소 굴절률 계산\n",
    "for mat, eps in materials.items():\n",
    "    n_complex = permittivity_to_refractive_index(eps)\n",
    "    n = n_complex.real  # 실수부\n",
    "    k = n_complex.imag  # 허수부\n",
    "    print(f\"{mat} (ε={eps}): n = {n:.3f}, k = {k:.3f}\")\n"
   ]
  },
  {
   "cell_type": "code",
   "execution_count": 117,
   "metadata": {},
   "outputs": [],
   "source": [
    "resolution = 200\n",
    "nm = 1e-3\n",
    "\n",
    "wavelength = 450*nm # um\n",
    "fcen = 1/wavelength # um\n",
    "df = 0.1\n",
    "\n",
    "al2o3_str_x = 100*nm\n",
    "al2o3_str_y = 1070*nm\n",
    "\n",
    "ag_str_x = 1000*nm\n",
    "ag_str_y = 70*nm\n",
    "\n",
    "sio2_str_x = 70*nm\n",
    "sio2_str_y = 1070*nm\n",
    "\n",
    "gan_str_x = 1000*nm\n",
    "gan_str_y = 1000*nm"
   ]
  },
  {
   "cell_type": "code",
   "execution_count": 118,
   "metadata": {},
   "outputs": [],
   "source": [
    "# 재료 정의(Ag의 경우는 음의 굴절률을 가지기 때문에 conductivity로 변환)\n",
    "GaN = mp.Medium(epsilon=2.486)  # GaN\n",
    "# Qw = mp.Medium(epsilon=)  # QW (양자 우물, GaN과 비슷하게 설정)\n",
    "Ag = mp.Medium(epsilon=-7.01, D_conductivity=2*np.pi*wavelength*0.101/7.01)\n",
    "SiO2 = mp.Medium(epsilon=1.459)  # SiO2\n",
    "Al2O3 = mp.Medium(epsilon=1.78)  # Al2O3"
   ]
  },
  {
   "cell_type": "code",
   "execution_count": 119,
   "metadata": {},
   "outputs": [],
   "source": [
    "# 전체 구조 크기\n",
    "structure_x = ag_str_x + 2*sio2_str_x + 2*al2o3_str_x   # 1340 nm\n",
    "structure_y = al2o3_str_y + wavelength*1.5              # 1070 nm\n",
    "structure_size = mp.Vector3(structure_x, structure_y, 0)\n",
    "\n",
    "# 왼쪽 끝 ~ 오른쪽 끝을 -structure_x/2 ~ +structure_x/2로 놓고,\n",
    "# 각 블록이 이어지도록 x 좌표를 순차적으로 계산\n",
    "left_edge = -0.5 * structure_x  # 왼쪽 끝 x좌표 = -670 nm\n",
    "\n",
    "# (1) 왼쪽 Al2O3\n",
    "al2o3_left_center = left_edge + 0.5*al2o3_str_x  # -670 + 50 = -620 nm\n",
    "\n",
    "# (2) 왼쪽 SiO2\n",
    "sio2_left_center  = al2o3_left_center + 0.5*al2o3_str_x + 0.5*sio2_str_x\n",
    "#  = -620 + 50 + 35 = -535 nm\n",
    "\n",
    "# (3) 중앙 GaN\n",
    "gan_center = sio2_left_center + 0.5*sio2_str_x + 0.5*gan_str_x\n",
    "#  = -535 + 35 + 500 = 0 nm\n",
    "\n",
    "# (4) 오른쪽 SiO2\n",
    "sio2_right_center = gan_center + 0.5*gan_str_x + 0.5*sio2_str_x\n",
    "#  = 0 + 500 + 35 = 535 nm\n",
    "\n",
    "# (5) 오른쪽 Al2O3\n",
    "al2o3_right_center = sio2_right_center + 0.5*sio2_str_x + 0.5*al2o3_str_x\n",
    "#  = 535 + 35 + 50 = 620 nm\n",
    "\n",
    "# 이제 geometry 리스트 구성\n",
    "geometry = [\n",
    "    # 왼쪽 Al2O3\n",
    "    mp.Block(size=mp.Vector3(al2o3_str_x, al2o3_str_y, mp.inf),\n",
    "             center=mp.Vector3(al2o3_left_center, 0),\n",
    "             material=Al2O3),  # 예시로 index 지정\n",
    "    \n",
    "    # 왼쪽 SiO2\n",
    "    mp.Block(size=mp.Vector3(sio2_str_x, sio2_str_y, mp.inf),\n",
    "             center=mp.Vector3(sio2_left_center, 0),\n",
    "             material=SiO2),  # 예시로 index 지정\n",
    "    \n",
    "    # 중앙 GaN\n",
    "    mp.Block(size=mp.Vector3(gan_str_x, gan_str_y, mp.inf),\n",
    "             center=mp.Vector3(gan_center, 35*nm),\n",
    "             material=GaN),   # 예시로 index 지정\n",
    "    \n",
    "    # # QW (예: 두께 20 nm, 중앙에서 y=-480 nm 위치)\n",
    "    # mp.Block(size=mp.Vector3(gan_str_x, 20*nm, mp.inf),\n",
    "    #          center=mp.Vector3(gan_center, -480*nm),\n",
    "    #          material=mp.Medium(index=3.0)),   # 예시로 index 지정\n",
    "    \n",
    "    # 오른쪽 SiO2\n",
    "    mp.Block(size=mp.Vector3(sio2_str_x, sio2_str_y, mp.inf),\n",
    "             center=mp.Vector3(sio2_right_center, 0),\n",
    "             material=SiO2),\n",
    "    \n",
    "    # 오른쪽 Al2O3\n",
    "    mp.Block(size=mp.Vector3(al2o3_str_x, al2o3_str_y, mp.inf),\n",
    "             center=mp.Vector3(al2o3_right_center, 0),\n",
    "             material=Al2O3),\n",
    "    \n",
    "    # 맨 아래 Ag (두께 70 nm, 전체 너비 1000 nm)\n",
    "    mp.Block(size=mp.Vector3(ag_str_x, ag_str_y, mp.inf),\n",
    "             center=mp.Vector3(0, - (0.5*structure_y - 0.5*ag_str_y)+ wavelength*0.75),\n",
    "             material=Ag)  # 예시로 Ag 복소 굴절률\n",
    "]"
   ]
  },
  {
   "cell_type": "code",
   "execution_count": 120,
   "metadata": {},
   "outputs": [],
   "source": [
    "sources = [\n",
    "    mp.Source(\n",
    "        src=mp.GaussianSource(frequency=fcen, fwidth=0.1*fcen),\n",
    "        component=mp.Ez,\n",
    "        center=mp.Vector3(0, 0)  # QW 중앙에 배치\n",
    "    )\n",
    "]\n",
    "\n",
    "pml_layer = [mp.PML(70*nm)]"
   ]
  },
  {
   "cell_type": "code",
   "execution_count": 123,
   "metadata": {},
   "outputs": [],
   "source": [
    "fr = mp.FluxRegion(\n",
    "    center = mp.Vector3(0,al2o3_str_y/2+wavelength,0), size = mp.Vector3(al2o3_str_x*2+sio2_str_x*2+ag_str_x)\n",
    ")\n",
    "nfreq = 100"
   ]
  },
  {
   "cell_type": "code",
   "execution_count": 126,
   "metadata": {},
   "outputs": [
    {
     "name": "stdout",
     "output_type": "stream",
     "text": [
      "     block, center = (-0.62,0,0)\n",
      "          size (0.1,1.07,1e+20)\n",
      "          axes (1,0,0), (0,1,0), (0,0,1)\n",
      "          dielectric constant epsilon diagonal = (1.78,1.78,1.78)\n",
      "     block"
     ]
    },
    {
     "name": "stdout",
     "output_type": "stream",
     "text": [
      ", center = (-0.535,0,0)\n",
      "          size (0.07,1.07,1e+20)\n",
      "          axes (1,0,0), (0,1,0), (0,0,1)\n",
      "          dielectric constant epsilon diagonal = (1.459,1.459,1.459)\n",
      "     block, center = (1.11022e-16,0.035,0)\n",
      "          size (1,1,1e+20)\n",
      "          axes (1,0,0), (0,1,0), (0,0,1)\n",
      "          dielectric constant epsilon diagonal = (2.486,2.486,2.486)\n",
      "     block, center = (0.535,0,0)\n",
      "          size (0.07,1.07,1e+20)\n",
      "          axes (1,0,0), (0,1,0), (0,0,1)\n",
      "          dielectric constant epsilon diagonal = (1.459,1.459,1.459)\n",
      "     block, center = (0.62,0,0)\n",
      "          size (0.1,1.07,1e+20)\n",
      "          axes (1,0,0), (0,1,0), (0,0,1)\n",
      "          dielectric constant epsilon diagonal = (1.78,1.78,1.78)\n",
      "     block, center = (0,-0.5,0)\n",
      "          size (1,0.07,1e+20)\n",
      "          axes (1,0,0), (0,1,0), (0,0,1)\n",
      "          dielectric constant epsilon diagonal = (-7.01,-7.01,-7.01)\n"
     ]
    },
    {
     "data": {
      "image/png": "[encoded data removed]",
      "text/plain": [
       "<Figure size 960x720 with 1 Axes>"
      ]
     },
     "metadata": {},
     "output_type": "display_data"
    }
   ],
   "source": [
    "sim = mp.Simulation(\n",
    "    cell_size=structure_size, \n",
    "    geometry_center= mp.Vector3(0,wavelength*0.75,0),\n",
    "    boundary_layers=pml_layer,\n",
    "    geometry=geometry,\n",
    "    default_material = mp.Medium(index = 1),\n",
    "    sources = sources,\n",
    "    resolution=resolution\n",
    ")\n",
    "sim.add_flux(fcen, df, nfreq, fr)\n",
    "\n",
    "plt.figure(dpi=150)\n",
    "sim.plot2D()\n",
    "plt.show()"
   ]
  },
  {
   "cell_type": "code",
   "execution_count": null,
   "metadata": {},
   "outputs": [],
   "source": [
    "sim.run(until_after_sources=mp.stop_when_fields_decayed(50, mp.Ez, pt, 1e-3))\n",
    "\n",
    "# for normalization run, save flux fields data for reflection plane\n",
    "straight_refl_data = sim.get_flux_data(refl)"
   ]
  },
  {
   "cell_type": "code",
   "execution_count": null,
   "metadata": {},
   "outputs": [],
   "source": [
    "design_resolution = 100\n",
    "design_x = \n",
    "design_y = "
   ]
  }
 ],
 "metadata": {
  "kernelspec": {
   "display_name": "mp",
   "language": "python",
   "name": "python3"
  },
  "language_info": {
   "codemirror_mode": {
    "name": "ipython",
    "version": 3
   },
   "file_extension": ".py",
   "mimetype": "text/x-python",
   "name": "python",
   "nbconvert_exporter": "python",
   "pygments_lexer": "ipython3",
   "version": "3.8.20"
  }
 },
 "nbformat": 4,
 "nbformat_minor": 2
}
