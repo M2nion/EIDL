{
 "cells": [
  {
   "cell_type": "code",
   "execution_count": 6,
   "metadata": {},
   "outputs": [],
   "source": [
    "import meep as mp\n",
    "import matplotlib.pyplot as plt\n",
    "import numpy as np\n",
    "import meep.adjoint as mpa\n",
    "from autograd import numpy as npa"
   ]
  },
  {
   "cell_type": "code",
   "execution_count": null,
   "metadata": {},
   "outputs": [],
   "source": [
    "Air = mp.Medium(index = 1)\n",
    "Si = mp.Medium(index = 3.45)\n",
    "\n",
    "cell_size_x = 15\n",
    "cell_size_y = 20\n",
    "\n",
    "cell_size = mp.Vector3(cell_size_x, cell_size_y)\n",
    "\n",
    "boundary_layer = [mp.PML(thickness=1.0)]\n",
    "\n",
    "fcen = 1/1.55\n",
    "width = 0.2\n",
    "fwidth = width * fcen\n",
    "source_center = []\n",
    "source_size = mp.Vector3(0,5)\n",
    "kpoint = mp.Vector3(1,0,0)\n",
    "\n",
    "source = [\n",
    "    mp.EigenModeSource(\n",
    "        src = mp.GaussianSource(fcen, fwidth),\n",
    "        eig_band=1,\n",
    "        direction = mp.NO_DIRECTION,\n",
    "        eig_kpoint=kpoint,\n",
    "        size = source_size,\n",
    "        center = source_center\n",
    "    )\n",
    "]\n",
    "\n",
    "design_region_resolution = 50\n",
    "\n",
    "Nx = design_region_resolution + 1\n",
    "Ny = design_region_resolution + 1\n",
    "\n",
    "design_variables = mp.MaterialGrid(mp.Vector3(Nx, Ny), Air, Si, grid_type=\"U_MEAN\")\n",
    "design_region = mpa.DesignRegion(\n",
    "    design_variables, volume=mp.Volume(mp.Vector3(), size = mp.Vector3(1,1,0))\n",
    ")\n",
    "\n",
    "geometry = [\n",
    "    mp.Block(\n",
    "        center = mp.Vector3(x = -cell_size_x/4),\n",
    "        material = Si,\n",
    "        size = mp.Vector3(cell_size_x/2, 0.5, 0)\n",
    "    ),\n",
    "    mp.Block(\n",
    "        center = mp.Vector3\n",
    "    )\n",
    "]\n",
    "\n",
    "wavelength = 1.55"
   ]
  },
  {
   "cell_type": "code",
   "execution_count": null,
   "metadata": {},
   "outputs": [],
   "source": []
  },
  {
   "cell_type": "code",
   "execution_count": null,
   "metadata": {},
   "outputs": [],
   "source": []
  }
 ],
 "metadata": {
  "kernelspec": {
   "display_name": "mp",
   "language": "python",
   "name": "python3"
  },
  "language_info": {
   "codemirror_mode": {
    "name": "ipython",
    "version": 3
   },
   "file_extension": ".py",
   "mimetype": "text/x-python",
   "name": "python",
   "nbconvert_exporter": "python",
   "pygments_lexer": "ipython3",
   "version": "3.8.20"
  }
 },
 "nbformat": 4,
 "nbformat_minor": 2
}
