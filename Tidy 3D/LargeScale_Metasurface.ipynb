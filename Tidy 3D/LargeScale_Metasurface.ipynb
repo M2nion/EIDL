{
 "cells": [
  {
   "cell_type": "code",
   "execution_count": 1,
   "metadata": {},
   "outputs": [],
   "source": [
    "import numpy as np\n",
    "import matplotlib.pyplot as plt\n",
    "\n",
    "import tidy3d as td\n",
    "import tidy3d.web as web\n",
    "\n",
    "import optax\n",
    "from autograd import value_and_grad"
   ]
  },
  {
   "cell_type": "code",
   "execution_count": null,
   "metadata": {},
   "outputs": [],
   "source": [
    "# um to nm\n",
    "nm = 1e-3\n",
    "\n",
    "wavelength = 850 * nm\n",
    "f0 = td.C_0 / wavelength\n",
    "fwidth0 = f0 / 20\n",
    "\n",
    "# NA selection\n",
    "NA = 0.9\n",
    "\n",
    "# \n",
    "H = 430 * nm\n",
    "S = 320 * nm\n",
    "\n",
    "n_Si = 3.84  # aSi\n",
    "n_SiO2 = 1.45\n",
    "\n",
    "air = td.Medium(permittivity=1.0)\n",
    "SiO2 = td.Medium(permittivity=n_SiO2**2)\n",
    "Si = td.Medium(permittivity=n_Si**2)"
   ]
  }
 ],
 "metadata": {
  "kernelspec": {
   "display_name": "M2ni",
   "language": "python",
   "name": "python3"
  },
  "language_info": {
   "codemirror_mode": {
    "name": "ipython",
    "version": 3
   },
   "file_extension": ".py",
   "mimetype": "text/x-python",
   "name": "python",
   "nbconvert_exporter": "python",
   "pygments_lexer": "ipython3",
   "version": "3.12.7"
  }
 },
 "nbformat": 4,
 "nbformat_minor": 2
}
