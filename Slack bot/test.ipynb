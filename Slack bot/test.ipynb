{
 "cells": [
  {
   "cell_type": "code",
   "execution_count": null,
   "metadata": {},
   "outputs": [
    {
     "name": "stdout",
     "output_type": "stream",
     "text": [
      "메시지 전송 성공\n"
     ]
    }
   ],
   "source": [
    "from Meep_bot import Meepbot\n",
    "\n",
    "mpbot = Meepbot() # 인스턴스 호출\n",
    "\n",
    "mpbot.send_message() # 채널 이름 다른거에 보내고 싶으면 , channel =\"보낼 채널명\" 자신이 만든 앱이 채널에 포함되어있어야함"
   ]
  }
 ],
 "metadata": {
  "kernelspec": {
   "display_name": "Min",
   "language": "python",
   "name": "python3"
  },
  "language_info": {
   "codemirror_mode": {
    "name": "ipython",
    "version": 3
   },
   "file_extension": ".py",
   "mimetype": "text/x-python",
   "name": "python",
   "nbconvert_exporter": "python",
   "pygments_lexer": "ipython3",
   "version": "3.8.20"
  }
 },
 "nbformat": 4,
 "nbformat_minor": 2
}
